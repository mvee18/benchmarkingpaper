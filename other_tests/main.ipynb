{
 "cells": [
  {
   "cell_type": "code",
   "execution_count": 1,
   "metadata": {},
   "outputs": [],
   "source": [
    "import matplotlib.pyplot as plt\n",
    "import pandas as pd\n",
    "import numpy as np"
   ]
  },
  {
   "cell_type": "code",
   "execution_count": 119,
   "metadata": {},
   "outputs": [],
   "source": [
    "# Read the data from the remote server.\n",
    "\n",
    "df = pd.read_csv(\"/Volumes/TBHD/16-CC-0162/000796_Secondary_Analysis/DATA/0162_Shotgun_Data/Aim2_Nephele_WGSA/WGSA_outputs/TAXprofiles/merged_tables/merged_Counts+TAX.txt\", sep=\"\\t\", index_col=0)\n",
    "data = df.iloc[0:5,5:9]"
   ]
  },
  {
   "cell_type": "code",
   "execution_count": 146,
   "metadata": {},
   "outputs": [
    {
     "data": {
      "text/html": [
       "<div>\n",
       "<style scoped>\n",
       "    .dataframe tbody tr th:only-of-type {\n",
       "        vertical-align: middle;\n",
       "    }\n",
       "\n",
       "    .dataframe tbody tr th {\n",
       "        vertical-align: top;\n",
       "    }\n",
       "\n",
       "    .dataframe thead th {\n",
       "        text-align: right;\n",
       "    }\n",
       "</style>\n",
       "<table border=\"1\" class=\"dataframe\">\n",
       "  <thead>\n",
       "    <tr style=\"text-align: right;\">\n",
       "      <th></th>\n",
       "      <th>Genus</th>\n",
       "      <th>Species</th>\n",
       "      <th>AAA00108</th>\n",
       "      <th>AAA00405</th>\n",
       "    </tr>\n",
       "  </thead>\n",
       "  <tbody>\n",
       "    <tr>\n",
       "      <th>TAX4</th>\n",
       "      <td>NaN</td>\n",
       "      <td>Prometheoarchaeum_syntrophicum</td>\n",
       "      <td>70</td>\n",
       "      <td>11</td>\n",
       "    </tr>\n",
       "    <tr>\n",
       "      <th>TAX15</th>\n",
       "      <td>Candidatus_Methanomethylophilus</td>\n",
       "      <td>Methanomethylophilus_alvus</td>\n",
       "      <td>81</td>\n",
       "      <td>33</td>\n",
       "    </tr>\n",
       "    <tr>\n",
       "      <th>TAX65</th>\n",
       "      <td>NaN</td>\n",
       "      <td>Desulfurococcales_sp</td>\n",
       "      <td>0</td>\n",
       "      <td>0</td>\n",
       "    </tr>\n",
       "    <tr>\n",
       "      <th>TAX79</th>\n",
       "      <td>Acidianus</td>\n",
       "      <td>Acidianus_brierleyi</td>\n",
       "      <td>4</td>\n",
       "      <td>7</td>\n",
       "    </tr>\n",
       "    <tr>\n",
       "      <th>TAX82</th>\n",
       "      <td>Acidianus</td>\n",
       "      <td>Acidianus_sp</td>\n",
       "      <td>2</td>\n",
       "      <td>0</td>\n",
       "    </tr>\n",
       "  </tbody>\n",
       "</table>\n",
       "</div>"
      ],
      "text/plain": [
       "                                 Genus                         Species  \\\n",
       "TAX4                               NaN  Prometheoarchaeum_syntrophicum   \n",
       "TAX15  Candidatus_Methanomethylophilus      Methanomethylophilus_alvus   \n",
       "TAX65                              NaN            Desulfurococcales_sp   \n",
       "TAX79                        Acidianus             Acidianus_brierleyi   \n",
       "TAX82                        Acidianus                    Acidianus_sp   \n",
       "\n",
       "       AAA00108  AAA00405  \n",
       "TAX4         70        11  \n",
       "TAX15        81        33  \n",
       "TAX65         0         0  \n",
       "TAX79         4         7  \n",
       "TAX82         2         0  "
      ]
     },
     "metadata": {},
     "output_type": "display_data"
    },
    {
     "data": {
      "text/html": [
       "<div>\n",
       "<style scoped>\n",
       "    .dataframe tbody tr th:only-of-type {\n",
       "        vertical-align: middle;\n",
       "    }\n",
       "\n",
       "    .dataframe tbody tr th {\n",
       "        vertical-align: top;\n",
       "    }\n",
       "\n",
       "    .dataframe thead th {\n",
       "        text-align: right;\n",
       "    }\n",
       "</style>\n",
       "<table border=\"1\" class=\"dataframe\">\n",
       "  <thead>\n",
       "    <tr style=\"text-align: right;\">\n",
       "      <th></th>\n",
       "      <th>AAA00108</th>\n",
       "      <th>AAA00405</th>\n",
       "      <th>Genus</th>\n",
       "    </tr>\n",
       "  </thead>\n",
       "  <tbody>\n",
       "    <tr>\n",
       "      <th>TAX4</th>\n",
       "      <td>0.445860</td>\n",
       "      <td>0.215686</td>\n",
       "      <td>NaN</td>\n",
       "    </tr>\n",
       "    <tr>\n",
       "      <th>TAX15</th>\n",
       "      <td>0.515924</td>\n",
       "      <td>0.647059</td>\n",
       "      <td>Candidatus_Methanomethylophilus</td>\n",
       "    </tr>\n",
       "    <tr>\n",
       "      <th>TAX65</th>\n",
       "      <td>NaN</td>\n",
       "      <td>NaN</td>\n",
       "      <td>NaN</td>\n",
       "    </tr>\n",
       "    <tr>\n",
       "      <th>TAX79</th>\n",
       "      <td>NaN</td>\n",
       "      <td>0.137255</td>\n",
       "      <td>Acidianus</td>\n",
       "    </tr>\n",
       "    <tr>\n",
       "      <th>TAX82</th>\n",
       "      <td>NaN</td>\n",
       "      <td>NaN</td>\n",
       "      <td>Acidianus</td>\n",
       "    </tr>\n",
       "  </tbody>\n",
       "</table>\n",
       "</div>"
      ],
      "text/plain": [
       "       AAA00108  AAA00405                            Genus\n",
       "TAX4   0.445860  0.215686                              NaN\n",
       "TAX15  0.515924  0.647059  Candidatus_Methanomethylophilus\n",
       "TAX65       NaN       NaN                              NaN\n",
       "TAX79       NaN  0.137255                        Acidianus\n",
       "TAX82       NaN       NaN                        Acidianus"
      ]
     },
     "metadata": {},
     "output_type": "display_data"
    }
   ],
   "source": [
    "# We should sum the counts for each sample.\n",
    "display(data.head())\n",
    "counts = data.iloc[:,2:]\n",
    "pct = data.iloc[:,2:].div(data.iloc[:,2:].sum(axis=0), axis=1)\n",
    "pct = pct.where(pct >= 0.05)\n",
    "\n",
    "pct[\"Genus\"] = data[\"Genus\"]\n",
    "display(pct)\n",
    "# joined = data.join(pct, lsuffix=\"_counts\", rsuffix=\"_pct\")\n",
    "# display(joined)\n"
   ]
  },
  {
   "cell_type": "code",
   "execution_count": 148,
   "metadata": {},
   "outputs": [
    {
     "data": {
      "text/plain": [
       "<AxesSubplot:>"
      ]
     },
     "execution_count": 148,
     "metadata": {},
     "output_type": "execute_result"
    },
    {
     "data": {
      "image/png": "[encoded data removed]",
      "text/plain": [
       "<Figure size 640x480 with 1 Axes>"
      ]
     },
     "metadata": {},
     "output_type": "display_data"
    }
   ],
   "source": [
    "pct.plot.bar(stacked=True)"
   ]
  },
  {
   "cell_type": "code",
   "execution_count": null,
   "metadata": {},
   "outputs": [],
   "source": []
  }
 ],
 "metadata": {
  "kernelspec": {
   "display_name": "Python 3.10.6 ('.venv': venv)",
   "language": "python",
   "name": "python3"
  },
  "language_info": {
   "codemirror_mode": {
    "name": "ipython",
    "version": 3
   },
   "file_extension": ".py",
   "mimetype": "text/x-python",
   "name": "python",
   "nbconvert_exporter": "python",
   "pygments_lexer": "ipython3",
   "version": "3.10.6"
  },
  "orig_nbformat": 4,
  "vscode": {
   "interpreter": {
    "hash": "5b78d8e30eff7e75b6bc70e8c22c7a6b4b6a777fd03a823af9abb9572f1abe1d"
   }
  }
 },
 "nbformat": 4,
 "nbformat_minor": 2
}
