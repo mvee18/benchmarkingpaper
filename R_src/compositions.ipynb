{
 "cells": [
  {
   "cell_type": "code",
   "execution_count": 109,
   "metadata": {
    "vscode": {
     "languageId": "r"
    }
   },
   "outputs": [],
   "source": [
    "library(tidyverse)\n",
    "library(IRdisplay)\n",
    "library(zCompositions)"
   ]
  },
  {
   "cell_type": "code",
   "execution_count": 183,
   "metadata": {
    "vscode": {
     "languageId": "r"
    }
   },
   "outputs": [
    {
     "name": "stdout",
     "output_type": "stream",
     "text": [
      " [1]  0.0000000 72.2427412  0.0000000 20.4124633  0.0000000  0.0000000\n",
      " [7]  0.0000000  1.7016590  2.0936945  0.0000000  0.0000000  0.0000000\n",
      "[13]  0.7222755  2.8271665\n"
     ]
    },
    {
     "ename": "ERROR",
     "evalue": "Error in if ((is.vector(X)) | (nrow(X) == 1)) stop(\"X must be a data matrix\"): argument is of length zero\n",
     "output_type": "error",
     "traceback": [
      "Error in if ((is.vector(X)) | (nrow(X) == 1)) stop(\"X must be a data matrix\"): argument is of length zero\nTraceback:\n",
      "1. multLN(b, label = 0, dl = rep(5e-05, length(b)))"
     ]
    }
   ],
   "source": [
    "df <- read.csv(\"../python_src/test_data/bivariate.csv\")\n",
    "\n",
    "# Group by Source_observed. Print each group.\n",
    "grouped <- df %>% \n",
    "  dplyr::select(RA_expected, RA_observed, Source_observed) %>% \n",
    "  group_by(Source_observed)\n",
    "\n",
    "\n",
    "a <- grouped %>% filter(Source_observed == \"biobakery3\") %>% \n",
    "ungroup() %>% \n",
    "dplyr::select(RA_expected, RA_observed) %>% \n",
    "mutate(RA_expected = RA_expected * 100, RA_observed = RA_observed * 100) \n",
    "\n",
    "b <- dplyr::select(a, RA_observed) %>% pull(RA_observed)\n",
    "\n",
    "print(as.vector(b))\n",
    "# Get the type of b\n",
    "\n",
    "# X <- matrix(c(26.91,8.08,12.59,31.58,6.45,14.39,\n",
    "# 39.73,26.20,0.00,15.22,6.80,12.05,\n",
    "# 10.76,31.36,7.10,12.74,31.34,6.70,\n",
    "# 10.85,46.40,31.89,10.86,0.00,0.00,\n",
    "# 7.57,11.35,30.24,6.39,13.65,30.80,\n",
    "# 38.09,7.62,23.68,9.70,20.91,0.00,\n",
    "# 27.67,7.15,13.05,32.04,6.54,13.55,\n",
    "# 44.41,15.04,7.95,0.00,10.82,21.78,\n",
    "# 11.50,30.33,6.85,13.92,30.82,6.58,\n",
    "# 19.04,42.59,0.00,38.37,0.00,0.00),byrow=TRUE,ncol=6)\n",
    "\n",
    "# multRepl(b, label=0, dl=rep(5e-5, length(b)))\n",
    "multLN(b, label=0, dl=rep(5e-5, length(b)), rob=TRUE)\n",
    "# cmultRepl(b, label=0)"
   ]
  }
 ],
 "metadata": {
  "kernelspec": {
   "display_name": "R",
   "language": "R",
   "name": "ir"
  },
  "language_info": {
   "codemirror_mode": "r",
   "file_extension": ".r",
   "mimetype": "text/x-r-source",
   "name": "R",
   "pygments_lexer": "r",
   "version": "4.2.1"
  },
  "orig_nbformat": 4,
  "vscode": {
   "interpreter": {
    "hash": "3ac10c2973d938bf4f101ae2299756abbb7e00dac649f0769819439ff384650d"
   }
  }
 },
 "nbformat": 4,
 "nbformat_minor": 2
}
