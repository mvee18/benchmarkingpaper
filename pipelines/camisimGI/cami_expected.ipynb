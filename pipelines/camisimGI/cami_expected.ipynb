{
 "cells": [
  {
   "cell_type": "code",
   "execution_count": 27,
   "metadata": {},
   "outputs": [],
   "source": [
    "import pandas as pd\n",
    "import numpy as np\n",
    "import matplotlib.pyplot as plt\n",
    "import os\n",
    "import re"
   ]
  },
  {
   "cell_type": "code",
   "execution_count": 40,
   "metadata": {},
   "outputs": [
    {
     "name": "stdout",
     "output_type": "stream",
     "text": [
      "/Volumes/TBHD_share/cami_data/gitract/expected/taxonomic_profile_2.txt_4krona.txt\n",
      "/Volumes/TBHD_share/cami_data/gitract/expected/taxonomic_profile_1.txt_4krona.txt\n"
     ]
    }
   ],
   "source": [
    "rank = \"genus\"\n",
    "expected_path = \"/Volumes/TBHD_share/cami_data/gitract/expected/\"\n",
    "\n",
    "\n",
    "if not os.path.exists(expected_path):\n",
    "    raise Exception(\"Expected path does not exist\")\n",
    "\n",
    "def get_expected():\n",
    "    for root, dirs, files in os.walk(expected_path):\n",
    "        for f in files:\n",
    "            if f.endswith(\"_4krona.txt\"):\n",
    "                yield os.path.join(root, f)\n",
    "\n",
    "def get_expected_df():\n",
    "    for f in get_expected():\n",
    "        df = pd.read_csv(f, sep=\"\\t\")\n",
    "        print(f)\n",
    "        # Rename \"Unnamed: 0\" to \"counts\"\n",
    "        df.rename(columns={\"Unnamed: 0\": \"RA\"}, inplace=True)\n",
    "        new_df = df[[rank, \"RA\"]].copy()\n",
    "        new_df.set_index(rank, inplace=True)\n",
    "\n",
    "        # Get the sum of all the counts by rank\n",
    "        sum_df = new_df.groupby(rank).sum()\n",
    "\n",
    "        # Divide by 100 to get the percentage.\n",
    "        sum_df[\"RA\"] = sum_df[\"RA\"] / 100\n",
    "        sum_df.sort_values(by=\"RA\", ascending=False, inplace=True)\n",
    "\n",
    "        pattern = re.compile(r\"_\\d\\.\")\n",
    "        sample = pattern.search(f).group(0)[1]\n",
    "\n",
    "        output_file = os.path.join(f\"s{sample}_expected.csv\".format(sample))\n",
    "        sum_df.to_csv(output_file, index_label=rank)\n",
    "\n",
    "get_expected_df()"
   ]
  },
  {
   "cell_type": "code",
   "execution_count": null,
   "metadata": {},
   "outputs": [],
   "source": []
  }
 ],
 "metadata": {
  "kernelspec": {
   "display_name": "Python 3.10.6 ('.venv': venv)",
   "language": "python",
   "name": "python3"
  },
  "language_info": {
   "codemirror_mode": {
    "name": "ipython",
    "version": 3
   },
   "file_extension": ".py",
   "mimetype": "text/x-python",
   "name": "python",
   "nbconvert_exporter": "python",
   "pygments_lexer": "ipython3",
   "version": "3.10.6"
  },
  "orig_nbformat": 4,
  "vscode": {
   "interpreter": {
    "hash": "ccb8790ce05d03335183e4531caa33d67ddc8515af0e7751497f278f4c676c90"
   }
  }
 },
 "nbformat": 4,
 "nbformat_minor": 2
}
