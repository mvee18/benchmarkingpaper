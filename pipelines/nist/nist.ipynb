{
 "cells": [
  {
   "cell_type": "markdown",
   "metadata": {},
   "source": [
    "# Notebook for NIST \n",
    "\n",
    "This notebook contains the code to generate the NIST expected files."
   ]
  },
  {
   "cell_type": "code",
   "execution_count": null,
   "metadata": {},
   "outputs": [],
   "source": [
    "import pandas as pd\n",
    "import openpyxl\n",
    "import sys\n",
    "import os\n",
    "\n",
    "sys.path.append(\"../..\")\n",
    "\n",
    "from utils.ncbi.names import convert_expected, split_jams"
   ]
  },
  {
   "cell_type": "code",
   "execution_count": null,
   "metadata": {},
   "outputs": [],
   "source": [
    "# Read the expected.xlsx file to a dataframe.\n",
    "df = pd.read_excel('expected.xlsx', engine='openpyxl', usecols=[2,4,5,6,7,8])\n",
    "\n",
    "# Set Orgranism as the index.\n",
    "df.set_index('Organism', inplace=True)\n",
    "df.index.name = \"Species\"\n",
    "display(df)\n",
    "\n",
    "def convert_species_to_genus(df):\n",
    "    # df = df.set_index(\"Species\")\n",
    "    df = df.groupby(df.index.str.split(\" \", n=1).str[0]).sum()\n",
    "    df = df.reset_index()\n",
    "    df = df.rename(columns={\"Species\": \"Genus\"})\n",
    "    df.set_index(\"Genus\", inplace=True)\n",
    "\n",
    "    # Ensure that the RA adds up to 100%.\n",
    "    ra_sum = df[\"RA\"].sum()\n",
    "    print(ra_sum)\n",
    "\n",
    "    return df"
   ]
  },
  {
   "cell_type": "code",
   "execution_count": null,
   "metadata": {},
   "outputs": [],
   "source": [
    "# Split the dataframe into one per column.\n",
    "def main():\n",
    "    cols = df.columns.tolist()\n",
    "    dfs = [df[[col]] for col in cols]\n",
    "    for d in dfs:\n",
    "        name = d.columns[0]\n",
    "        d.columns = ['RA']\n",
    "        spec_path = f\"{name}_expected_species.csv\"\n",
    "        genus_path = f\"{name}_expected_genus.csv\"\n",
    "\n",
    "        d.to_csv(spec_path, index=True)\n",
    "\n",
    "        # Add TAX_ID\n",
    "        convert_expected(spec_path, split_jams)\n",
    "\n",
    "        # Convert the species to genus.\n",
    "        genus_df = convert_species_to_genus(d)\n",
    "        genus_df.to_csv(genus_path, index=True)\n",
    "\n",
    "        # Add TAX_ID\n",
    "        convert_expected(genus_path, split_jams)"
   ]
  },
  {
   "cell_type": "code",
   "execution_count": null,
   "metadata": {},
   "outputs": [],
   "source": [
    "# <-- Main -->\n",
    "main()"
   ]
  }
 ],
 "metadata": {
  "kernelspec": {
   "display_name": "Python 3.10.6 ('.pipeline_venv': venv)",
   "language": "python",
   "name": "python3"
  },
  "language_info": {
   "codemirror_mode": {
    "name": "ipython",
    "version": 3
   },
   "file_extension": ".py",
   "mimetype": "text/x-python",
   "name": "python",
   "nbconvert_exporter": "python",
   "pygments_lexer": "ipython3",
   "version": "3.10.6"
  },
  "orig_nbformat": 4,
  "vscode": {
   "interpreter": {
    "hash": "3ac10c2973d938bf4f101ae2299756abbb7e00dac649f0769819439ff384650d"
   }
  }
 },
 "nbformat": 4,
 "nbformat_minor": 2
}
