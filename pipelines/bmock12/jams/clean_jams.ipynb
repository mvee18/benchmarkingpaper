{
 "cells": [
  {
   "cell_type": "code",
   "execution_count": 2,
   "metadata": {},
   "outputs": [],
   "source": [
    "import pandas as pd\n",
    "import numpy as np\n",
    "import os"
   ]
  },
  {
   "cell_type": "code",
   "execution_count": 4,
   "metadata": {},
   "outputs": [
    {
     "data": {
      "text/html": [
       "<div>\n",
       "<style scoped>\n",
       "    .dataframe tbody tr th:only-of-type {\n",
       "        vertical-align: middle;\n",
       "    }\n",
       "\n",
       "    .dataframe tbody tr th {\n",
       "        vertical-align: top;\n",
       "    }\n",
       "\n",
       "    .dataframe thead th {\n",
       "        text-align: right;\n",
       "    }\n",
       "</style>\n",
       "<table border=\"1\" class=\"dataframe\">\n",
       "  <thead>\n",
       "    <tr style=\"text-align: right;\">\n",
       "      <th></th>\n",
       "      <th>Species</th>\n",
       "      <th>NumBases</th>\n",
       "      <th>Count</th>\n",
       "    </tr>\n",
       "  </thead>\n",
       "  <tbody>\n",
       "    <tr>\n",
       "      <th>0</th>\n",
       "      <td>s__Halomonas_Unclassified_HL_93</td>\n",
       "      <td>8736102441</td>\n",
       "      <td>0.315495</td>\n",
       "    </tr>\n",
       "    <tr>\n",
       "      <th>1</th>\n",
       "      <td>s__Muricauda_lutimaris</td>\n",
       "      <td>4873253116</td>\n",
       "      <td>0.175992</td>\n",
       "    </tr>\n",
       "    <tr>\n",
       "      <th>2</th>\n",
       "      <td>s__Marinobacter_Unclassified_LV10R510_11A</td>\n",
       "      <td>4104411382</td>\n",
       "      <td>0.148226</td>\n",
       "    </tr>\n",
       "    <tr>\n",
       "      <th>3</th>\n",
       "      <td>s__Psychrobacter_Unclassified_72_O_c</td>\n",
       "      <td>2965136305</td>\n",
       "      <td>0.107083</td>\n",
       "    </tr>\n",
       "    <tr>\n",
       "      <th>4</th>\n",
       "      <td>s__Cohaesibacter_Unclassified_ES_047</td>\n",
       "      <td>1899305745</td>\n",
       "      <td>0.068591</td>\n",
       "    </tr>\n",
       "  </tbody>\n",
       "</table>\n",
       "</div>"
      ],
      "text/plain": [
       "                                     Species    NumBases     Count\n",
       "0            s__Halomonas_Unclassified_HL_93  8736102441  0.315495\n",
       "1                     s__Muricauda_lutimaris  4873253116  0.175992\n",
       "2  s__Marinobacter_Unclassified_LV10R510_11A  4104411382  0.148226\n",
       "3       s__Psychrobacter_Unclassified_72_O_c  2965136305  0.107083\n",
       "4       s__Cohaesibacter_Unclassified_ES_047  1899305745  0.068591"
      ]
     },
     "metadata": {},
     "output_type": "display_data"
    }
   ],
   "source": [
    "def clean_jams(input_file: str, output_dir: str = \".\", rank: str = \"Genus\"):\n",
    "    df = pd.read_csv('featuretable.csv', usecols=[rank, \"Species\", \"NumBases\"])\n",
    "    df[\"Count\"] = df[\"NumBases\"] / df[\"NumBases\"].sum()\n",
    "    display(df.head())\n",
    "    genus_df = df[[rank, \"Count\"]].groupby(rank).sum()\n",
    "    genus_df.sort_values(\"Count\", ascending=False, inplace=True)\n",
    "\n",
    "    # We need to remove g__ and s__ from the index names\n",
    "    genus_df.index = genus_df.index.str.replace(\"g__\", \"\")\n",
    "    genus_df.index = genus_df.index.str.replace(\"s__\", \"\")\n",
    "\n",
    "    genus_df.to_csv(os.path.join(output_dir, f\"{rank}_relabund.csv\"))\n",
    "\n",
    "clean_jams(\"featuretable.csv\", \".\", \"Species\")"
   ]
  }
 ],
 "metadata": {
  "kernelspec": {
   "display_name": "Python 3.10.6 ('.venv': venv)",
   "language": "python",
   "name": "python3"
  },
  "language_info": {
   "codemirror_mode": {
    "name": "ipython",
    "version": 3
   },
   "file_extension": ".py",
   "mimetype": "text/x-python",
   "name": "python",
   "nbconvert_exporter": "python",
   "pygments_lexer": "ipython3",
   "version": "3.10.6"
  },
  "orig_nbformat": 4,
  "vscode": {
   "interpreter": {
    "hash": "ccb8790ce05d03335183e4531caa33d67ddc8515af0e7751497f278f4c676c90"
   }
  }
 },
 "nbformat": 4,
 "nbformat_minor": 2
}
