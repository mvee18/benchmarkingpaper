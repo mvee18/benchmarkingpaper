{
 "cells": [
  {
   "cell_type": "code",
   "execution_count": 17,
   "metadata": {},
   "outputs": [],
   "source": [
    "import pandas as pd\n",
    "import numpy as np\n",
    "import matplotlib.pyplot as plt\n",
    "import os"
   ]
  },
  {
   "cell_type": "code",
   "execution_count": 18,
   "metadata": {},
   "outputs": [],
   "source": [
    "# data_dir = \"/Volumes/TBHD_share/valencia/pipelines/woltka/classify/results\"\n",
    "sample_id = \"s2\"\n",
    "data_dir = \"/Volumes/TBHD_share/cami_data/gitract/woltka/S2_classify/\"\n",
    "species_data = os.path.join(data_dir, \"species.tsv\")\n",
    "genus_data = os.path.join(data_dir, \"genus.tsv\")"
   ]
  },
  {
   "cell_type": "code",
   "execution_count": 19,
   "metadata": {},
   "outputs": [],
   "source": [
    "sdf = pd.read_csv(species_data, sep=\"\\t\", names=[\"FeatureID\", \"Count\", \"Species\"], header=0, index_col=2)\n",
    "gdf = pd.read_csv(genus_data, sep=\"\\t\", names=[\"FeatureID\", \"Count\", \"Genus\"], header=0, index_col=2)"
   ]
  },
  {
   "cell_type": "code",
   "execution_count": 20,
   "metadata": {},
   "outputs": [
    {
     "data": {
      "text/html": [
       "<div>\n",
       "<style scoped>\n",
       "    .dataframe tbody tr th:only-of-type {\n",
       "        vertical-align: middle;\n",
       "    }\n",
       "\n",
       "    .dataframe tbody tr th {\n",
       "        vertical-align: top;\n",
       "    }\n",
       "\n",
       "    .dataframe thead th {\n",
       "        text-align: right;\n",
       "    }\n",
       "</style>\n",
       "<table border=\"1\" class=\"dataframe\">\n",
       "  <thead>\n",
       "    <tr style=\"text-align: right;\">\n",
       "      <th></th>\n",
       "      <th>RA</th>\n",
       "    </tr>\n",
       "    <tr>\n",
       "      <th>Species</th>\n",
       "      <th></th>\n",
       "    </tr>\n",
       "  </thead>\n",
       "  <tbody>\n",
       "    <tr>\n",
       "      <th>Bordetella pertussis</th>\n",
       "      <td>0.311810</td>\n",
       "    </tr>\n",
       "    <tr>\n",
       "      <th>Achromobacter xylosoxidans</th>\n",
       "      <td>0.111159</td>\n",
       "    </tr>\n",
       "    <tr>\n",
       "      <th>Bordetella parapertussis</th>\n",
       "      <td>0.109954</td>\n",
       "    </tr>\n",
       "    <tr>\n",
       "      <th>Bordetella bronchiseptica</th>\n",
       "      <td>0.104399</td>\n",
       "    </tr>\n",
       "    <tr>\n",
       "      <th>Bacteroides fragilis</th>\n",
       "      <td>0.068379</td>\n",
       "    </tr>\n",
       "  </tbody>\n",
       "</table>\n",
       "</div>"
      ],
      "text/plain": [
       "                                  RA\n",
       "Species                             \n",
       "Bordetella pertussis        0.311810\n",
       "Achromobacter xylosoxidans  0.111159\n",
       "Bordetella parapertussis    0.109954\n",
       "Bordetella bronchiseptica   0.104399\n",
       "Bacteroides fragilis        0.068379"
      ]
     },
     "metadata": {},
     "output_type": "display_data"
    },
    {
     "data": {
      "text/html": [
       "<div>\n",
       "<style scoped>\n",
       "    .dataframe tbody tr th:only-of-type {\n",
       "        vertical-align: middle;\n",
       "    }\n",
       "\n",
       "    .dataframe tbody tr th {\n",
       "        vertical-align: top;\n",
       "    }\n",
       "\n",
       "    .dataframe thead th {\n",
       "        text-align: right;\n",
       "    }\n",
       "</style>\n",
       "<table border=\"1\" class=\"dataframe\">\n",
       "  <thead>\n",
       "    <tr style=\"text-align: right;\">\n",
       "      <th></th>\n",
       "      <th>RA</th>\n",
       "    </tr>\n",
       "    <tr>\n",
       "      <th>Genus</th>\n",
       "      <th></th>\n",
       "    </tr>\n",
       "  </thead>\n",
       "  <tbody>\n",
       "    <tr>\n",
       "      <th>Bordetella</th>\n",
       "      <td>0.554888</td>\n",
       "    </tr>\n",
       "    <tr>\n",
       "      <th>Bacteroides</th>\n",
       "      <td>0.142427</td>\n",
       "    </tr>\n",
       "    <tr>\n",
       "      <th>Clostridium</th>\n",
       "      <td>0.114262</td>\n",
       "    </tr>\n",
       "    <tr>\n",
       "      <th>Achromobacter</th>\n",
       "      <td>0.112048</td>\n",
       "    </tr>\n",
       "    <tr>\n",
       "      <th>Roseburia</th>\n",
       "      <td>0.051467</td>\n",
       "    </tr>\n",
       "  </tbody>\n",
       "</table>\n",
       "</div>"
      ],
      "text/plain": [
       "                     RA\n",
       "Genus                  \n",
       "Bordetella     0.554888\n",
       "Bacteroides    0.142427\n",
       "Clostridium    0.114262\n",
       "Achromobacter  0.112048\n",
       "Roseburia      0.051467"
      ]
     },
     "metadata": {},
     "output_type": "display_data"
    }
   ],
   "source": [
    "def rel_abundance(df, output, rank, plot=False):\n",
    "    df.drop(\"FeatureID\", axis=1, inplace=True)\n",
    "    # pct = df[[\"Count\"]].apply(lambda x: x / x.sum(), axis=0)\n",
    "    df[\"RA\"] = df[\"Count\"] / df[\"Count\"].sum()\n",
    "    df.drop(\"Count\", axis=1, inplace=True)\n",
    "    df = df.sort_values(by=\"RA\", ascending=False)\n",
    "    display(df.head())\n",
    "\n",
    "    df.to_csv(output + \".csv\", sep=\",\")\n",
    "    df = df.where(df > 0.001).dropna()\n",
    "\n",
    "    if plot:\n",
    "        df.T.plot.bar(figsize=(10,10), xlabel=\"{rank} Name\", ylabel=\"Fraction\", title=f\"{rank} Relative Abundance above 0.1%\").legend(loc='center left', bbox_to_anchor=(1.0, 0.5), title=f\"{rank}\")\n",
    "        plt.savefig(output + \".png\", bbox_inches='tight')\n",
    "\n",
    "rel_abundance(sdf, f\"pipelines/camisimGI/woltka/{sample_id}_species_relabund\", \"Species\")\n",
    "rel_abundance(gdf, f\"pipelines/camisimGI/woltka/{sample_id}_genus_relabund\", \"Genus\")"
   ]
  },
  {
   "cell_type": "code",
   "execution_count": null,
   "metadata": {},
   "outputs": [],
   "source": []
  }
 ],
 "metadata": {
  "kernelspec": {
   "display_name": "Python 3.10.6 ('.venv': venv)",
   "language": "python",
   "name": "python3"
  },
  "language_info": {
   "codemirror_mode": {
    "name": "ipython",
    "version": 3
   },
   "file_extension": ".py",
   "mimetype": "text/x-python",
   "name": "python",
   "nbconvert_exporter": "python",
   "pygments_lexer": "ipython3",
   "version": "3.10.6"
  },
  "orig_nbformat": 4,
  "vscode": {
   "interpreter": {
    "hash": "ccb8790ce05d03335183e4531caa33d67ddc8515af0e7751497f278f4c676c90"
   }
  }
 },
 "nbformat": 4,
 "nbformat_minor": 2
}
