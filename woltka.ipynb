{
 "cells": [
  {
   "cell_type": "code",
   "execution_count": 13,
   "metadata": {},
   "outputs": [],
   "source": [
    "import pandas as pd\n",
    "import numpy as np\n",
    "import matplotlib.pyplot as plt\n",
    "import os"
   ]
  },
  {
   "cell_type": "code",
   "execution_count": 14,
   "metadata": {},
   "outputs": [],
   "source": [
    "# data_dir = \"/Volumes/TBHD_share/valencia/pipelines/woltka/classify/results\"\n",
    "sample_id = \"s2\"\n",
    "data_dir = \"/Volumes/TBHD_share/cami_data/gitract/woltka/S2_classify/\"\n",
    "species_data = os.path.join(data_dir, \"species.tsv\")\n",
    "genus_data = os.path.join(data_dir, \"genus.tsv\")"
   ]
  },
  {
   "cell_type": "code",
   "execution_count": 15,
   "metadata": {},
   "outputs": [],
   "source": [
    "sdf = pd.read_csv(species_data, sep=\"\\t\", names=[\"FeatureID\", \"Count\", \"Species\"], header=0, index_col=2)\n",
    "gdf = pd.read_csv(genus_data, sep=\"\\t\", names=[\"FeatureID\", \"Count\", \"Genus\"], header=0, index_col=2)"
   ]
  },
  {
   "cell_type": "code",
   "execution_count": 16,
   "metadata": {},
   "outputs": [
    {
     "data": {
      "text/html": [
       "<div>\n",
       "<style scoped>\n",
       "    .dataframe tbody tr th:only-of-type {\n",
       "        vertical-align: middle;\n",
       "    }\n",
       "\n",
       "    .dataframe tbody tr th {\n",
       "        vertical-align: top;\n",
       "    }\n",
       "\n",
       "    .dataframe thead th {\n",
       "        text-align: right;\n",
       "    }\n",
       "</style>\n",
       "<table border=\"1\" class=\"dataframe\">\n",
       "  <thead>\n",
       "    <tr style=\"text-align: right;\">\n",
       "      <th></th>\n",
       "      <th>RA</th>\n",
       "    </tr>\n",
       "    <tr>\n",
       "      <th>Species</th>\n",
       "      <th></th>\n",
       "    </tr>\n",
       "  </thead>\n",
       "  <tbody>\n",
       "    <tr>\n",
       "      <th>Bordetella pertussis</th>\n",
       "      <td>0.215589</td>\n",
       "    </tr>\n",
       "    <tr>\n",
       "      <th>Bordetella petrii</th>\n",
       "      <td>0.156901</td>\n",
       "    </tr>\n",
       "    <tr>\n",
       "      <th>Bacteroides thetaiotaomicron</th>\n",
       "      <td>0.095207</td>\n",
       "    </tr>\n",
       "    <tr>\n",
       "      <th>Bordetella parapertussis</th>\n",
       "      <td>0.082056</td>\n",
       "    </tr>\n",
       "    <tr>\n",
       "      <th>Bordetella bronchiseptica</th>\n",
       "      <td>0.078381</td>\n",
       "    </tr>\n",
       "  </tbody>\n",
       "</table>\n",
       "</div>"
      ],
      "text/plain": [
       "                                    RA\n",
       "Species                               \n",
       "Bordetella pertussis          0.215589\n",
       "Bordetella petrii             0.156901\n",
       "Bacteroides thetaiotaomicron  0.095207\n",
       "Bordetella parapertussis      0.082056\n",
       "Bordetella bronchiseptica     0.078381"
      ]
     },
     "metadata": {},
     "output_type": "display_data"
    },
    {
     "data": {
      "text/html": [
       "<div>\n",
       "<style scoped>\n",
       "    .dataframe tbody tr th:only-of-type {\n",
       "        vertical-align: middle;\n",
       "    }\n",
       "\n",
       "    .dataframe tbody tr th {\n",
       "        vertical-align: top;\n",
       "    }\n",
       "\n",
       "    .dataframe thead th {\n",
       "        text-align: right;\n",
       "    }\n",
       "</style>\n",
       "<table border=\"1\" class=\"dataframe\">\n",
       "  <thead>\n",
       "    <tr style=\"text-align: right;\">\n",
       "      <th></th>\n",
       "      <th>RA</th>\n",
       "    </tr>\n",
       "    <tr>\n",
       "      <th>Genus</th>\n",
       "      <th></th>\n",
       "    </tr>\n",
       "  </thead>\n",
       "  <tbody>\n",
       "    <tr>\n",
       "      <th>Bordetella</th>\n",
       "      <td>0.564916</td>\n",
       "    </tr>\n",
       "    <tr>\n",
       "      <th>Bacteroides</th>\n",
       "      <td>0.213212</td>\n",
       "    </tr>\n",
       "    <tr>\n",
       "      <th>Clostridium</th>\n",
       "      <td>0.141573</td>\n",
       "    </tr>\n",
       "    <tr>\n",
       "      <th>Escherichia</th>\n",
       "      <td>0.012707</td>\n",
       "    </tr>\n",
       "    <tr>\n",
       "      <th>Akkermansia</th>\n",
       "      <td>0.008105</td>\n",
       "    </tr>\n",
       "  </tbody>\n",
       "</table>\n",
       "</div>"
      ],
      "text/plain": [
       "                   RA\n",
       "Genus                \n",
       "Bordetella   0.564916\n",
       "Bacteroides  0.213212\n",
       "Clostridium  0.141573\n",
       "Escherichia  0.012707\n",
       "Akkermansia  0.008105"
      ]
     },
     "metadata": {},
     "output_type": "display_data"
    }
   ],
   "source": [
    "def rel_abundance(df, output, rank, plot=False):\n",
    "    df.drop(\"FeatureID\", axis=1, inplace=True)\n",
    "    # pct = df[[\"Count\"]].apply(lambda x: x / x.sum(), axis=0)\n",
    "    df[\"RA\"] = df[\"Count\"] / df[\"Count\"].sum()\n",
    "    df.drop(\"Count\", axis=1, inplace=True)\n",
    "    df = df.sort_values(by=\"RA\", ascending=False)\n",
    "    display(df.head())\n",
    "\n",
    "    df.to_csv(output + \".csv\", sep=\",\")\n",
    "    df = df.where(df > 0.001).dropna()\n",
    "\n",
    "    if plot:\n",
    "        df.T.plot.bar(figsize=(10,10), xlabel=\"{rank} Name\", ylabel=\"Fraction\", title=f\"{rank} Relative Abundance above 0.1%\").legend(loc='center left', bbox_to_anchor=(1.0, 0.5), title=f\"{rank}\")\n",
    "        plt.savefig(output + \".png\", bbox_inches='tight')\n",
    "\n",
    "rel_abundance(sdf, f\"pipelines/camisimGI/woltka/{sample_id}_species_relabund\", \"Species\")\n",
    "rel_abundance(gdf, f\"pipelines/camisimGI/woltka/{sample_id}_genus_relabund\", \"Genus\")"
   ]
  },
  {
   "cell_type": "code",
   "execution_count": null,
   "metadata": {},
   "outputs": [],
   "source": []
  }
 ],
 "metadata": {
  "kernelspec": {
   "display_name": "Python 3.10.6 ('.venv': venv)",
   "language": "python",
   "name": "python3"
  },
  "language_info": {
   "codemirror_mode": {
    "name": "ipython",
    "version": 3
   },
   "file_extension": ".py",
   "mimetype": "text/x-python",
   "name": "python",
   "nbconvert_exporter": "python",
   "pygments_lexer": "ipython3",
   "version": "3.10.6"
  },
  "orig_nbformat": 4,
  "vscode": {
   "interpreter": {
    "hash": "ccb8790ce05d03335183e4531caa33d67ddc8515af0e7751497f278f4c676c90"
   }
  }
 },
 "nbformat": 4,
 "nbformat_minor": 2
}
