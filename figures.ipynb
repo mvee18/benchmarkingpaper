{
 "cells": [
  {
   "cell_type": "code",
<<<<<<< HEAD
   "execution_count": null,
=======
   "execution_count": 201,
>>>>>>> 6871c6480b244137eab1de6828ced59b2e39e92b
   "metadata": {},
   "outputs": [],
   "source": [
    "import pandas as pd\n",
    "import numpy as np\n",
    "import seaborn as sns\n",
    "import matplotlib.pyplot as plt\n",
    "plt.rcParams.update({'figure.max_open_warning': 0})\n",
    "\n",
    "from matplotlib.backends.backend_pdf import PdfPages\n",
    "from sklearn.linear_model import LinearRegression\n",
    "from scipy.special import rel_entr\n",
    "import os\n",
    "# from python_src.compositions import replace_zero_aitchison\n",
    "# from python_src.compositions import replace_zeroes\n",
    "# from python_src.compositions import constant_aitchison\n",
    "# from python_src.compositions import add_constant\n",
    "from python_src.compositions import multiplicative_aitchison\n",
    "from skbio.stats.composition import multiplicative_replacement\n",
    "from scipy.spatial.distance import braycurtis, euclidean\n",
    "from dataclasses import dataclass\n",
    "from python_src.compositions import clr"
   ]
  },
  {
   "cell_type": "markdown",
   "metadata": {},
   "source": [
    "# Global Variables"
   ]
  },
  {
   "cell_type": "code",
<<<<<<< HEAD
   "execution_count": null,
=======
   "execution_count": 202,
>>>>>>> 6871c6480b244137eab1de6828ced59b2e39e92b
   "metadata": {},
   "outputs": [],
   "source": [
    "# Change this depending on your data.\n",
    "# taxonomic_rank = 'Species'\n",
    "base_path = \"pipelines/camisimGI/bio4\"\n",
    "rel_abund_file = \"s1_genus_relabund.csv\"\n",
    "program_name = \"Biobakery4\"\n",
    "sample_id = \"s1\"\n",
    "\n",
    "expected_input = \"pipelines/camisimGI/s1_expected.csv\"\n",
    "\n",
    "pdf_output = PdfPages(\"figures.pdf\")"
   ]
  },
  {
   "cell_type": "markdown",
   "metadata": {},
   "source": [
    "## Utils"
   ]
  },
  {
   "cell_type": "code",
<<<<<<< HEAD
   "execution_count": null,
=======
   "execution_count": 203,
>>>>>>> 6871c6480b244137eab1de6828ced59b2e39e92b
   "metadata": {},
   "outputs": [],
   "source": [
    "# Use this once scipy fixes the bug.\n",
    "# from skbio.stats.composition import clr\n",
    "# from scipy.spatial.distance import euclidean\n",
    "\n",
    "# def aitchinson_distance(x, y):\n",
    "#     return euclidean(clr(x), clr(y))"
   ]
  },
  {
   "cell_type": "markdown",
   "metadata": {},
   "source": [
    "## Colors For Seaborn and MatplotLib"
   ]
  },
  {
   "cell_type": "code",
<<<<<<< HEAD
   "execution_count": null,
=======
   "execution_count": 204,
>>>>>>> 6871c6480b244137eab1de6828ced59b2e39e92b
   "metadata": {},
   "outputs": [],
   "source": [
    "cb_palette = sns.color_palette(as_cmap=True)\n",
    "\n",
    "# cb_palette = [\n",
    "# \"#e31a1c\",\n",
    "# \"#1f78b4\",\n",
    "# \"#b2df8a\",\n",
    "# \"#a6cee3\",\n",
    "# \"#fb9a99\",\n",
    "# \"#33a02c\",\n",
    "# ]\n",
    "\n",
    "# print(cb_palette)\n",
    "\n",
    "color_palette = {\n",
    "    \"Expected\": cb_palette[0], \n",
    "    \"expected\": cb_palette[0], \n",
    "    \"woltka\": cb_palette[1], \n",
    "    \"wol\": cb_palette[1], \n",
    "    \"jams\": cb_palette[2], \n",
    "    \"wgsa\": cb_palette[3], \n",
    "    \"wgsa2\": cb_palette[3], \n",
    "    \"biobakery3\": cb_palette[4], \n",
    "    \"bio3\": cb_palette[4], \n",
    "    \"biobakery4\": cb_palette[5], \n",
    "    \"bio4\": cb_palette[5]\n",
    "}"
   ]
  },
  {
   "cell_type": "markdown",
   "metadata": {},
   "source": [
    "# One Sample, One Expected"
   ]
  },
  {
   "cell_type": "code",
<<<<<<< HEAD
   "execution_count": null,
=======
   "execution_count": 205,
>>>>>>> 6871c6480b244137eab1de6828ced59b2e39e92b
   "metadata": {},
   "outputs": [],
   "source": [
    "# Generate the expected result from the tsv file. Returns a dataframe.\n",
    "def generate_expected(input_path: str, plot: bool = False, rank : str = \"Genus\") -> pd.DataFrame:\n",
    "    expected = pd.read_csv(input_path, sep=',', index_col=0, names=['Organism', 'Counts', 'TAX_ID'], header=0)\n",
    "    expected = expected[['Counts']].astype(int)\n",
    "\n",
    "    # Calculate expected relative abundance. If it's already in RA, this won't change anything.\n",
    "    expected['RA'] = expected['Counts'] / expected['Counts'].sum()\n",
    "\n",
    "    if rank == \"Species\":\n",
    "        expected.sort_values(by=['RA'], ascending=False, inplace=True)\n",
    "        return expected\n",
    "\n",
    "    # Let's split the organism index into two columns to find the genera.\n",
    "    orgs = expected.index.to_list()\n",
    "    genus = [org.strip().split(' ')[0] for org in orgs]\n",
    "    genus = [x.replace('M.', 'Micromonospora') for x in genus]\n",
    "\n",
    "    # Apparently, propionibacterium have been renamed to cutibacterium.\n",
    "    genus = [x.replace('Propionibact.', 'Cutibacterium') for x in genus]\n",
    "\n",
    "    # Add the columns to the dataframe.\n",
    "    expected['Genus'] = genus\n",
    "    # display(expected.head(12))\n",
    "\n",
    "    # Group by genus and sum the counts for overlapping genera.\n",
    "    exp_genus = expected.groupby('Genus').sum()\n",
    "    exp_genus.sort_values('RA', ascending=False, inplace=True)\n",
    "\n",
    "    if plot:\n",
    "        exp_genus.plot.bar(y='RA', figsize=(8, 5), legend=False, title='Expected Relative Abundance')\n",
    "    \n",
    "    return exp_genus\n",
    "\n",
    "# Use generate_expected to generate the expected result for the bmock12 data.\n",
    "# exp_genus = generate_expected('pipelines/bmock12/s1_expected_species.csv', False, \"Species\")\n",
    "# exp_genus[\"RA\"].to_csv('pipelines/bmock12/s1_expected_species.csv', index_label=\"Species\")"
   ]
  },
  {
   "cell_type": "code",
<<<<<<< HEAD
   "execution_count": null,
=======
   "execution_count": 206,
>>>>>>> 6871c6480b244137eab1de6828ced59b2e39e92b
   "metadata": {},
   "outputs": [],
   "source": [
    "# For camisim, we can just read the csv in directly.\n",
    "# exp_genus = pd.read_csv(expected_input, index_col=0, names=['Genus', 'RA'], header=0)\n",
    "# exp_genus = exp_genus.where(exp_genus['RA'] > 0.001).dropna()\n",
    "\n",
    "# (exp_genus.where(exp_genus['RA'] > 0.001).dropna()).to_csv('pipelines/camisimGI/s2_genus_pretty.csv', index_label=\"Genus\")"
   ]
  },
  {
   "cell_type": "code",
<<<<<<< HEAD
   "execution_count": null,
=======
   "execution_count": 207,
>>>>>>> 6871c6480b244137eab1de6828ced59b2e39e92b
   "metadata": {},
   "outputs": [],
   "source": [
    "def generate_experimental_df(input_path: str, index_name: str) -> pd.DataFrame:\n",
    "    # Now, load in the experimental values.\n",
    "    r_genus = pd.read_csv(input_path, index_col=0, names=[index_name, \"RA\", \"TAX_ID\"], header=0)\n",
    "    # display(r_genus.head(12))\n",
    "    r_genus = r_genus.astype({'RA': 'float64', 'TAX_ID': 'int64'})\n",
    "\n",
    "    return r_genus\n",
    "\n",
    "# Instead, let's concat the two dataframes into long format and add a column from where it originated.\n",
    "def long_format(df1, df2):\n",
    "    merged = pd.concat([df1, df2], axis=0)\n",
    "\n",
    "    # !!! This is slick\n",
    "    merged['Source'] = ['Expected'] * len(df1) + ['Observed'] * len(df2)\n",
    "\n",
    "    return merged\n",
    "\n",
    "# result_genus = generate_experimental_df(os.path.join(base_path, rel_abund_file), taxonomic_rank)\n",
    "# display(result_genus.head(12))\n",
    "# merged_lf = long_format(exp_genus, result_genus)"
   ]
  },
  {
   "cell_type": "markdown",
   "metadata": {},
   "source": [
    "# Plotting Tools"
   ]
  },
  {
   "cell_type": "code",
<<<<<<< HEAD
   "execution_count": null,
=======
   "execution_count": 208,
>>>>>>> 6871c6480b244137eab1de6828ced59b2e39e92b
   "metadata": {},
   "outputs": [],
   "source": [
    "def linear_regression(df: pd.DataFrame, exp_df: pd.DataFrame, plot: bool = False, save_path: str = None) -> pd.DataFrame:\n",
    "    # Merge on the genus key for easy plotting. The expected results are on the left, the observed on the right.\n",
    "    # linear_df = exp_genus.merge(df, left_index=True, right_index=True)\n",
    "\n",
    "    # try join because the left merge will drop the genera that are not in the observerd results, but we want to show that the experimental missed it.\n",
    "    linear_df = exp_df.join(df, how='left', lsuffix='_x', rsuffix='_y')\n",
    "    linear_df.fillna(0, inplace=True)\n",
    "\n",
    "    # Linear regression with scikit.\n",
    "    X = linear_df['RA_x'].values.reshape(-1, 1)\n",
    "    Y = linear_df['RA_y'].values.reshape(-1, 1)\n",
    "    reg = LinearRegression().fit(X, Y)\n",
    "    y_pred = reg.predict(X)\n",
    "\n",
    "    # Scatter plot of RA_x vs. RA_y.\n",
    "    if plot:\n",
    "        fig = plt.figure(figsize=(10, 8))\n",
    "        plt.scatter(linear_df['RA_x'], linear_df['RA_y'], color='black')\n",
    "\n",
    "        # Calculate mean absolute error.\n",
    "        mae = np.mean(np.abs(linear_df['RA_x'] - linear_df['RA_y']))\n",
    "\n",
    "        # Regression line.\n",
    "        plt.plot(X, y_pred, color='red', linewidth=2)\n",
    "        # Labels.\n",
    "        plt.xlabel('Expected Relative Abundance')\n",
    "        plt.ylabel('Observed Relative Abundance')\n",
    "        plt.title(f'Expected vs. Observed Relative Abundance for {program_name} {taxonomic_rank}')\n",
    "\n",
    "        # Add r^2 value.\n",
    "        plt.text(0.1, 0.9, f'r^2 = {reg.score(X,Y):.4f}', transform=plt.gca().transAxes)\n",
    "        # Add MAE.\n",
    "        plt.text(0.1, 0.85, f'MAE = {mae:.4f}', transform=plt.gca().transAxes)\n",
    "\n",
    "        # Add line y = x.\n",
    "        plt.plot([0, 1], [0, 1], color='blue', linewidth=2, linestyle='--')\n",
    "\n",
    "        if save_path is not None:\n",
    "            plt.savefig(save_path, dpi=300, bbox_inches='tight')\n",
    "\n",
    "        # plt.show()\n",
    "\n",
    "    return linear_df\n",
    "    \n",
    "# linear_regression(result_genus, exp_genus, plot=True, save_path=os.path.join(base_path, f\"{sample_id}_bivariate_{taxonomic_rank}.png\"))"
   ]
  },
  {
   "cell_type": "code",
<<<<<<< HEAD
   "execution_count": null,
=======
   "execution_count": 209,
>>>>>>> 6871c6480b244137eab1de6828ced59b2e39e92b
   "metadata": {},
   "outputs": [],
   "source": [
    "def fix_x_labels(ax, df, rank):\n",
    "    xticks = ax.get_xticklabels()\n",
    "    # print(xticks)\n",
    "    new_labels = []\n",
    "    for x in xticks:\n",
    "        res = df.loc[int(x.get_text()), rank]\n",
    "        # Get only the first row from the series.\n",
    "        # This is necessary because if it is unique, it will return a string, but if it is not unique, it will return a series.\n",
    "        if isinstance(res, pd.Series):\n",
    "            res = res.iloc[0]\n",
    "        new_labels.append(res)\n",
    "\n",
    "    return new_labels"
   ]
  },
  {
   "cell_type": "code",
<<<<<<< HEAD
   "execution_count": null,
=======
   "execution_count": 210,
>>>>>>> 6871c6480b244137eab1de6828ced59b2e39e92b
   "metadata": {},
   "outputs": [],
   "source": [
    "# Bar plot of RA_x vs. RA_y side by side.\n",
    "# sns.set_style(\"whitegrid\")\n",
    "def bar_plot(df: pd.DataFrame, plot: bool = False, save_path: str = None, program: str = program_name, title: str =f'INSERT TITLE', hue_category: str ='Source', taxonomic_rank: str = None, threshold: float = 5e-5):\n",
    "    # df.to_csv(\"debug.csv\", index=True)\n",
    "    subset = pd.DataFrame()\n",
    "\n",
    "    # Used to subset by taxonomic rank, but now TAX_ID?\n",
    "    # Need to test further.\n",
    "    for x, y in df.groupby(\"TAX_ID\"):\n",
    "        if y[\"Source\"].values[0] == \"Expected\":\n",
    "            subset = pd.concat([y, subset], axis=0)\n",
    "\n",
    "    # display(subset.head())\n",
    "    subset = subset.where(subset['RA'] > threshold).dropna()\n",
    "    # subset.to_csv(\"subset.csv\", index=True)\n",
    "\n",
    "    if plot:\n",
    "        # Plot a category bar chart with the colors based on the source.\n",
    "        fig = plt.figure(figsize=(10, 8))\n",
    "        ax = sns.barplot(x=subset.index, y='RA', hue=hue_category, data=subset, errorbar=None, palette=color_palette)\n",
    "        ax.semilogy()\n",
    "\n",
    "        ax.bar_label(ax.containers[0], fmt='%.2e', label_type='center')\n",
    "        # ax.bar_label(ax.containers[1], fmt='%.2e', label_type='edge')\n",
    "\n",
    "        # Change the x axis labels from the index to the taxonomic rank.\n",
    "        ax.set_xticklabels(fix_x_labels(ax=ax, df=subset, rank=taxonomic_rank), rotation=45, horizontalalignment='right')\n",
    "\n",
    "        # Later, we can fix the y labels.\n",
    "        # fix_y_labels(ax)\n",
    "\n",
    "        ax.set_title(title)\n",
    "        ax.set_xlabel(taxonomic_rank)\n",
    "        ax.set_ylabel('Relative Abundance')\n",
    "\n",
    "        if save_path is not None:\n",
    "            pdf_output.savefig(fig, dpi=300, bbox_inches='tight')\n",
    "            plt.savefig(save_path, dpi=300, bbox_inches='tight')\n",
    "            plt.close()\n",
    "\n",
    "        plt.show()\n",
    "\n",
    "# bar_plot(merged_lf, plot=True, save_path=os.path.join(base_path, f\"{sample_id}_bars_{taxonomic_rank}.png\"))"
   ]
  },
  {
   "cell_type": "markdown",
   "metadata": {},
   "source": [
    "# Multisample\n",
    "## Utilities"
   ]
  },
  {
   "cell_type": "code",
<<<<<<< HEAD
   "execution_count": null,
=======
   "execution_count": 211,
>>>>>>> 6871c6480b244137eab1de6828ced59b2e39e92b
   "metadata": {},
   "outputs": [],
   "source": [
    "# We will now aggregate the differences by pipeline. \n",
    "# To do this, we will start at the root and walk down, looking for \"relabund\" files and \"expected\" files.\n",
    "\n",
    "# root_dir = \"pipelines/camisimGI/\"\n",
    "\n",
    "def get_all_expected(root_dir: str, rank=\"Genus\"):\n",
    "    combined_expected = pd.DataFrame()\n",
    "    for root, dirs, files in os.walk(root_dir):\n",
    "        for f in files:\n",
    "            # print(\"files: \", files)\n",
    "            if f\"expected_{rank.lower()}_annotated\" in f and f.endswith(\".csv\"):\n",
    "                # print(f)\n",
    "                df = pd.read_csv(os.path.join(root, f), index_col=0, names=[rank, 'RA', \"TAX_ID\"], header=0)\n",
    "                df[\"Source\"] = \"Expected\"\n",
    "\n",
    "                # Files are of s#_expected.csv, so we can split on the underscore and take the first part.\n",
    "                df[\"SampleID\"] = f.split(\"_\")[0]\n",
    "                combined_expected = pd.concat([combined_expected, df], axis=0)\n",
    "\n",
    "    # combined_expected.reset_index(inplace=True)\n",
    "    # combined_expected.rename({\"index\": rank}, axis=1, inplace=True)\n",
    "    # combined_expected = combined_expected.set_index(\"TAX_ID\")\n",
    "\n",
    "    return combined_expected"
   ]
  },
  {
   "cell_type": "code",
<<<<<<< HEAD
   "execution_count": null,
=======
   "execution_count": 212,
>>>>>>> 6871c6480b244137eab1de6828ced59b2e39e92b
   "metadata": {},
   "outputs": [],
   "source": [
    "def get_relabund_files(root_dir: str, rank=\"genus\"):\n",
    "    combined_df = pd.DataFrame()\n",
    "    for root, dirs, files in os.walk(root_dir):\n",
    "        for f in files:\n",
    "            if f\"{rank.lower()}_relabund_annotated\" in f and f.endswith(\".csv\"):\n",
    "                # print(root, f)\n",
    "                p = os.path.join(root, f)\n",
    "                exp = generate_experimental_df(p, rank)\n",
    "\n",
    "                # Add a column to the experimental dataframe with the pipeline name.\n",
    "                exp['Source'] = os.path.dirname(p).split('/')[-1]\n",
    "\n",
    "                # Add sampleID to the experimental dataframe.\n",
    "                exp['SampleID'] = os.path.basename(p).split('_')[0]\n",
    "                # display(exp.head(10))\n",
    "\n",
    "                # Add the experimental dataframe to the combined dataframe.\n",
    "                combined_df = pd.concat([combined_df, exp], axis=0)\n",
    "\n",
    "    # Ensure that the RA column is a float.\n",
    "    combined_df['RA'] = combined_df['RA'].astype(float)\n",
    "\n",
    "    return combined_df"
   ]
  },
  {
   "cell_type": "code",
<<<<<<< HEAD
   "execution_count": null,
=======
   "execution_count": 213,
>>>>>>> 6871c6480b244137eab1de6828ced59b2e39e92b
   "metadata": {},
   "outputs": [],
   "source": [
    "def fully_combined(root_dir, rank) -> pd.DataFrame:\n",
    "    \"\"\"\n",
    "    Gathers all expected and experimental dataframes and combines them into a single dataframe.\n",
    "    \"\"\"\n",
    "    if rank is None:\n",
    "        raise Exception(\"Rank is not defined.\")\n",
    "\n",
    "    combined_df = get_relabund_files(root_dir, rank=rank)\n",
    "\n",
    "    combined_expected = get_all_expected(root_dir, rank=rank)\n",
    "\n",
    "    # Merge the expected and experimental dataframes.\n",
    "    merged = pd.concat([combined_expected, combined_df], axis=0)\n",
    "    merged = merged.reset_index()\n",
    "    merged = merged.rename(columns={'index': rank})\n",
    "\n",
    "    # merged = merged.astype({'TAX_ID': 'int64'})\n",
    "    merged = merged.set_index(\"TAX_ID\")\n",
    "\n",
    "    # display(merged.head())\n",
    "    # merged.to_csv(\"combined.csv\", index=True, index_label=\"TAX_ID\")\n",
    "\n",
    "    return merged"
   ]
  },
  {
   "cell_type": "code",
<<<<<<< HEAD
   "execution_count": null,
=======
   "execution_count": 214,
>>>>>>> 6871c6480b244137eab1de6828ced59b2e39e92b
   "metadata": {},
   "outputs": [],
   "source": [
    "def fix_outer_join_df(df: pd.DataFrame, source: str, threshold: float = 0.001) -> pd.DataFrame:\n",
    "    \"\"\"\n",
    "    Parameters:\n",
    "        df: The dataframe to fix.\n",
    "        source: The source of the dataframe.\n",
    "        threshold: The threshold to use for the relative abundance.\n",
    "    \n",
    "    Returns:\n",
    "        pd.Dataframe: The fixed dataframe.\n",
    "\n",
    "    This function will fill the missing RA_expected, RA_observed, and Source_observed columns with 0s and the source name. \\\\ \n",
    "    We then filter out the rows where the RA_expected is less than the threshold. \\\\\n",
    "    We are doing this to penalize the pipeline for adding taxa that are not in the expected.\n",
    "    \"\"\"\n",
    "    # print(\"the threshold is \", threshold)\n",
    "    df['RA_expected'].fillna(0, inplace=True)\n",
    "    df['RA_observed'].fillna(0, inplace=True)\n",
    "    df['Source_observed'].fillna(source, inplace=True)\n",
    "\n",
    "    # Now, filter any rows with 'RA_observed' less than threshold if the corresponding RA_expected value is 0.\n",
    "    df = df.loc[(df['RA_expected'] > 0) | (df['RA_observed'] > threshold)]\n",
    "\n",
    "    return df"
   ]
  },
  {
   "cell_type": "markdown",
   "metadata": {},
   "source": [
    "### Renormalize"
   ]
  },
  {
   "cell_type": "code",
<<<<<<< HEAD
   "execution_count": null,
=======
   "execution_count": 215,
>>>>>>> 6871c6480b244137eab1de6828ced59b2e39e92b
   "metadata": {},
   "outputs": [],
   "source": [
    "def renormalize_df(df: pd.DataFrame, column_name: str) -> pd.DataFrame:\n",
    "    \"\"\"\n",
    "    Parameters:\n",
    "        df: The dataframe to renormalize.\n",
    "\n",
    "    Returns:\n",
    "        pd.DataFrame: The renormalized dataframe.\n",
    "\n",
    "    This function will renormalize the relative abundance. \\\\\n",
    "    Specify the column name to renormalize.\n",
    "    \"\"\"\n",
    "    # Renormalize the experimental dataframes.\n",
    "    df[column_name] = df[column_name] / df[column_name].sum()\n",
    "\n",
    "    return df\n"
   ]
  },
  {
   "cell_type": "markdown",
   "metadata": {},
   "source": [
    "### Join functions for the bivariate plots"
   ]
  },
  {
   "cell_type": "code",
<<<<<<< HEAD
   "execution_count": null,
=======
   "execution_count": 216,
>>>>>>> 6871c6480b244137eab1de6828ced59b2e39e92b
   "metadata": {},
   "outputs": [],
   "source": [
    "def join_left(expected: pd.DataFrame, source_df: pd.DataFrame, source_name: str, sampleID: str) -> pd.DataFrame:\n",
    "    \"\"\" \n",
    "    Parameters:\n",
    "        expected: The expected dataframe.\n",
    "        source_df: The source/experimental dataframe.\n",
    "        source_name: The name of the source.\n",
    "        sampleID: The sampleID of the source (can be None).\n",
    "    Returns:\n",
    "        pd.DataFrame: The joined dataframe.\n",
    "\n",
    "    This function will join the expected dataframe to the source dataframe by left join. \\\\\n",
    "    Then, it will fill the missing observed values with 0s and the source name, since there can be no missing expected values. \\\\.\n",
    "\n",
    "    \"\"\"\n",
    "    exp_copy = expected.copy()\n",
    "    src_copy = source_df.copy()\n",
    "\n",
    "    merged = pd.merge(exp_copy, src_copy, on=\"TAX_ID\", how='left', suffixes=('_expected', '_observed'))\n",
    "    merged['RA_observed'].fillna(0, inplace=True)\n",
    "    merged['Source_observed'].fillna(source_name, inplace=True)\n",
    "    if sampleID is not None:\n",
    "        merged['SampleID'] = sampleID\n",
    "\n",
    "    return merged\n",
    "\n",
    "def join_outer(expected: pd.DataFrame, source_df: pd.DataFrame, source_name: str, threshold: float) -> pd.DataFrame:\n",
    "    \"\"\"\n",
    "    This function will join the expected dataframe to the source dataframe by outer join. \\\\\n",
    "    Then it will call fix_outer_join_df to fix the missing values and filter out the rows with RA_expected less than the threshold.\n",
    "    See: :func:`fix_outer_join_df`\n",
    "\n",
    "    ### Parameters:\n",
    "        expected: The expected dataframe.\n",
    "        source_df: The source/experimental dataframe.\n",
    "        source: The name of the source.\n",
    "        sample: The sampleID of the source (can be None).\n",
    "        threshold: The threshold to use for the relative abundance.\n",
    "    ### Returns:\n",
    "        pd.DataFrame: The joined dataframe.\n",
    "    \"\"\"\n",
    "        \n",
    "    exp_copy = expected.copy()\n",
    "    src_copy = source_df.copy()\n",
    "\n",
    "    merged = pd.merge(exp_copy, src_copy, on=\"TAX_ID\", how='outer', suffixes=('_expected', '_observed'))\n",
    "    merged = fix_outer_join_df(merged, source_name, threshold=threshold)\n",
    "\n",
    "    # Renormalize the dataframe since we filtered out some rows.\n",
    "    merged = renormalize_df(merged, 'RA_observed')\n",
    "    merged = renormalize_df(merged, 'RA_expected')\n",
    "\n",
    "    return merged\n"
   ]
  },
  {
   "cell_type": "markdown",
   "metadata": {},
   "source": [
    "## Multisample with Different Expected Values"
   ]
  },
  {
   "cell_type": "code",
<<<<<<< HEAD
   "execution_count": null,
=======
   "execution_count": 217,
>>>>>>> 6871c6480b244137eab1de6828ced59b2e39e92b
   "metadata": {},
   "outputs": [],
   "source": [
    "def plot_by_sample(root, output_dir, taxonomic_rank, hue_category='Source', threshold=5e-5): \n",
    "    full_df = fully_combined(root, rank=taxonomic_rank)\n",
    "    \n",
    "    experiment_name = os.path.basename(root)\n",
    "    # print(root, experiment_name)\n",
    "\n",
    "    for sample_id, df in full_df.groupby('SampleID'):\n",
    "        title = f\"Expected vs. Observed Relative Abundance for {sample_id} in Experiment {experiment_name} ({taxonomic_rank})\"\n",
    "        # display(df.head())\n",
    "        if output_dir is not None:\n",
    "            bar_plot(df, plot=True, save_path=os.path.join(output_dir, f\"{sample_id}_bars_{taxonomic_rank}_all.png\"), title=title, taxonomic_rank=taxonomic_rank, hue_category=hue_category, threshold=threshold)\n",
    "        else:\n",
    "            bar_plot(df, plot=True, save_path=None, title=title, taxonomic_rank=taxonomic_rank, hue_category=hue_category, threshold=threshold)\n",
    "\n",
    "# plot_by_sample(root_dir, hue_category='SampleID')"
   ]
  },
  {
   "cell_type": "code",
<<<<<<< HEAD
   "execution_count": null,
=======
   "execution_count": 218,
>>>>>>> 6871c6480b244137eab1de6828ced59b2e39e92b
   "metadata": {},
   "outputs": [],
   "source": [
    "def linear_regression(X, Y):\n",
    "    reg = LinearRegression().fit(X, Y)\n",
    "    y_pred = reg.predict(X)\n",
    "\n",
    "    return reg, y_pred\n",
    "\n",
    "def linear_plot(input_df: pd.DataFrame, title, sample_id, hue_category=\"Source_observed\", save_path=None, inset=False, colors=color_palette) -> pd.DataFrame:\n",
    "    \"\"\"\n",
    "    Plot a linear regression of the expected vs. observed relative abundance. Also calculates the R^2 value, MAE, and Aitchison distance.\n",
    "    Parameters:\n",
    "        input_df: A dataframe with the expected and observed relative abundance. The third column should be the source of the data.\n",
    "        title: The title of the plot.\n",
    "        sample_id: The sample ID of the plot.\n",
    "        hue_category: The category to use for the hue (default: \"Source_observed\").\n",
    "        save_path: The path to save the plot to (if None, the plot will not be saved).\n",
    "        inset: Whether or not to plot the inset.\n",
    "    Returns:\n",
    "        A dataframe with the R^2, MAE, and Aitchison distance with pipeline and sampleID.\n",
    "    \"\"\"\n",
    "    stats_df = pd.DataFrame()\n",
    "\n",
    "    fig = plt.figure(figsize=(10, 10))\n",
    "\n",
    "    # We need to transform the data to clr space before we plot.\n",
    "    plot_df = pd.DataFrame()\n",
    "    for heading, dataframe in input_df.groupby(hue_category):\n",
    "        append_df = pd.DataFrame({\"RA_expected_clr\": clr(multiplicative_replacement(dataframe[\"RA_expected\"])), \"RA_observed_clr\": clr(multiplicative_replacement(dataframe[\"RA_observed\"])), \"Source_observed\": heading})\n",
    "        plot_df = plot_df.append(append_df)\n",
    "\n",
    "    display(plot_df.head())\n",
    "\n",
    "    ax = sns.lmplot(x=\"RA_expected_clr\", y=\"RA_observed_clr\", hue=hue_category, col=hue_category, col_wrap=2, data=plot_df, fit_reg=False, height=7, aspect=1, ci=None, palette=colors)\n",
    "\n",
    "    # Make this a log-log plot.\n",
    "    # ax.set(xscale=\"log\", yscale=\"log\")\n",
    "\n",
    "    # Make linear regression for each pipeline (or sampleID for replicates).\n",
    "\n",
    "    # TODO: Should the linear regression be done on the clr-transformed data?\n",
    "\n",
    "    pipeline_offset = -0.1\n",
    "    for heading, dataframe in plot_df.groupby(hue_category):\n",
    "        # TODO: Perturb these values.\n",
    "        x = dataframe[\"RA_expected_clr\"].values.reshape(-1, 1)\n",
    "        y = dataframe[\"RA_observed_clr\"].values.reshape(-1, 1)\n",
    "\n",
    "        # We should probably perturb the x and y the same way we do the Aitchison values. \n",
    "        # For now, we will calculate the linear regression on the original values.\n",
    "        reg, y_pred = linear_regression(x, y)\n",
    "\n",
    "        # Calculate R^2.\n",
    "        r2 = reg.score(x, y)\n",
    "\n",
    "        # Add r^2\n",
    "        plt.text(0.0, pipeline_offset, f'r\\u00b2 = {r2:.4f} for {heading}', transform=plt.gca().transAxes)\n",
    "\n",
    "        # Calculate MAE.\n",
    "        mae = np.mean(np.abs(x - y))\n",
    "\n",
    "        # Add MAE\n",
    "        plt.text(0.3, pipeline_offset, f'MAE = {mae:.4f} for {heading}', transform=plt.gca().transAxes)\n",
    "\n",
    "        # Add the aitchison distance.\n",
    "        try: \n",
    "            # The constant value should be one order of magnitude smaller than the smallest NONZERO in the dataframe.\n",
    "            minimum = dataframe['RA_expected_clr']\n",
    "            minimum = minimum[minimum > 0]\n",
    "            minimum = minimum.min() / 10\n",
    "\n",
    "            print(f\"Minimum: {minimum}\")\n",
    "\n",
    "            # dataframe['RA_exp_adj'], dataframe['RA_obs_adj'] = multiplicative_replacement(dataframe['RA_expected'].values, delta=minimum), multiplicative_replacement(dataframe['RA_observed'].values, delta=minimum)\n",
    "            # debug_df = pd.DataFrame({'x': a_x, 'y': a_y})\n",
    "            # dataframe.to_csv(\"aitchison.csv\", mode='a', index=True)\n",
    "\n",
    "            # a_d = multiplicative_aitchison(dataframe['RA_expected'].values, dataframe['RA_observed'].values, delta=minimum)\n",
    "            a_d = euclidean(dataframe['RA_expected_clr'].values, dataframe['RA_observed_clr'].values)\n",
    "            plt.text(0.7, pipeline_offset, f'Aitchison = {a_d:.4f} for {heading}', transform=plt.gca().transAxes)\n",
    "\n",
    "            # Make a dataframe with sampleID as the index and the R^2, MAE, and Aitchison distance as the columns.\n",
    "            stats = {'R^2': r2, 'MAE': mae, 'Aitchison': a_d}\n",
    "            stats_df = pd.concat([stats_df, pd.DataFrame(stats, index=[heading])])\n",
    "\n",
    "\n",
    "        except ValueError as e:\n",
    "            print(f\"ValueError: {e}\")\n",
    "            # If there is a zero in the data, we cannot calculate the aitchison distance.\n",
    "            plt.text(0.7, pipeline_offset, f'Aitchison = N/A for {heading}', transform=plt.gca().transAxes)\n",
    "\n",
    "            # s = pd.Series({'SampleID': sample_id, 'Pipeline': heading, 'R^2': r2, 'MAE': mae, 'Aitchison': np.nan}) \n",
    "            # stats_df = pd.concat([stats_df, s], ignore_index=True)\n",
    "\n",
    "        # Add the bray-curtis distance.\n",
    "        try: \n",
    "            a_d = 1 - braycurtis(dataframe['RA_expected_clr'].values, dataframe['RA_observed_clr'].values)\n",
    "            plt.text(1.1, pipeline_offset, f'1-BC = {a_d:.4f} for {heading}', transform=plt.gca().transAxes)\n",
    "        except ValueError:\n",
    "            plt.text(1.1, pipeline_offset, f'1-BC = N/A for {heading}', transform=plt.gca().transAxes)\n",
    "\n",
    "        # Calculate relative entropy using scipy.special.rel_entr\n",
    "        # Not sure if this works since sometimes the observed is smaller than the expected.\n",
    "        # re = rel_entr(dataframe['RA_expected'], dataframe['RA_observed']).sum()\n",
    "        # print(re)\n",
    "        # Add relative entropy\n",
    "        # plt.text(0.7, pipeline_offset, f'Relative Entropy = {re:.4f} for {heading}', transform=plt.gca().transAxes)\n",
    "\n",
    "        # Move the offset down. \n",
    "        pipeline_offset -= 0.05\n",
    "\n",
    "    # Add title.\n",
    "    ax.fig.suptitle(title)\n",
    "\n",
    "    # Add y = x line.\n",
    "    ## Get the max x and max y values.\n",
    "    max_x = plot_df['RA_expected_clr'].max()\n",
    "    max_y = plot_df['RA_observed_clr'].max()\n",
    "    max_val = max(max_x, max_y)\n",
    "    \n",
    "    # Plot a line from (0, 0) to (max_x+0.1, max_y+0.1)\n",
    "    # plt.plot([0, max_val + 0.01], [0, max_val + 0.01], ls=\"--\", c=\".3\")\n",
    "\n",
    "    # Plot a line from (0, 0) to (max_x+0.1, max_y+0.1) on all facets.\n",
    "    for a in plt.gcf().axes:\n",
    "        a.plot([0, max_val + 0.01], [0, max_val + 0.01], ls=\"--\", c=\".3\")\n",
    "\n",
    "    # Add an inset for the x values between 0 and 0.05.\n",
    "    if inset:\n",
    "        pass\n",
    "        # left, bottom, width, height = [0.65, 0.15, 0.25, 0.25]\n",
    "        # ax2 = ax.fig.add_axes([left, bottom, width, height])\n",
    "        # ax2 = sns.scatterplot(x=\"RA_expected\", y=\"RA_observed\", hue=hue_category, data=input_df, ax=ax2, legend=False, palette=colors)\n",
    "        # ax2.set_xlim(-0.001, 0.02)\n",
    "        # ax2.set_ylim(-0.001, 0.02)\n",
    "        # ax2.set_title(\"Zoomed In\")\n",
    "\n",
    "    if save_path is not None:\n",
    "        pdf_output.savefig(ax.figure, bbox_inches='tight', dpi=300)\n",
    "        plt.close(ax.figure)\n",
    "        \n",
    "\n",
    "    return stats_df"
   ]
  },
  {
   "cell_type": "code",
<<<<<<< HEAD
   "execution_count": null,
=======
   "execution_count": 219,
>>>>>>> 6871c6480b244137eab1de6828ced59b2e39e92b
   "metadata": {},
   "outputs": [],
   "source": [
    "def linear_plot_log(input_df: pd.DataFrame, title, sample_id, hue_category=\"Source_observed\", save_path=None):\n",
    "    # We want to plot the x and y axis on a log scale.\n",
    "    fig = plt.figure(figsize=(20, 20))\n",
    "    ax = sns.lmplot(x=\"RA_expected\", y=\"RA_observed\", hue=hue_category, data=input_df, fit_reg=True, height=7, aspect=11/7, ci=None, truncate=True)\n",
    "    # ax.set(xscale=\"symlog\", yscale=\"symlog\")"
   ]
  },
  {
   "cell_type": "code",
<<<<<<< HEAD
   "execution_count": null,
=======
   "execution_count": 220,
>>>>>>> 6871c6480b244137eab1de6828ced59b2e39e92b
   "metadata": {},
   "outputs": [],
   "source": [
    "# Since the sampleID and pipeline are changed depending on the hue color (for replicates), we need to change it here.\n",
    "def cleanup_bivariate_stats(df: pd.DataFrame, sampleID: str):\n",
    "    # We need to add a column equal to sampleID.\n",
    "    df['SampleID'] = sampleID\n",
    "\n",
    "    # Pop the old index.\n",
    "    df.reset_index(inplace=True)\n",
    "\n",
    "    # Set the index as the sampleID.\n",
    "    df.set_index(['SampleID'], inplace=True)\n",
    "\n",
    "    # We need to rename the \"index\" column to pipeline.\n",
    "    df.rename(columns={'index': 'Pipeline'}, inplace=True)\n",
    "\n",
    "    return df"
   ]
  },
  {
   "cell_type": "code",
<<<<<<< HEAD
   "execution_count": null,
=======
   "execution_count": 221,
>>>>>>> 6871c6480b244137eab1de6828ced59b2e39e92b
   "metadata": {},
   "outputs": [],
   "source": [
    "\n",
    "# Convert from Genus, RA, Source, SampleID to Genus RA_x, RA_y, Source, SampleID.\n",
    "def convert_to_bivariate(root_dir: str, save_path=None, inset=False, rank=None, threshold = 5e-5) -> pd.DataFrame:\n",
    "    if rank is None:\n",
    "        raise Exception(\"Rank cannot be None.\")\n",
    "\n",
    "    df = fully_combined(root_dir, rank=rank)\n",
    "\n",
    "    combined_stats = pd.DataFrame()\n",
    "    for sample, sample_df in df.groupby('SampleID'):\n",
    "        bivariate_df = pd.DataFrame()\n",
    "        # Get the expected dataframe.\n",
    "        expected = sample_df[sample_df['Source'] == 'Expected']\n",
    "\n",
    "        # Get the dirname of the root directory.\n",
    "        dirname = root_dir.split('/')[-1]\n",
    "        # print(dirname)\n",
    "\n",
    "        # Get the experimental dataframe.\n",
    "        experimental = sample_df[(sample_df['Source'] != 'Expected') & (sample_df['Source'] != dirname)]\n",
    "        # display(expected)\n",
    "        # display(experimental)\n",
    "\n",
    "        # We want to join outer on the expected dataframe after grouping by source. This will show the missing values from the expected.\n",
    "        for source, source_df in experimental.groupby('Source'):\n",
    "            # Merge the expected and experimental dataframes.\n",
    "\n",
    "            merged = join_left(expected, source_df, source_name=source, sampleID=sample)\n",
    "            # merged = join_outer(expected, source_df, source_name=source, threshold=threshold)\n",
    "\n",
    "            bivariate_df = pd.concat([bivariate_df, merged], axis=0)\n",
    "\n",
    "        # Add the merged dataframe to the bivariate dataframe.\n",
    "        # bivariate_df.to_csv('bmock12.csv', header=True)\n",
    "\n",
    "        title = f\"Bivariate Linear Regression for Sample {sample} in Experiment {dirname} ({rank})\"\n",
    "\n",
    "        # bivariate_df = bivariate_df.sort_values(by='RA_expected', ascending=False).head(30)\n",
    "        if save_path is not None:\n",
    "            stats_df = linear_plot(bivariate_df, title, sample, hue_category=\"Source_observed\", save_path=os.path.join(root_dir, f\"{sample}_linear_{rank}_all.png\"), inset=inset)\n",
    "            stats_df = cleanup_bivariate_stats(stats_df, sample)\n",
    "\n",
    "            combined_stats = pd.concat([combined_stats, stats_df], axis=0)\n",
    "        else:\n",
    "            stats_df = linear_plot(bivariate_df, title, sample, hue_category=\"Source_observed\", save_path=None)\n",
    "            stats_df = cleanup_bivariate_stats(stats_df, sample)\n",
    "\n",
    "            combined_stats = pd.concat([combined_stats, stats_df], axis=0)\n",
    "\n",
    "    return combined_stats\n",
    "# bivariate_df = convert_to_bivariate(fully_combined())"
   ]
  },
  {
   "cell_type": "markdown",
   "metadata": {},
   "source": [
    "## Multiple Samples (Replicates) with One Expected"
   ]
  },
  {
   "cell_type": "code",
<<<<<<< HEAD
   "execution_count": null,
=======
   "execution_count": 222,
>>>>>>> 6871c6480b244137eab1de6828ced59b2e39e92b
   "metadata": {},
   "outputs": [],
   "source": [
    "# This function is used for multiple samples from the same pipeline against the same expected.\n",
    "def plot_many_versus_expected(root_dir, output_dir, in_df, rank, threshold):\n",
    "    expected = in_df[in_df['Source'] == 'Expected']\n",
    "    experimental = in_df[in_df['Source'] != 'Expected']\n",
    "\n",
    "    dirname = root_dir.split('/')[-1]\n",
    "    for pipeline, df in experimental.groupby('Source'):\n",
    "        # print(pipeline)\n",
    "        if pipeline == 'Expected':\n",
    "            raise Exception(\"Pipeline should not be Expected.\")\n",
    "        \n",
    "        if pipeline != dirname:\n",
    "            fig = plt.figure(figsize=(15, 12))\n",
    "\n",
    "            df = df.where(df['RA'] > threshold).dropna()\n",
    "\n",
    "            # display(df.head())\n",
    "\n",
    "            # Add the expected dataframe to the combined dataframe.\n",
    "            merged = pd.concat([expected, df], axis=0)\n",
    "\n",
    "            # Sample names change, so we can just use the same set of colors rather than having to change them.\n",
    "            ax = sns.barplot(x=merged.index, y='RA', hue=\"SampleID\", data=merged, errorbar=None, log=True, palette=cb_palette)\n",
    "            ticks = [0.001, 0.01, 0.10]\n",
    "            ax.set_yticks(ticks)\n",
    "            ax.set_yticklabels(ticks)\n",
    "            # ax.bar_label(ax.containers[0], fmt='%.2e', label_type='center')\n",
    "            # ax.bar_label(ax.containers[1], fmt='%.2e', label_type='edge')\n",
    "\n",
    "            ax.set_xticklabels(fix_x_labels(ax=ax, df=merged, rank=rank), rotation=45, horizontalalignment='right')\n",
    "            # ax.set_xticklabels(ax.get_xticklabels(), rotation=45, horizontalalignment='right')\n",
    "\n",
    "            title = f\"Expected vs. Observed Relative Abundance for {rank} using {pipeline} in Experiment {dirname}\"\n",
    "            ax.set_title(title)\n",
    "            ax.set_xlabel(rank)\n",
    "            ax.set_ylabel('Relative Abundance')\n",
    "\n",
    "            pdf_output.savefig(fig, bbox_inches='tight', dpi=300)\n",
    "            plt.close(fig)\n",
    "            # plt.savefig(os.path.join(output_dir, f\"{pipeline}\", f\"{pipeline}_bars.png\"), dpi=300, bbox_inches='tight')\n",
    "        else:\n",
    "            continue\n",
    "\n",
    "# plot_many_versus_expected(root_dir, fully_combined(), \"genus\")"
   ]
  },
  {
   "cell_type": "code",
<<<<<<< HEAD
   "execution_count": null,
=======
   "execution_count": 223,
>>>>>>> 6871c6480b244137eab1de6828ced59b2e39e92b
   "metadata": {},
   "outputs": [],
   "source": [
    "# This function will plot the expected vs. observed for each sample in each pipeline.\n",
    "# There is only one expected value for each sample since they are replicates.\n",
    "# This will be a bivariate plot.\n",
    "def plot_many_versus_expected_bivariate(root_dir, observed_df, expected_df, rank, inset, threshold) -> pd.DataFrame:\n",
    "    \"\"\"\n",
    "    This function will plot the expected vs. observed for each sample in each pipeline. \n",
    "    There is only one expected value for each sample since they are replicates. \n",
    "    This will be a bivariate plot that will include MAE, r^2 and Aitchison distance.\n",
    "\n",
    "    Parameters\n",
    "    ----------\n",
    "    root_dir : str\n",
    "        The root directory of the pipeline.\n",
    "    observed_df : pd.DataFrame\n",
    "        The observed dataframe.\n",
    "    expected_df : pd.DataFrame\n",
    "        The expected dataframe.\n",
    "    rank : str\n",
    "        The taxonomic rank.\n",
    "    inset : bool\n",
    "        Whether or not to include an inset plot.\n",
    "\n",
    "    Returns\n",
    "    -------\n",
    "    pd.DataFrame\n",
    "        A dataframe containing the statistics for each sample.\n",
    "    \"\"\"\n",
    "    # First, we need to make a df of observed vs. expected for each sample.\n",
    "    combined_stats = pd.DataFrame()\n",
    "    for pipeline, pipeline_df in observed_df.groupby(\"Source\"):\n",
    "            # Plotting expected vs expected is useless.\n",
    "            if pipeline == \"tourlousse\" or pipeline == \"Expected\":\n",
    "                continue\n",
    "\n",
    "            # We are going to merge outer so that we can see which organisms are missing from the expected or are not supposed to be there. \n",
    "            merged = join_left(expected_df, pipeline_df, source_name=pipeline, sampleID=None)\n",
    "            # merged = join_outer(expected_df, pipeline_df, source_name=pipeline, threshold=threshold)\n",
    "\n",
    "            # merged.to_csv(\"bivariate_debug.csv\", mode='a')\n",
    "\n",
    "            save_path = os.path.join(root_dir, pipeline, f\"{pipeline}_bivariate_{rank}_all_samples.png\")\n",
    "            # merged.to_csv(os.path.join(root_dir, pipeline, f\"{pipeline}_bivariate_{rank}_all_samples.csv\"))\n",
    "\n",
    "            exp_name = os.path.basename(root_dir)\n",
    "\n",
    "            # Add amos to the mixed or hilo samples since they are nested.\n",
    "            if exp_name == \"mixed\" or exp_name == \"hilo\":\n",
    "                exp_name = \"Amos \" + exp_name\n",
    "\n",
    "            pipeline_stats = linear_plot(merged, f\"Expected vs. Observed Relative Abundance for {rank} using {pipeline} in Experiment {exp_name}\", pipeline, hue_category=\"SampleID_observed\", save_path=save_path, inset=inset, colors=cb_palette)\n",
    "\n",
    "            # Add pipeline column to the stats dataframe equal to the pipeline name.\n",
    "            pipeline_stats['Pipeline'] = pipeline\n",
    "\n",
    "            # Add the pipeline stats to the combined stats dataframe.\n",
    "            combined_stats = pd.concat([combined_stats, pipeline_stats], axis=0)\n",
    "\n",
    "    return combined_stats\n",
    "\n",
    "# plot_many_versus_expected_bivariate(get_relabund_files(root_dir), get_all_expected(root_dir, \"genus\"), \"genus\")"
   ]
  },
  {
   "cell_type": "markdown",
   "metadata": {},
   "source": [
    "# Run the code here: MAIN."
   ]
  },
  {
   "cell_type": "code",
<<<<<<< HEAD
   "execution_count": null,
=======
   "execution_count": 224,
>>>>>>> 6871c6480b244137eab1de6828ced59b2e39e92b
   "metadata": {},
   "outputs": [],
   "source": [
    "# We can initialize the dataclasses to hold the parameters for each pipeline.\n",
    "@dataclass\n",
    "class Pipeline:\n",
    "    root: str\n",
    "    inset: bool\n",
    "\n",
    "    def __init__(self, root: str, inset: bool):\n",
    "        self.root = root\n",
    "        self.inset = inset\n",
    "\n",
    "bmock12 = Pipeline(\"pipelines/bmock12\", False)\n",
    "camisim = Pipeline(\"pipelines/camisimGI\", True)\n",
    "tourlousse = Pipeline(\"pipelines/tourlousse\", False)\n",
    "amos_hilo = Pipeline(\"pipelines/amos/hilo\", False)\n",
    "amos_mixed = Pipeline(\"pipelines/amos/mixed\", False)\n",
    "\n",
    "# No ending slash for these directories.\n",
    "# root_dirs_one_to_one = [bmock12, camisim]\n",
    "root_dirs_one_to_one = [bmock12]\n",
    "root_dirs_one_to_many = [tourlousse, amos_hilo, amos_mixed]\n",
    "# root_dirs_one_to_many = [amos_mixed]"
   ]
  },
  {
   "cell_type": "code",
<<<<<<< HEAD
   "execution_count": null,
   "metadata": {},
   "outputs": [],
=======
   "execution_count": 225,
   "metadata": {},
   "outputs": [
    {
     "name": "stdout",
     "output_type": "stream",
     "text": [
      "Experiment:  pipelines/bmock12\n"
     ]
    },
    {
     "name": "stderr",
     "output_type": "stream",
     "text": [
      "/var/folders/22/_2115q192kx7c1z764lwhkth898844/T/ipykernel_77537/1721829105.py:28: FutureWarning: The frame.append method is deprecated and will be removed from pandas in a future version. Use pandas.concat instead.\n",
      "  plot_df = plot_df.append(append_df)\n",
      "/var/folders/22/_2115q192kx7c1z764lwhkth898844/T/ipykernel_77537/1721829105.py:28: FutureWarning: The frame.append method is deprecated and will be removed from pandas in a future version. Use pandas.concat instead.\n",
      "  plot_df = plot_df.append(append_df)\n",
      "/var/folders/22/_2115q192kx7c1z764lwhkth898844/T/ipykernel_77537/1721829105.py:28: FutureWarning: The frame.append method is deprecated and will be removed from pandas in a future version. Use pandas.concat instead.\n",
      "  plot_df = plot_df.append(append_df)\n"
     ]
    },
    {
     "data": {
      "text/html": [
       "<div>\n",
       "<style scoped>\n",
       "    .dataframe tbody tr th:only-of-type {\n",
       "        vertical-align: middle;\n",
       "    }\n",
       "\n",
       "    .dataframe tbody tr th {\n",
       "        vertical-align: top;\n",
       "    }\n",
       "\n",
       "    .dataframe thead th {\n",
       "        text-align: right;\n",
       "    }\n",
       "</style>\n",
       "<table border=\"1\" class=\"dataframe\">\n",
       "  <thead>\n",
       "    <tr style=\"text-align: right;\">\n",
       "      <th></th>\n",
       "      <th>RA_expected_clr</th>\n",
       "      <th>RA_observed_clr</th>\n",
       "      <th>Source_observed</th>\n",
       "    </tr>\n",
       "  </thead>\n",
       "  <tbody>\n",
       "    <tr>\n",
       "      <th>0</th>\n",
       "      <td>1.628185</td>\n",
       "      <td>-2.788261</td>\n",
       "      <td>biobakery3</td>\n",
       "    </tr>\n",
       "    <tr>\n",
       "      <th>1</th>\n",
       "      <td>1.045987</td>\n",
       "      <td>-8.301339</td>\n",
       "      <td>biobakery3</td>\n",
       "    </tr>\n",
       "    <tr>\n",
       "      <th>2</th>\n",
       "      <td>0.911507</td>\n",
       "      <td>4.365497</td>\n",
       "      <td>biobakery3</td>\n",
       "    </tr>\n",
       "    <tr>\n",
       "      <th>3</th>\n",
       "      <td>0.427509</td>\n",
       "      <td>0.554128</td>\n",
       "      <td>biobakery3</td>\n",
       "    </tr>\n",
       "    <tr>\n",
       "      <th>4</th>\n",
       "      <td>-0.024708</td>\n",
       "      <td>3.091662</td>\n",
       "      <td>biobakery3</td>\n",
       "    </tr>\n",
       "  </tbody>\n",
       "</table>\n",
       "</div>"
      ],
      "text/plain": [
       "   RA_expected_clr  RA_observed_clr Source_observed\n",
       "0         1.628185        -2.788261      biobakery3\n",
       "1         1.045987        -8.301339      biobakery3\n",
       "2         0.911507         4.365497      biobakery3\n",
       "3         0.427509         0.554128      biobakery3\n",
       "4        -0.024708         3.091662      biobakery3"
      ]
     },
     "metadata": {},
     "output_type": "display_data"
    },
    {
     "name": "stdout",
     "output_type": "stream",
     "text": [
      "Minimum: 0.0427508831357528\n",
      "Minimum: 0.0427508831357528\n",
      "Minimum: 0.0427508831357528\n",
      "Minimum: 0.0427508831357528\n",
      "Minimum: 0.0427508831357528\n"
     ]
    },
    {
     "ename": "KeyError",
     "evalue": "'RA_expected_clr'",
     "output_type": "error",
     "traceback": [
      "\u001b[0;31m---------------------------------------------------------------------------\u001b[0m",
      "\u001b[0;31mKeyError\u001b[0m                                  Traceback (most recent call last)",
      "File \u001b[0;32m~/coding/pipelines/.pipeline_venv/lib/python3.10/site-packages/pandas/core/indexes/base.py:3800\u001b[0m, in \u001b[0;36mIndex.get_loc\u001b[0;34m(self, key, method, tolerance)\u001b[0m\n\u001b[1;32m   3799\u001b[0m \u001b[39mtry\u001b[39;00m:\n\u001b[0;32m-> 3800\u001b[0m     \u001b[39mreturn\u001b[39;00m \u001b[39mself\u001b[39;49m\u001b[39m.\u001b[39;49m_engine\u001b[39m.\u001b[39;49mget_loc(casted_key)\n\u001b[1;32m   3801\u001b[0m \u001b[39mexcept\u001b[39;00m \u001b[39mKeyError\u001b[39;00m \u001b[39mas\u001b[39;00m err:\n",
      "File \u001b[0;32m~/coding/pipelines/.pipeline_venv/lib/python3.10/site-packages/pandas/_libs/index.pyx:138\u001b[0m, in \u001b[0;36mpandas._libs.index.IndexEngine.get_loc\u001b[0;34m()\u001b[0m\n",
      "File \u001b[0;32m~/coding/pipelines/.pipeline_venv/lib/python3.10/site-packages/pandas/_libs/index.pyx:165\u001b[0m, in \u001b[0;36mpandas._libs.index.IndexEngine.get_loc\u001b[0;34m()\u001b[0m\n",
      "File \u001b[0;32mpandas/_libs/hashtable_class_helper.pxi:5745\u001b[0m, in \u001b[0;36mpandas._libs.hashtable.PyObjectHashTable.get_item\u001b[0;34m()\u001b[0m\n",
      "File \u001b[0;32mpandas/_libs/hashtable_class_helper.pxi:5753\u001b[0m, in \u001b[0;36mpandas._libs.hashtable.PyObjectHashTable.get_item\u001b[0;34m()\u001b[0m\n",
      "\u001b[0;31mKeyError\u001b[0m: 'RA_expected_clr'",
      "\nThe above exception was the direct cause of the following exception:\n",
      "\u001b[0;31mKeyError\u001b[0m                                  Traceback (most recent call last)",
      "Cell \u001b[0;32mIn [225], line 27\u001b[0m\n\u001b[1;32m     24\u001b[0m     \u001b[38;5;66;03m# many_to_one()\u001b[39;00m\n\u001b[1;32m     25\u001b[0m     pdf_output\u001b[38;5;241m.\u001b[39mclose()\n\u001b[0;32m---> 27\u001b[0m main()\n",
      "Cell \u001b[0;32mIn [225], line 23\u001b[0m, in \u001b[0;36mmain\u001b[0;34m()\u001b[0m\n\u001b[1;32m     20\u001b[0m         final_stats \u001b[38;5;241m=\u001b[39m plot_many_versus_expected_bivariate(exp\u001b[38;5;241m.\u001b[39mroot, fully_combined(exp\u001b[38;5;241m.\u001b[39mroot, rank\u001b[38;5;241m=\u001b[39m\u001b[38;5;124m\"\u001b[39m\u001b[38;5;124mspecies\u001b[39m\u001b[38;5;124m\"\u001b[39m), get_all_expected(exp\u001b[38;5;241m.\u001b[39mroot, \u001b[38;5;124m\"\u001b[39m\u001b[38;5;124mspecies\u001b[39m\u001b[38;5;124m\"\u001b[39m), \u001b[38;5;124m\"\u001b[39m\u001b[38;5;124mspecies\u001b[39m\u001b[38;5;124m\"\u001b[39m, inset\u001b[38;5;241m=\u001b[39mexp\u001b[38;5;241m.\u001b[39minset, threshold\u001b[38;5;241m=\u001b[39mfiltering_threshold)\n\u001b[1;32m     21\u001b[0m         final_stats\u001b[38;5;241m.\u001b[39mto_csv(os\u001b[38;5;241m.\u001b[39mpath\u001b[38;5;241m.\u001b[39mjoin(exp\u001b[38;5;241m.\u001b[39mroot, \u001b[38;5;124m\"\u001b[39m\u001b[38;5;124mall_stats_replicates.csv\u001b[39m\u001b[38;5;124m\"\u001b[39m), index_label\u001b[38;5;241m=\u001b[39m\u001b[38;5;124m\"\u001b[39m\u001b[38;5;124mSampleID\u001b[39m\u001b[38;5;124m\"\u001b[39m)\n\u001b[0;32m---> 23\u001b[0m \u001b[43mone_to_one\u001b[49m\u001b[43m(\u001b[49m\u001b[43m)\u001b[49m\n\u001b[1;32m     24\u001b[0m \u001b[38;5;66;03m# many_to_one()\u001b[39;00m\n\u001b[1;32m     25\u001b[0m pdf_output\u001b[38;5;241m.\u001b[39mclose()\n",
      "Cell \u001b[0;32mIn [225], line 10\u001b[0m, in \u001b[0;36mmain.<locals>.one_to_one\u001b[0;34m()\u001b[0m\n\u001b[1;32m      8\u001b[0m plot_by_sample(root\u001b[38;5;241m=\u001b[39mexp\u001b[38;5;241m.\u001b[39mroot, output_dir\u001b[38;5;241m=\u001b[39mexp\u001b[38;5;241m.\u001b[39mroot, hue_category\u001b[38;5;241m=\u001b[39m\u001b[38;5;124m\"\u001b[39m\u001b[38;5;124mSource\u001b[39m\u001b[38;5;124m\"\u001b[39m, taxonomic_rank\u001b[38;5;241m=\u001b[39m\u001b[38;5;124m\"\u001b[39m\u001b[38;5;124mGenus\u001b[39m\u001b[38;5;124m\"\u001b[39m, threshold\u001b[38;5;241m=\u001b[39mfiltering_threshold)\n\u001b[1;32m      9\u001b[0m plot_by_sample(root\u001b[38;5;241m=\u001b[39mexp\u001b[38;5;241m.\u001b[39mroot, output_dir\u001b[38;5;241m=\u001b[39mexp\u001b[38;5;241m.\u001b[39mroot, hue_category\u001b[38;5;241m=\u001b[39m\u001b[38;5;124m\"\u001b[39m\u001b[38;5;124mSource\u001b[39m\u001b[38;5;124m\"\u001b[39m, taxonomic_rank\u001b[38;5;241m=\u001b[39m\u001b[38;5;124m\"\u001b[39m\u001b[38;5;124mSpecies\u001b[39m\u001b[38;5;124m\"\u001b[39m, threshold\u001b[38;5;241m=\u001b[39mfiltering_threshold)\n\u001b[0;32m---> 10\u001b[0m final_stats \u001b[38;5;241m=\u001b[39m \u001b[43mconvert_to_bivariate\u001b[49m\u001b[43m(\u001b[49m\u001b[43mexp\u001b[49m\u001b[38;5;241;43m.\u001b[39;49m\u001b[43mroot\u001b[49m\u001b[43m,\u001b[49m\u001b[43m \u001b[49m\u001b[43msave_path\u001b[49m\u001b[38;5;241;43m=\u001b[39;49m\u001b[43mexp\u001b[49m\u001b[38;5;241;43m.\u001b[39;49m\u001b[43mroot\u001b[49m\u001b[43m,\u001b[49m\u001b[43m \u001b[49m\u001b[43minset\u001b[49m\u001b[38;5;241;43m=\u001b[39;49m\u001b[43mexp\u001b[49m\u001b[38;5;241;43m.\u001b[39;49m\u001b[43minset\u001b[49m\u001b[43m,\u001b[49m\u001b[43m \u001b[49m\u001b[43mrank\u001b[49m\u001b[38;5;241;43m=\u001b[39;49m\u001b[38;5;124;43m\"\u001b[39;49m\u001b[38;5;124;43mGenus\u001b[39;49m\u001b[38;5;124;43m\"\u001b[39;49m\u001b[43m,\u001b[49m\u001b[43m \u001b[49m\u001b[43mthreshold\u001b[49m\u001b[38;5;241;43m=\u001b[39;49m\u001b[43mfiltering_threshold\u001b[49m\u001b[43m)\u001b[49m\n\u001b[1;32m     11\u001b[0m final_stats \u001b[38;5;241m=\u001b[39m convert_to_bivariate(exp\u001b[38;5;241m.\u001b[39mroot, save_path\u001b[38;5;241m=\u001b[39mexp\u001b[38;5;241m.\u001b[39mroot, inset\u001b[38;5;241m=\u001b[39mexp\u001b[38;5;241m.\u001b[39minset, rank\u001b[38;5;241m=\u001b[39m\u001b[38;5;124m\"\u001b[39m\u001b[38;5;124mSpecies\u001b[39m\u001b[38;5;124m\"\u001b[39m, threshold\u001b[38;5;241m=\u001b[39mfiltering_threshold)\n\u001b[1;32m     12\u001b[0m final_stats\u001b[38;5;241m.\u001b[39mto_csv(os\u001b[38;5;241m.\u001b[39mpath\u001b[38;5;241m.\u001b[39mjoin(exp\u001b[38;5;241m.\u001b[39mroot, \u001b[38;5;124m\"\u001b[39m\u001b[38;5;124mall_stats_replicates.csv\u001b[39m\u001b[38;5;124m\"\u001b[39m), index_label\u001b[38;5;241m=\u001b[39m\u001b[38;5;124m\"\u001b[39m\u001b[38;5;124mSampleID\u001b[39m\u001b[38;5;124m\"\u001b[39m)\n",
      "Cell \u001b[0;32mIn [221], line 39\u001b[0m, in \u001b[0;36mconvert_to_bivariate\u001b[0;34m(root_dir, save_path, inset, rank, threshold)\u001b[0m\n\u001b[1;32m     37\u001b[0m \u001b[38;5;66;03m# bivariate_df = bivariate_df.sort_values(by='RA_expected', ascending=False).head(30)\u001b[39;00m\n\u001b[1;32m     38\u001b[0m \u001b[38;5;28;01mif\u001b[39;00m save_path \u001b[38;5;129;01mis\u001b[39;00m \u001b[38;5;129;01mnot\u001b[39;00m \u001b[38;5;28;01mNone\u001b[39;00m:\n\u001b[0;32m---> 39\u001b[0m     stats_df \u001b[38;5;241m=\u001b[39m \u001b[43mlinear_plot\u001b[49m\u001b[43m(\u001b[49m\u001b[43mbivariate_df\u001b[49m\u001b[43m,\u001b[49m\u001b[43m \u001b[49m\u001b[43mtitle\u001b[49m\u001b[43m,\u001b[49m\u001b[43m \u001b[49m\u001b[43msample\u001b[49m\u001b[43m,\u001b[49m\u001b[43m \u001b[49m\u001b[43mhue_category\u001b[49m\u001b[38;5;241;43m=\u001b[39;49m\u001b[38;5;124;43m\"\u001b[39;49m\u001b[38;5;124;43mSource_observed\u001b[39;49m\u001b[38;5;124;43m\"\u001b[39;49m\u001b[43m,\u001b[49m\u001b[43m \u001b[49m\u001b[43msave_path\u001b[49m\u001b[38;5;241;43m=\u001b[39;49m\u001b[43mos\u001b[49m\u001b[38;5;241;43m.\u001b[39;49m\u001b[43mpath\u001b[49m\u001b[38;5;241;43m.\u001b[39;49m\u001b[43mjoin\u001b[49m\u001b[43m(\u001b[49m\u001b[43mroot_dir\u001b[49m\u001b[43m,\u001b[49m\u001b[43m \u001b[49m\u001b[38;5;124;43mf\u001b[39;49m\u001b[38;5;124;43m\"\u001b[39;49m\u001b[38;5;132;43;01m{\u001b[39;49;00m\u001b[43msample\u001b[49m\u001b[38;5;132;43;01m}\u001b[39;49;00m\u001b[38;5;124;43m_linear_\u001b[39;49m\u001b[38;5;132;43;01m{\u001b[39;49;00m\u001b[43mrank\u001b[49m\u001b[38;5;132;43;01m}\u001b[39;49;00m\u001b[38;5;124;43m_all.png\u001b[39;49m\u001b[38;5;124;43m\"\u001b[39;49m\u001b[43m)\u001b[49m\u001b[43m,\u001b[49m\u001b[43m \u001b[49m\u001b[43minset\u001b[49m\u001b[38;5;241;43m=\u001b[39;49m\u001b[43minset\u001b[49m\u001b[43m)\u001b[49m\n\u001b[1;32m     40\u001b[0m     stats_df \u001b[38;5;241m=\u001b[39m cleanup_bivariate_stats(stats_df, sample)\n\u001b[1;32m     42\u001b[0m     combined_stats \u001b[38;5;241m=\u001b[39m pd\u001b[38;5;241m.\u001b[39mconcat([combined_stats, stats_df], axis\u001b[38;5;241m=\u001b[39m\u001b[38;5;241m0\u001b[39m)\n",
      "Cell \u001b[0;32mIn [218], line 115\u001b[0m, in \u001b[0;36mlinear_plot\u001b[0;34m(input_df, title, sample_id, hue_category, save_path, inset, colors)\u001b[0m\n\u001b[1;32m    111\u001b[0m ax\u001b[38;5;241m.\u001b[39mfig\u001b[38;5;241m.\u001b[39msuptitle(title)\n\u001b[1;32m    113\u001b[0m \u001b[38;5;66;03m# Add y = x line.\u001b[39;00m\n\u001b[1;32m    114\u001b[0m \u001b[38;5;66;03m## Get the max x and max y values.\u001b[39;00m\n\u001b[0;32m--> 115\u001b[0m max_x \u001b[38;5;241m=\u001b[39m \u001b[43minput_df\u001b[49m\u001b[43m[\u001b[49m\u001b[38;5;124;43m'\u001b[39;49m\u001b[38;5;124;43mRA_expected_clr\u001b[39;49m\u001b[38;5;124;43m'\u001b[39;49m\u001b[43m]\u001b[49m\u001b[38;5;241m.\u001b[39mmax()\n\u001b[1;32m    116\u001b[0m max_y \u001b[38;5;241m=\u001b[39m input_df[\u001b[38;5;124m'\u001b[39m\u001b[38;5;124mRA_observed_clr\u001b[39m\u001b[38;5;124m'\u001b[39m]\u001b[38;5;241m.\u001b[39mmax()\n\u001b[1;32m    117\u001b[0m max_val \u001b[38;5;241m=\u001b[39m \u001b[38;5;28mmax\u001b[39m(max_x, max_y)\n",
      "File \u001b[0;32m~/coding/pipelines/.pipeline_venv/lib/python3.10/site-packages/pandas/core/frame.py:3805\u001b[0m, in \u001b[0;36mDataFrame.__getitem__\u001b[0;34m(self, key)\u001b[0m\n\u001b[1;32m   3803\u001b[0m \u001b[39mif\u001b[39;00m \u001b[39mself\u001b[39m\u001b[39m.\u001b[39mcolumns\u001b[39m.\u001b[39mnlevels \u001b[39m>\u001b[39m \u001b[39m1\u001b[39m:\n\u001b[1;32m   3804\u001b[0m     \u001b[39mreturn\u001b[39;00m \u001b[39mself\u001b[39m\u001b[39m.\u001b[39m_getitem_multilevel(key)\n\u001b[0;32m-> 3805\u001b[0m indexer \u001b[39m=\u001b[39m \u001b[39mself\u001b[39;49m\u001b[39m.\u001b[39;49mcolumns\u001b[39m.\u001b[39;49mget_loc(key)\n\u001b[1;32m   3806\u001b[0m \u001b[39mif\u001b[39;00m is_integer(indexer):\n\u001b[1;32m   3807\u001b[0m     indexer \u001b[39m=\u001b[39m [indexer]\n",
      "File \u001b[0;32m~/coding/pipelines/.pipeline_venv/lib/python3.10/site-packages/pandas/core/indexes/base.py:3802\u001b[0m, in \u001b[0;36mIndex.get_loc\u001b[0;34m(self, key, method, tolerance)\u001b[0m\n\u001b[1;32m   3800\u001b[0m     \u001b[39mreturn\u001b[39;00m \u001b[39mself\u001b[39m\u001b[39m.\u001b[39m_engine\u001b[39m.\u001b[39mget_loc(casted_key)\n\u001b[1;32m   3801\u001b[0m \u001b[39mexcept\u001b[39;00m \u001b[39mKeyError\u001b[39;00m \u001b[39mas\u001b[39;00m err:\n\u001b[0;32m-> 3802\u001b[0m     \u001b[39mraise\u001b[39;00m \u001b[39mKeyError\u001b[39;00m(key) \u001b[39mfrom\u001b[39;00m \u001b[39merr\u001b[39;00m\n\u001b[1;32m   3803\u001b[0m \u001b[39mexcept\u001b[39;00m \u001b[39mTypeError\u001b[39;00m:\n\u001b[1;32m   3804\u001b[0m     \u001b[39m# If we have a listlike key, _check_indexing_error will raise\u001b[39;00m\n\u001b[1;32m   3805\u001b[0m     \u001b[39m#  InvalidIndexError. Otherwise we fall through and re-raise\u001b[39;00m\n\u001b[1;32m   3806\u001b[0m     \u001b[39m#  the TypeError.\u001b[39;00m\n\u001b[1;32m   3807\u001b[0m     \u001b[39mself\u001b[39m\u001b[39m.\u001b[39m_check_indexing_error(key)\n",
      "\u001b[0;31mKeyError\u001b[0m: 'RA_expected_clr'"
     ]
    },
    {
     "data": {
      "text/plain": [
       "<Figure size 1000x1000 with 0 Axes>"
      ]
     },
     "metadata": {},
     "output_type": "display_data"
    },
    {
     "data": {
      "image/png": "iVBORw0KGgoAAAANSUhEUgAABW0AAAi+CAYAAAB96mPyAAAAOXRFWHRTb2Z0d2FyZQBNYXRwbG90bGliIHZlcnNpb24zLjYuMCwgaHR0cHM6Ly9tYXRwbG90bGliLm9yZy89olMNAAAACXBIWXMAAA9hAAAPYQGoP6dpAAEAAElEQVR4nOzde5zM9f////scdmePM3bZdVy7lrKhyKmkELFFByVK6o1KB/SudzpQveksHd7xTkn1jQ68E0mlhHRWokQpJMI6L8uutceZef7+6LfzMXaxu2Z3hr1dL5e9XMzr9Xy9Xo95zczLc+/7nOfLYowxAgAAAAAAAACEBGuwCwAAAAAAAAAA/B9CWwAAAAAAAAAIIYS2AAAAAAAAABBCCG0BAAAAAAAAIIQQ2gIAAAAAAABACCG0BQAAAAAAAIAQQmgLAAAAAAAAACGE0BYAAAAAAAAAQgihLQAAAAAAAACEEEJbADhBQ4YMUd++fYNdRsBU9fOZPn26atWqdcw2Dz/8sNq0aVPufW7evFkWi0WrVq06odpOtdcSAACc+k61/gt90b4ntA8Apw5CWwABkZmZqdtvv12NGzeWw+FQvXr1lJ6erqVLlwa7NJyE7rnnHi1ZsiTYZVSbb7/9Vp07d1bt2rUVGRmptLQ0Pf/888EuCwCAkwZ9UQRSTeuLHm7p0qWy2+0VCq0BVA17sAsAcGro16+fioqK9MYbbyg1NVW7d+/WkiVLtG/fvio9blFRkcLDw6v0GKGouLhYYWFhwS6jysTExCgmJibYZZyw8r4/o6OjNXLkSJ111lmKjo7Wt99+q1tvvVXR0dG65ZZbqqFSAABObvRFqxd90ZNDRd+fBw4c0D/+8Q/16NFDu3fvrsLKAJQHI20BnLADBw7om2++0YQJE3ThhRcqOTlZHTt21JgxY3T55Zf72m3dulVXXHGFYmJi5HQ6NWDAAL/OQFlfB7rrrrvUrVs33+Nu3bpp5MiRuuuuu1SnTh2lp6dLkn777Tddeumlcjqdio2N1QUXXKCNGzf6tnvttdd0xhlnKCIiQmlpaXrppZfK/fx+/fVXde/eXZGRkapdu7ZuueUW5ebmlmr3yCOPKCEhQU6nU7fddpuKiop86+bMmaMzzzzTt4+LLrpIhw4dKld9JV+3mjVrlrp27aqIiAhNmTJFkZGRWrBggV8N77//vmJjY5WXlydJysjI0IABA1SrVi3Fx8friiuu0ObNm33tPR6P7r77btWqVUu1a9fWfffdJ2NMuc/NiZg3b55OO+00RUREKD09XRkZGb51R34lzev16tFHH1WjRo3kcDjUpk0bffrpp6X2uW7dOp133nmKiIhQq1at9NVXX/nWeTwe3XTTTWrSpIkiIyPVvHlzTZo06Zg1rlixQgkJCZowYYKkv9/rN998s+917t69u1avXl2q7tdee01NmjRRRESE3nzzTdWuXVuFhYV+++7bt69uuOEGSdLZZ5+tgQMHqmXLlkpJSdH111+v9PR0ffPNN+U/oQAA1FD0Rf9GX7Ri6Iv+X1+0xG233abrrrtOnTp1Ov4JBFDlCG0BnLCSv0TPmzevVGeghNfr1RVXXKGsrCx99dVXWrx4sTZt2qRrrrmmwsd74403FB4erqVLl+rll1/W9u3b1aVLFzkcDn3++ef66aefdOONN8rtdkuSZsyYobFjx+qJJ57Q2rVr9eSTT+rf//633njjjeMe69ChQ0pPT1dcXJxWrFih2bNn67PPPtPIkSP92i1ZskRr167Vl19+qf/973+aO3euHnnkEUnSzp07NXDgQN14442+NldddZWvQ1re+kaPHq0777xTa9euVf/+/XXppZdq5syZfm1mzJihvn37KioqSsXFxUpPT1dsbKy++eYbLV26VDExMbr44ot9nfjnnntO06dP1+uvv65vv/1WWVlZev/99495TrZu3ep7zY/28+STTx5zH3l5eXriiSf05ptvaunSpTpw4ICuvfbao7afNGmSnnvuOT377LP65ZdflJ6erssvv1wbNmzwa3fvvfdq1KhR+vnnn9WpUydddtllvhE2Xq9XjRo10uzZs/X7779r7NixeuCBB/Tuu++WeczPP/9cPXv21BNPPKH7779fktS/f3/t2bNHCxYs0E8//aS2bduqR48eysrK8m33559/6r333tPcuXO1atUq9e/fXx6PRx9++KGvzZ49e/Txxx/rxhtvLPPYP//8s7777jt17dr1mOcRAADQF5Xoi9IXPfG+6LRp07Rp0yaNGzfumOcOQDUyABAAc+bMMXFxcSYiIsKcd955ZsyYMWb16tW+9YsWLTI2m81s3brVt+y3334zkszy5cuNMcYMHjzYXHHFFX77vfPOO03Xrl19j7t27WrOPvtsvzZjxowxTZo0MUVFRWXW1rRpUzNz5ky/ZY899pjp1KnTcZ/XK6+8YuLi4kxubq5v2ccff2ysVqvZtWuXr+74+Hhz6NAhX5spU6aYmJgY4/F4zE8//WQkmc2bN1eqvr/++stIMhMnTvRr8/7775uYmBjfcbOzs01ERIRZsGCBMcaYt956yzRv3tx4vV7fNoWFhSYyMtIsXLjQGGNM/fr1zdNPP+1bX1xcbBo1alTqdThccXGx2bBhwzF/9u3bd9Ttp02bZiSZZcuW+ZatXbvWSDI//PCDMcaYcePGmdatW/vWN2jQwDzxxBN+++nQoYMZPny43zl66qmnSj2XCRMmHLWWESNGmH79+vkel7wH586da2JiYsw777zjW/fNN98Yp9NpCgoK/PbRtGlTM3XqVF/dYWFhZs+ePX5tbr/9dnPJJZf4Hj/33HMmNTXV77UxxpiGDRua8PBwY7VazaOPPnrUugEAgD/6ovRF6YtWvi/6xx9/mMTERLN+/foynz+A4GBOWwAB0a9fP/Xp00fffPONli1bpgULFujpp5/Wa6+9piFDhmjt2rVKSkpSUlKSb5sWLVqoVq1aWrt2rTp06FDuY7Vr187v8apVq3TBBReUOa/WoUOHtHHjRt10000aNmyYb7nb7ZbL5TrusdauXavWrVsrOjrat6xz587yer1av3696tatK0lq3bq1oqKifG06deqk3NxcZWRkqHXr1urRo4fOPPNMpaenq1evXrr66qsVFxdXofrat2/v97h3794KCwvThx9+qGuvvVbvvfeenE6nLrroIknS6tWr9eeffyo2NtZvu4KCAm3cuFHZ2dnauXOnzjnnHN86u92u9u3bH/NraXa7Xc2aNTvuuTsWu93u95qnpaX53gsdO3b0a5uTk6MdO3aoc+fOfss7d+7s93UwSX5f5Sp5LmvXrvUte/HFF/X6669r69atys/PV1FRUambLPzwww+aP3++5syZ4/cVydWrVys3N1e1a9f2a5+fn+/39cfk5GQlJCT4tRk2bJg6dOig7du3q2HDhpo+fbqGDBkii8Xi1+6bb75Rbm6uli1bptGjR6tZs2YaOHDgkacPAAAcgb4ofdGKoC/6f31Rj8ej6667To888ohOP/30Y5w1ANWN0BZAwERERKhnz57q2bOn/v3vf+vmm2/WuHHjNGTIkHJtb7VaS3XQiouLS7U7vNMqSZGRkUfdZ8l8X6+++qpfh1CSbDZbueo6UTabTYsXL9Z3332nRYsW6YUXXtCDDz6oH374wde5Lk99Rz7v8PBwXX311Zo5c6auvfZazZw5U9dcc43s9r8v7bm5uWrXrp1mzJhRqqYjO3IVsXXrVrVo0eKYbR544AE98MADlT5GVXjnnXd0zz336LnnnlOnTp0UGxurZ555Rj/88INfu6ZNm6p27dp6/fXX1adPH98vYLm5uapfv76+/PLLUvuuVauW799Hvk7S33PWtm7dWm+++aZ69eql3377TR9//HGpdk2aNJEknXnmmdq9e7cefvhhQlsAAMqJvmjZ6IuGhlDtix48eFA//vijfv75Z9+0G16vV8YY2e12LVq0SN27dw/QWQBQEYS2AKpMixYtNG/ePEnSGWecoYyMDGVkZPhGOPz+++86cOCAr9OVkJCgNWvW+O1j1apVx70z7VlnnaU33nijzLvY1q1bVw0aNNCmTZs0aNCgCj+HM844Q9OnT9ehQ4d8HaClS5fKarWqefPmvnarV69Wfn6+r9O+bNkyxcTE+J6rxWJR586d1blzZ40dO1bJycl6//33dffdd59QfYMGDVLPnj3122+/6fPPP9fjjz/uW9e2bVvNmjVLiYmJcjqdZW5fv359/fDDD+rSpYukv0dVlMyPdTQNGjTQqlWrjllXfHz8Mde73W79+OOPvpEM69ev14EDB3TGGWeUaut0OtWgQQMtXbrUb47XpUuXlhoJsWzZslLPpaTzuXTpUp133nkaPny4r/3hoxJK1KlTR3PnzlW3bt00YMAAvfvuuwoLC1Pbtm21a9cu2e12paSkHPP5leXmm2/WxIkTtX37dl100UV+I33K4vV6jzovHwAAOD76ovRFj4a+6P/1RZ1Op3799Ve/ti+99JI+//xzzZkzxzeoAEAQBHVyBgCnhL1795oLL7zQvPXWW2b16tVm06ZN5t133zV169Y1N954ozHGGK/Xa9q0aWMuuOAC89NPP5kffvjBtGvXzm+OsE8//dRYLBbzxhtvmD/++MOMHTvWOJ3OUvOI3XnnnaWOX7t2bXPVVVeZFStWmD/++MO8+eabZt26dcYYY1599VUTGRlpJk2aZNavX29++eUX8/rrr5vnnnvuuM/t0KFDpn79+qZfv37m119/NZ9//rlJTU01gwcP9rUZPHiwiYmJMQMHDjS//fab+fjjj03dunXN6NGjjTHGLFu2zDzxxBNmxYoVZsuWLebdd9814eHh5pNPPilXfSVzZP3888+l6vN6vSYpKcm0bt3aNG3atFTtp512munWrZv5+uuvzaZNm8wXX3xh7rjjDpORkWGMMeapp54y8fHx5v333zdr1641w4YNM7GxscecR+xETZs2zYSFhZmOHTuaZcuWmR9//NGce+655txzz/W1OXIereeff944nU7zzjvvmHXr1pn777/fhIWFmT/++MMY83/nqHHjxmbu3Llm7dq15pZbbjExMTEmMzPTGGPMpEmTjNPpNJ9++qlZv369eeihh4zT6fQ7zuFz2e3cudOkpaWZfv36meLiYuP1es35559vWrdubRYuXGj++usvs3TpUvPAAw+YFStWlFn34Q4cOGCioqJMeHi43/xkxhgzefJk8+GHH5o//vjD/PHHH+a1114zsbGx5sEHHzzBsw0AwKmPvih90YqgL1q6L3ok5rQFQgOhLYATVlBQYEaPHm3atm1rXC6XiYqKMs2bNzcPPfSQycvL87XbsmWLufzyy010dLSJjY01/fv3991AocTYsWNN3bp1jcvlMv/617/MyJEjj9tRNsaY1atXm169epmoqCgTGxtrLrjgArNx40bf+hkzZpg2bdqY8PBwExcXZ7p06WLmzp1bruf3yy+/mAsvvNBERESY+Ph4M2zYMHPw4EHf+pLO1dixY03t2rVNTEyMGTZsmO8mAb///rtJT083CQkJxuFwmNNPP9288MILfsc4Vn3H6igbY8x9991nJJmxY8eWWrdz507zj3/8w9SpU8c4HA6Tmppqhg0bZrKzs40xf98g4c477zROp9PUqlXL3H333eYf//hHlXeUXS6Xee+990xqaqpxOBzmoosuMlu2bPG1ObKj6PF4zMMPP2waNmxowsLCTOvWrX03uTDm/87RzJkzTceOHU14eLhp0aKF+fzzz31tCgoKzJAhQ4zL5TK1atUyt99+uxk9evRRO8rGGLNjxw5z+umnmwEDBhi3221ycnLMHXfcYRo0aGDCwsJMUlKSGTRokO+mJsfr4N5www0mPj6+1A0k/vvf/5qWLVuaqKgo43Q6zdlnn21eeukl4/F4Knh2AQCoeeiL0hetCPqipfuiRyK0BUKDxZhjzPANAAACpkePHmrZsqX++9//BrsUAAAA1DD0RYGTC6EtAABVbP/+/fryyy919dVX6/fff/ebgw4AAACoSvRFgZOTNdgFAEAwPfnkk4qJiSnz55JLLgl2eThFnH322RoyZIgmTJhAJxkAAPjQF0V1oC8KnJwYaQugRsvKylJWVlaZ6yIjI9WwYcNqrggAAAA1BX1RAMDRENoCAAAAAAAAQAhhegQAAAAAAAAACCGEtgAAAAAAAAAQQmpUaGuMUU5OjpgRAgAAAMFAfxQAAADlUaNC24MHD8rlcungwYPBLgUAAAA1EP1RAAAAlEeNCm0BAAAAAAAAINQR2gIAAAAAAABACCG0BQAAAAAAAIAQQmgLAAAAAAAAACGE0BYAAAAAAAAAQgihLQAAAAAAAACEEEJbAAAAAAAAAAghhLYAgHKxWCx6+OGHg3Lshx9+WBaLJSjHPhEna93wF8z3/qeffqo2bdooIiJCFotFBw4cCEodJ4Ngvk4nguuEvy+//FIWi0VffvllsEsJKIvFopEjRwa7jAoL1bp79+6tYcOGBbuMKvXyyy+rcePGKiwsDHYpAIAgIbQFgBpq+vTpslgsfj+JiYm68MILtWDBgmCXFzAvvfSSpk+fHvD9duvWTa1atQr4fkNJSkqK3/sjOjpaHTt21Jtvvhns0mqEffv2acCAAYqMjNSLL76ot956S9HR0VV6zF9//VVXX321kpOTFRERoYYNG6pnz5564YUXqvS4oaioqEiTJk3S2WefLafTqVq1aqlly5a65ZZbtG7dOl+73NxcjRs3ThdffLHi4+NlsViq5JpTXps3by51bT/856mnngpabaeSmTNnauLEicEuI2RMmTJF/fv3V+PGjWWxWDRkyJAy2y1ZskQ33nijTj/9dEVFRSk1NVU333yzdu7cWe5jLV26VIsWLdL9999fat2ePXs0evRonXnmmYqJiVFERISaNWumoUOH6ttvv63s0wuKIUOGqKioSFOnTg12KQCAILEHuwAAQHA9+uijatKkiYwx2r17t6ZPn67evXvro48+0qWXXuprl5+fL7s9OP9tPPTQQxo9enSltn3ppZdUp06do/4CWZVOpO5Q0aZNG40aNUqStHPnTr322msaPHiwCgsLT/lRTiWC9d5fsWKFDh48qMcee0wXXXRRlR/vu+++04UXXqjGjRtr2LBhqlevnjIyMrRs2TJNmjRJd9xxR5XXEEr69eunBQsWaODAgRo2bJiKi4u1bt06zZ8/X+edd57S0tIkSXv37tWjjz6qxo0bq3Xr1hUeIVpV14mBAweqd+/epZafffbZAT9WIHXp0kX5+fkKDw8PdinHNHPmTK1Zs0Z33XVXsEsJCRMmTNDBgwfVsWPHYwaw999/v7KystS/f3+ddtpp2rRpkyZPnqz58+dr1apVqlev3nGP9cwzz6hHjx5q1qyZ3/Lly5erT58+OnjwoK699lrddtttcjgc+uuvvzRv3jxNnz5dX331lbp06XLCz7c6REREaPDgwfrPf/6jO+64gxH5AFADEdoCQA13ySWXqH379r7HN910k+rWrav//e9/fqFtREREtdd26NAhRUdHy263By0wPhGhXrfb7ZbX6z1mONKwYUNdf/31vsdDhgxRamqqnn/++WoPbUveD9UtGO996e8RY5JUq1atgO3zWOfwiSeekMvl0ooVK0ods6SWmmLFihWaP3++nnjiCT3wwAN+6yZPnuw3TUX9+vW1c+dO1atXTz/++KM6dOhQoWNV1XWibdu2fp/dUFdQUKDw8HBZrdagfeZQeV999ZVvlG1MTMxR2/3nP//R+eefL6v1/77wefHFF6tr166aPHmyHn/88WMeZ8+ePfr444/18ssv+y3fv3+/+vbtK7vdrlWrVvn+qFLi8ccf1zvvvKPIyMhKPLvgGTBggJ5++ml98cUX6t69e7DLAQBUM6ZHAAD4qVWrliIjI0uFCIfPFzlnzhxZLBZ99dVXpbafOnWqLBaL1qxZI0n65ZdffEFfRESE6tWrpxtvvFH79u3z265kXsfff/9d1113neLi4nT++ef7rTvctGnT1L17dyUmJsrhcKhFixaaMmWKX5uUlBT99ttv+uqrr3xfDe7WrZtv/YEDB3TXXXcpKSlJDodDzZo104QJE+T1eit17o5UVt0l8wPOmzdPrVq1ksPhUMuWLfXpp5+W2n779u268cYbVbduXV+7119/3a9NUVGRxo4dq3bt2snlcik6OloXXHCBvvjiC792JV+ZfvbZZzVx4kQ1bdpUDodDv//+e4WeU0JCgtLS0rRx40a/5V6vVxMnTlTLli0VERGhunXr6tZbb9X+/ftLtXv44YfVoEEDRUVF6cILL9Tvv/+ulJQUv9HQJdN3fPXVVxo+fLgSExPVqFEj3/oFCxboggsuUHR0tGJjY9WnTx/99ttvfsfatWuXhg4dqkaNGsnhcKh+/fq64oortHnzZl+bH3/8Uenp6apTp44iIyPVpEkT3XjjjX77KWuu1J9//lmXXHKJnE6nYmJi1KNHDy1btsyvTclzWLp0qe6++24lJCQoOjpaV155pTIzM495nrt166bBgwdLkjp06FDq68azZ89Wu3btFBkZqTp16uj666/X9u3b/fYxZMgQxcTEaOPGjerdu7diY2M1aNCgox5z48aNatmyZZkhcWJiot/j8nz+pL8/g5deeqm+/PJLtW/fXpGRkTrzzDN9o1Hnzp2rM888UxEREWrXrp1+/vnnMp/Dpk2blJ6erujoaDVo0ECPPvqojDHHOoWSyvcZOtq5kKTOnTuXWmez2VS7dm3fY4fDUa7RgUdzoteJyvr8889ltVo1duxYv+UzZ86UxWLxez1L6pkxY4aaN2/ue72+/vrrUvstzzkvmbf2nXfe0UMPPaSGDRsqKipKOTk5Zc5pWzIdzS+//KKuXbsqKipKzZo105w5cyT9HRiec845ioyMVPPmzfXZZ5+dUF3vvvuunnjiCTVq1EgRERHq0aOH/vzzT796Pv74Y23ZssX3f0tKSkq5zvvxzmHJ++GPP/7Q9ddfL5fLpYSEBP373/+WMUYZGRm64oor5HQ6Va9ePT333HOljrFnzx7fH2AjIiLUunVrvfHGG6Xaeb1eTZo0yfcZTEhI0MUXX6wff/zxmM/h8ccfl9Vq9Zs2JTk5uVwjQbt06eIX2JYsi4+P19q1a4+7/ccffyy3213q2wcvv/yydu7cqYkTJ5YKbKW/38MDBw4s9UeVQL4vJJX6v6xEt27d/PofkvTCCy+oZcuWioqKUlxcnNq3b6+ZM2f6tWnXrp3i4+P1wQcfHO/UAABOQaE7/AcAUC2ys7O1d+9eGWO0Z88evfDCC8rNzT3mCK0+ffooJiZG7777rrp27eq3btasWWrZsqVvvtfFixdr06ZNGjp0qOrVq6fffvtNr7zyin777TctW7as1C95JV+ZfPLJJ48ZykyZMkUtW7bU5ZdfLrvdro8++kjDhw+X1+vViBEjJEkTJ07UHXfcoZiYGD344IOSpLp160qS8vLy1LVrV23fvl233nqrGjdurO+++05jxozx/eJXVb799lvNnTtXw4cPV2xsrP773/+qX79+2rp1qy8M2r17t84991xfWJKQkKAFCxbopptuUk5Oju8ruTk5OXrttdd8X+E+ePCg/t//+39KT0/X8uXL1aZNG79jT5s2TQUFBbrlllvkcDgUHx9fodrdbre2bdumuLg4v+W33nqrpk+frqFDh+qf//yn/vrrL02ePFk///yzli5dqrCwMEnSmDFj9PTTT+uyyy5Tenq6Vq9erfT0dBUUFJR5vOHDhyshIUFjx47VoUOHJElvvfWWBg8erPT0dE2YMEF5eXmaMmWKzj//fP3888++8KRfv3767bffdMcddyglJUV79uzR4sWLtXXrVt/jXr16KSEhQaNHj1atWrW0efNmzZ0795jn4LffftMFF1wgp9Op++67T2FhYZo6daq6devmC48Od8cddyguLk7jxo3T5s2bNXHiRI0cOVKzZs066jEefPBBNW/eXK+88opvCpOmTZtKku88d+jQQePHj9fu3bs1adIkLV26VD///LNf6Op2u5Wenq7zzz9fzz77rKKioo56zOTkZH3//fdas2bNcedrLs/nr8Sff/6p6667Trfeequuv/56Pfvss7rsssv08ssv64EHHtDw4cMlSePHj9eAAQO0fv16v1DH4/Ho4osv1rnnnqunn35an376qcaNGye3261HH330qDWW9zN0tHMh/R2wde7cOSgj5stznTiWvLw87d27t9TyWrVqyW63q3v37ho+fLjGjx+vvn37qm3bttq5c6fuuOMOXXTRRbrtttv8tvvqq680a9Ys/fOf/5TD4dBLL72kiy++WMuXL/e9Xyp6zh977DGFh4frnnvuUWFh4TFH/e/fv1+XXnqprr32WvXv319TpkzRtddeqxkzZuiuu+7Sbbfdpuuuu07PPPOMrr76amVkZCg2NrZSdT311FOyWq265557lJ2draefflqDBg3SDz/8IOnvz2d2dra2bdum559/XpKOObq0IuewxDXXXKMzzjhDTz31lD7++GM9/vjjio+P19SpU9W9e3dNmDBBM2bM0D333KMOHTr4vvKfn5+vbt266c8//9TIkSPVpEkTzZ49W0OGDNGBAwd05513+o5x0003afr06brkkkt08803y+1265tvvtGyZcv8voFzuIceekhPPvmkpk6dGrBvW+Tm5io3N1d16tQ5btvvvvtOtWvX9n1GS3z00UeKjIzUVVddVe7jBvp9URGvvvqq/vnPf+rqq6/WnXfeqYKCAv3yyy/64YcfdN111/m1bdu2rZYuXVrhYwAATgGmBsnOzjaSTHZ2drBLAYCgmzZtmpFU6sfhcJjp06eXai/JjBs3zvd44MCBJjEx0bjdbt+ynTt3GqvVah599FHfsry8vFL7+t///mckma+//tq3bNy4cUaSGThwYKn2JesOV9Z+09PTTWpqqt+yli1bmq5du5Zq+9hjj5no6Gjzxx9/+C0fPXq0sdlsZuvWraW2OVzXrl1Ny5Ytj9mmrLolmfDwcPPnn3/6lq1evdpIMi+88IJv2U033WTq169v9u7d67f9tddea1wul+/5u91uU1hY6Ndm//79pm7duubGG2/0Lfvrr7+MJON0Os2ePXuOWXeJ5ORk06tXL5OZmWkyMzPNr7/+am644QYjyYwYMcLX7ptvvjGSzIwZM/y2//TTT/2W79q1y9jtdtO3b1+/dg8//LCRZAYPHuxbVvL+PP/88/3eYwcPHjS1atUyw4YN89vHrl27jMvl8i3fv3+/kWSeeeaZoz6/999/30gyK1asOOZ5OPK937dvXxMeHm42btzoW7Zjxw4TGxtrunTpUuo5XHTRRcbr9fqW/+tf/zI2m80cOHDgmMct2f7w+oqKikxiYqJp1aqVyc/P9y2fP3++kWTGjh3rWzZ48GAjyYwePfqYxymxaNEiY7PZjM1mM506dTL33XefWbhwoSkqKirVtryfv+TkZCPJfPfdd75lCxcuNJJMZGSk2bJli2/51KlTjSTzxRdflHoOd9xxh2+Z1+s1ffr0MeHh4SYzM9O3/MjXqbyfobJ4vV7TtWtXI8nUrVvXDBw40Lz44ot+9ZZlxYoVRpKZNm3aUdsc2R89ketEWUo+60f7+f77731tDx06ZJo1a2ZatmxpCgoKTJ8+fYzT6Sz1PEu2/fHHH33LtmzZYiIiIsyVV17pW1bec/7FF18YSSY1NbXU61Cy7vD3QclrMXPmTN+ydevWGUnGarWaZcuW+ZaXvL8Ofw0qWtcZZ5zhd12dNGmSkWR+/fVX37I+ffqY5ORkU17lPYcl74dbbrnFt8ztdptGjRoZi8VinnrqKd/y/fv3m8jISL9r58SJE40k8/bbb/uWFRUVmU6dOpmYmBiTk5NjjDHm888/N5LMP//5z1K1Hn69Ovx6P2rUKGO1WsvsIxwuOjrar6bjeeyxx4wks2TJkuO2Pf/88027du1KLY+LizNt2rQptTwnJ8f3f1hmZqbJzc31rauK90VycnKZz71r165+fZErrrjiuH2IErfccouJjIwsV1sAwKmF6REAoIZ78cUXtXjxYi1evFhvv/22LrzwQt18883HHW14zTXXaM+ePX5fYZ0zZ468Xq+uueYa37LD548rKCjQ3r17de6550qSVq5cWWq/R47uOprD91syWrhr167atGmTsrOzj7v97NmzdcEFFyguLk579+71/Vx00UXyeDxlfu03UC666CLfqElJOuuss+R0OrVp0yZJkjFG7733ni677DIZY/zqS09PV3Z2tu/c2Ww23+g0r9errKwsud1utW/fvszz269fPyUkJJS71kWLFikhIUEJCQk688wz9dZbb2no0KF65plnfG1mz54tl8ulnj17+tXarl07xcTE+KZqWLJkidxut29kZYlj3eBq2LBhstlsvseLFy/WgQMHNHDgQL9j2Ww2nXPOOb5jRUZGKjw8XF9++WWpKRpKlIxInT9/voqLi8t1PjwejxYtWqS+ffsqNTXVt7x+/fq67rrr9O233yonJ8dvm1tuucVvRPkFF1wgj8ejLVu2lOuYh/vxxx+1Z88eDR8+3G/ezz59+igtLU0ff/xxqW1uv/32cu27Z8+e+v7773X55Zdr9erVevrpp5Wenq6GDRvqww8/9Gtbkc9fixYt1KlTJ9/jkpHI3bt3V+PGjUstL/kcHG7kyJG+f5eMiisqKirza/BSxT5DZbFYLFq4cKEef/xxxcXF6X//+59GjBih5ORkXXPNNX5z2laV410njueWW27xXdsP/2nRooWvTVRUlKZPn661a9eqS5cu+vjjj/X888/7vS4lOnXqpHbt2vkeN27cWFdccYUWLlwoj8dTqXM+ePDgcs8xGhMTo2uvvdb3uHnz5qpVq5bOOOMMv9HtR76PKlPX0KFD/Ub9XnDBBX77rKzjncPD3Xzzzb5/22w2tW/fXsYY3XTTTb7ltWrVUvPmzf3q+uSTT1SvXj0NHDjQtywsLEz//Oc/lZub65vW6L333pPFYtG4ceNK1XnkN2CMMRo5cqQmTZqkt99+2zd1SyB8/fXXeuSRRzRgwIByzdm6b9++Ut/0kP7+1klZo51vuOEG3/9hCQkJuv/++yUF/31Rq1Ytbdu2TStWrDhu27i4OOXn5ysvL6/CxwEAnNyYHgEAariOHTv6fQ1y4MCBOvvsszVy5EhdeumlR/266sUXXyyXy6VZs2apR48ekv6eGqFNmzY6/fTTfe2ysrL0yCOP6J133il1M6OywtUmTZqUq+6lS5dq3Lhx+v7770v9IpOdnS2Xy3XM7Tds2KBffvnlqAFmVd54qaxAJC4uzhcuZmZm6sCBA3rllVf0yiuvHLe+N954Q88995zWrVvnFz6WdS7Le35LnHPOOXr88cfl8Xi0Zs0aPf7449q/f7/f+2LDhg3Kzs4uNe/pkbWWhJRH3vE7Pj6+zF/Cy6p3w4YNknTUX+6dTqekv+cZnTBhgkaNGqW6devq3HPP1aWXXqp//OMfvvlHu3btqn79+umRRx7R888/r27duqlv37667rrr5HA4ytx/Zmam8vLy1Lx581LrzjjjDHm9XmVkZKhly5a+5Ue+3iXP9Whh8rGUnMOyjp+WlqZvv/3Wb5ndbvebC/h4OnTooLlz56qoqEirV6/W+++/r+eff15XX321Vq1a5Qv8KvL5O/L5l6xLSkoqc/mR58VqtfoF5JJ815jD5yc+XEU/Q2VxOBx68MEH9eCDD2rnzp366quvNGnSJL377rsKCwvT22+/fcztT9TxrhPHc9ppp5Wa97MsnTt31u23364XX3xR6enppeZ0Pnx/Rzr99NOVl5enzMxMWa3WCp/zilyPGjVqVCpMdLlcx30fVea9EMjP7OGOdw4Pnxu5rM9NREREqSkEXC6X3xzxW7Zs0WmnnVZq3tgzzjjDt176e97mBg0alGuKnDfffFO5ubmaMmWKXxh8otatW6crr7xSrVq10muvvVbu7UwZUyfFxsYqNze31PJHH33U90efnj17+pYH+31x//3367PPPlPHjh3VrFkz9erVS9ddd12Z82iXPN/yzBkMADi1ENoCAPxYrVZdeOGFmjRpkjZs2OAXPh3O4XCob9++ev/99/XSSy9p9+7dWrp0qZ588km/dgMGDNB3332ne++9V23atFFMTIy8Xq8uvvjiMm/4VZ5RVxs3blSPHj2Ulpam//znP0pKSlJ4eLg++eQTPf/88+W6kZjX61XPnj113333lbn+8OA50A4fOXq4kl/MSuq//vrrjzqi6ayzzpIkvf322xoyZIj69u2re++9V4mJibLZbBo/fnypm4VJ5Tu/h6tTp44v+ElPT1daWpouvfRSTZo0SXfffbev3sTERM2YMaPMfVRkZO/x6i05N2+99VaZN386fO7Ru+66S5dddpnmzZunhQsX6t///rfGjx+vzz//XGeffbYsFovmzJmjZcuW6aOPPtLChQt144036rnnntOyZcvKNUdleRzv9a5KDoejVHhTHuHh4erQoYM6dOig008/XUOHDtXs2bM1bty4Cn/+jvb8q/K8VOQzVB7169fXtddeq379+qlly5Z69913NX369Cqd67a63jeFhYW+b0xs3LhReXl5x5z7+Ggqc84rcj2q7PuoMnUF8zN7rBqCVVfnzp21atUqTZ48WQMGDKjwXOhlycjIUK9eveRyufTJJ5/45h8+ntq1a5cZkqalpWn16tUqLi72zaEuHf1zXlXvi6MFqx6Px2/7M844Q+vXr9f8+fP16aef6r333tNLL72ksWPH6pFHHvHbdv/+/YqKiqrw/98AgJMfoS0AoBS32y1JZY5aOdw111yjN954Q0uWLNHatWtljPGbGmH//v1asmSJHnnkEb87lJeMlqysjz76SIWFhfrwww/9Rr6UfDX+cEf7Bapp06bKzc0t10i06paQkKDY2Fh5PJ7j1jdnzhylpqZq7ty5fs+1rK+8BkKfPn3UtWtXPfnkk7r11lsVHR2tpk2b6rPPPlPnzp2P+UtlyY1j/vzzT78Rdvv27Sv3SKWSr4snJiaW67Vr2rSpRo0apVGjRmnDhg1q06aNnnvuOb9Rkueee67OPfdcPfHEE5o5c6YGDRqkd955x+/rySUSEhIUFRWl9evXl1q3bt06Wa3WUiP/AqnkHK5fv77UaOP169eXujlPIJSMxN+5c6ekin3+AsHr9WrTpk1+f0j5448/JMl307kjVeQzVBFhYWE666yztGHDBu3du7fMPxycbMaNG6e1a9fq2Wef1f3336/Ro0frv//9b6l2ZV23//jjD0VFRfn+MFMV5/xEVdV7oTKjHstzDk9UcnKyfvnlF3m9Xr8/2Kxbt863Xvr72rhw4UJlZWUdN4Rt1qyZnn76aXXr1k0XX3yxlixZUu6QtSz79u1Tr169VFhYqCVLlqh+/frl3jYtLU3vvfdeqeWXXnqpli1bpvfff18DBgw47n6q6n0RFxdX5vQpW7ZsKfWNgejoaF1zzTW65pprVFRUpKuuukpPPPGExowZ4zf9zV9//eUbKQ0AqFmY0xYA4Ke4uFiLFi1SeHj4cX9JuOiiixQfH69Zs2Zp1qxZ6tixo18YVzKq5MhRQBMnTjyhGsvab3Z2tqZNm1aqbXR0dJm/QA0YMEDff/+9Fi5cWGrdgQMHfMF1MNhsNvXr10/vvfee1qxZU2p9ZmamX1vJ/1z88MMP+v7776usvvvvv1/79u3Tq6++Kunvc+nxePTYY4+Vaut2u33nv0ePHrLb7ZoyZYpfm8mTJ5f72Onp6XI6nXryySfLnIe25Nzk5eWpoKDAb13Tpk0VGxurwsJCSX//UeHI92abNm0kydfmSDabTb169dIHH3zg99X83bt3a+bMmTr//PN9UzRUhfbt2ysxMVEvv/yyX40LFizQ2rVr1adPn0rv+4svvihzxN4nn3wi6f+mZKjI5y9QDn+PGGM0efJkhYWF+aZmOVJFPkNl2bBhg7Zu3Vpq+YEDB/T9998rLi4uYCFbMP3www969tlnddddd2nUqFG69957NXnyZN+8p4f7/vvv/eb4zMjI0AcffKBevXrJZrOd8DmvKlVVV3R0dLnmTz/c8c5hIPTu3Vu7du3SrFmzfMvcbrdeeOEFxcTEqGvXrpL+nt/cGFNqVKdU9sjds846S5988onWrl2ryy67TPn5+ZWq79ChQ+rdu7e2b9+uTz75pMwpI46lU6dO2r9/f6l5ZG+//XbVrVtX//rXv3x/1Dnckc+pqt4XTZs21bJly1RUVORbNn/+fGVkZPi1O3xKC+nvbze0aNFCxphS/7etXLlS5513XqXqAQCc3BhpCwA13IIFC3wjcPbs2aOZM2dqw4YNGj169HHDp7CwMF111VV65513dOjQIT377LN+651Op7p06aKnn35axcXFatiwoRYtWqS//vrrhGru1auXwsPDddlll+nWW29Vbm6uXn31VSUmJvpGA5Zo166dpkyZoscff1zNmjVTYmKiunfvrnvvvVcffvihLr30Ug0ZMkTt2rXToUOH9Ouvv2rOnDnavHlzqbkDj5SZmanHH3+81PImTZpo0KBBJ/Qcn3rqKX3xxRc655xzNGzYMLVo0UJZWVlauXKlPvvsM2VlZUn6e3TR3LlzdeWVV6pPnz7666+/9PLLL6tFixbHHSldWZdccolatWql//znPxoxYoS6du2qW2+9VePHj9eqVavUq1cvhYWFacOGDZo9e7YmTZqkq6++WnXr1tWdd96p5557TpdffrkuvvhirV69WgsWLFCdOnXKNXLN6XRqypQpuuGGG9S2bVtde+21SkhI0NatW/Xxxx+rc+fOmjx5sv744w/16NFDAwYMUIsWLWS32/X+++9r9+7dvpsZvfHGG3rppZd05ZVXqmnTpjp48KBeffVVOZ1O9e7d+6g1PP7441q8eLHOP/98DR8+XHa7XVOnTlVhYaGefvrpgJ3nsoSFhWnChAkaOnSounbtqoEDB2r37t2aNGmSUlJS9K9//avS+77jjjuUl5enK6+8UmlpaSoqKtJ3332nWbNmKSUlRUOHDpVUsc9fIEREROjTTz/V4MGDdc4552jBggX6+OOP9cADDxwzOC3vZ6gsq1ev1nXXXadLLrlEF1xwgeLj47V9+3a98cYb2rFjhyZOnOgXsk2ePFkHDhzQjh07JP09Gnnbtm2S/j6vx5tjuyqsXLmyzHl3mzZtqk6dOqmgoECDBw/WaaedpieeeEKS9Mgjj+ijjz7S0KFD9euvvyo6Otq3XatWrZSenq5//vOfcjgceumll3zblDiRc16VqqKudu3aadasWbr77rvVoUMHxcTE6LLLLjvmNuU5hyfqlltu0dSpUzVkyBD99NNPSklJ0Zw5c7R06VJNnDjRN0L2wgsv1A033KD//ve/2rBhg2/Kom+++UYXXnih383/Spx77rn64IMP1Lt3b1199dWaN2+ebyqCjz76SKtXr5b09x9/f/nlF9//j5dffrlvqoFBgwZp+fLluvHGG7V27VqtXbvWt/+YmBj17dv3mM+vT58+stvt+uyzz3TLLbf4lsfHx+v999/XZZddptatW+vaa69Vhw4dFBYWpoyMDM2ePVuS/7y0VfG+uPnmmzVnzhxdfPHFGjBggDZu3Ki3337b76aC0t/X0Xr16qlz586qW7eu1q5dq8mTJ6tPnz5+o5h/+uknZWVl6YorrqhwLQCAU4CpQbKzs40kk52dHexSACDopk2bZiT5/URERJg2bdqYKVOmGK/X69dekhk3blyp/SxevNhIMhaLxWRkZJRav23bNnPllVeaWrVqGZfLZfr372927NhRan/jxo0zkkxmZmapfZSsO9yHH35ozjrrLBMREWFSUlLMhAkTzOuvv24kmb/++svXbteuXaZPnz4mNjbWSDJdu3b1rTt48KAZM2aMadasmQkPDzd16tQx5513nnn22WdNUVHRMc9f165dS52/kp8ePXoctW5JZsSIEaX2l5ycbAYPHuy3bPfu3WbEiBEmKSnJhIWFmXr16pkePXqYV155xdfG6/WaJ5980iQnJxuHw2HOPvtsM3/+fDN48GCTnJzsa/fXX38ZSeaZZ5455vM6sqY+ffqUuW769OlGkpk2bZpv2SuvvGLatWtnIiMjTWxsrDnzzDPNfffdZ3bs2OFr43a7zb///W9Tr149ExkZabp3727Wrl1rateubW677TZfu5L354oVK8o8/hdffGHS09ONy+UyERERpmnTpmbIkCHmxx9/NMYYs3fvXjNixAiTlpZmoqOjjcvlMuecc4559913fftYuXKlGThwoGncuLFxOBwmMTHRXHrppb59lCjrvb9y5UqTnp5uYmJiTFRUlLnwwgvNd99959fmaM/hiy++MJLMF198UeZzK885mDVrljn77LONw+Ew8fHxZtCgQWbbtm1+bQYPHmyio6OPeYzDLViwwNx4440mLS3NxMTEmPDwcNOsWTNzxx13mN27d/u1Le/n72jvobI+B2W9R0uew8aNG02vXr1MVFSUqVu3rhk3bpzxeDyl9nnk61Sez1BZdu/ebZ566inTtWtXU79+fWO3201cXJzp3r27mTNnTqn2ycnJR70eHH4+jCndHz3R68SRSs7j0X5Ktv/Xv/5lbDab+eGHH/y2//HHH43dbje33357qXrefvttc9ppp/muNWW9h8tzzks+A7Nnzy61fVmfj65du5qWLVuWeT7K+/46kbpKzunh17vc3Fxz3XXXmVq1ahlJftfbspT3HB7t/8KjfZ7LOje7d+82Q4cONXXq1DHh4eHmzDPP9Ku9hNvtNs8884xJS0sz4eHhJiEhwVxyySXmp59+KlX34T744ANjt9vNNddc4/scDh48+KjvucOPfazPyvHOYYnLL7/c9//skXbu3Gnuvfde06JFCxMZGWkcDodJTU01//jHP8zXX39dqn2g3xfGGPPcc8+Zhg0bGofDYTp37mx+/PFH07VrV7/+x9SpU02XLl1M7dq1jcPhME2bNjX33ntvqd9T77//ftO4ceNSfTIAQM1gMaYaZ9QPspycHLlcLmVnZ1fpVxcBAED5HThwQHFxcXr88cf14IMPBrschJAhQ4Zozpw5VTZqPBhOxv6oxWLRiBEjKjSVCVBVvvnmG3Xr1k3r1q2r8PQKJ5PCwkKlpKRo9OjRuvPOO4NdDgAgCJjTFgAAVJuy5kEsmeO4W7du1VsMAOCkc8EFF6hXr15VPh1NsE2bNk1hYWG67bbbgl0KACBImNMWAABUm1mzZmn69Onq3bu3YmJi9O233+p///ufevXqpc6dOwe7PADASWDBggXBLqHK3XbbbQS2AFDDEdoCAIBqc9ZZZ8lut+vpp59WTk6O7+ZkZd3QDQAAAABqKua0BQAAAKoJ/VEAAACUB3PaAgAAAAAAAEAIIbQFAAAAAAAAgBBCaAsAAAAAAAAAIYTQFgAAAAAAAABCCKEtAAAAAAAAAIQQQlsAAAAAAAAACCGEtgAAAAAAAAAQQuzBLgAAAOBwxmuUmXFQBbnFiogJU0JSrCxWS7DLAgAAAIBqQ2gLAABCxrZ1WVq5cIv278qT12NktVkUVy9KbdOT1SgtPtjlAQAAAEC1YHoEAAAQEraty9KXM9Zr77ZchTlsinKGK8xh097th/TljPXati4r2CUCAAAAQLUgtAUAAEFnvEYrF25RUYFb0bUcsofbZLFaZA+3KdoVrqJCj1Yu3CLjNcEuFQAAAACqHKEtAAAIusyMg9q/K08R0WGyWPznr7VYLIqIsmv/rjxlZhwMUoUAAAAAUH0IbQEAQNAV5BbL6zGy2cvumtjsVnk9RgW5xdVcGQAAAABUP0JbAAAQdBExYbLaLPK4vWWu97i9stosiogJq+bKAAAAAKD6EdoCAICgS0iKVVy9KBXkuWWM/7y1xhgV5LkVVy9KCUmxQaoQAAAAAKoPoS0AAAg6i9WitunJCnfYdCi7SO4ij4zXyF3k0aHsIoVH2NQ2PVkWq+X4OwMAAACAkxyhLQAACAmN0uLVbVBz1WkYreJCj/JyilRc6FGdhtHqdl1zNUqLD3aJAAAAAFAt7MEuAAAAoESjtHg1PD1OmRkHVZBbrIiYMCUkxTLCFgAAAECNQmgLAABCisVqUWKyM9hlAAAAAEDQMD0CAAAAAAAAAIQQQlsAAAAAAAAACCGEtgAAAAAAAAAQQghtAQAAAAAAACCEENoCAAAAAAAAQAghtAUAAAAAAACAEHLShrZPPfWULBaL7rrrrmCXAgAAAAAAAAABc1KGtitWrNDUqVN11llnBbsUAAAAAAAAAAioky60zc3N1aBBg/Tqq68qLi4u2OUAAAAAAAAAQECddKHtiBEj1KdPH1100UXHbVtYWKicnBy/HwAAAKC60B8FAABAZZxUoe0777yjlStXavz48eVqP378eLlcLt9PUlJSFVcIAAAA/B/6owAAAKgMizHGBLuI8sjIyFD79u21ePFi31y23bp1U5s2bTRx4sQytyksLFRhYaHvcU5OjpKSkpSdnS2n01kdZQMAAKAGoz8KAACAyjhpQtt58+bpyiuvlM1m8y3zeDyyWCyyWq0qLCz0W1eWnJwcuVwuOskAAAAICvqjAAAAKA97sAsorx49eujXX3/1WzZ06FClpaXp/vvvP25gCwAAAAAAAAAng5MmtI2NjVWrVq38lkVHR6t27dqllgMAAAAAAADAyeqkuhEZAAAAAAAAAJzqTpqRtmX58ssvg10CAAAAAAAAAAQUI20BAAAAAAAAIIQQ2gIAAAAAAABACCG0BQAAAAAAAIAQQmgLAAAAAAAAACGE0BYAAAAAAAAAQgihLQAAAAAAAACEEEJbAAAAAAAAAAghhLYAAAAAAAAAEEIIbQEAAAAAAAAghBDaAgAAAAAAAEAIIbQFAAAAAAAAgBBCaAsAAAAAAAAAIYTQFgAAAAAAAABCCKEtAAAAAAAAAIQQQlsAAAAAAAAACCGEtgAAAAAAAAAQQuzBLgAAAAAAAAAIFcbr1Z7Nm5Sfk61Ip0uJKamyWBn3iOpFaAsAAAAAAABI2rpmtZbPm62sHdvl8bhls9kV36ChOvbtr8atWge7PNQg/JkAAAAAAAAANd7WNau1+NUXlbl1s8IiIxRTK05hkRHK3LpZi199UVvXrA52iahBCG0BAAAAAABQoxmvV8vnzVZRfp5i4msrLNwhi9WqsHCHYuJrqyg/T8vnzZbxeoNdKmoIQlsAAAAAAADUaHs2b1LWju2KiI2VxWLxW2exWBQRE6usHdu1Z/OmIFWImobQFgAAAAAAADVafk62PB637PawMtfbw8Lk9biVn5NdzZWhpiK0BQAAAAAAQI0W6XTJZrPL7S4uc727uFhWm12RTlc1V4aaitAWAAAAAAAANVpiSqriGzRUwcGDMsb4rTPGqCD3oOIbNFRiSmqQKkRNQ2gLAAAAAACAGs1itapj3/4Kj4xSbtY+FRcWyni9Ki4sVG7WPoVHRqlj3/6yWInSUD14pwEAAAAAAKDGa9yqtXoOG6GExikqLijQoQP7VVxQoITGKeo5bIQat2od7BJRg9iDXQAAAAAAAAAQChq3aq2kFmdqz+ZNys/JVqTTpcSUVEbYotoR2gIAAAAAAAD/P4vVqrqpzYJdBmo4QlsAwFEZr1FmxkEV5BYrIiZMCUmxslgtwS4LAAAAAIBTGqEtAKBM29ZlaeXCLdq/K09ej5HVZlFcvSi1TU9Wo7T4YJcHAAAAAMApiwk5AAClbFuXpS9nrNfebbkKc9gU5QxXmMOmvdsP6csZ67VtXVawSwQAAAAA4JRFaAsA8GO8RisXblFRgVvRtRyyh9tksVpkD7cp2hWuokKPVi7cIuM1wS4VAAAAAIBTEqEtAMBPZsZB7d+Vp4joMFks/vPXWiwWRUTZtX9XnjIzDgapQgAAAAAATm2EtgAAPwW5xfJ6jGz2sv+LsNmt8nqMCnKLq7kyAAAAAABqBkJbAICfiJgwWW0WedzeMtd73F5ZbRZFxIRVc2UAAAAAANQMhLYAAD8JSbGKqxelgjy3jPGft9YYo4I8t+LqRSkhKTZIFQIAAAAAcGojtAUA+LFYLWqbnqxwh02HsovkLvLIeI3cRR4dyi5SeIRNbdOTZbFajr8zAAAAAABQYYS2AIBSGqXFq9ug5qrTMFrFhR7l5RSpuNCjOg2j1e265mqUFh/sEgEAAAAAOGXZg10AACA0NUqLV8PT45SZcVAFucWKiAlTQlIsI2wBAAAAAKhihLYAgKOyWC1KTHYGuwwAAAAAAGoUpkcAAAAAAAAAgBBCaAsAAAAAAAAAIYTQFgAAAAAAAABCCKEtAAAAAAAAAIQQQlsAAAAAAAAACCGEtgAAAAAAAAAQQghtAQAAAAAAACCEENoCAAAAAAAAQAghtAUAAAAAAACAEEJoCwAAAAAAAAAhhNAWAAAAAAAAAEIIoS0AAAAAAAAAhBBCWwAAAAAAAAAIIYS2AAAAAAAAABBCCG0BAAAAAAAAIIQQ2gIAAAAAAABACCG0BQAAAAAAAIAQQmgLAAAAAAAAACGE0BYAAAAAAAAAQgihLQAAAAAAAACEEEJbAAAAAAAAAAghhLYAAAAAAAAAEEIIbQEAAAAAAAAghBDaAgAAAAAAAEAIIbQFAAAAAAAAgBBCaAsAAAAAAAAAIYTQFgAAAAAAAABCCKEtAAAAAAAAAIQQQlsAAAAAAAAACCGEtgAAAAAAAAAQQghtAQAAAAAAACCEENoCAAAAAAAAQAghtAUAAAAAAACAEEJoCwAAAAAAAAAhhNAWAAAAAAAAAEIIoS0AAAAAAAAAhBB7sAsAAAAAAAAoi/F6tWfzJuXnZCvS6VJiSqosVsafATj1nTSh7fjx4zV37lytW7dOkZGROu+88zRhwgQ1b9482KUBAAAAAIAA27pmtZbPm62sHdvl8bhls9kV36ChOvbtr8atWge7PACoUifNn6e++uorjRgxQsuWLdPixYtVXFysXr166dChQ8EuDQAAAAAABNDWNau1+NUXlbl1s8IiIxRTK05hkRHK3LpZi199UVvXrA52iQBQpU6akbaffvqp3+Pp06crMTFRP/30k7p06RKkqgAAAAAAQCAZr1fL581WUX6eYuJry2KxSJLCwh2yx4crN2ufls+braQWZzJVAoBT1kkT2h4pOztbkhQfH3/UNoWFhSosLPQ9zsnJqfK6AAAAgBL0RwGg4vZs3qSsHdsVERvrC2xLWCwWRcTEKmvHdu3ZvEl1U5sFqUoAqFon5Z+kvF6v7rrrLnXu3FmtWrU6arvx48fL5XL5fpKSkqqxSgAAANR09EcBoOLyc7Ll8bhlt4eVud4eFiavx638nOxqrgwAqs9JGdqOGDFCa9as0TvvvHPMdmPGjFF2drbvJyMjo5oqBAAAAOiPAkBlRDpdstnscruLy1zvLi6W1WZXpNNVzZUBQPU56aZHGDlypObPn6+vv/5ajRo1OmZbh8Mhh8NRTZUBAAAA/uiPAkDFJaakKr5BQ2Vu3Sx7fLjfFAnGGBXkHlRC4xQlpqQGsUoAqFonzUhbY4xGjhyp999/X59//rmaNGkS7JIAAAAAAECAWaxWdezbX+GRUcrN2qfiwkIZr1fFhYXKzdqn8Mgodezbn5uQATilnTRXuBEjRujtt9/WzJkzFRsbq127dmnXrl3Kz88PdmkAAAAAACCAGrdqrZ7DRiihcYqKCwp06MB+FRcUKKFxinoOG6HGrVoHu0QAqFIWY4wJdhHlceQdI0tMmzZNQ4YMKdc+cnJy5HK5lJ2dLafTGcDqAAAAgOOjPwoAFWO8Xu3ZvEn5OdmKdLqUmJLKCFsANcJJM6ftSZItAwAAAACAALFYraqb2izYZQBAtePPUwAAAAAAAAAQQghtAQAAAAAAACCEENoCAAAAAAAAQAghtAUAAAAAAACAEEJoCwAAAAAAAAAhhNAWAAAAAAAAAEIIoS0AAAAAAAAAhBBCWwAAAAAAAAAIIYS2AAAAAAAAABBCCG0BAAAAAAAAIIQQ2gIAAAAAAABACCG0BQAAAAAAAIAQQmgLAAAAAAAAACGE0BYAAAAAAAAAQgihLQAAAAAAAACEEHuwCwAqwniNMjMOqiC3WBExYUpIipXFagl2WQAAAAAAAEDAENripLFtXZZWLtyi/bvy5PUYWW0WxdWLUtv0ZDVKiw92eQAAAAAAAEBAMD0CTgrb1mXpyxnrtXdbrsIcNkU5wxXmsGnv9kP6csZ6bVuXFewSAQAAAAAAgIAgtEXIM16jlQu3qKjArehaDtnDbbJYLbKH2xTtCldRoUcrF26R8ZpglwoAAAAAAACcMEJbhLzMjIPavytPEdFhslj856+1WCyKiLJr/648ZWYcDFKFAAAAAAAAQOAQ2iLkFeQWy+sxstnLfrva7FZ5PUYFucXVXBkAAAAAAAAQeIS2CHkRMWGy2izyuL1lrve4vbLaLIqICavmygAAAAAAAIDAI7RFyEtIilVcvSgV5LlljP+8tcYYFeS5FVcvSglJsUGqEAAAAAAAAAgcQluEPIvVorbpyQp32HQou0juIo+M18hd5NGh7CKFR9jUNj1ZFqvl+DsDAAAAAAAAQhyhLU4KjdLi1W1Qc9VpGK3iQo/ycopUXOhRnYbR6nZdczVKiw92iQAAAAAAAEBA2INdAFBejdLi1fD0OGVmHFRBbrEiYsKUkBTLCFsAAAAAAACcUghtcVKxWC1KTHYGuwwAAAAAAACgyjA9AgAAAAAAAACEEEbaAjWY8RqmmwAAAAAAAAgxhLZADbVtXZZWLtyi/bvy5PUYWW0WxdWLUtv0ZG7sBgAAAAAAEERMjwDUQNvWZenLGeu1d1uuwhw2RTnDFeawae/2Q/pyxnptW5cV7BIBAAAAAABqLEJboIYxXqOVC7eoqMCt6FoO2cNtslgtsofbFO0KV1GhRysXbpHxmmCXCgAAAAAAUCMR2gI1TGbGQe3flaeI6DBZLP7z11osFkVE2bV/V54yMw4GqUIAAAAAAICajdAWqGEKcovl9RjZ7GV//G12q7weo4Lc4mquDAAAAAAAABKhLVDjRMSEyWqzyOP2lrne4/bKarMoIiasmisDAAAAAACARGgL1DgJSbGKqxelgjy3jPGft9YYo4I8t+LqRSkhKTZIFQIAAAAAANRshLZADWOxWtQ2PVnhDpsOZRfJXeSR8Rq5izw6lF2k8Aib2qYny2K1HH9nAAAAAAAACDhCW6AGapQWr26DmqtOw2gVF3qUl1Ok4kKP6jSMVrfrmqtRWnywSwQAAAAAAKix7MEuAEBwNEqLV8PT45SZcVAFucWKiAlTQlIsI2wBAAAAAACCjNAWqMEsVosSk53BLgMAAAAAAACHYXoEAAAAAAAAAAghhLYAAAAAAAAAEEIIbQEAAAAAAAAghBDaAgAAAAAAAEAIIbQFAAAAAAAAgBBCaAsAAAAAAAAAIYTQFgAAAAAAAABCCKEtAAAAAAAAAIQQQlsAAAAAAAAACCGEtgAAAAAAAAAQQghtAQAAAAAAACCEENoCAAAAAAAAQAixB7uAU5nxGmVmHFRBbrEiYsKUkBQri9US7LIAAFWE6z4AAAAAIBAIbavItnVZWrlwi/bvypPXY2S1WRRXL0pt05PVKC0+2OUBAAKM6z4AAAAAIFCYHqEKbFuXpS9nrNfebbkKc9gU5QxXmMOmvdsP6csZ67VtXVawSwQABBDXfQAAAABAIBHaBpjxGq1cuEVFBW5F13LIHm6TxWqRPdymaFe4igo9Wrlwi4zXBLtUAEAAcN0HAAAAAAQaoW2AZWYc1P5deYqIDpPF4j+PocViUUSUXft35Skz42CQKgQABBLXfQAAAABAoBHaBlhBbrG8HiObvexTa7Nb5fUYFeQWV3NlAICqwHUfAAAAABBohLYBFhETJqvNIo/bW+Z6j9srq82iiJiwaq4MAFAVuO4DAAAAAAKN0DbAEpJiFVcvSgV5bhnjP3+hMUYFeW7F1YtSQlJskCoEAAQS130AAAAAQKAR2gaYxWpR2/RkhTtsOpRdJHeRR8Zr5C7y6FB2kcIjbGqbniyL1XL8nQEAQh7XfQAAAABAoFnMkcOCTmE5OTlyuVzKzs6W0+ms0mNtW5ellQu3aP+uPHk9RlabRXH1otQ2PVmN0uKr9NgAgOrHdR9AeVRnfxRVw3i92rN5k/JzshXpdCkxJVUWK2NhAABAYNmDXcCpqlFavBqeHqfMjIMqyC1WREyYEpJiGWkFAKcorvsAcOrbuma1ls+brawd2+XxuGWz2RXfoKE69u2vxq1aB7s8AABwCmGkLQAAAFBN6I+evLauWa3Fr76oovw8RcTGym4Pk9tdrIKDBxUeGaWew0YQ3AIAgIDhezwAAAAAcAzG69XyebNVlJ+nmPjaCgt3yGK1KizcoZj42irKz9PyebNlvN5glwoAAE4RhLYAAAAAcAx7Nm9S1o7tioiNlcXiP+2NxWJRREyssnZs157Nm4JUIQAAONUQ2gIAAADAMeTnZMvjcctuDytzvT0sTF6PW/k52dVcGQAAOFUR2gIAAADAMUQ6XbLZ7HK7i8tc7y4ultVmV6TTVc2VAQCAUxWhLQAAAAAcQ2JKquIbNFTBwYM68j7OxhgV5B5UfIOGSkxJDVKFAADgVENoCwAAAADHYLFa1bFvf4VHRik3a5+KCwtlvF4VFxYqN2ufwiOj1LFvf1ms/HoFAAACg14FAAAAABxH41at1XPYCCU0TlFxQYEOHdiv4oICJTROUc9hI9S4VetglwgAAE4h9mAXAAAAAAAng8atWiupxZnas3mT8nOyFel0KTEllRG2AAAg4AhtAQAAAKCcLFar6qY2C3YZAADgFMefhAEAAAAAAAAghBDaAgAAAAAAAEAIIbQFAAAAAAAAgBBCaAsAAAAAAAAAIYTQFgAAAAAAAABCyEkX2r744otKSUlRRESEzjnnHC1fvjzYJQEAAAAAAABAwJxUoe2sWbN09913a9y4cVq5cqVat26t9PR07dmzJ9ilAQAAAAAAAEBAnFSh7X/+8x8NGzZMQ4cOVYsWLfTyyy8rKipKr7/+erBLAwAAAAAAAICAsAe7gPIqKirSTz/9pDFjxviWWa1WXXTRRfr+++/L3KawsFCFhYW+xzk5OVVeJwAAAFCC/igAAAAq46QZabt37155PB7VrVvXb3ndunW1a9euMrcZP368XC6X7ycpKak6SgUAAAAk0R8FAABA5Zw0oW1ljBkzRtnZ2b6fjIyMYJcEAACAGoT+KAAAACrjpJkeoU6dOrLZbNq9e7ff8t27d6tevXplbuNwOORwOKqjPAAAAKAU+qMAAACojJNmpG14eLjatWunJUuW+JZ5vV4tWbJEnTp1CmJlAAAAAAAAABA4J81IW0m6++67NXjwYLVv314dO3bUxIkTdejQIQ0dOjTYpQEAAAAAAABAQJxUoe0111yjzMxMjR07Vrt27VKbNm306aeflro5GQAAAAAg9BmvV3s2b1J+TrYinS4lpqTKYj1pvhAKAECVsRhjTLCLqC45OTlyuVzKzs6W0+kMdjkAAACoYeiPAv9n65rVWj5vtrJ2bJfH45bNZld8g4bq2Le/GrdqHezyAAAIKv6ECQAAAACoVlvXrNbiV19U5tbNCouMUEytOIVFRihz62YtfvVFbV2zOtglAgAQVIS2AAAAAIBqY7xeLZ83W0X5eYqJr62wcIcsVqvCwh2Kia+tovw8LZ83W8brDXapAAAEDaEtAAAAAKDa7Nm8SVk7tisiNlYWi8VvncViUURMrLJ2bNeezZuCVCEAAMFHaAsAAAAAqDb5OdnyeNyy28PKXG8PC5PX41Z+TnY1VwYAQOggtAUAAAAAVJtIp0s2m11ud3GZ693FxbLa7Ip0uqq5MgAAQgehLQAAAACg2iSmpCq+QUMVHDwoY4zfOmOMCnIPKr5BQyWmpAapQgAAgo/QFgAAAABQbSxWqzr27a/wyCjlZu1TcWGhjNer4sJC5WbtU3hklDr27S+LlV9XAQA1F/8LAgAAAACqVeNWrdVz2AglNE5RcUGBDh3Yr+KCAiU0TlHPYSPUuFXrYJcIAEBQ2YNdAAAAAICqYbxe7dm8Sfk52Yp0upSYksroRYSMxq1aK6nFmbxHgQDiuh/6eI1QXoS2AAAAwClo65rVWj5vtrJ2bJfH45bNZld8g4bq2Lc/oxgRMixWq+qmNgt2GcApget+6OM1QkUQ5QMAAACnmK1rVmvxqy8qc+tmhUVGKKZWnMIiI5S5dbMWv/qitq5ZHewSAQABxHU/9PEaoaIIbQEAAIBTiPF6tXzebBXl5ykmvrbCwh2yWK0KC3coJr62ivLztHzebBmvN9ilAgACgOt+6OM1QmUQ2gIAAACnkD2bNylrx3ZFxMbKYrH4rbNYLIqIiVXWju3as3lTkCoEAAQS1/3Qx2uEyiC0BQAAAE4h+TnZ8njcstvDylxvDwuT1+NWfk52NVcGAKgKXPdDH68RKoPQFgAAADiFRDpdstnscruLy1zvLi6W1WZXpNNVzZUBAKoC1/3Qx2uEyiC0BQAAAE4hiSmpim/QUAUHD8oY47fOGKOC3IOKb9BQiSmpQaoQABBIXPdDH68RKoPQFgAAADiFWKxWdezbX+GRUcrN2qfiwkIZr1fFhYXKzdqn8MgodezbXxYrvwoAwKmA637o4zVCZVjMkRH/KSwnJ0cul0vZ2dlyOp3BLgcAAAA1THX2R7euWa3l82Yra8d2eT1uWW12xTdoqI59+6txq9ZVemwAQPXjuh/6eI1QEYS2AAAAQDWp7v6o8Xq1Z/Mm5edkK9LpUmJKKqN4AOAUxnU/9PEaobzswS4AAAAAQNWwWK2qm9os2GUAAKoJ1/3Qx2uE8iLKBwAAAAAAAIAQUqnQ1uPx6Ouvv9aBAwcCXA4AAAAAAAAA1GyVCm1tNpt69eql/fv3B7oeAAAAAAAAAKjRKj09QqtWrbRp06ZA1gIAAAAAAAAANV6lQ9vHH39c99xzj+bPn6+dO3cqJyfH7wcAAAAAAAAAUHEWY4ypzIZW6//lvRaLxfdvY4wsFos8Hs+JVxdgOTk5crlcys7OltPpDHY5AAAAqGHojwIAAKA87JXd8IsvvghkHQAAAAAAAAAAnUBo27Vr10DWAQAAAAAAAABQBUPbX375pdxtzzrrrAoXAwAAAAAAAAA1XYVC2zZt2shiseh40+CG6py2AAAAAAAAABDqKhTa/vXXX1VVBwAAAAAAAABAFQxtk5OTq6oOAAAAAAAAAIAka2U3HD9+vF5//fVSy19//XVNmDDhhIoCAAAAAAAAgJqq0qHt1KlTlZaWVmp5y5Yt9fLLL59QUQAAAAAAAABQU1U6tN21a5fq169fanlCQoJ27tx5QkUBAAAAAAAAQE1V6dA2KSlJS5cuLbV86dKlatCgwQkVBQAAAAAAAAA1VYVuRHa4YcOG6a677lJxcbG6d+8uSVqyZInuu+8+jRo1KmAFAgAAAAAAAEBNUunQ9t5779W+ffs0fPhwFRUVSZIiIiJ0//33a8yYMQErEAAAAAAAAABqEosxxpzIDnJzc7V27VpFRkbqtNNOk8Ph8Fu/bds2NWjQQFZrpWdiCJicnBy5XC5lZ2fL6XQGuxwAAADUMPRHAQAAUB6VHmlbIiYmRh06dDjq+hYtWmjVqlVKTU090UMBAAAAAAAAwCmvyoe/nuBAXgAAAAAAAACoUYI/ZwEAAAAAAAAAwIfQFgAAAAAAAABCCKEtAAAAAAAAAISQKg9tLRZLVR8CAAAAAAAAAE4Z3IgMAAAAAAAAAEKIvaoP8Pvvv6tBgwZVfRgAAAAAAAAAOCVUKLS96qqryt127ty5kqSkpKSKVQQAAAAAAAAANViFpkdwuVy+H6fTqSVLlujHH3/0rf/pp5+0ZMkSuVyugBcKAAAAAAAAADVBhUbaTps2zffv+++/XwMGDNDLL78sm80mSfJ4PBo+fLicTmdgqwQAAAAAAACAGsJiKnmnsISEBH377bdq3ry53/L169frvPPO0759+wJSYCDl5OTI5XIpOzubYBkAAADVjv4oAAAAyqNC0yMczu12a926daWWr1u3Tl6v94SKAgAAAAAAAICaqkLTIxxu6NChuummm7Rx40Z17NhRkvTDDz/oqaee0tChQwNWIAAAAAAAAADUJJUObZ999lnVq1dPzz33nHbu3ClJql+/vu69916NGjUqYAUCAAAAAAAAQE1S6TltD5eTkyNJIT8vF3OIAQAAIJjojwIAAKA8Kj2nrfT3vLafffaZ/ve//8lisUiSduzYodzc3IAUBwAAAAAAAAA1TaWnR9iyZYsuvvhibd26VYWFherZs6diY2M1YcIEFRYW6uWXXw5knQAAAAAAAABQI1R6pO2dd96p9u3ba//+/YqMjPQtv/LKK7VkyZKAFAcAAAAAAAAANU2lR9p+8803+u677xQeHu63PCUlRdu3bz/hwgAAAAAAAACgJqr0SFuv1yuPx1Nq+bZt2xQbG3tCRQEAAAAAAABATVXp0LZXr16aOHGi77HFYlFubq7GjRun3r17B6I2AAAAAAAAAKhxLMYYU5kNt23bpvT0dBljtGHDBrVv314bNmxQnTp19PXXXysxMTHQtZ6wnJwcuVwuZWdny+l0BrscAAAA1DD0RwEAAFAelQ5tJcntduudd97RL7/8otzcXLVt21aDBg3yuzFZKKGTDAAAgGCiPwoAAIDyqPSNyAoKChQREaHrr78+kPUAAAAAAAAAQI1W6TltExMTNXjwYC1evFherzeQNQEAAAAAAABAjVXp0PaNN95QXl6errjiCjVs2FB33XWXfvzxx0DWBgAAAAAAAAA1TqVD2yuvvFKzZ8/W7t279eSTT+r333/Xueeeq9NPP12PPvpoIGsEAAAAAAAAgBrjhG5EdqTff/9dgwYN0i+//CKPxxOo3QYMN34AAABAMNEfBQAAQHlUeqRtiYKCAr377rvq27ev2rZtq6ysLN17772BqA0AAAAAAAAAahx7ZTdcuHChZs6cqXnz5slut+vqq6/WokWL1KVLl0DWBwAAAAAAAAA1SqVD2yuvvFKXXXaZ3nzzTfXu3VthYWGBrAsAAAAAAAAAaqRKhbZut1sTJkxQ//79Va9evUDXBAAAAAAAAAA1VqXmtLXb7br//vtVWFgY6HoAAAAAAAAAoEar9I3IOnbsqJ9//jmQtQAAAAAAAABAjVfpOW2HDx+uUaNGadu2bWrXrp2io6P91p911lknXBwAAAAAAAAA1DQWY4ypzIZWa+lBuhaLRcYYWSwWeTyeEy4u0HJycuRyuZSdnS2n0xnscgAAAFDD0B8FAABAeVR6pO1ff/0VyDoAAAAAAAAAADqB0DY5OTmQdQAAAAAAAAAAdAI3IpOkt956S507d1aDBg20ZcsWSdLEiRP1wQcfBKS4Eps3b9ZNN92kJk2aKDIyUk2bNtW4ceNUVFQU0OMAAAAAAAAAQLBVOrSdMmWK7r77bvXu3VsHDhzwzWFbq1YtTZw4MVD1SZLWrVsnr9erqVOn6rffftPzzz+vl19+WQ888EBAjwMAAAAAAAAAwVbpG5G1aNFCTz75pPr27avY2FitXr1aqampWrNmjbp166a9e/cGulY/zzzzjKZMmaJNmzaVextu/AAAAIBgoj8KAACA8jihG5GdffbZpZY7HA4dOnTohIoqj+zsbMXHxx+zTWFhoQoLC32Pc3JyqrosAAAAwIf+KAAAACqj0tMjNGnSRKtWrSq1/NNPP9UZZ5xxIjUd159//qkXXnhBt9566zHbjR8/Xi6Xy/eTlJRUpXUBAAAAh6M/CgAAgMqodGh79913a8SIEZo1a5aMMVq+fLmeeOIJjRkzRvfdd1+59jF69GhZLJZj/qxbt85vm+3bt+viiy9W//79NWzYsGPuf8yYMcrOzvb9ZGRkVPbpAgAAABVGfxQAAACVUek5bSVpxowZevjhh7Vx40ZJUoMGDfTII4/opptuKtf2mZmZ2rdv3zHbpKamKjw8XJK0Y8cOdevWTeeee66mT58uq7VimTNziAEAACCY6I8CAACgPE4otC2Rl5en3NxcJSYmBqKmMm3fvl0XXnih2rVrp7fffls2m63C+6CTDAAAgGCiPwoAAIDyqPT0CPn5+crLy5MkRUVFKT8/XxMnTtSiRYsCVlyJ7du3q1u3bmrcuLGeffZZZWZmateuXdq1a1fAjwUAAAAAAAAAwWSv7IZXXHGFrrrqKt122206cOCAOnbsqPDwcO3du1f/+c9/dPvttwesyMWLF+vPP//Un3/+qUaNGvmtC8BAYQAAAAAAAAAIGZUeabty5UpdcMEFkqQ5c+aoXr162rJli958803997//DViBkjRkyBAZY8r8AQAAAAAAAIBTSaVD27y8PMXGxkqSFi1apKuuukpWq1XnnnuutmzZErACAQAAAAAAAKAmqXRo26xZM82bN08ZGRlauHChevXqJUnas2cPN1UAAAAAAAAAgEqqdGg7duxY3XPPPUpJSVHHjh3VqVMnSX+Puj377LMDViAAAAAAAAAA1CQWcwITw+7atUs7d+5U69atZbX+nf8uX75cTqdTaWlpASsyUHJycuRyuZSdnc1oYAAAAFQ7+qMAAAAoD/uJbFyvXj3Vq1dPGRkZkqSkpCR17NgxIIUBAAAAAAAAQE1U6ekR3G63/v3vf8vlciklJUUpKSlyuVx66KGHVFxcHMgaAQAAAAAAAKDGqPRI2zvuuENz587V008/7ZvP9vvvv9fDDz+sffv2acqUKQErEgAAAAAAAABqikrPaetyufTOO+/okksu8Vv+ySefaODAgcrOzg5IgYHEHGIAAAAIJvqjAAAAKI9KT4/gcDiUkpJSanmTJk0UHh5+IjUBAAAAAAAAQI1V6dB25MiReuyxx1RYWOhbVlhYqCeeeEIjR44MSHEAAAAAAAAAUNNUaE7bq666yu/xZ599pkaNGql169aSpNWrV6uoqEg9evQIXIUAAAAAAAAAUINUKLR1uVx+j/v16+f3OCkp6cQrAgAAAAAAAIAarEKh7bRp06qqDgAAAAAAAACAKhjaliUzM1Pr16+XJDVv3lwJCQknXBQAAAAAAAAA1FSVvhHZoUOHdOONN6p+/frq0qWLunTpogYNGuimm25SXl5eIGsEAAAAAAAAgBqj0qHt3Xffra+++kofffSRDhw4oAMHDuiDDz7QV199pVGjRgWyRgAAAAAAAACoMSzGGFOZDevUqaM5c+aoW7dufsu/+OILDRgwQJmZmYGoL6BycnLkcrmUnZ0tp9MZ7HIAAABQw9AfBQAAQHlUeqRtXl6e6tatW2p5YmIi0yMAAAAAAAAAQCVVOrTt1KmTxo0bp4KCAt+y/Px8PfLII+rUqVNAigMAAAAAAACAmsZe2Q0nTZqk9PR0NWrUSK1bt5YkrV69WhEREVq4cGHACgQAAAAAAACAmqTSc9pKf0+RMGPGDK1bt06SdMYZZ2jQoEGKjIwMWIGBxBxiAAAACCb6owAAACiPSo+0laSoqCgNGzbsmG369Omj1157TfXr1z+RQwEAAAAAAABAjVDpOW3L6+uvv1Z+fn5VHwYAAAAAAAAATgknNNIWAAAAqAzjNcrMOKiC3GJFxIQpISlWFqsl2GUBAAAAIYHQFgAAANVq27osrVy4Rft35cnrMbLaLIqrF6W26clqlBYf7PIAAACAoKvy6REAAACAEtvWZenLGeu1d1uuwhw2RTnDFeawae/2Q/pyxnptW5cV7BIBAACAoCO0BQAAQLUwXqOVC7eoqMCt6FoO2cNtslgtsofbFO0KV1GhRysXbpHxmmCXCgAAAAQVoS0AAACqRWbGQe3flaeI6DBZLP7z11osFkVE2bV/V54yMw4GqUIAAAAgNAQ8tPV6vZo/f77v8QMPPKD4eOYmAwAAqOkKcovl9RjZ7GV3QW12q7weo4Lc4mquDAAAAAgtAbsR2Z9//qnXX39d06dPV2ZmpoqL/+5sjxkzJlCHAAAAwEksIiZMVptFHrdX9nBbqfUet1dWm0URMWFBqA4AAAAIHSc00jY/P19vvvmmunTpoubNm+u7777T2LFjtW3btkDVBwAAgFNEQlKs4upFqSDPLWP85601xqggz624elFKSIoNUoUAAABAaKhUaLtixQrdeuutqlevniZOnKgrrrhCFotFL730km677TbVrVs30HUCAADgJGexWtQ2PVnhDpsOZRfJXeSR8Rq5izw6lF2k8Aib2qYny2K1HH9nAAAAwCmswqHtWWedpf79+6t27dr67rvvtHLlSo0aNarUzSQAAACAIzVKi1e3Qc1Vp2G0igs9ysspUnGhR3UaRqvbdc3VKI17IQAAAAAVntN2/fr1uuaaa3ThhReqRYsWVVETAAAATmGN0uLV8PQ4ZWYcVEFusSJiwpSQFMsIWwAAAOD/V+HQdtOmTZo+fbpuv/125efna+DAgRo0aBAjbQEAAFBuFqtFicnOYJcBAAAAhKQKT4/QsGFDPfjgg/rzzz/11ltvadeuXercubPcbremT5+uP/74oyrqBAAAAAAAAIAaoVI3IivRvXt3vf3229q5c6cmT56szz//XGlpaWrWrFmg6gMAAAAAAACAGuWEQtsSLpdLw4cP17fffqtnnnlGGRkZgdgtAAAAAAAAANQ4FQ5tCwsLNWbMGLVv317nnXee5s2bJ0maNm2amjZtqkmTJunRRx8NdJ0AAAAAAAAAUCNU+EZkY8eO1dSpU3XRRRfpu+++U//+/TV06FAtW7ZMzz33nPr37y+bzVYVtQIAAAAAAADAKa/Coe3s2bP15ptv6vLLL9eaNWt01llnye12a/Xq1bJYLFVRIwAAAAAAAADUGBWeHmHbtm1q166dJKlVq1ZyOBz617/+RWALAAAAAAAAAAFQ4dDW4/EoPDzc99hutysmJiagRQEAAAAAAABATVXh6RGMMRoyZIgcDockqaCgQLfddpuio6P92s2dOzcwFQIAAAAAAABADVLh0Hbw4MF+j6+//vqAFQMAAAAAAAAANV2FQ9tp06ZVRR0AAAAAAAAAAFViTlsAAAAAAAAAQNUhtAUAAAAAAACAEEJoCwAAAAAAAAAhhNAWAAAAAAAAAEIIoS0AAAAAAAAAhBBCWwAAAAAAAAAIIYS2AAAAAAAAABBCCG0BAAAAAAAAIIQQ2gIAAAAAAABACCG0BQAAAAAAAIAQQmgLAAAAAAAAACGE0BYAAAAAAAAAQgihLQAAAAAAAACEEEJbAAAAAAAAAAghhLYAAAAAAAAAEEIIbQEAAAAAAAAghBDaAgAAAAAAAEAIIbQFAAAAAAAAgBBCaAsAAAAAAAAAIYTQFgAAAAAAAABCCKEtAAAAAAAAAIQQQlsAAAAAAAAACCGEtgAAAAAAAAAQQghtAQAAAAAAACCEENoCAAAAAAAAQAghtAUAAAAAAACAEEJoCwAAAAAAAAAhhNAWAAAAAAAAAEIIoS0AAAAAAAAAhBBCWwAAAAAAAAAIIYS2AAAAAAAAABBCCG0BAAAAAAAAIIScdKFtYWGh2rRpI4vFolWrVgW7HAAAAAAAAAAIqJMutL3vvvvUoEGDYJcBAAAAAAAAAFXCHuwCKmLBggVatGiR3nvvPS1YsOC47QsLC1VYWOh7nJOTU5XlAQAAAH7ojwIAAKAyTpqRtrt379awYcP01ltvKSoqqlzbjB8/Xi6Xy/eTlJRUxVUCAAAA/4f+KAAAACrDYowxwS7ieIwx6t27tzp37qyHHnpImzdvVpMmTfTzzz+rTZs2R92urJENSUlJys7OltPprIbKAQAAUJPRHwUAAEBlBHV6hNGjR2vChAnHbLN27VotWrRIBw8e1JgxYyq0f4fDIYfDcSIlAgAAAJVGfxQAAACVEdSRtpmZmdq3b98x26SmpmrAgAH66KOPZLFYfMs9Ho9sNpsGDRqkN954o1zHy8nJkcvlYmQDAAAAgoL+KAAAQGgwXq/2bN6k/JxsRTpdSkxJlcUaOjPJnhTTI2zdutXvpg07duxQenq65syZo3POOUeNGjUq137oJAMAACCY6I8CAAAE39Y1q7V83mxl7dguj8ctm82u+AYN1bFvfzVu1TrY5UkK8vQI5dW4cWO/xzExMZKkpk2bljuwBQAAAAAAAFCzbV2zWotffVFF+XmKiI1VpD1MbnexMrdu1uJXX1TPYSNCIrgNnTG/AAAAAAAAAFBFjNer5fNmqyg/TzHxtRUW7pDFalVYuEMx8bVVlJ+n5fNmy3i9wS715Bhpe6SUlBSdBLM6AAAAAAAAAAgRezZvUtaO7YqIjfW7d5YkWSwWRcTEKmvHdu3ZvEl1U5sFqcq/MdIWAAAAAAAAwCkvPydbHo9bdntYmevtYWHyetzKz8mu5spKI7QFAAAAAAAAcMqLdLpks9nldheXud5dXCyrza5Ip6uaKyuN0BYAAAAAAADAKS8xJVXxDRqq4ODBUlOvGmNUkHtQ8Q0aKjElNUgV/h9CWwAAAAAAAACnPIvVqo59+ys8Mkq5WftUXFgo4/WquLBQuVn7FB4ZpY59+8tiDX5kGvwKAAAAAAAAAKAaNG7VWj2HjVBC4xQVFxTo0IH9Ki4oUELjFPUcNkKNW7UOdomSJHuwCwAAAAAAAACA6tK4VWsltThTezZvUn5OtiKdLiWmpIbECNsShLYAAAAAAAAAahSL1aq6qc2CXcZRhU58DAAAAAAAAAAgtAUAAAAAAACAUEJoCwAAAAAAAAAhhNAWAAAAAAAAAEIIoS0AAAAAAAAAhBBCWwAAAAAAAAAIIYS2AAAAAAAAABBCCG0BAAAAAAAAIIQQ2gIAAAAAAABACCG0BQAAAAAAAIAQQmgLAAAAAAAAACGE0BYAAAAAAAAAQgihLQAAAAAAAACEEEJbAAAAAAAAAAghhLYAAAAAAAAAEEIIbQEAAAAAAAAghBDaAgAAAAAAAEAIIbQFAAAAAAAAgBBCaAsAAAAAAAAAIYTQFgAAAAAAAABCCKEtAAAAAAAAAIQQQlsAAAAAAAAACCGEtgAAAAAAAAAQQghtAQAAAAAAACCEENoCAAAAAAAAQAghtAUAAAAAAACAEEJoCwAAAAAAAAAhhNAWAAAAAAAAAEIIoS0AAAAAAAAAhBBCWwAAAAAAAAAIIYS2AAAAAAAAABBCCG0BAAAAAAAAIIQQ2gIAAAAAAABACCG0BQAAAAAAAIAQQmgLAAAAAAAAACGE0BYAAAAAAAAAQgihLQAAAAAAAACEEEJbAAAAAAAAAAghhLYAAAAAAAAAEEIIbQEAAAAAAAAghBDaAgAAAAAAAEAIIbQFAAAAAAAAgBBCaAsAAAAAAAAAIYTQFgAAAAAAAABCCKEtAAAAAAAAAIQQQlsAAAAAAAAACCGEtgAAAAAAAAAQQghtAQAAAAAAACCEENoCAAAAAAAAQAghtAUAAAAAAACAEEJoCwAAAAAAAAAhhNAWAAAAAAAAAEIIoS0AAAAAAAAAhBBCWwAAAAAAAAAIIYS2AAAAAAAAABBCCG0BAAAAAAAAIIQQ2gIAAAAAAABACCG0BQAAAAAAAIAQQmgLAAAAAAAAACGE0BYAAAAAAAAAQgihLQAAAAAAAACEEEJbAAAAAAAAAAghhLYAAAAAAAAAEEIIbQEAAAAAAAAghBDaAgAAAAAAAEAIIbQFAAAAAAAAgBBCaAsAAAAAAAAAIYTQFgAAAAAAAABCCKEtAAAAAAAAAIQQQlsAAAAAAAAACCEnVWj78ccf65xzzlFkZKTi4uLUt2/fYJcEAAAAAAAAAAFlD3YB5fXee+9p2LBhevLJJ9W9e3e53W6tWbMm2GUBAAAAAAAAQECdFKGt2+3WnXfeqWeeeUY33XSTb3mLFi2CWBUAAAAAAAAABN5JMT3CypUrtX37dlmtVp199tmqX7++LrnkkuOOtC0sLFROTo7fDwAAAFBd6I8CAACgMk6K0HbTpk2SpIcfflgPPfSQ5s+fr7i4OHXr1k1ZWVlH3W78+PFyuVy+n6SkpOoqGQAAAKA/CgAAgEoJamg7evRoWSyWY/6sW7dOXq9XkvTggw+qX79+ateunaZNmyaLxaLZs2cfdf9jxoxRdna27ycjI6O6nhoAAABAfxQAAACVEtQ5bUeNGqUhQ4Ycs01qaqp27twpyX8OW4fDodTUVG3duvWo2zocDjkcjoDUCgAAAFQU/VEAAABURlBD24SEBCUkJBy3Xbt27eRwOLR+/Xqdf/75kqTi4mJt3rxZycnJVV0mAAAAAAAAAFSboIa25eV0OnXbbbdp3LhxSkpKUnJysp555hlJUv/+/YNcHQAAAAAAAAAEzkkR2krSM888I7vdrhtuuEH5+fk655xz9PnnnysuLi7YpQEAAAAAAABAwFiMMSbYRVSXnJwcuVwuZWdny+l0BrscAAAA1DD0RwEAAFAe1mAXAAAAAAAAAAD4P4S2AAAAAAAAABBCCG0BAAAAAAAAIIQQ2gIAAAAAAABACCG0BQAAAAAAAIAQQmgLAAAAAAAAACGE0BYAAAAAAAAAQgihLQAAAAAAAACEEEJbAAAAAAAAAAghhLYAAAAAAAAAEEIIbQEAAAAAAAAghBDaAgAAAAAAAEAIIbQFAAAAAAAAgBBCaAsAAAAAAAAAIYTQFgAAAAAAAABCCKEtAAAAAAAAAIQQQlsAAAAAAAAACCGEtgAAAAAAAAAQQghtAQAAAAAAACCEENoCAAAAAAAAQAghtAUAAAAAAACAEEJoCwAAAAAAAAAhhNAWAAAAAAAAAEIIoS0AAAAAAAAAhBBCWwAAAAAAAAAIIYS2AAAAAAAAABBCCG0BAAAAAAAAIIQQ2gIAAAAAAABACCG0xf/H3r2Hx1nW+eP/zCRN0qTNJKVHoEJAW1IoIIe2gBxUBFTcsrro10UFjOUrgl8QVwQPreAq4hF1XYVaObjgiRU8g5yVQwsLgtCmrUiAgoGe0oQmJGkyz+8PfmSNLaVNp5knyet1XXNdzjzPM/POTXZz95079wMAAAAApIjSFgAAAAAgRZS2AAAAAAAporQFAAAAAEgRpS0AAAAAQIoobQEAAAAAUkRpCwAAAACQIkpbAAAAAIAUUdoCAAAAAKSI0hYAAAAAIEWUtgAAAAAAKaK0BQAAAABIEaUtAAAAAECKKG0BAAAAAFJEaQsAAAAAkCJKWwAAAACAFFHaAgAAAACkiNIWAAAAACBFlLYAAAAAACmitAUAAAAASBGlLQAAAABAiihtAQAAAABSRGkLAAAAAJAiSlsAAAAAgBRR2gIAAAAApIjSFgAAAAAgRZS2AAAAAAAporQFAAAAAEgRpS0AAAAAQIoobQEAAAAAUkRpCwAAAACQIkpbAAAAAIAUUdoCAAAAAKSI0hYAAAAAIEWUtgAAAAAAKaK0BQAAAABIEaUtAAAAAECKKG0BAAAAAFJEaQsAAAAAkCJKWwAAAACAFFHaAgAAAACkiNIWAAAAACBFlLYAAAAAACmitAUAAAAASBGlLQAAAABAiihtAQAAAABSRGkLAAAAAJAiSlsAAAAAgBRR2gIAAAAApIjSFgAAAAAgRYZMabty5cqYO3dujB8/Pqqrq+MNb3hD3HHHHcWOBQAAAABQUEOmtD3xxBOjp6cnbr/99njwwQfjgAMOiBNPPDGee+65YkcDAAAAACiYIVHarl27Nv7yl7/EBRdcEPvvv3+87nWviy996UvR0dERjz32WLHjAQAAAAAUTGmxA2yLXXbZJaZPnx7XXHNNHHTQQVFeXh6XX355TJw4MQ4++OBXvK6rqyu6urr6nre1tQ1GXAAAiAjzUQAABmZIrLTNZDJx6623xp/+9KcYO3ZsVFRUxNe//vW46aabora29hWvu+SSSyKXy/U9pk6dOoipAQAY6cxHAQAYiEySJEmxPvyCCy6ISy+9dKvnNDY2xvTp0+Okk06KTZs2xac//ekYPXp0fP/7349f/vKX8cADD8SUKVO2eO2WVjZMnTo1Wltbo7q6uqBfCwAA/CPzUQAABqKope2aNWti3bp1Wz1nr732ij/+8Y9x3HHHRUtLS7/J7ete97poaGiICy64YJs+r62tLXK5nEkyAABFYT4KAMC2KOqethMmTIgJEya86nkdHR0REZHN9t/NIZvNRj6f3ynZAAAAAACKYUjsaXvYYYdFbW1tnHrqqfHII4/EypUr4xOf+EQ0NTXF29/+9mLHAwAAAAAomCFR2o4fPz5uuumm2LhxY7zpTW+KQw45JO6+++74xS9+EQcccECx4wEAAAAAFExR97QdbPYQAwCgmMxHAQDYFkNipS0AAAAAwEhR1BuRAQAMpiSfxJpVL0Tnxk1RMWZUTJg6NjLZTLFjAQAA9KO0BQBGhGeWr4+Hbn4qWp7riHxvEtmSTNROroyDjt8jdt9nXLHjAQAA9LE9AgAw7D2zfH3cee2KWPvMxhhVXhKV1WUxqrwk1j7bHndeuyKeWb6+2BEBAAD6KG0BgGEtySfx0M1PRXdnT1TVlEdpWUlkspkoLSuJqlxZdHf1xkM3PxVJfsTcmxUAAEg5pS0AMKytWfVCtDzXERVVoyKT6b9/bSaTiYrK0mh5riPWrHqhSAkBAAD6U9oCAMNa58ZNke9NoqR0y9OektJs5HuT6Ny4aZCTAQAAbJnSFgAY1irGjIpsSSZ6e/JbPN7bk49sSSYqxowa5GQAAABbprQFAIa1CVPHRu3kyujs6Ikk6b9vbZIk0dnRE7WTK2PC1LFFSggAANCf0hYAGNYy2UwcdPweUVZeEu2t3dHT3RtJPome7t5ob+2OsoqSOOj4PSKTzbz6mwEAAAwCpS0AMOztvs+4OOaU6TF+t6rY1NUbHW3dsamrN8bvVhXH/Ov02H2fccWOCAAA0Ke02AEAAAbD7vuMi92m1caaVS9E58ZNUTFmVEyYOtYKWwAAIHWUtgDAiJHJZmLiHtXFjgEAALBVtkcAAAAAAEgRpS0AAAAAQIoobQEAAAAAUkRpCwAAAACQIkpbAAAAAIAUUdoCAAAAAKSI0hYAAAAAIEWUtgAAAAAAKaK0BQAAAABIEaUtAAAAAECKKG0BAAAAAFJEaQsAAAAAkCJKWwAAAACAFFHaAgAAAACkiNIWAAAAACBFlLYAAAAAACmitAUAAAAASBGlLQAAAABAiihtAQAAAABSRGkLAAAAAJAiSlsAAAAAgBQpLXaAwZQkSUREtLW1FTkJAADFNHbs2MhkMoP+ueajAABEvPp8dESVtuvWrYuIiKlTpxY5CQAAxdTa2hrV1dWD/rnmowAARLz6fHRElbbjxo2LiIinn346crlckdMMD21tbTF16tRYtWpVUf7hMxwZ08IynoVnTAvPmBaW8Sy84TimY8eOLcrnmo8W3nD8/iwm41l4xrTwjGnhGdPCMp6FNxzH9NXmoyOqtM1mX9rCN5fLDZv/wGlRXV1tTAvMmBaW8Sw8Y1p4xrSwjGfhGdMdZz668/j+LCzjWXjGtPCMaeEZ08IynoU3ksbUjcgAAAAAAFJEaQsAAAAAkCIjqrQtLy+PBQsWRHl5ebGjDBvGtPCMaWEZz8IzpoVnTAvLeBaeMS0cY1l4xrSwjGfhGdPCM6aFZ0wLy3gW3kgc00ySJEmxQwAAAAAA8JIRtdIWAAAAACDtlLYAAAAAACmitAUAAAAASBGlLQAAAABAiihtAQAAAABSRGkLAAAAAJAiSlsAAAAAgBRR2gIAAAAApIjSFgAAAAAgRZS2AAAAAAAporQFAAAAAEgRpS0AAAAAQIoobQEAAAAAUkRpCwAAAACQIkpbAAAAAIAUUdoCAAAAAKSI0hYAAAAAIEWUtgAAAAAAKaK0BQAAAABIEaUtAAAAAECKKG0BAAAAAFJEaQsAAAAAkCJKWwAAAACAFFHaAgAAAACkiNIWAAAAACBFlLYAAAAAACmitAUAAAAASBGlLQAAAABAiihtAQAAAABSRGkLAAAAAJAiSlsAAAAAgBRR2gIAAAAApIjSFgAAAAAgRZS2ACl12mmnxUknnVTsGAWzs7+eO++8MzKZTGzYsGGnfQYAwHBk3gmQPkpbINXWrFkTZ555ZrzmNa+J8vLymDx5chx//PFxzz33FDsaKXP44YdHc3Nz5HK5YkcBAIYg806GqjvvvDPmzp0bU6ZMiaqqqjjwwAPj2muvLXYsYAeVFjsAwNa8613viu7u7rj66qtjr732iueffz5uu+22WLdu3U793O7u7igrK9upn5FGmzZtilGjRhU7xoCUlZXF5MmTix0DABiizDsH11Ced6bNvffeG/vvv3988pOfjEmTJsWvf/3r+MAHPhC5XC5OPPHEYscDBshKWyC1NmzYEH/84x/j0ksvjTe+8Y2xxx57xKxZs+LCCy+Mf/qnf+o77+mnn465c+fGmDFjorq6Ot797nfH888/33d8S38ede6558YxxxzT9/yYY46Js88+O84999wYP358HH/88RERsXTp0jjxxBOjuro6xo4dG0ceeWT89a9/7bvu+9//ftTX10dFRUXss88+8Z//+Z/b/PU9+uij8aY3vSlGjx4du+yyS5xxxhmxcePGzc676KKLYsKECVFdXR0f/vCHo7u7u+/Y9ddfHzNnzux7j2OPPTba29u3Kd+TTz4ZmUwmfvKTn8TRRx8dFRUV8d3vfjdGjx4dv/vd7/pluOGGG2Ls2LHR0dERERGrVq2Kd7/73VFTUxPjxo2LuXPnxpNPPtl3fm9vb5x33nlRU1MTu+yyS5x//vmRJMk2j81A/OP2COvWrYv3vve9sdtuu0VlZWXMnDkzfvSjH/W75phjjomPfvSjce6550ZtbW1MmjQpFi5cGO3t7XH66afH2LFj47WvfW2/8WhpaYlTTjklJkyYEKNHj47Xve51ceWVV+7Urw0A2LnMO19i3vnqkiSJCRMmxPXXX9/32oEHHhhTpkzpe3733XdHeXl539ewfPnyeMMb3hAVFRUxY8aMuPXWWyOTycSNN94YES8V92effXZMmTIlKioqYo899ohLLrmk7/2+/vWvx8yZM6OqqiqmTp0aH/nIR/r99/vUpz4Vn//85+Pwww+PvffeO84555w44YQT4uc///lOGwdg51PaAqk1ZsyYGDNmTNx4443R1dW1xXPy+XzMnTs31q9fH3fddVfccsst8cQTT8R73vOe7f68q6++OsrKyuKee+6J733ve/Hss8/GUUcdFeXl5XH77bfHgw8+GB/84Aejp6cnIiKuvfbamD9/fnzhC1+IxsbG+OIXvxif/exn4+qrr37Vz2pvb4/jjz8+amtr44EHHoif/exnceutt8bZZ5/d77zbbrstGhsb484774wf/ehH8fOf/zwuuuiiiIhobm6O9773vfHBD36w75x3vvOdfZPUbc13wQUXxDnnnBONjY1x8sknx4knnhjXXXddv3OuvfbaOOmkk6KysjI2bdoUxx9/fIwdOzb++Mc/xj333BNjxoyJE044oW9i/7WvfS2uuuqq+MEPfhB33313rF+/Pm644YatjsnTTz/d99/8lR5f/OIXX3VsX9bZ2RkHH3xw/OY3v4nHHnsszjjjjHj/+98f999/f7/zrr766hg/fnzcf//98dGPfjTOPPPMOPnkk+Pwww+Phx56KI477rh4//vf3zfp/uxnPxvLli2L3/3ud9HY2Bjf/e53Y/z48ducCwBIH/NO885tnXdmMpk46qij4s4774yIl36h39jYGC+++GIsX748IiLuuuuuOPTQQ6OysjJ6e3v7vp4lS5bEFVdcEZ/+9Kf7vee3vvWt+OUvfxk//elPY8WKFXHttdfGnnvu2Xc8m83Gt771rVi6dGlcffXVcfvtt8f555+/1a+xtbU1xo0bt9VzgJRLAFLs+uuvT2pra5OKiork8MMPTy688MLkkUce6Tv++9//PikpKUmefvrpvteWLl2aRERy//33J0mSJKeeemoyd+7cfu97zjnnJEcffXTf86OPPjp5/etf3++cCy+8MKmrq0u6u7u3mG3vvfdOrrvuun6vff7zn08OO+ywV/26rrjiiqS2tjbZuHFj32u/+c1vkmw2mzz33HN9uceNG5e0t7f3nfPd7343GTNmTNLb25s8+OCDSUQkTz755IDyNTU1JRGRXHbZZf3OueGGG5IxY8b0fW5ra2tSUVGR/O53v0uSJEl++MMfJtOnT0/y+XzfNV1dXcno0aOTm2++OUmSJJkyZUry5S9/ue/4pk2bkt13332z/w5/b9OmTclf/vKXrT7WrVv3itffcccdSUQkLS0tr3jO29/+9uTjH/943/Ojjz46ecMb3tD3vKenJ6mqqkre//73973W3NycRERy3333JUmSJO94xzuS008//RU/AwAYmsw7zTu3dd75rW99K9l3332TJEmSG2+8MZk9e3Yyd+7c5Lvf/W6SJEly7LHHJp/61KeSJEmS3/3ud0lpaWnS3Nzcd/0tt9ySRERyww03JEmSJB/96EeTN73pTf2+zq352c9+luyyyy6vePwnP/lJUlZWljz22GPb9H5AOllpC6Tau971rvjb3/4Wv/zlL+OEE06IO++8Mw466KC46qqrIiKisbExpk6dGlOnTu27ZsaMGVFTUxONjY3b9VkHH3xwv+cPP/xwHHnkkVvca6u9vT3++te/RkNDQ7/fyP/7v/97vz9jeyWNjY1xwAEHRFVVVd9rRxxxROTz+VixYkXfawcccEBUVlb2PT/ssMNi48aNsWrVqjjggAPizW9+c8ycOTNOPvnkWLhwYbS0tGx3vkMOOaTf87e97W0xatSo+OUvfxkREf/93/8d1dXVceyxx0ZExCOPPBKPP/54jB07tu99x40bF52dnfHXv/41Wltbo7m5OWbPnt33nqWlpZt9zj8qLS2N1772tVt9bM9qgd7e3vj85z8fM2fOjHHjxsWYMWPi5ptvjqeffrrfefvvv3/f/y4pKYlddtklZs6c2ffapEmTIiJi9erVERFx5plnxo9//OM48MAD4/zzz4977713mzMBAOll3mneua3zzqOPPjqWLVsWa9asibvuuiuOOeaYOOaYY+LOO++MTZs2xb333tu3JcaKFSti6tSp/e69MGvWrH7vd9ppp8XDDz8c06dPj//3//5f/P73v+93/NZbb403v/nNsdtuu8XYsWPj/e9/f6xbt67vL8H+3h133BGnn356LFy4MPbdd9+tjgOQbm5EBqReRUVFvOUtb4m3vOUt8dnPfjY+9KEPxYIFC+K0007bpuuz2exm+1pt2rRps/P+fiIbETF69OhXfM+X95BauHBhv0lixEvF32AoKSmJW265Je699974/e9/H9/+9rfj05/+dCxZsqRvwr0t+f7x6y4rK4t/+Zd/ieuuuy7+z//5P3HdddfFe97znigtfelHxsaNG+Pggw/e4h1pJ0yYMOCv5+mnn44ZM2Zs9ZxPfepT8alPfWqb3u8rX/lKfPOb34zLLrusbw+wc889t9/ebBGx2T+OMplMv9cymUxEvPQnkRERb33rW+Opp56K3/72t3HLLbfEm9/85jjrrLPiq1/96jblAgDSy7xzy8w7+3t5UcBdd90Vd911V3zhC1+IyZMnx6WXXhoPPPBAbNq0KQ4//PBtznPQQQdFU1NT/O53v4tbb7013v3ud8exxx4b119/fTz55JNx4oknxplnnhlf+MIXYty4cXH33XdHQ0NDdHd39yva77rrrnjHO94R3/jGN+IDH/jANn8+kE5KW2DImTFjRt+m/fX19bFq1apYtWpV36qHZcuWxYYNG/omYhMmTIjHHnus33s8/PDDr3q32v333z+uvvrqLd7ZdtKkSbHrrrvGE088Eaeccsp2fw319fVx1VVXRXt7e9/k9Z577olsNhvTp0/vO++RRx6JF198sW8iv3jx4hgzZkzf15rJZOKII46II444IubPnx977LFH3HDDDXHeeeftUL5TTjkl3vKWt8TSpUvj9ttvj3//93/vO3bQQQfFT37yk5g4cWJUV1dv8fopU6bEkiVL4qijjoqIiJ6ennjwwQfjoIMOesXP3HXXXePhhx/eaq7tWWl7zz33xNy5c+N973tfRLxUuq5cufJVJ+jbYsKECXHqqafGqaeeGkceeWR84hOfUNoCwDBk3mneuSWZTCaOPPLI+MUvfhFLly6NN7zhDVFZWRldXV1x+eWXxyGHHNI31tOnT49Vq1bF888/3/cXXA888MBm71ldXR3vec974j3veU/8y7/8S5xwwgmxfv36ePDBByOfz8fXvva1yGZf+mPpn/70p5tdf+edd8aJJ54Yl156aZxxxhlb/dqAIaLY+zMAvJK1a9cmb3zjG5Mf/vCHySOPPJI88cQTyU9/+tNk0qRJyQc/+MEkSZIkn88nBx54YHLkkUcmDz74YLJkyZLk4IMP7rdv2E033ZRkMpnk6quvTlauXJnMnz8/qa6u3mxvsXPOOWezz99ll12Sd77znckDDzyQrFy5MrnmmmuS5cuXJ0mSJAsXLkxGjx6dfPOb30xWrFiR/PnPf05+8IMfJF/72tde9Wtrb29PpkyZkrzrXe9KHn300eT2229P9tprr+TUU0/tO+fUU09NxowZk7z3ve9Nli5dmvzmN79JJk2alFxwwQVJkiTJ4sWLky984QvJAw88kDz11FPJT3/606SsrCz57W9/u035Xt5b7E9/+tNm+fL5fDJ16tTkgAMOSPbee+/Nsr/uda9LjjnmmOQPf/hD8sQTTyR33HFH8tGPfjRZtWpVkiRJ8qUvfSkZN25ccsMNNySNjY3JvHnzkrFjx251b7Ed9Y972n7sYx9Lpk6dmtxzzz3JsmXLkg996ENJdXV1vwxb+u++xx57JN/4xjf6vRZ/t+fYZz/72eTGG29M/vKXvySPPfZYcuKJJyazZs3aaV8XALDzmXead26vyy67LCkpKUlmz57d99rcuXOTkpKSvnFLkpfumTB9+vTk+OOPTx555JHk7rvvTubMmZNERHLjjTcmSZIkX/va15LrrrsuaWxsTFasWJE0NDQkkydPTnp7e5OHH364bz/gv/71r8k111yT7Lbbbv3mvbfffntSWVmZXHjhhUlzc3PfY2v78gLpp7QFUquzszO54IILkoMOOijJ5XJJZWVlMn369OQzn/lM0tHR0XfeU089lfzTP/1TUlVVlYwdOzY5+eST+26q8LL58+cnkyZNSnK5XPKxj30sOfvss1918pwkSfLII48kxx13XFJZWZmMHTs2OfLII5O//vWvfcevvfba5MADD0zKysqS2tra5Kijjkp+/vOfb9PX9+c//zl54xvfmFRUVCTjxo1L5s2bl7zwwgt9x1++kcX8+fOTXXbZJRkzZkwyb968pLOzM0mSJFm2bFly/PHHJxMmTEjKy8uTadOmJd/+9rf7fcbW8m1t8pwkSXL++ecnEZHMnz9/s2PNzc3JBz7wgWT8+PFJeXl5stdeeyXz5s1LWltbkyR56eYO55xzTlJdXZ3U1NQk5513XvKBD3xgUEvbdevWJXPnzk3GjBmTTJw4MfnMZz6zWYaBlLaf//znk/r6+mT06NHJuHHjkrlz5yZPPPHETvu6AICdz7zTvHN7/elPf0oiIvnkJz/Z99o3vvGNJCKSm266qd+5jY2NyRFHHJGUlZUl++yzT/KrX/2q33lXXHFFcuCBByZVVVVJdXV18uY3vzl56KGH+q7/+te/nkyZMiUZPXp0cvzxxyfXXHNNv3nvqaeemkTEZo+//74Dhp5MkvzDhjsAMATdfPPN8da3vjU6OzujrKys2HEAAGCL7rnnnnjDG94Qjz/+eOy9997FjgOklD1tARjynn/++fjFL34Rr3vd6xS2AACkyg033BBjxoyJ173udfH444/HOeecE0cccYTCFtiqbLEDAAxHX/ziF2PMmDFbfLz1rW8tdrxh521ve1vceuut8Z3vfKfYUQAABpV5Z/q98MILcdZZZ8U+++wTp512Whx66KHxi1/8otixgJSzPQLATrB+/fpYv379Fo+NHj06dtttt0FOBADAcGTeCTA8KW0BAAAAAFLE9ggAAAAAACkyokrbJEmira0tLC4GAKAYzEcBANgWI6q0feGFFyKXy8ULL7xQ7CgAAIxA5qMAAGyLEVXaAgAAAACkndIWAAAAACBFlLYAAAAAACmitAUAAAAASBGlLQAAAABAiihtAQAAAABSRGkLAAAAAJAiSlsAAAAAgBRR2gIAAAAApIjSFgAAAAAgRZS2AAAAAAAporQFAAAAAEgRpS0AAAAAQIoobQEAAAAAUkRpCwAAAACQIkpbAAAAAIAUUdoCAAAAAKSI0hYAAAAAIEWUtgAAAAAAKaK0BQAAAABIEaUtAAAAAECKKG0BAAAAAFJEaQsAAAAAkCJKWwAAAACAFFHaAgAAAACkiNIWAAAAACBFlLYAAAAAACmitAUAAAAASBGlLQAAAABAiihtAQAAAABSRGkLAAAAAJAiSlsAAAAAgBRR2gIAAAAApIjSFgAAAAAgRZS2AAAAAAAporQFAAAAAEgRpS0AAAAAQIoobQEAAAAAUkRpCwAAAACQIkpbAAAAAIAUUdoCAAAAAKSI0hYAAAAAIEWUtgAAAAAAKaK0BQAAAABIEaUtAAAAAECKKG0BAAAAAFJEaQsAAAAAkCJKWwAAAACAFFHaAgAAAACkiNIWAAAAACBFlLYAAAAAACkyZEvbL33pS5HJZOLcc88tdhQAAAAAgIIZkqXtAw88EJdffnnsv//+xY4CAAAAAFBQQ6603bhxY5xyyimxcOHCqK2tLXYcAAAAAICCGnKl7VlnnRVvf/vb49hjj33Vc7u6uqKtra3fAwAABov5KAAAAzGkStsf//jH8dBDD8Ull1yyTedfcsklkcvl+h5Tp07dyQkBAOB/mY8CADAQmSRJkmKH2BarVq2KQw45JG655Za+vWyPOeaYOPDAA+Oyyy7b4jVdXV3R1dXV97ytrS2mTp0ara2tUV1dPRixAQAYwcxHAQAYiCFT2t54443xz//8z1FSUtL3Wm9vb2Qymchms9HV1dXv2Ja0tbVFLpczSQYAoCjMRwEA2BalxQ6wrd785jfHo48+2u+1008/PfbZZ5/45Cc/+aqFLQAAAADAUDBkStuxY8fGfvvt1++1qqqq2GWXXTZ7HQAAAABgqBpSNyIDAAAAABjuhsxK2y258847ix0BAAAAAKCgrLQFAAAAAEgRpS0AAAAAQIoobQEAAAAAUkRpCwAAAACQIkpbAAAAAIAUUdoCAAAAAKSI0hYAAAAAIEWUtgAAAAAAKaK0BQAAAABIEaUtAAAAAECKKG0BAAAAAFJEaQsAAAAAkCJKWwAAAACAFFHaAgAAAACkiNIWAAAAACBFlLYAAAAAACmitAUAAAAASBGlLQAAAABAiihtAQAAAABSRGkLAAAAAJAiSlsAAAAAgBRR2gIAAAAApIjSFgAAAAAgRZS2AAAAAAAporQFAAAAAEgRpS0AAAAAQIoobQEAAAAAUkRpCwAAAACQIkpbAAAAAIAUUdoCAAAAAKSI0hYAAAAAIEWUtgAAAAAAKaK0BQAAAABIEaUtAAAAAECKKG0BAAAAAFJEaQsAAAAAkCJKWwAAAACAFFHaAgAAAACkiNIWAAAAACBFlLYAAAAAACmitAUAAAAASBGlLQAAAABAiihtAQAAAABSRGkLAAAAAJAiSlsAAAAAgBQpLXYAAAAAAIDBlOTz0bmsMXpbWqKktjYqZtRHJpue9a1KWwAAAABgxGhfvDjWXrEwupuaItm0KTKjRkVZXV2MP2NeVM2ZU+x4EWF7BAAAAABghGhfvDiaFyyIrhUrIltZGaUTJkS2sjK6Vq6M5gULon3x4mJHjAilLQAAAAAwAiT5fKy9YmHkN7ZH6aRJka2oiEw2G9mKiiidODHy7R2x9oqFkeTzxY6qtAUAAAAAhr/OZY3R3dQUJTU1kclk+h3LZDJRkstFd1NTdC5rLFLC/6W0BQAAAACGvd6Wlpf2sC0r2+LxTFlZJJs2RW9LyyAn25zSFgAAAAAY9kpqayMzalQk3d1bPJ50d0dm1Kgoqa0d5GSbU9oCAAAAAMNexYz6KKuri97W1kiSpN+xJEmit7U1yurqomJGfZES/i+lLQAAAAAw7GWy2Rh/xrzIVlVGz+rVke/sjCSfj3xnZ/SsXh3ZqqoYf8a8yGSLX5kWPwEAAAAAwCComjMnplx0UZRPmxb5jo7oWbMm8h0dUT5tWky56HNRNWdOsSNGRERpsQMAAAAAAAyWqjlzonLWrOhc1hi9LS1RUlsbFTPqU7HC9mVKWwAAAABgRMlkszF6v32LHeMVpac+BgAAAABAaQsAAAAAkCZKWwAAAACAFFHaAgAAAACkiNIWAAAAACBFlLYAAAAAACmitAUAAAAASBGlLQAAAABAiihtAQAAAABSRGkLAAAAAJAiSlsAAAAAgBRR2gIAAAAApIjSFgAAAAAgRZS2AAAAAAAporQFAAAAAEgRpS0AAAAAQIoobQEAAAAAUkRpCwAAAACQIkpbAAAAAIAUUdoCAAAAAKRIabEDAAAAAMBIkOTz0bmsMXpbWqKktjYqZtRHJmtNJZsbMqXtJZdcEj//+c9j+fLlMXr06Dj88MPj0ksvjenTpxc7GgAAAABsVfvixbH2ioXR3dQUyaZNkRk1Ksrq6mL8GfOias6cYscjZYZMlX/XXXfFWWedFYsXL45bbrklNm3aFMcdd1y0t7cXOxoAAAAAvKL2xYujecGC6FqxIrKVlVE6YUJkKyuja+XKaF6wINoXLy52RFImkyRJUuwQA7FmzZqYOHFi3HXXXXHUUUdt0zVtbW2Ry+WitbU1qqurd3JCAADoz3wUAEaeJJ+Ppz80L7pWrIjSSZMik8n877EkiZ7Vq6N82rR4zfcX2iqBPkNme4R/1NraGhER48aNe8Vzurq6oqurq+95W1vbTs8FAAAvMx8FADqXNUZ3U1OU1NT0K2wjIjKZTJTkctHd1BSdyxpj9H77FiklaTMk6/t8Ph/nnntuHHHEEbHffvu94nmXXHJJ5HK5vsfUqVMHMSUAACOd+SgA0NvS8tIetmVlWzyeKSuLZNOm6G1pGeRkpNmQLG3POuuseOyxx+LHP/7xVs+78MILo7W1te+xatWqQUoIAADmowBAREltbWRGjYqku3uLx5Pu7siMGhUltbWDnIw0G3LbI5x99tnx61//Ov7whz/E7rvvvtVzy8vLo7y8fJCSAQBAf+ajAEDFjPooq6uLrpUrI1Nevtmetr2trVE+bVpUzKgvYkrSZsistE2SJM4+++y44YYb4vbbb4+6urpiRwIAAACArcpkszH+jHmRraqMntWrI9/ZGUk+H/nOzuhZvTqyVVUx/ox5bkJGP0Pmu+Gss86K//qv/4rrrrsuxo4dG88991w899xz8eKLLxY7GgAAAAC8oqo5c2LKRRdF+bRpke/oiJ41ayLf0RHl06bFlIs+F1Vz5hQ7IimTSZIkKXaIbfGPd9d72ZVXXhmnnXbaNr1HW1tb5HK5aG1tjerq6gKmAwCAV2c+CgAjW5LPR+eyxuhtaYmS2tqomFFvhS1bNGT2tB0i3TIAAAAAbFEmm43R++1b7BgMAap8AAAAAIAUUdoCAAAAAKSI0hYAAAAAIEWUtgAAAAAAKaK0BQAAAABIEaUtAAAAAECKKG0BAAAAAFKktNgBAAAYefJJPhrXN8aGzg1RU1ET9ePqI5uxngAAACKUtgAADLIlzUti0aOLoqmtKXryPVGaLY266rpomNkQs6fMLnY8AAAoOssZAAAYNEual8TF910cK1tWRmVpZYwfPT4qSytjZcvKuPi+i2NJ85JiRwQAgKJT2gIAMCjyST4WPboo2je1x8TKiVFRWhHZTDYqSitiYuXEaN/UHoseXRT5JF/sqAAAUFRKWwAABkXj+sZoamuKXHkuMplMv2OZTCZy5bloamuKxvWNRUoIAADpoLQFAGBQbOjcED35nigrKdvi8bKSsujJ98SGzg2DGwwAAFJGaQsAwKCoqaiJ0mxpdPd2b/F4d293lGZLo6aiZnCDAQBAyihtAQAYFPXj6qOuui5au1ojSZJ+x5Ikidau1qirrov6cfVFSggAAOmgtAUAYFBkM9lomNkQVaOqYnXH6ujs6Yx8ko/Ons5Y3bE6qkZVRcPMhshmTFEBABjZzIgBABg0s6fMjvmHzY9ptdOio6cj1r64Njp6OmJa7bSYf9j8mD1ldrEjAgBA0ZUWOwAAACPL7Cmz49DJh0bj+sbY0Lkhaipqon5cvRW2AADw/1PaAgAw6LKZbOy7y77FjgEAAKlkOQMAAAAAQIoobQEAAAAAUkRpCwAAAACQIkpbAAAAAIAUUdoCAAAAAKSI0hYAAAAAIEWUtgAAAAAAKaK0BQAAAABIEaUtAAAAAECKKG0BAAAAAFKktNgBAAAGSz7JR+P6xtjQuSFqKmqiflx9ZDN+hw0AaZXk89G5rDF6W1qipLY2KmbURybrZzcw/CltAYARYUnzklj06KJoamuKnnxPlGZLo666LhpmNsTsKbOLHQ8A+AftixfH2isWRndTUySbNkVm1Kgoq6uL8WfMi6o5c4odD2Cn8uspAGDYW9K8JC6+7+JY2bIyKksrY/zo8VFZWhkrW1bGxfddHEualxQ7IgDwd9oXL47mBQuia8WKyFZWRumECZGtrIyulSujecGCaF+8uNgRAXYqpS0AMKzlk3wsenRRtG9qj4mVE6OitCKymWxUlFbExMqJ0b6pPRY9uijySb7YUQGAeGlLhLVXLIz8xvYonTQpshUVkclmI1tREaUTJ0a+vSPWXrEwkryf3cDwpbQFAIa1xvWN0dTWFLnyXGQymX7HMplM5Mpz0dTWFI3rG4uUEAD4e53LGqO7qSlKamq2+LO7JJeL7qam6FzmZzcwfCltAYBhbUPnhujJ90RZSdkWj5eVlEVPvic2dG4Y3GAAwBb1trS8tIdt2ZZ/dmfKyiLZtCl6W1oGORnA4FHaAgDDWk1FTZRmS6O7t3uLx7t7u6M0Wxo1FTWDGwwA2KKS2trIjBoVSfeWf3Yn3d2RGTUqSmprBzkZwOBR2gIAw1r9uPqoq66L1q7WSJKk37EkSaK1qzXqquuiflx9kRICAH+vYkZ9lNXVRW/rln9297a2RlldXVTM8LMbGL6UtgBAquSTfCxdtzTuefaeWLpu6Q7fICybyUbDzIaoGlUVqztWR2dPZ+STfHT2dMbqjtVRNaoqGmY2RDZjWgQAaZDJZmP8GfMiW1UZPatXR76zM5J8PvKdndGzenVkq6pi/BnzIpP1sxsYvjLJP/7aahhra2uLXC4Xra2tUV1dXew4AMA/WNK8JBY9uiia2pqiJ98TpdnSqKuui4aZDTF7yuzUvjdsK/NRgG3XvnhxrL1iYXQ3Nb20x+2oUVFWVxfjz5gXVXPmFDsewE6ltAUAUmFJ85K4+L6Lo31Te+TKc1FWUhbdvd3R2tUaVaOqYv5h83e4XM0n+Whc3xgbOjdETUVN1I+rt8KWQWU+CrB9knw+Opc1Rm9LS5TU1kbFjHorbIERobTYAQAA8kk+Fj26KNo3tcfEyomRyWQiIqKitCLKS8pjdcfqWPToojh08qE7VLJmM9nYd5d9CxUbANjJMtlsjN7Pz25g5PHrKQCg6BrXN0ZTW1PkynN9he3LMplM5Mpz0dTWFI3rG4uUEAAAYPBYaQsAFN2Gzg3Rk++JspKyLR4vKymLtu622NC5YXCDAQAw4tiWgzRQ2gIARVdTUROl2dLo7u2OitKKzY5393ZHabY0aipqBj8cAAAjhhvgkRZ+TQAAFF39uPqoq66L1q7W+Md7pCZJEq1drVFXXRf14+qLlBAAgOGuffHiaF6wILpWrIhsZWWUTpgQ2crK6Fq5MpoXLIj2xYuLHZERRGkLABRdNpONhpkNUTWqKlZ3rI7Ons7IJ/no7OmM1R2ro2pUVTTMbNihm5ABAMArSfL5WHvFwshvbI/SSZMiW1ERmWw2shUVUTpxYuTbO2LtFQsjyeeLHZURwr98AIBUmD1ldsw/bH5Mq50WHT0dsfbFtdHR0xHTaqfF/MPmx+wps4sdEQCAYapzWWN0NzVFSU3NFm+MW5LLRXdTU3Quc2NcBoc9bQGA1Jg9ZXYcOvnQaFzfGBs6N0RNRU3Uj6u3whYAgJ2qt6XlpT1sy7Z8Y9xMWVkkra3R29IyyMkYqZS2AECqZDPZ2HeXfYsdAwCAEaSktjYyo0ZF0t0dmYrNb4ybdHdHZtSoKKmtLUI6RiLLVgAAAACGgSSfjxcfWxob/3h3vPjYUvuvboeKGfVRVlcXva1bvjFub2trlNXVRcUMN8ZlcFhpCwAAADDEtS9eHGuvWBjdTU0v/Zn/qFFRVlcX48+YF1Vz5hQ7XuplstkYf8a8aF6wIHpWr46SXO6lLRG6u6O3tTWyVVUx/ox5kcla/8jg8J0GAAAAMIS1L14czQsWRNeKFZGtrIzSCRMiW1kZXStXRvOCBdG+eHGxIw4JVXPmxJSLLoryadMi39ERPWvWRL6jI8qnTYspF31O+c2gstIWAAAAYIhK8vlYe8XCyG9sj9JJkyKTyURERKaiIjLl5dGzenWsvWJhVM6aZZXoNqiaMycqZ82KzmWN0dvSEiW1tVExo97YMeiUtgAAAABDVOeyxuhuaoqSmpq+wvZlmUwmSnK56G5qis5ljTF6Pzd73RaZbNZYUXR+TQAAAAAwRPW2tLy0h21Z2RaPZ8rKItm0KXpbWgY5GbAjlLYAAAAAQ1RJbW1kRo2KpLt7i8eT7u7IjBoVJbW1g5wM2BFKWwAokHySj6XrlsY9z94TS9ctjXySL3YkAACGuYoZ9VFWVxe9ra2RJEm/Y0mSRG9ra5TV1UXFjPoiJQQGwp62AFAAS5qXxKJHF0VTW1P05HuiNFsaddV10TCzIWZPmV3seAAADFOZbDbGnzEvmhcsiJ7Vq6Mkl3tpS4Tu7uhtbY1sVVWMP2OeG2nBEOP/YgFgBy1pXhIX33dxrGxZGZWllTF+9PioLK2MlS0r4+L7Lo4lzUuKHREAgGGsas6cmHLRRVE+bVrkOzqiZ82ayHd0RPm0aTHlos9F1Zw5xY4IbCcrbQFgB+STfCx6dFG0b2qPiZUT++7YW1FaEeUl5bG6Y3UsenRRHDr50Mhm/K4UAICdo2rOnKicNSs6lzVGb0tLlNTWRsWMeitsYYhS2gLADmhc3xhNbU2RK8/1FbYvy2QykSvPRVNbUzSub4x9d9m3SCkBABgJMtlsjN7PnBOGA79uAYAdsKFzQ/Tke6KspGyLx8tKyqIn3xMbOjcMbjAAAACGLKUtAOyAmoqaKM2WRndv9xaPd/d2R2m2NGoqagY3GAAAAEOW0hYAdkD9uPqoq66L1q7WSJKk37EkSaK1qzXqquuiflx9kRICAAAw1ChtAWAHZDPZaJjZEFWjqmJ1x+ro7OmMfJKPzp7OWN2xOqpGVUXDzAY3IQMAAGCb+RckAOyg2VNmx/zD5se02mnR0dMRa19cGx09HTGtdlrMP2x+zJ4yu9gRAQAAGEJKix0AAIaD2VNmx6GTD43G9Y2xoXND1FTURP24eitsAQAA2G5KWwAokGwmG/vusm+xYwAAADDEWf4DAAAAAJAiSlsAAAAAgBRR2gIAAAAApIjSFgAAAAAgRZS2AAAAAAAporQFAAAAAEgRpS0AAAAAQIoobQEAAAAAUkRpCwAAAACQIkpbAAAAAIAUGXKl7Xe+853Yc889o6KiImbPnh33339/sSMBAAAAABTMkCptf/KTn8R5550XCxYsiIceeigOOOCAOP7442P16tXFjgYwLOWTfCxdtzTuefaeWLpuaeSTfLEjAQAAwLCXSZIkKXaIbTV79uw49NBD4z/+4z8iIiKfz8fUqVPjox/9aFxwwQWven1bW1vkcrlobW2N6urqnR0XYEhb0rwkFj26KJramqIn3xOl2dKoq66LhpkNMXvK7GLHAxiSzEcBANgWQ2albXd3dzz44INx7LHH9r2WzWbj2GOPjfvuu2+L13R1dUVbW1u/BwCvbknzkrj4votjZcvKqCytjPGjx0dlaWWsbFkZF993cSxpXlLsiABDgvkobF2Sz8eLjy2NjX+8O158bGkkeX/VAwAREaXFDrCt1q5dG729vTFp0qR+r0+aNCmWL1++xWsuueSSuOiiiwYjHsCwkU/ysejRRdG+qT0mVk6MTCYTEREVpRVRXlIeqztWx6JHF8Whkw+NbGbI/O4PoCjMR+GVtS9eHGuvWBjdTU2RbNoUmVGjoqyuLsafMS+q5swpdjwAKKph/a/tCy+8MFpbW/seq1atKnYkgNRrXN8YTW1NkSvP9RW2L8tkMpErz0VTW1M0rm8sUkKAocN8FLasffHiaF6wILpWrIhsZWWUTpgQ2crK6Fq5MpoXLIj2xYuLHREAimrIrLQdP358lJSUxPPPP9/v9eeffz4mT568xWvKy8ujvLx8MOIBDBsbOjdET74nykrKtni8rKQs2rrbYkPnhsENBjAEmY/C5pJ8PtZesTDyG9ujdNKkvl8SZyoqIlNeHj2rV8faKxZG5axZkckO63VGAPCKhsxPwLKysjj44IPjtttu63stn8/HbbfdFocddlgRkwEMLzUVNVGaLY3u3u4tHu/u7Y7SbGnUVNQMbjAAYFjoXNYY3U1NUVJTs8W/6inJ5aK7qSk6l/mrHgBGriFT2kZEnHfeebFw4cK4+uqro7GxMc4888xob2+P008/vdjRAIaN+nH1UVddF61drZEkSb9jSZJEa1dr1FXXRf24+iIlBACGst6Wlpf2sC3b8l/1ZMrKItm0KXpbWgY5GQCkx5DZHiEi4j3veU+sWbMm5s+fH88991wceOCBcdNNN212czIABi6byUbDzIa4+L6LY3XH6siV56KspCy6e7ujtas1qkZVRcPMBjchA2BESvL56FzWGL0tLVFSWxsVM+r9Cf92KqmtjcyoUZF0d0emomKz40l3d2RGjYqS2toipAOAdMgk/7iMahhra2uLXC4Xra2tUV1dXew4AKm2pHlJLHp0UTS1NUVPvidKs6VRV10XDTMbYvaU2cWOBzAkmY8Obe2LF8faKxZGd1PTSytFR42Ksrq6GH/GvKiaM6fY8YaMJJ+Ppz80L7pWrozSiRP7bZGQJEn0rF4d5dOmxWu+v1AhDsCIpbQF4BXlk3w0rm+MDZ0boqaiJurH1VthC7ADzEeHrvbFi6N5wYLIb2x/aS/WsrJIurujt7U1slWVMeWiixS326FvPNs7oiSX+4fxrIopF33OeAIwoiltAQBgkJiPDk19K0NXrIjSSZOsDC0QK5cB4JUNqT1tAQAABlvnssbobmp6aYXt3xW2ERGZTCZKcrnobmqKzmWNMXq/fYuUcuipmjMnKmfNskcwAGyB0hYAAGAreltaXloJWla2xeOZsrJIWlujt6VlkJMNfZlsVtENAFvgV5gAAABbUVJbG5lRoyLp7t7i8aS7OzKjRkVJbe0gJwMAhiulLQAAwFZUzKiPsrq66G1tjX+8JUiSJNHb2hpldXVRMaO+SAkBgOFGaQsAALAVmWw2xp8xL7JVldGzenXkOzsjyecj39kZPatXR7aqKsafMc9erABAwZhVAAAAvIqqOXNiykUXRfm0aZHv6IieNWsi39ER5dOmxZSLPhdVc+YUOyIAMIy4ERkAAMA2qJozJypnzYrOZY3R29ISJbW1UTGj3gpbAKDglLYAAADbKJPNxuj99i12DABgmPMrYQAAAACAFFHaAgAAAACkiNIWAAAAACBFlLYAAAAAACmitAUAAAAASBGlLQAAAABAiihtAQAAAABSRGkLAAAAAJAiSlsAAAAAgBRR2gIAAAAApMiAStve3t74wx/+EBs2bChwHAAAAACAkW1ApW1JSUkcd9xx0dLSUug8AAAAAAAj2oC3R9hvv/3iiSeeKGQWAAAAAIARb8Cl7b//+7/Hv/3bv8Wvf/3raG5ujra2tn4PAAAAAAC2XyZJkmQgF2az/9v3ZjKZvv+dJElkMpno7e3d8XQF1tbWFrlcLlpbW6O6urrYcQAAGGHMRwEA2BalA73wjjvuKGQOAAAAAABiB0rbo48+upA5AAAAAACI7Sxt//znP2/zufvvv/92hwEAAAAAGOm2q7Q98MADI5PJxKttg5vWPW0BAAAAANJuu0rbpqamnZUDAAAAAIDYztJ2jz322Fk5AAAAAACIiOxAL7zkkkviBz/4wWav/+AHP4hLL710h0IBAAAAAIxUAy5tL7/88thnn302e33fffeN733vezsUCgAAAABgpNqu7RH+3nPPPRdTpkzZ7PUJEyZEc3PzDoUCBkc+yUfj+sbY0Lkhaipqon5cfWQzA/5dDgAAAAAFMODSdurUqXHPPfdEXV1dv9fvueee2HXXXXc4GLBzLWleEoseXRRNbU3Rk++J0mxp1FXXRcPMhpg9ZXax4wEAAACMWAMubefNmxfnnntubNq0Kd70pjdFRMRtt90W559/fnz84x8vWECg8JY0L4mL77s42je1R648F2UlZdHd2x0rW1bGxfddHPMPm6+4BQAAACiSAZe2n/jEJ2LdunXxkY98JLq7uyMioqKiIj75yU/GhRdeWLCAQGHlk3wsenRRtG9qj4mVEyOTyUREREVpRZSXlMfqjtWx6NFFcejkQ22VAAAAAFAEA25kMplMXHrppbFmzZpYvHhxPPLII7F+/fqYP39+v/OeeeaZyOfzOxwUKIzG9Y3R1NYUufJcX2H7skwmE7nyXDS1NUXj+sYiJQQAAAAY2XZ4Gd2YMWPi0EMPjf322y/Ky8s3Oz5jxox48sknd/RjgALZ0LkhevI9UVZStsXjZSVl0ZPviQ2dGwY3GAAAAAARUYDS9tUkSbKzPwLYDjUVNVGaLY3u3u4tHu/u7Y7SbGnUVNQMbjAAAAAAImIQSlsgXerH1UdddV20drVu9kuVJEmitas16qrron5cfZESAgAAAIxsSlsYYbKZbDTMbIiqUVWxumN1dPZ0Rj7JR2dPZ6zuWB1Vo6qiYWaDm5ABAAAAFIlWBkag2VNmx/zD5se02mnR0dMRa19cGx09HTGtdlrMP2x+zJ4yu9gRAQAAAEas0p39Af94d3ogHWZPmR2HTj40Gtc3xobODVFTURP14+qtsAUAAAAosp1e2roRGaRXNpONfXfZt9gxAAAAAPg7O720XbZsWey66647+2MAAAAAAIaF7Spt3/nOd27zuT//+c8jImLq1KnblwgAAAAAYATbrs0rc7lc36O6ujpuu+22+J//+Z++4w8++GDcdtttkcvlCh4UAAAAAGAk2K6VtldeeWXf//7kJz8Z7373u+N73/telJSUREREb29vfOQjH4nq6urCpoT/Xz7Ju3EWAAAAAMNaJhngncImTJgQd999d0yfPr3f6ytWrIjDDz881q1bV5CAhdTW1ha5XC5aW1sVy0PQkuYlsejRRdHU1hQ9+Z4ozZZGXXVdNMxsiNlTZhc7HgDAqzIfBQBgWwx4iWJPT08sX758s9eXL18e+Xx+h0LBP1rSvCQuvu/iWNmyMipLK2P86PFRWVoZK1tWxsX3XRxLmpcUOyIAAAAAFMR2bY/w904//fRoaGiIv/71rzFr1qyIiFiyZEl86UtfitNPP71gASGf5GPRo4uifVN7TKycGJlMJiIiKkororykPFZ3rI5Fjy6KQycfaqsEAAAAAIa8AZe2X/3qV2Py5Mnxta99LZqbmyMiYsqUKfGJT3wiPv7xjxcsIDSub4ymtqbIlef6CtuXZTKZyJXnoqmtKRrXN8a+u+xbpJQAAAAAUBgDLm2z2Wycf/75cf7550dbW1tEhH252Ck2dG6InnxPlJWUbfF4WUlZtHW3xYbODYMbDAAAAAB2gh36W/Kenp649dZb40c/+lHfCsi//e1vsXHjxoKEg4iImoqaKM2WRndv9xaPd/d2R2m2NGoqagY3GAAAAADsBANeafvUU0/FCSecEE8//XR0dXXFW97ylhg7dmxceuml0dXVFd/73vcKmZMRrH5cfdRV18XKlpVRXlLeb4uEJEmitas1ptVOi/px9UVMCQAAAACFMeCVtuecc04ccsgh0dLSEqNHj+57/Z//+Z/jtttuK0i4oS6f5GPpuqVxz7P3xNJ1SyOf5IsdaUjKZrLRMLMhqkZVxeqO1dHZ0xn5JB+dPZ2xumN1VI2qioaZDW5CBgAAAMCwMOCVtn/84x/j3nvvjbKy/vuM7rnnnvHss8/ucLChbknzklj06KJoamuKnnxPlGZLo666LhpmNsTsKbOLHW/ImT1ldsw/bH7fmLZ1t0VptjSm1U4zpgAAAAAMKwMubfP5fPT29m72+jPPPBNjx47doVBD3ZLmJXHxfRdH+6b2yJXnoqykLLp7u2Nly8q4+L6LY/5h85WMAzB7yuw4dPKh0bi+MTZ0boiaipqoH1dvhS0AAAAAw8qA267jjjsuLrvssr7nmUwmNm7cGAsWLIi3ve1thcg2JOWTfCx6dFG0b2qPiZUTo6K0IrKZbFSUVsTEyonRvqk9Fj26yFYJA5TNZGPfXfaNI3Y7IvbdZV+FLQAAAADDzoAbr6997Wtxzz33xIwZM6KzszP+9V//tW9rhEsvvbSQGYeUxvWN0dTWFLnyXL8bZkW8VGznynPR1NYUjesbi5QQAAAAAEizAW+PsPvuu8cjjzwSP/7xj+PPf/5zbNy4MRoaGuKUU07pd2OykWZD54boyfdEWUnZFo+XlZRFW3dbbOjcMLjBAAAAAIAhYcClbWdnZ1RUVMT73ve+QuYZ8moqaqI0Wxrdvd1RUVqx2fHu3u4ozZZGTUXN4IcDAAAAAFJvwNsjTJw4MU499dS45ZZbIp+3P+vL6sfVR111XbR2tUaSJP2OJUkSrV2tUVddF/Xj6ouUEAAAAABIswGXtldffXV0dHTE3LlzY7fddotzzz03/ud//qeQ2YakbCYbDTMbompUVazuWB2dPZ2RT/LR2dMZqztWR9WoqmiY2eAGWgAAAADAFmWSf1wOup1eeOGFuP766+NHP/pR3H777bHXXnvF+973vpg/f36hMhZMW1tb5HK5aG1tjerq6p36WUual8SiRxdFU1tT9OR7ojRbGnXVddEwsyFmT5m9Uz8bAIB0Gsz5KAAAQ9cOl7Z/b9myZXHKKafEn//85+jt7S3U2xbMYE+S80k+Gtc3xobODVFTURP14+qtsAUAGMGUtgAAbIsB34jsZZ2dnfHLX/4yrrvuurjpppti0qRJ8YlPfKIQ2Ya8bCYb++6yb7FjAAAAAABDyIBL25tvvjmuu+66uPHGG6O0tDT+5V/+JX7/+9/HUUcdVch8AAAAAAAjyoBL23/+53+Od7zjHXHNNdfE2972thg1alQhcwEAAAAAjEgDKm17enri0ksvjZNPPjkmT55c6EwAAAAAACPWgO6KVVpaGp/85Cejq6ur0HkAAAAAAEa0AZW2ERGzZs2KP/3pT4XMAgAAAAAw4g14T9uPfOQj8fGPfzyeeeaZOPjgg6Oqqqrf8f3333+HwwEAAAAAjDSZJEmSgVyYzW6+SDeTyUSSJJHJZKK3t3eHwxVaW1tb5HK5aG1tjerq6mLHAQBghDEfBQBgWwx4pW1TU1MhcwAAAAAAEDtQ2u6xxx6FzAEAAAAAQOzAjcgiIn74wx/GEUccEbvuums89dRTERFx2WWXxS9+8YuChHvZk08+GQ0NDVFXVxejR4+OvffeOxYsWBDd3d0F/RwAAAAAgGIbcGn73e9+N84777x429veFhs2bOjbw7ampiYuu+yyQuWLiIjly5dHPp+Pyy+/PJYuXRrf+MY34nvf+1586lOfKujnAAAAAAAU24BvRDZjxoz44he/GCeddFKMHTs2Hnnkkdhrr73isccei2OOOSbWrl1b6Kz9fOUrX4nvfve78cQTT2zzNW78AABAMZmPAgCwLXboRmSvf/3rN3u9vLw82tvbdyjUtmhtbY1x48Zt9Zyurq7o6urqe97W1razYwEAQB/zUQAABmLA2yPU1dXFww8/vNnrN910U9TX1+9Iplf1+OOPx7e//e34v//3/271vEsuuSRyuVzfY+rUqTs1FwAA/D3zUQAABmLApe15550XZ511VvzkJz+JJEni/vvvjy984Qtx4YUXxvnnn79N73HBBRdEJpPZ6mP58uX9rnn22WfjhBNOiJNPPjnmzZu31fe/8MILo7W1te+xatWqgX65AACw3cxHAQAYiAHvaRsRce2118bnPve5+Otf/xoREbvuumtcdNFF0dDQsE3Xr1mzJtatW7fVc/baa68oKyuLiIi//e1vccwxx8ScOXPiqquuimx2+zpne4gBAFBM5qMAAGyLHSptX9bR0REbN26MiRMnFiLTFj377LPxxje+MQ4++OD4r//6rygpKdnu9zBJBgCgmMxHAQDYFgPeHuHFF1+Mjo6OiIiorKyMF198MS677LL4/e9/X7BwL3v22WfjmGOOide85jXx1a9+NdasWRPPPfdcPPfccwX/LAAAAACAYiod6IVz586Nd77znfHhD384NmzYELNmzYqysrJYu3ZtfP3rX48zzzyzYCFvueWWePzxx+Pxxx+P3Xffvd+xAiwUBgAAAABIjQGvtH3ooYfiyCOPjIiI66+/PiZPnhxPPfVUXHPNNfGtb32rYAEjIk477bRIkmSLDwAAAACA4WTApW1HR0eMHTs2IiJ+//vfxzvf+c7IZrMxZ86ceOqppwoWEAAAAABgJBlwafva1742brzxxli1alXcfPPNcdxxx0VExOrVq91UAQAAAABggAZc2s6fPz/+7d/+Lfbcc8+YNWtWHHbYYRHx0qrb17/+9QULCAAAAAAwkmSSHdgY9rnnnovm5uY44IADIpt9qf+9//77o7q6OvbZZ5+ChSyUtra2yOVy0draajUwAACDznwUAIBtUbojF0+ePDkmT54cq1atioiIqVOnxqxZswoSDAAAAABgJBrw9gg9PT3x2c9+NnK5XOy5556x5557Ri6Xi8985jOxadOmQmYEAAAAABgxBrzS9qMf/Wj8/Oc/jy9/+ct9+9ned9998bnPfS7WrVsX3/3udwsWEgAAAABgpBjwnra5XC5+/OMfx1vf+tZ+r//2t7+N9773vdHa2lqQgIVkDzEAAIrJfBQAgG0x4O0RysvLY88999zs9bq6uigrK9uRTAAAAAAAI9aAS9uzzz47Pv/5z0dXV1ffa11dXfGFL3whzj777IKEAwAAAAAYabZrT9t3vvOd/Z7feuutsfvuu8cBBxwQERGPPPJIdHd3x5vf/ObCJQQAAAAAGEG2q7TN5XL9nr/rXe/q93zq1Kk7nggAAAAAYATbrtL2yiuv3Fk5AAAAAACI7Sxtt2TNmjWxYsWKiIiYPn16TJgwYYdDAQAAAACMVAO+EVl7e3t88IMfjClTpsRRRx0VRx11VOy6667R0NAQHR0dhcwIAAAAADBiDLi0Pe+88+Kuu+6KX/3qV7Fhw4bYsGFD/OIXv4i77rorPv7xjxcyIwAAAADAiJFJkiQZyIXjx4+P66+/Po455ph+r99xxx3x7ne/O9asWVOIfAXV1tYWuVwuWltbo7q6uthxAAAYYcxHAQDYFgNeadvR0RGTJk3a7PWJEyfaHgEAAAAAYIAGXNoedthhsWDBgujs7Ox77cUXX4yLLrooDjvssIKEAwAAAAAYaUoHeuE3v/nNOP7442P33XePAw44ICIiHnnkkaioqIibb765YAEBAAAAAEaSAe9pG/HSFgnXXnttLF++PCIi6uvr45RTTonRo0cXLGAh2UMMAIBiMh8FAGBbDHilbUREZWVlzJs3b6vnvP3tb4/vf//7MWXKlB35KAAAAACAEWHAe9puqz/84Q/x4osv7uyPAQAAAAAYFnZ6aQsAAAAAwLZT2gIAAAAApIjSFgAAAAAgRZS2AAAAAAAporQFAAAAAEiRgpe2+Xw+fv3rX/c9/9SnPhXjxo0r9McAAAAAAAxLmSRJkkK80eOPPx4/+MEP4qqrroo1a9bEpk2bCvG2BdXW1ha5XC5aW1ujurq62HEAABhhzEcBANgWO7TS9sUXX4xrrrkmjjrqqJg+fXrce++9MX/+/HjmmWcKlQ8AAAAAYEQpHchFDzzwQHz/+9+PH//4x7H33nvHKaecEvfee2/853/+Z8yYMaPQGQEAAAAARoztLm3333//aGtri3/913+Ne++9N/bdd9+IiLjgggsKHg4AAAAAYKTZ7u0RVqxYEUcddVS88Y1vtKoWAAAAAKDAtru0feKJJ2L69Olx5plnxu677x7/9m//Fn/6058ik8nsjHwAAAAAACPKdpe2u+22W3z605+Oxx9/PH74wx/Gc889F0cccUT09PTEVVddFStXrtwZOQEAAAAARoTtLm3/3pve9Kb4r//6r2hubo7/+I//iNtvvz322WefeO1rX1uofAAAAAAAI8oOlbYvy+Vy8ZGPfCTuvvvu+MpXvhKrVq0qxNsCAAAAAIw4213adnV1xYUXXhiHHHJIHH744XHjjTdGRMSVV14Ze++9d3zzm9+Miy++uNA5AQAAAABGhNLtvWD+/Plx+eWXx7HHHhv33ntvnHzyyXH66afH4sWL42tf+1qcfPLJUVJSsjOyAgAAAAAMe9td2v7sZz+La665Jv7pn/4pHnvssdh///2jp6cnHnnkkchkMjsjIwAAAADAiLHd2yM888wzcfDBB0dExH777Rfl5eXxsY99TGELAAAAAFAA213a9vb2RllZWd/z0tLSGDNmTEFDAQAAAACMVNu9PUKSJHHaaadFeXl5RER0dnbGhz/84aiqqup33s9//vPCJAQAAAAAGEG2u7Q99dRT+z1/3/veV7AwAAAAAAAj3XaXtldeeeXOyAEAAAAAQAxgT1sAAAAAAHYepS0AAAAAQIoobQEAAAAAUkRpCwAAAACQIkpbAAAAAIAUUdoCAAAAAKSI0hYAAAAAIEWUtgAAAAAAKaK0BQAAAABIEaUtAAAAAECKKG0BAAAAAFJEaQsAAAAAkCJKWwAAAACAFFHaAgAAAACkiNIWAAAAACBFlLYAAAAAACmitAUAAAAASBGlLQAAAABAiihtAQAAAABSRGkLAAAAAJAiSlsAAAAAgBRR2gIAAAAApIjSFgAAAAAgRZS2AAAAAAAporQFAAAAAEgRpS0AAAAAQIoobQEAAAAAUkRpCwAAAACQIkpbAAAAAIAUUdoCAAAAAKSI0hYAAAAAIEWUtgAAAAAAKTLkStuurq448MADI5PJxMMPP1zsOAAAAAAABTXkStvzzz8/dt1112LHAAAAAADYKYZUafu73/0ufv/738dXv/rVYkcBAAAAANgpSosdYFs9//zzMW/evLjxxhujsrJym67p6uqKrq6uvudtbW07Kx4AAGzGfBQAgIEYEittkySJ0047LT784Q/HIYccss3XXXLJJZHL5foeU6dO3YkpAQCgP/NRAAAGoqil7QUXXBCZTGarj+XLl8e3v/3teOGFF+LCCy/crve/8MILo7W1te+xatWqnfSVAADA5sxHAQAYiEySJEmxPnzNmjWxbt26rZ6z1157xbvf/e741a9+FZlMpu/13t7eKCkpiVNOOSWuvvrqbfq8tra2yOVy0draGtXV1TuUHQAAtpf5KAAA26Kope22evrpp/vt//W3v/0tjj/++Lj++utj9uzZsfvuu2/T+5gkAwBQTOajAABsiyFxI7LXvOY1/Z6PGTMmIiL23nvvbS5sAQAAAACGgiFxIzIAAAAAgJFiSKy0/Ud77rlnDIFdHQAAAAAAtpuVtgAAAAAAKaK0BQAAAABIEaUtAAAAAECKKG0BAAAAAFJEaQsAAAAAkCJKWwAAAACAFFHaAgAAAACkiNIWAAAAACBFlLYAAAAAACmitAUAAAAASBGlLQAAAABAiihtAQAAAABSRGkLAAAAAJAiSlsAAAAAgBRR2gIAAAAApIjSFgAAAAAgRZS2AAAAAAAporQFAAAAAEgRpS0AAAAAQIoobQEAAAAAUkRpCwAAAACQIkpbAAAAAIAUUdoCAAAAAKSI0hYAAAAAIEWUtgAAAAAAKaK0BQAAAABIEaUtAAAAAECKKG0BAAAAAFJEaQsAAAAAkCJKWwAAAACAFFHaAgAAAACkiNIWAAAAACBFlLYAAAAAACmitAUAAAAASBGlLQAAAABAiihtAQAAAABSRGkLAAAAAJAiSlsAAAAAgBRR2gIAAAAApIjSFgAAAAAgRZS2AAAAAAAporQFAAAAAEgRpS0AAAAAQIoobQEAAAAAUkRpCwAAAACQIkpbAAAAAIAUUdoCAAAAAKSI0hYAAAAAIEWUtgAAAAAAKaK0BQAAAABIEaUtAAAAAECKKG0BAAAAAFJEaQsAAAAAkCJKWwAAAACAFFHaAgAAAACkiNIWAAAAACBFlLYAAAAAACmitAUAAAAASBGlLQAAAABAiihtAQAAAABSRGkLAAAAAJAiSlsAAAAAgBRR2gIAAAAApIjSFgAAAAAgRZS2AAAAAAAporQFAAAAAEgRpS0AAAAAQIoobQEAAAAAUkRpCwAAAACQIkpbAAAAAIAUUdoCAAAAAKSI0hYAAAAAIEWUtgAAAAAAKaK0BQAAAABIEaUtAAAAAECKKG0BAAAAAFJEaQsAAAAAkCJKWwAAAACAFBlSpe1vfvObmD17dowePTpqa2vjpJNOKnYkAAAAAICCKi12gG313//93zFv3rz44he/GG9605uip6cnHnvssWLHAgAAAAAoqCFR2vb09MQ555wTX/nKV6KhoaHv9RkzZhQxFQAAAABA4Q2J7REeeuihePbZZyObzcbrX//6mDJlSrz1rW991ZW2XV1d0dbW1u8BAACDxXwUAICBGBKl7RNPPBEREZ/73OfiM5/5TPz617+O2traOOaYY2L9+vWveN0ll1wSuVyu7zF16tTBigwAAOajAAAMSFFL2wsuuCAymcxWH8uXL498Ph8REZ/+9KfjXe96Vxx88MFx5ZVXRiaTiZ/97Gev+P4XXnhhtLa29j1WrVo1WF8aAACYjwIAMCBF3dP24x//eJx22mlbPWevvfaK5ubmiOi/h215eXnstdde8fTTT7/iteXl5VFeXl6QrAAAsL3MRwEAGIiilrYTJkyICRMmvOp5Bx98cJSXl8eKFSviDW94Q0REbNq0KZ588snYY489dnZMAAAAAIBBU9TSdltVV1fHhz/84ViwYEFMnTo19thjj/jKV74SEREnn3xykdMBAAAAABTOkChtIyK+8pWvRGlpabz//e+PF198MWbPnh2333571NbWFjsaAAAAAEDBZJIkSYodYrC0tbVFLpeL1tbWqK6uLnYcAABGGPNRAAC2RbbYAQAAAAAA+F9KWwAAAACAFFHaAgAAAACkiNIWAAAAACBFlLYAAAAAACmitAUAAAAASBGlLQAAAABAiihtAQAAAABSRGkLAAAAAJAiSlsAAAAAgBRR2gIAAAAApIjSFgAAAAAgRZS2AAAAAAAporQFAAAAAEgRpS0AAAAAQIoobQEAAAAAUkRpCwAAAACQIkpbAAAAAIAUUdoCAAAAAKSI0hYAAAAAIEWUtgAAAAAAKaK0BQAAAABIEaUtAAAAAECKKG0BAAAAAFJEaQsAAAAAkCJKWwAAAACAFCktdgAAAGDnSPL56FzWGL0tLVFSWxsVM+ojk7VuAwAg7ZS2AAAwDLUvXhxrr1gY3U1NkWzaFJlRo6Ksri7GnzEvqubMKXY8AAC2wq/ZAQBgmGlfvDiaFyyIrhUrIltZGaUTJkS2sjK6Vq6M5gULon3x4mJHBABgK5S2AAAwjCT5fKy9YmHkN7ZH6aRJka2oiEw2G9mKiiidODHy7R2x9oqFkeTzxY4KAMArUNoCAMAw0rmsMbqbmqKkpiYymUy/Y5lMJkpyuehuaorOZY1FSggAwKtR2gIAwDDS29Ly0h62ZWVbPJ4pK4tk06bobWkZ5GQAAGwrpS0AAAwjJbW1kRk1KpLu7i0eT7q7IzNqVJTU1g5yMgAAtpXSFgAAhpGKGfVRVlcXva2tkSRJv2NJkkRva2uU1dVFxYz6IiUEAODVKG0BAGAYyWSzMf6MeZGtqoye1asj39kZST4f+c7O6Fm9OrJVVTH+jHmRyfqnAABAWpmpAQDAMFM1Z05MueiiKJ82LfIdHdGzZk3kOzqifNq0mHLR56JqzpxiRwQAYCtKix0AAAAovKo5c6Jy1qzoXNYYvS0tUVJbGxUz6q2wBQAYApS2AAAwTGWy2Ri9377FjgEAwHbya3YAAAAAgBRR2gIAAAAApIjSFgAAAAAgRZS2AAAAAAAporQFAAAAAEgRpS0AAAAAQIoobQEAAAAAUkRpCwAAAACQIkpbAAAAAIAUUdoCAAAAAKSI0hYAAAAAIEWUtgAAAAAAKaK0BQAAAABIEaUtAAAAAECKKG0BAAAAAFJEaQsAAAAAkCJKWwAAAACAFFHaAgAAAACkiNIWAAAAACBFlLYAAAAAACmitAUAAAAASBGlLQAAAABAiihtAQAAAABSRGkLAAAAAJAiSlsAAAAAgBRR2gIAAAAApIjSFgAAAAAgRZS2AAAAAAAporQFAAAAAEgRpS0AAAAAQIoobQEAAAAAUkRpCwAAAACQIkpbAAAAAIAUUdoCAAAAAKSI0hYAAAAAIEWUtgAAAAAAKaK0BQAAAABIEaUtAAAAAECKKG0BAAAAAFJEaQsAAAAAkCJDprRduXJlzJ07N8aPHx/V1dXxhje8Ie64445ixwIAAAAAKKghU9qeeOKJ0dPTE7fffns8+OCDccABB8SJJ54Yzz33XLGjAQAAAAAUTCZJkqTYIV7N2rVrY8KECfGHP/whjjzyyIiIeOGFF6K6ujpuueWWOPbYY7d4XVdXV3R1dfU9b2tri6lTp0Zra2tUV1cPSnYAAEYu81EAAAZiSKy03WWXXWL69OlxzTXXRHt7e/T09MTll18eEydOjIMPPvgVr7vkkksil8v1PaZOnTqIqQEAGOnMRwEAGIghsdI2IuKZZ56Jk046KR566KHIZrMxceLE+M1vfhOvf/3rX/EaKxsAACgm81EAAAaiqCttL7jggshkMlt9LF++PJIkibPOOismTpwYf/zjH+P++++Pk046Kd7xjndEc3PzK75/eXl5VFdX93sAAMBgMR8FAGAgirrSds2aNbFu3bqtnrPXXnvFH//4xzjuuOOipaWl30T3da97XTQ0NMQFF1ywTZ/X1tYWuVzOygYAAIrCfBQAgG1RWswPnzBhQkyYMOFVz+vo6IiIiGy2/8LgbDYb+Xx+p2QDAAAAACiGIXEjssMOOyxqa2vj1FNPjUceeSRWrlwZn/jEJ6KpqSne/va3FzseAAAAAEDBDInSdvz48XHTTTfFxo0b401velMccsghcffdd8cvfvGLOOCAA4odDwAAAACgYIq6p+1gs4cYAADFZD4KAMC2GBIrbQEAAAAARgqlLQAAAABAiihtAQAAAABSRGkLAAAAAJAiSlsAAAAAgBRR2gIAAAAApIjSFgAAAAAgRZS2AAAAAAAporQFAAAAAEgRpS0AAAAAQIoobQEAAAAAUkRpCwAAAACQIkpbAAAAAIAUUdoCAAAAAKSI0hYAAAAAIEWUtgAAAAAAKaK0BQAAAABIEaUtAAAAAECKKG0BAAAAAFJEaQsAAAAAkCJKWwAAAACAFFHaAgAAAACkiNIWAAAAACBFlLYAAAAAACmitAUAAAAASBGlLQAAAABAiihtAQAAAABSRGkLAAAAAJAiSlsAAAAAgBRR2gIAAAAApIjSFgAAAAAgRZS2AAAAAAAporQFAAAAAEiR0mIHGExJkkRERFtbW5GTAABQTGPHjo1MJjPon2s+CgBAxKvPR0dUabtu3bqIiJg6dWqRkwAAUEytra1RXV096J9rPgoAQMSrz0dHVGk7bty4iIh4+umnI5fLFTnN8NDW1hZTp06NVatWFeUfPsORMS0s41l4xrTwjGlhGc/CG45jOnbs2KJ8rvlo4Q3H789iMp6FZ0wLz5gWnjEtLONZeMNxTF9tPjqiStts9qUtfHO53LD5D5wW1dXVxrTAjGlhGc/CM6aFZ0wLy3gWnjHdceajO4/vz8IynoVnTAvPmBaeMS0s41l4I2lM3YgMAAAAACBFlLYAAAAAACkyokrb8vLyWLBgQZSXlxc7yrBhTAvPmBaW8Sw8Y1p4xrSwjGfhGdPCMZaFZ0wLy3gWnjEtPGNaeMa0sIxn4Y3EMc0kSZIUOwQAAAAAAC8ZUSttAQAAAADSTmkLAAAAAJAiSlsAAAAAgBRR2gIAAAAApIjSFgAAAAAgRZS2AACwkzz55JPR0NAQdXV1MXr06Nh7771jwYIF0d3dvdXrOjs746yzzopddtklxowZE+9617vi+eefH6TU6faFL3whDj/88KisrIyampptuua0006LTCbT73HCCSfs3KBDyEDGNEmSmD9/fkyZMiVGjx4dxx57bPzlL3/ZuUGHkPXr18cpp5wS1dXVUVNTEw0NDbFx48atXnPMMcds9n364Q9/eJASp893vvOd2HPPPaOioiJmz54d999//1bP/9nPfhb77LNPVFRUxMyZM+O3v/3tICUdGrZnPK+66qrNvhcrKioGMW36/eEPf4h3vOMdseuuu0Ymk4kbb7zxVa+5884746CDDory8vJ47WtfG1ddddVOzzmUbO+Y3nnnnZt9n2YymXjuuecGJ/AgUNoCAMBOsnz58sjn83H55ZfH0qVL4xvf+EZ873vfi0996lNbve5jH/tY/OpXv4qf/exncdddd8Xf/va3eOc73zlIqdOtu7s7Tj755DjzzDO367oTTjghmpub+x4/+tGPdlLCoWcgY/rlL385vvWtb8X3vve9WLJkSVRVVcXxxx8fnZ2dOzHp0HHKKafE0qVL45Zbbolf//rX8Yc//CHOOOOMV71u3rx5/b5Pv/zlLw9C2vT5yU9+Euedd14sWLAgHnrooTjggAPi+OOPj9WrV2/x/HvvvTfe+973RkNDQ/zpT3+Kk046KU466aR47LHHBjl5Om3veEZEVFdX9/tefOqppwYxcfq1t7fHAQccEN/5zne26fympqZ4+9vfHm984xvj4YcfjnPPPTc+9KEPxc0337yTkw4d2zumL1uxYkW/79WJEyfupIRFkAAAAIPmy1/+clJXV/eKxzds2JCMGjUq+dnPftb3WmNjYxIRyX333TcYEYeEK6+8Msnlctt07qmnnprMnTt3p+YZDrZ1TPP5fDJ58uTkK1/5St9rGzZsSMrLy5Mf/ehHOzHh0LBs2bIkIpIHHnig77Xf/e53SSaTSZ599tlXvO7oo49OzjnnnEFImH6zZs1KzjrrrL7nvb29ya677ppccsklWzz/3e9+d/L2t7+932uzZ89O/u///b87NedQsb3juT3//5UkiYjkhhtu2Oo5559/frLvvvv2e+0973lPcvzxx+/EZEPXtozpHXfckURE0tLSMiiZisFKWwAAGEStra0xbty4Vzz+4IMPxqZNm+LYY4/te22fffaJ17zmNf8fe/ceZ3VV74//NSMygDCjXOSSqKDmJRUU0rAETBIyj6AeNcMUD1reOuJdPHk7WZrpwXOsk2ZeSzPzq1hppaHg/YaBiUIKEmhAijEjF7nN/v0xP+c0ishlYD7A8/l47Mdm1lqfz37v5Ydx5sXa65Onn356fZS4URo7dmy23nrr7LzzzjnllFMyd+7cpi5pg/XGG29k9uzZDa7Rqqqq7Lvvvq7RJE8//XS23HLL9O7du75twIABKS8vz7PPPrvSY++44460b98+u+++e0aOHJmFCxeu63ILZ8mSJRk/fnyD66u8vDwDBgz42Ovr6aefbjA+SQYOHOh6zJrNZ5LMnz8/2223Xbp27ZrBgwdn0qRJ66PcjZZrdN3p2bNnOnfunC996Ut58sknm7qcRtWsqQsAAIBNxeuvv57rrrsuV1999ceOmT17dpo3b/6RvUU7duy4Ue3Ttj4NGjQohx9+eLp165apU6fmwgsvzJe//OU8/fTT2WyzzZq6vA3OB9dhx44dG7S7RuvMnj37Ix/PbdasWdq2bbvS+fna176W7bbbLl26dMlLL72U888/P1OmTMm99967rksulHfeeSfLly9f4fU1efLkFR4ze/Zs1+PHWJP53HnnnXPzzTdnzz33THV1da6++urst99+mTRpUrbZZpv1UfZG5+Ou0ZqamixatCgtW7Zsoso2XJ07d87111+f3r17Z/HixfnpT3+a/v3759lnn83ee+/d1OU1CittAQBgNV1wwQUrvPnFPz8+/MvwW2+9lUGDBuXII4/MSSed1ESVF9OazOfq+OpXv5pDDz00e+yxR4YMGZLf/va3ef755zN27NjGexMFs67ndFO0ruf0G9/4RgYOHJg99tgjQ4cOze2335777rsvU6dObcR3AZ+sT58+Oe6449KzZ8/069cv9957bzp06JAbbrihqUuDejvvvHO++c1vplevXtlvv/1y8803Z7/99suoUaOaurRGY6UtAACsprPPPjvDhg1b6Zju3bvX//lvf/tbDjjggOy33375yU9+stLjOnXqlCVLlmTevHkNVtvOmTMnnTp1WpuyC2t153Ntde/ePe3bt8/rr7+eAw88sNHOWyTrck4/uA7nzJmTzp0717fPmTMnPXv2XKNzbghWdU47der0kRs8LVu2LO++++5q/R3ed999k9St0N9hhx1Wu94NVfv27bPZZptlzpw5DdpX9j2wU6dOqzV+U7Im8/lhm2++efbaa6+8/vrr66LETcLHXaOVlZVW2TaiffbZJ0888URTl9FohLYAALCaOnTokA4dOqzS2LfeeisHHHBAevXqlVtuuSXl5Sv/sFuvXr2y+eabZ8yYMTniiCOS1N0ZecaMGenTp89a115EqzOfjeHNN9/M3LlzGwSOG5t1OafdunVLp06dMmbMmPqQtqamJs8++2xOOeWUdfKaRbCqc9qnT5/Mmzcv48ePT69evZIkjzzySGpra+uD2FUxYcKEJNmor9MVad68eXr16pUxY8ZkyJAhSZLa2tqMGTMmp59++gqP6dOnT8aMGZMRI0bUtz388MMb7ffM1bEm8/lhy5cvz5///OccfPDB67DSjVufPn3y4IMPNmhzjTa+CRMmbFTfM22PAAAA68hbb72V/v37Z9ttt83VV1+dt99+O7Nnz26wz+Jbb72VXXbZJc8991ySuhs6DR8+PGeddVYeffTRjB8/PieccEL69OmTz33uc031VgpjxowZmTBhQmbMmJHly5dnwoQJmTBhQubPn18/Zpdddsl9992XpO5mOueee26eeeaZTJ8+PWPGjMngwYOz4447ZuDAgU31Ngpldee0rKwsI0aMyOWXX55f//rX+fOf/5zjjjsuXbp0qQ+FNmW77rprBg0alJNOOinPPfdcnnzyyZx++un56le/mi5duiT56N/7qVOn5jvf+U7Gjx+f6dOn59e//nWOO+649O3bN3vuuWdTvp0mcdZZZ+XGG2/MbbfdlldffTWnnHJKFixYkBNOOCFJctxxx2XkyJH1488444z8/ve/zzXXXJPJkyfn0ksvzQsvvLDKoeTGbnXn8z//8z/z0EMPZdq0aXnxxRdz7LHH5q9//WtOPPHEpnoLhTN//vz675VJ3Q0aP/g+miQjR47McccdVz/+5JNPzrRp03Leeedl8uTJ+d///d/cfffdOfPMM5ui/EJa3Tm99tprc//99+f111/Pyy+/nBEjRuSRRx7Jaaed1hTlrxslAABgnbjllltKSVb4+MAbb7xRSlJ69NFH69sWLVpUOvXUU0tbbbVVqVWrVqXDDjusNGvWrCZ4B8Vz/PHHr3A+/3n+kpRuueWWUqlUKi1cuLB00EEHlTp06FDafPPNS9ttt13ppJNOKs2ePbtp3kABre6clkqlUm1tbemiiy4qdezYsVRRUVE68MADS1OmTFn/xRfU3LlzS8ccc0ypdevWpcrKytIJJ5xQeu+99+r7P/z3fsaMGaW+ffuW2rZtW6qoqCjtuOOOpXPPPbdUXV3dRO+g6V133XWlbbfdttS8efPSPvvsU3rmmWfq+/r161c6/vjjG4y/++67S5/+9KdLzZs3L33mM58pPfDAA+u54mJbnfkcMWJE/diOHTuWDj744NKLL77YBFUX16OPPrrC75sfzOPxxx9f6tev30eO6dmzZ6l58+al7t27N/ieyurP6fe///3SDjvsUGrRokWpbdu2pf79+5ceeeSRpil+HSkrlUql9REOAwAAAADwyWyPAAAAAABQIEJbAAAAAIACEdoCAAAAABSI0BYAAAAAoECEtgAAAAAABSK0BQAAAAAoEKEtAAAAAECBCG0BAACAjdqwYcMyZMiQtT7P9OnTU1ZWlgkTJqz1uQBWRmgLAAAABTJs2LCUlZWlrKwsm2++ebp165bzzjsv77//foNxb775Zpo3b57dd9+9iSpdtxoraAXYEAltAQAAoGAGDRqUWbNmZdq0aRk1alRuuOGGXHLJJQ3G3HrrrTnqqKNSU1OTZ599tokq5Z+VSqUsW7asqcsANgJCWwAAACiYioqKdOrUKV27ds2QIUMyYMCAPPzww/X9pVIpt9xyS77+9a/na1/7Wm666abVOv/MmTNz1FFHZcstt0zbtm0zePDgTJ8+PUkyefLktGrVKnfeeWf9+LvvvjstW7bMK6+8kuT/VsFedtll6dChQyorK3PyySdnyZIl9cfU1tbmiiuuSLdu3dKyZcv06NEj99xzT4M6Jk2alEMOOSSVlZVp06ZN9t9//0ydOjWXXnppbrvtttx///31q47Hjh37ibUnyfLly3PWWWdlyy23TLt27XLeeeelVCqt8tzU1tbmqquuyo477piKiopsu+22+e53v7vCsWPHjk1ZWVl+97vfpVevXqmoqMgTTzyxyq8F8HGEtgAAAFBgL7/8cp566qk0b968vu3RRx/NwoULM2DAgBx77LG56667smDBglU639KlSzNw4MC0adMmjz/+eJ588sm0bt06gwYNypIlS7LLLrvk6quvzqmnnpoZM2bkzTffzMknn5zvf//72W233erPM2bMmLz66qsZO3ZsfvGLX+Tee+/NZZddVt9/xRVX5Pbbb8/111+fSZMm5cwzz8yxxx6bcePGJUneeuut9O3bNxUVFXnkkUcyfvz4/Nu//VuWLVuWc845J0cddVT9iuNZs2Zlv/32+8Tak+Saa67JrbfemptvvjlPPPFE3n333dx3332rPN8jR47MlVdemYsuuiivvPJK7rzzznTs2HGlx1xwwQW58sor8+qrr2bPPfdc5dcC+DhlpdX55yYAAABgnRo2bFh+/vOfp0WLFlm2bFkWL16c8vLy3H333TniiCOSJEOHDs3WW2+dUaNGJUl69uyZESNGZNiwYZ94/p///Oe5/PLL8+qrr6asrCxJsmTJkmy55ZYZPXp0DjrooCTJIYcckpqamjRv3jybbbZZfv/739ePHzZsWH7zm99k5syZadWqVZLk+uuvz7nnnpvq6uosXbo0bdu2zR//+Mf06dOn/rVPPPHELFy4MHfeeWcuvPDC3HXXXZkyZUo233zzFc7DvHnzMnr06NWqvUuXLjnzzDNz7rnnJkmWLVuWbt26pVevXg3OtSLvvfdeOnTokB/+8Ic58cQTP9I/ffr0dOvWLX/605/Ss2fPjB07NgcccEBGjx6dwYMHf+LcA6yqZk1dAAAAANDQAQcckB//+MdZsGBBRo0alWbNmtUHtvPmzcu9997b4GP4xx57bG666aZVCm0nTpyY119/PW3atGnQ/v7772fq1Kn1X99888359Kc/nfLy8kyaNKk+JP1Ajx496gPbJOnTp0/mz5+fmTNnZv78+Vm4cGG+9KUvNThmyZIl2WuvvZIkEyZMyP7777/CwHZNa6+urs6sWbOy77771vc1a9YsvXv3XqUtEl599dUsXrw4Bx544CrXlCS9e/derfEAn0RoCwAAAAWzxRZbZMcdd0xSF5726NEjN910U4YPH54777wz77//foNgslQqpba2Nn/5y1/y6U9/eqXnnj9/fnr16pU77rjjI30dOnSo//PEiROzYMGClJeXZ9asWencufMq1z9//vwkyQMPPJBPfepTDfoqKiqSJC1btlzl861u7WtqTWpK6v57ATQme9oCAABAgZWXl+fCCy/Mt7/97SxatCg33XRTzj777EyYMKH+MXHixOy///65+eabP/F8e++9d1577bVsvfXW2XHHHRs8qqqqkiTvvvtuhg0blv/4j//IsGHDMnTo0CxatKjBeSZOnNig7Zlnnknr1q3TtWvX7LbbbqmoqMiMGTM+8hpdu3ZNkuy55555/PHHs3Tp0hXW2bx58yxfvny1aq+qqkrnzp3z7LPP1h+zbNmyjB8/fpXmeqeddkrLli0zZsyYVRoPsK4IbQEAAKDgjjzyyGy22Wb50Y9+lBdffDEnnnhidt999waPY445JrfddluWLVu20nMNHTo07du3z+DBg/P444/njTfeyNixY/Pv//7vefPNN5MkJ598crp27Zpvf/vb+a//+q8sX74855xzToPzLFmyJMOHD88rr7ySBx98MJdccklOP/30lJeXp02bNjnnnHNy5pln5rbbbsvUqVPz4osv5rrrrsttt92WJDn99NNTU1OTr371q3nhhRfy2muv5Wc/+1mmTJmSJNl+++3z0ksvZcqUKXnnnXeydOnSVar9jDPOyJVXXpnRo0dn8uTJOfXUUzNv3rxVmucWLVrk/PPPz3nnnZfbb789U6dOzTPPPJObbrppdf5zAaw1oS1AExs2bFiGDBnS1GU0mg3t/Vx66aXp2bPnSsdMnz49ZWVlmTBhwnqpCQDgw5o1a5bTTz89I0eOzPbbb59ddtnlI2MOO+yw/P3vf8+DDz640nO1atUqjz32WLbddtscfvjh2XXXXTN8+PC8//77qayszO23354HH3wwP/vZz9KsWbNsscUW+fnPf54bb7wxv/vd7+rPc+CBB2annXZK3759c/TRR+fQQw/NpZdeWt//ne98JxdddFGuuOKK7Lrrrhk0aFAeeOCBdOvWLUnSrl27PPLII5k/f3769euXXr165cYbb6zf4/akk07KzjvvnN69e6dDhw558sknP7H2JDn77LPz9a9/Pccff3z69OmTNm3a5LDDDlvlub7oooty9tln5+KLL86uu+6ao48+On//+99X+XiAxlBWWpWduAHWsbfffjsXX3xxHnjggcyZMydbbbVVevTokYsvvjif//znm7q8dWpFd8XdkG1o7+fSSy/N6NGj6wPZFdX/4bsEAwBs6ja0n/kANjRuRAYUwhFHHJElS5bktttuS/fu3TNnzpyMGTMmc+fOXaevu2TJkjRv3nydvkYRLV26dLXu0gsAAACsP7ZHAJrcvHnz8vjjj+f73/9+DjjggGy33XbZZ599MnLkyBx66KH142bMmJHBgwendevWqayszFFHHZU5c+bU96/oY/kjRoxI//7967/u379/Tj/99IwYMSLt27fPwIEDkySTJk3KIYccksrKyrRp0yb7779/pk6dWn/cT3/60+y6665p0aJFdtlll/zv//7vKr+/P//5z/niF7+Yli1bpl27dvnGN75Rfzfdf3bZZZelQ4cOqayszMknn5wlS5bU991zzz3ZY4896s8xYMCALFiwYJXq++Cj/b/85S/Tr1+/tGjRIj/+8Y/TsmXLBh9vS5L77rsvbdq0ycKFC5MkM2fOzFFHHZUtt9wybdu2zeDBgzN9+vT68cuXL89ZZ52VLbfcMu3atct5552XdfkBjlKplA4dOuSee+6pb+vZs2eDOxk/8cQTqaioqH8Pn3Td/LNLL700t912W+6///6UlZWlrKwsY8eO/ci45cuX59/+7d+yyy67ZMaMGVm+fHmGDx+ebt26pWXLltl5553z3//934375gEAVtH3vve9tG7deoWPL3/5y01dXpOaMWPGx85N69atM2PGjKYuESCJlbZAAXzwA9Lo0aPzuc99LhUVFR8ZU1tbWx+8jRs3LsuWLctpp52Wo48+eoWh2srcdtttOeWUU/Lkk08mSd5666307ds3/fv3zyOPPJLKyso8+eST9TdwuOOOO3LxxRfnhz/8Yfbaa6/86U9/ykknnZQtttgixx9//Epfa8GCBRk4cGD69OmT559/Pn//+99z4okn5vTTT8+tt95aP27MmDFp0aJFxo4dm+nTp+eEE05Iu3bt8t3vfjezZs3KMccck6uuuiqHHXZY3nvvvTz++OP14eiq1nfBBRfkmmuuyV577ZUWLVrk8ccfz5133tngB/c77rgjQ4YMSatWrbJ06dL62h9//PE0a9Ysl19+eQYNGpSXXnopzZs3zzXXXJNbb701N998c3bddddcc801ue+++/LFL37xY+dkxowZ2W233VY6bxdeeGEuvPDCj7SXlZWlb9++GTt2bP71X/81//jHP/Lqq6+mZcuWmTx5cnbZZZeMGzcun/3sZ9OqVavVvm7OOeecvPrqq6mpqcktt9ySJGnbtm3+9re/1Y9ZvHhxjjnmmEyfPj2PP/54OnTokKVLl2abbbbJr371q7Rr1y5PPfVUvvGNb6Rz58456qijVvpeAQAa28knn/yxP4O0bNmyUV7jn3+W3ZB06dJlpfcp6NKly/orBmBlSgAFcM8995S22mqrUosWLUr77bdfaeTIkaWJEyfW9z/00EOlzTbbrDRjxoz6tkmTJpWSlJ577rlSqVQqHX/88aXBgwc3OO8ZZ5xR6tevX/3X/fr1K+21114NxowcObLUrVu30pIlS1ZY2w477FC68847G7R95zvfKfXp0+cT39dPfvKT0lZbbVWaP39+fdsDDzxQKi8vL82ePbu+7rZt25YWLFhQP+bHP/5xqXXr1qXly5eXxo8fX0pSmj59+hrV98Ybb5SSlK699toGY+67775S69at61+3urq61KJFi9Lvfve7UqlUKv3sZz8r7bzzzqXa2tr6YxYvXlxq2bJl6Q9/+EOpVCqVOnfuXLrqqqvq+5cuXVraZpttPvLf4Z8tXbq09Nprr630MXfu3I89/n/+539Kn/nMZ0qlUqk0evTo0r777lsaPHhw6cc//nGpVCqVBgwYULrwwgtLpdKqXTeXXHJJqUePHvX9K7qOPpjDxx9/vHTggQeWvvCFL5TmzZv3sTWWSqXSaaedVjriiCNWOgYAAABWxPYIQCEcccQR+dvf/pZf//rXGTRoUMaOHZu99967/l/wX3311XTt2jVdu3atP2a33XbLlltumVdffXW1XqtXr14Nvp4wYUL233//Fe7xumDBgkydOjXDhw9v8LGpyy+/vMH2CR/n1VdfTY8ePbLFFlvUt33+859PbW1tpkyZUt/Wo0ePtGrVqv7rPn36ZP78+Zk5c2Z69OiRAw88MHvssUeOPPLI3HjjjfnHP/6x2vX17t27wdcHH3xwNt988/z6179Okvy///f/UllZmQEDBiRJJk6cmNdffz1t2rSpP2/btm3z/vvvZ+rUqamurs6sWbOy77771p+zWbNmH3mdD2vWrFl23HHHlT7atm37scf369cvr7zySt5+++2MGzcu/fv3T//+/TN27NgsXbo0Tz31VP2WGI153STJMccckwULFuShhx5KVVVVg74f/ehH6dWrVzp06JDWrVvnJz/5iY/XAQAAsEaEtkBhtGjRIl/60pdy0UUX5amnnsqwYcNyySWXrPLx5eXlH9lPdenSpR8Z988BarLyj4h9sPfsjTfemAkTJtQ/Xn755TzzzDOrXNva2GyzzfLwww/nd7/7XXbbbbdcd9112XnnnfPGG2+sVn0fft/NmzfPv/7rv+bOO+9Mktx55505+uij06xZ3c458+fPT69evRqcd8KECfnLX/6Sr33ta2v8fj5pH7HWrVvne9/73scev8cee6Rt27YZN25cg9B23Lhxef7557N06dLst99+a1zfyhx88MF56aWX8vTTTzdov+uuu3LOOedk+PDheeihhzJhwoSccMIJDfYlBgAAgFVlT1ugsHbbbbeMHj06SbLrrrtm5syZmTlzZv2qyVdeeSXz5s2r3x+1Q4cOefnllxucY8KECStcQfvP9txzz9x2221ZunTpR8Z27NgxXbp0ybRp0zJ06NDVfg+77rprbr311ixYsKA+NH3yySdTXl6enXfeuX7cxIkTs2jRovoA+Zlnnknr1q3r32tZWVk+//nP5/Of/3wuvvjibLfddrnvvvty1llnrVV9Q4cOzZe+9KVMmjQpjzzySC6//PL6vr333ju//OUvs/XWW6eysnKFx3fu3DnPPvts+vbtmyRZtmxZxo8fn7333vtjX/OT9hFLstKVtmVlZdl///1z//33Z9KkSfnCF76QVq1aZfHixbnhhhvSu3fv+rlelevmw5o3b57ly5evsO+UU07J7rvvnkMPPTQPPPBA+vXrl6Tuv+l+++2XU089tX7sqqzEBgAAgBWx0hZocnPnzs0Xv/jF/PznP89LL72UN954I7/61a9y1VVXZfDgwUmSAQMGZI899sjQoUPz4osv5rnnnstxxx2Xfv361X8c/4tf/GJeeOGF3H777XnttddyySWXfCTEXZHTTz89NTU1+epXv5oXXnghr732Wn72s5/Vb19w2WWX5Yorrsj//M//5C9/+Uv+/Oc/55Zbbsl//dd/feK5hw4dmhYtWuT444/Pyy+/nEcffTTf+ta38vWvfz0dO3asH7dkyZIMHz48r7zySh588MFccsklOf3001NeXp5nn3023/ve9/LCCy9kxowZuffee/P2229n1113Xev6+vbtm06dOmXo0KHp1q1bg60Ohg4dmvbt22fw4MF5/PHH88Ybb2Ts2LH593//97z55ptJkjPOOCNXXnllRo8encmTJ+fUU0/NvHnzVvqaa7s9QpL0798/v/jFL9KzZ8+0bt065eXl6du3b+644476IDVZtevmw7bffvu89NJLmTJlSt55552PrNb+1re+lcsvvzyHHHJInnjiiSTJTjvtlBdeeCF/+MMf8pe//CUXXXRRnn/++ZW+BwAAAPg4QlugybVu3Tr77rtvRo0alb59+2b33XfPRRddlJNOOik//OEPk9Strrz//vuz1VZbpW/fvhkwYEC6d++eX/7yl/XnGThwYC666KKcd955+exnP5v33nsvxx133Ce+frt27fLII49k/vz56devX3r16pUbb7yxftXtiSeemJ/+9Ke55ZZbsscee6Rfv3659dZb061bt088d6tWrfKHP/wh7777bj772c/mX//1X3PggQfWv68PHHjggdlpp53St2/fHH300Tn00ENz6aWXJkkqKyvz2GOP5eCDD86nP/3pfPvb384111yTL3/5y2tdX1lZWY455phMnDjxIyt1W7VqlcceeyzbbrttDj/88Oy6664ZPnx43n///fqVt2effXa+/vWv5/jjj0+fPn3Spk2bHHbYYZ/4umurX79+Wb58ef3etUldkPvhtlW5bj7spJNOys4775zevXunQ4cOefLJJz8yZsSIEbnsssty8MEH56mnnso3v/nNHH744Tn66KOz7777Zu7cuQ1W3QIAAMDqKCt9eANIAAAAAACajJW2AAAAAAAFIrQFWAvf+9730rp16xU+Pti+AAAAAGB12B4BYC28++67effdd1fY17Jly3zqU59azxUBAAAAGzqhLQAAAABAgdgeAQAAAACgQIS2AAAAAAAFskmFtqVSKTU1NbEjBAAAAABQVJtUaPvee++lqqoq7733XlOXAgAAAACwQptUaAsAAAAAUHRCWwAAAACAAhHaAgAAAAAUiNAWAAAAAKBAhLYAAAAAAAUitAUAAAAAKBChLQAAAABAgQhtAQAAAAAKRGgLAAAAAFAgQlsAAAAAgAIR2gIAAAAAFIjQFgAAAACgQIS2AAAAAAAFIrQFAAAAACgQoS0AAAAAQIEIbQEAAAAACkRoCwAAAABQIEJbAAAAAIACEdoCAAAAABSI0BYAAAAAoECEtgAAAAAABSK0BQAAAAAokGZNXQAAAJug2tpk9sRk4dykVbukU4+k3HoCAABIhLYAAKxv08YlT4xK3nktqV2alG+etN8p+cKZSfd+TV0dAAA0OcsZAABYf6aNS347IpkzKWm+RdK6Y93znEl17dPGNXWFAADQ5IS2AACsH7W1dStsF89P2nRONm+ZlJXXPbfpXNf+xKi6cQAAsAkT2gIAsH7Mnli3JULLrZKysoZ9ZWV17e+8VjcOAAA2YUJbAADWj4Vz6/awbVax4v5mFXX9C+eu37oAAKBghLYAAKwfrdrV3XRs2eIV9y9bXNffqt36rQsAAApGaAsAwPrRqUfSfqdk0T+SUqlhX6lU195+p7pxAACwCRPaAgCwfpSXJ184M6lonbw3K1m6KCnV1j2/NyupaFPXX+5HVAAANm1+IgYAYP3p3i855Nqk42eSJQuS+XPqnjt+JjlkVF0/AABs4spKpQ9/Nm3jVVNTk6qqqlRXV6eysrKpywEA2HTV1iazJ9bddKxVu7otEaywBQCAJEmzpi4AAIBNUHl50mWvpq4CAAAKyXIGAAAAAIACEdoCAAAAABSI0BYAAAAAoECEtgAAAAAABSK0BQAAAAAoEKEtAAAAAECBCG0BAAAAAApEaAsAAAAAUCBCWwAAAACAAhHaAgAAAAAUiNAWAAAAAKBAhLYAAAAAAAUitAUAAAAAKBChLQAAAABAgQhtAQAAAAAKRGgLAAAAAFAgQlsAAAAAgALZYEPbK6+8MmVlZRkxYkRTlwIAAAAA0Gg2yND2+eefzw033JA999yzqUsBAAAAAGhUG1xoO3/+/AwdOjQ33nhjttpqq6YuBwAAAACgUW1woe1pp52Wr3zlKxkwYMAnjl28eHFqamoaPAAAAAAAiqxZUxewOu666668+OKLef7551dp/BVXXJHLLrtsHVcFAAAAANB4NpiVtjNnzswZZ5yRO+64Iy1atFilY0aOHJnq6ur6x8yZM9dxlQAAAAAAa6esVCqVmrqIVTF69Ogcdthh2Wyzzerbli9fnrKyspSXl2fx4sUN+lakpqYmVVVVqa6uTmVl5bouGQAAAABgtW0w2yMceOCB+fOf/9yg7YQTTsguu+yS888//xMDWwAAAACADcEGE9q2adMmu+++e4O2LbbYIu3atftIOwAAAADAhmqD2dMWAAAAAGBTsMHsadsY7GkLAAAAABSdlbYAAAAAAAUitAUAAAAAKBChLQAAAABAgQhtAQAAAAAKRGgLAAAAAFAgQlsAAAAAgAIR2gIAAAAAFIjQFgAAAACgQIS2AAAAAAAFIrQFAAAAACgQoS0AAAAAQIEIbQEAAAAACkRoCwAAAABQIEJbAAAAAIACEdoCAAAAABSI0BYAAAAAoECEtgAAAAAABSK0BQAAAAAoEKEtAAAAAECBCG0BAAAAAApEaAsAAAAAUCBCWwAAAACAAhHaAgAAAAAUiNAWAAAAAKBAhLYAAAAAAAUitAUAAAAAKBChLQAAAABAgQhtAQAAAAAKRGgLAAAAAFAgQlsAAAAAgAIR2gIAAAAAFIjQFgAAAACgQIS2AAAAAAAFIrQFAAAAACgQoS0AAAAAQIEIbQEAAAAACkRoCwAAAABQIEJbAAAAAIACEdoCAAAAABSI0BYAAAAAoECEtgAAAAAABSK0BQAAAAAoEKEtAAAAAECBCG0BAAAAAApEaAsAAAAAUCBCWwAAAACAAhHaAgAAAAAUiNAWAAAAAKBAhLYAAAAAAAUitAUAAAAAKBChLQAAAABAgQhtAQAAAAAKRGgLAAAAAFAgQlsAAAAAgAIR2gIAAAAAFIjQFgAAAACgQIS2AAAAAAAFIrQFAAAAACgQoS0AAAAAQIEIbQEAAAAACkRoCwAAAABQIEJbAAAAAIACEdoCAAAAABSI0BYAAAAAoECEtgAAAAAABSK0BQAAAAAoEKEtAAAAAECBCG0BAAAAAApEaAsAAAAAUCBCWwAAAACAAhHaAgAAAAAUiNAWAAAAAKBAhLYAAAAAAAUitAUAAAAAKBChLQAAAABAgQhtAQAAAAAKRGgLAAAAAFAgQlsAAAAAgALZYELbK664Ip/97GfTpk2bbL311hkyZEimTJnS1GUBAAAAADSqDSa0HTduXE477bQ888wzefjhh7N06dIcdNBBWbBgQVOXBgAAAADQaMpKpVKpqYtYE2+//Xa23nrrjBs3Ln379l3hmMWLF2fx4sX1X9fU1KRr166prq5OZWXl+ioVAAAAAGCVbTArbT+suro6SdK2bduPHXPFFVekqqqq/tG1a9f1VR4AAAAAwBrZIFfa1tbW5tBDD828efPyxBNPfOw4K20BAAAAgA1Ns6YuYE2cdtppefnll1ca2CZJRUVFKioq1lNVAAAAAABrb4MLbU8//fT89re/zWOPPZZtttmmqcsBAAAAAGhUG0xoWyqV8q1vfSv33Xdfxo4dm27dujV1SQAAAAAAjW6DCW1PO+203Hnnnbn//vvTpk2bzJ49O0lSVVWVli1bNnF1AAAAAACNY4O5EVlZWdkK22+55ZYMGzZslc5RU1OTqqoqNyIDAAAAAAprg1lpu4FkywAAAAAAa6W8qQsAAAAAAOD/CG0BAAAAAApEaAsAAAAAUCBCWwAAAACAAhHaAgAAAAAUiNAWAAAAAKBAhLYAAAAAAAUitAUAAAAAKBChLQAAAABAgQhtAQAAAAAKRGgLAAAAAFAgQlsAAAAAgAIR2gIAAAAAFEizpi4AAGC9qa1NZk9MFs5NWrVLOvVIyv0bNgAAUCxCWwBg0zBtXPLEqOSd15LapUn55kn7nZIvnJl079fU1QEAANSztAQA2PhNG5f8dkQyZ1LSfIukdce65zmT6tqnjWvqCgEAAOoJbQGAjVttbd0K28Xzkzadk81bJmXldc9tOte1PzGqbhwAAEABCG0BgI3b7Il1WyK03CopK2vYV1ZW1/7Oa3XjAAAACkBoCwBs3BbOrdvDtlnFivubVdT1L5y7fusCAAD4GEJbAGDj1qpd3U3Hli1ecf+yxXX9rdqt37oAAAA+htAWANi4deqRtN8pWfSPpFRq2Fcq1bW336luHAAAQAEIbQGAjVt5efKFM5OK1sl7s5Kli5JSbd3ze7OSijZ1/eV+LAIAAIrBbycAwMave7/kkGuTjp9JlixI5s+pe+74meSQUXX9AAAABVFWKn34c4Ibr5qamlRVVaW6ujqVlZVNXQ4AsL7V1iazJ9bddKxVu7otEaywBQAACqZZUxcAALDelJcnXfZq6ioAAABWytISAAAAAIACEdoCAAAAABSI0BYAAAAAoECEtgAAAAAABSK0BQAAAAAoEKEtAAAAAECBCG0BAAAAAApEaAsAAAAAUCBCWwAAAACAAhHaAgAAAAAUiNAWAAAAAKBAhLYAAAAAAAUitAUAAAAAKBChLQAAAABAgQhtAQAAAAAKRGgLAAAAAFAgQlsAAAAAgAIR2gIAAAAAFIjQFgAAAACgQIS2AAAAAAAFIrQFAAAAACgQoS0AAAAAQIEIbQEAAAAACkRoCwAAAABQIEJbAAAAAIACEdoCAAAAABSI0BYAAAAAoECaNXUBG7Xa2mT2xGTh3KRVu6RTj6RcTg4AAAAAfDyh7boybVzyxKjkndeS2qVJ+eZJ+52SL5yZdO/X1NUBAAAAAAVl2ee6MG1c8tsRyZxJSfMtktYd657nTKprnzauqSsEAAAAAApKaNvYamvrVtgunp+06Zxs3jIpK697btO5rv2JUXXjAAAAAAA+RGjb2GZPrNsSoeVWSVlZw76ysrr2d16rGwcAAAAA8CFC28a2cG7dHrbNKlbc36yirn/h3PVbFwAAAACwQRDaNrZW7epuOrZs8Yr7ly2u62/Vbv3WBQAAAABsEIS2ja1Tj6T9TsmifySlUsO+Uqmuvf1OdeMAAAAAAD5EaNvYysuTL5yZVLRO3puVLF2UlGrrnt+blVS0qesvN/UAAAAAwEdJDteF7v2SQ65NOn4mWbIgmT+n7rnjZ5JDRtX1AwAAAACsQFmp9OHP8G+8ampqUlVVlerq6lRWVq77F6ytTWZPrLvpWKt2dVsiWGELAAAAAKxEs6YuYKNWXp502aupqwAAAAAANiCWfQIAAAAAFIjQFgAAAACgQIS2AAAAAAAFYk9bAGgsbkAJAABAIxDaAkBjmDYueWJU8s5rSe3SpHzzpP1OyRfOTLr3a+rqAAAA2IBY/gMAa2vauOS3I5I5k5LmWyStO9Y9z5lU1z5tXFNXCAAAwAZEaAsAa6O2tm6F7eL5SZvOyeYtk7Lyuuc2nevanxhVNw4AAABWgdAWANbG7Il1WyK03CopK2vYV1ZW1/7Oa3XjAAAAYBUIbQFgbSycW7eHbbOKFfc3q6jrXzh3/dYFAADABktoCwBro1W7upuOLVu84v5li+v6W7Vbv3UBAACwwRLaAsDa6NQjab9TsugfSanUsK9Uqmtvv1PdOAAAAFgFQlsAWBvl5ckXzkwqWifvzUqWLkpKtXXP781KKtrU9Zf7Xy4AAACrxm+QALC2uvdLDrk26fiZZMmCZP6cuueOn0kOGVXXDwAAAKuorFT68Gc5i+1HP/pRfvCDH2T27Nnp0aNHrrvuuuyzzz6rdGxNTU2qqqpSXV2dysrKdVwpAJuc2tpk9sS6m461ale3JYIVtgAAAKymDeo3yV/+8pc566yzcskll+TFF19Mjx49MnDgwPz9739v6tIAoC6g7bJXsuOAumeBLQAAAGtgg1ppu+++++azn/1sfvjDHyZJamtr07Vr13zrW9/KBRdc8InHW2kLAAAAABTdBrMEaMmSJRk/fnwGDBhQ31ZeXp4BAwbk6aefXuExixcvTk1NTYMHAAAAAECRbTCh7TvvvJPly5enY8eODdo7duyY2bNnr/CYK664IlVVVfWPrl27ro9SAQAAAADW2AYT2q6JkSNHprq6uv4xc+bMpi4JAAAAAGClmjV1Aauqffv22WyzzTJnzpwG7XPmzEmnTp1WeExFRUUqKirWR3kAAAAAAI1ig1lp27x58/Tq1Stjxoypb6utrc2YMWPSp0+fJqwMAAAAAKDxbDArbZPkrLPOyvHHH5/evXtnn332ybXXXpsFCxbkhBNOaOrSAAAAAAAaxQYV2h599NF5++23c/HFF2f27Nnp2bNnfv/733/k5mQAAAAAABuqslKpVGrqItaXmpqaVFVVpbq6OpWVlU1dDgAAAADAR2xQK20BgE1AbW0ye2KycG7Sql3SqUdSvsFsww8AALDWhLYAQHFMG5c8MSp557WkdmlSvnnSfqfkC2cm3fs1dXUAAADrhWUrAEAxTBuX/HZEMmdS0nyLAEIqBAAA315JREFUpHXHuuc5k+rap41r6goBAADWC6EtAND0amvrVtgunp+06Zxs3jIpK697btO5rv2JUXXjAAAANnJCWwCg6c2eWLclQsutkrKyhn1lZXXt77xWNw4AAGAjJ7QFAJrewrl1e9g2q1hxf7OKuv6Fc9dvXQAAAE1AaAsANL1W7epuOrZs8Yr7ly2u62/Vbv3WBQAA0ASEtgBA0+vUI2m/U7LoH0mp1LCvVKprb79T3TgAAICNnNAWAGh65eXJF85MKlon781Kli5KSrV1z+/NSira1PWX+9EFAADY+PnNBwAohu79kkOuTTp+JlmyIJk/p+6542eSQ0bV9QMAAGwCykqlD38GceNVU1OTqqqqVFdXp7KysqnLAQBWpLY2mT2x7qZjrdrVbYlghS0AALAJadbUBQAANFBennTZq6mrAAAAaDKWrQAAAAAAFIjQFgAAAACgQIS2AAAAAAAFIrQFAAAAACgQoS0AAAAAQIEIbQEAAAAACkRoCwAAAABQIEJbAAAAAIACEdoCAAAAABTIGoW2y5cvz2OPPZZ58+Y1cjkAAAAAAJu2NQptN9tssxx00EH5xz/+0dj1AAAAAABs0tZ4e4Tdd98906ZNa8xaAAAAAAA2eWsc2l5++eU555xz8tvf/jazZs1KTU1NgwcAAAAAAKuvrFQqldbkwPLy/8t7y8rK6v9cKpVSVlaW5cuXr311jaympiZVVVWprq5OZWVlU5cDAAAAAPARzdb0wEcffbQx6wAAAAAAIGux0nZDZKUtAAAAAFB0q7XS9qWXXlrlsXvuuedqFwMAAAAAsKlbrdC2Z8+eKSsryyctzi3qnrYAAAAAAEW3WqHtG2+8sa7qAAAAAAAgqxnabrfdduuqDgAAAAAAkpSv6YFXXHFFbr755o+033zzzfn+97+/VkUBAAAAAGyq1ji0veGGG7LLLrt8pP0zn/lMrr/++rUqCgAAAABgU7XGoe3s2bPTuXPnj7R36NAhs2bNWquiAAAAAAA2VWsc2nbt2jVPPvnkR9qffPLJdOnSZa2KAgAAAADYVK3Wjcj+2UknnZQRI0Zk6dKl+eIXv5gkGTNmTM4777ycffbZjVYgAAAAAMCmZI1D23PPPTdz587NqaeemiVLliRJWrRokfPPPz8jR45stAIBAAAAADYlZaVSqbQ2J5g/f35effXVtGzZMjvttFMqKioa9L/55pvp0qVLysvXeCeGRlNTU5OqqqpUV1ensrKyqcsBAAAAAPiItQ5tP0llZWUmTJiQ7t27r8uXWSVCWwAAAACg6Nb58td1nAkDAAAAAGxUmn7PAgAAAAAA6gltAQAAAAAKRGgLAAAAAFAg6zy0LSsrW9cvAQAAAACw0XAjMgAAAACAAmm2rl/glVdeSZcuXdb1ywAAAAAAbBRWK7Q9/PDDV3nsvffemyTp2rXr6lUEAAAAALAJW63tEaqqquoflZWVGTNmTF544YX6/vHjx2fMmDGpqqpq9EIBAAAAADYFq7XS9pZbbqn/8/nnn5+jjjoq119/fTbbbLMkyfLly3PqqaemsrKycasEAAAAANhElJXW8E5hHTp0yBNPPJGdd965QfuUKVOy3377Ze7cuY1SYGOqqalJVVVVqqurBcsAAAAAQCGt1vYI/2zZsmWZPHnyR9onT56c2tratSoKAAAAAGBTtVrbI/yzE044IcOHD8/UqVOzzz77JEmeffbZXHnllTnhhBMarUAAAAAAgE3JGoe2V199dTp16pRrrrkms2bNSpJ07tw55557bs4+++xGKxAAAAAAYFOyxnva/rOampokKfw+sfa0BQAAAACKbo33tE3q9rX94x//mF/84hcpKytLkvztb3/L/PnzG6U4AAAAAIBNzRpvj/DXv/41gwYNyowZM7J48eJ86UtfSps2bfL9738/ixcvzvXXX9+YdQIAAAAAbBLWeKXtGWeckd69e+cf//hHWrZsWd9+2GGHZcyYMY1SHAAAAADApmaNV9o+/vjjeeqpp9K8efMG7dtvv33eeuuttS4MAAAAAGBTtMYrbWtra7N8+fKPtL/55ptp06bNWhUFAAAAALCpWuPQ9qCDDsq1115b/3VZWVnmz5+fSy65JAcffHBj1AYAAAAAsMkpK5VKpTU58M0338zAgQNTKpXy2muvpXfv3nnttdfSvn37PPbYY9l6660bu9a1VlNTk6qqqlRXV6eysrKpywEAAAAA+Ig1Dm2TZNmyZbnrrrvy0ksvZf78+dl7770zdOjQBjcmKxKhLQAAAABQdGsc2r7//vtp0aJFY9ezTgltAQAAAICiW+M9bbfeeuscf/zxefjhh1NbW9uYNQEAAAAAbLLWOLS97bbbsnDhwgwePDif+tSnMmLEiLzwwguNWRsAAAAAwCZnrfa0TZL33nsv99xzT37xi1/kkUceSffu3XPsscfm4osvbqwaG43tETYCtbXJ7InJwrlJq3ZJpx5J+Rr/2wMAAAAAFM5ah7b/7JVXXsnQoUPz0ksvZfny5Y112kYjtN3ATRuXPDEqeee1pHZpUr550n6n5AtnJt37NXV1AAAAANAo1nqJ4vvvv5+77747Q4YMyd57751333035557bmPUBv9n2rjktyOSOZOS5lskrTvWPc+ZVNc+bVxTVwgAAAAAjaLZmh74hz/8IXfeeWdGjx6dZs2a5V//9V/z0EMPpW/fvo1ZH9RtifDEqGTx/KRN56SsrK5985ZJsxbJe7Pq+rff31YJAAAAAGzw1ji0Peyww/Iv//Ivuf3223PwwQdn8803b8y64P/Mnli3JULLrf4vsP1AWVld+zuv1Y3rslfT1AgAAAAAjWSNQttly5bl+9//fo488sh06tSpsWuChhbOrdvDtlnFivubVSTvz6sbx+pxYzcAAACAwlmj0LZZs2Y5//zzc+ihhzZ2PfBRrdrV3XRs2eK6LRE+bNniuv5W7dZ/bRsyN3YDAAAAKKQ1XlK3zz775E9/+lNj1gIr1qlHXZi46B9JqdSwr1Sqa2+/U904Vo0buwEAAAAU1hrvaXvqqafm7LPPzptvvplevXpliy22aNC/5557rnVxkKTu4/pfOLMuTHxvVt0ets0q6lbYLvpHUtGmrt/H+leNG7sBAAAAFFpZqfThpYurpnwFYU5ZWVlKpVLKysqyfPnytS6usdXU1KSqqirV1dWprKxs6nJYXT7O3zj+9qfkrmPrVtauaLuJpYuSJQuSr/7cjd0AAAAAmsAar7R94403GrMO+GTd+9Wt/nTjrLXjxm4AAAAAhbbGoe12223XmHXAqikvt/pzbbmxGwAAAEChrdUSxZ/97Gf5/Oc/ny5duuSvf/1rkuTaa6/N/fff3yjFfWD69OkZPnx4unXrlpYtW2aHHXbIJZdckiVLljTq68AmwY3dAAAAAAptjUPbH//4xznrrLNy8MEHZ968efV72G655Za59tprG6u+JMnkyZNTW1ubG264IZMmTcqoUaNy/fXX58ILL2zU14FNwgc3dqtoXXfTsaWLklJt3fN7s9zYDQAAAKCJrfGNyHbbbbd873vfy5AhQ9KmTZtMnDgx3bt3z8svv5z+/fvnnXfeaexaG/jBD36QH//4x5k2bdoqH+NGZPBP3NgNAAAAoJDW6kZke+310b1FKyoqsmDBgrUqalVUV1enbdu2Kx2zePHiLF68uP7rmpqadV0WbDjc2A0AAACgkNY4nenWrVsmTJjwkfbf//732XXXXdempk/0+uuv57rrrss3v/nNlY674oorUlVVVf/o2rXrOq0LNjgf3NhtxwF1zwJbAAAAgCa3xgnNWWedldNOOy2//OUvUyqV8txzz+W73/1uRo4cmfPOO2+VznHBBRekrKxspY/Jkyc3OOatt97KoEGDcuSRR+akk05a6flHjhyZ6urq+sfMmTPX9O0CAAAAAKwXa7ynbZLccccdufTSSzN16tQkSZcuXXLZZZdl+PDhq3T822+/nblz5650TPfu3dO8efMkyd/+9rf0798/n/vc53LrrbemfDVXBdrTFgAAAAAourUKbT+wcOHCzJ8/P1tvvXVj1LRCb731Vg444ID06tUrP//5z7PZZput9jmEtgAAAABA0a3x9giLFi3KwoULkyStWrXKokWLcu211+ahhx5qtOI+8NZbb6V///7Zdtttc/XVV+ftt9/O7NmzM3v27EZ/LQAAAACAptRsTQ8cPHhwDj/88Jx88smZN29e9tlnnzRv3jzvvPNO/uu//iunnHJKoxX58MMP5/XXX8/rr7+ebbbZpkFfIywUBgAAAAAojDVeafviiy9m//33T5Lcc8896dSpU/7617/m9ttvz//8z/80WoFJMmzYsJRKpRU+AAAAAAA2Jmsc2i5cuDBt2rRJkjz00EM5/PDDU15ens997nP561//2mgFAgAAAABsStY4tN1xxx0zevTozJw5M3/4wx9y0EEHJUn+/ve/u8kXAAAAAMAaWuPQ9uKLL84555yT7bffPvvss0/69OmTpG7V7V577dVoBQIAAAAAbErKSmuxMezs2bMza9as9OjRI+Xldfnvc889l8rKyuyyyy6NVmRjqampSVVVVaqrq60GBgAAAAAKaa1C2w/MnDkzSdK1a9e1LmhdEtoCAAAAAEW3xtsjLFu2LBdddFGqqqqy/fbbZ/vtt09VVVW+/e1vZ+nSpY1ZIwAAAADAJqPZmh74rW99K/fee2+uuuqq+v1sn3766Vx66aWZO3dufvzjHzdakQAAAAAAm4o13h6hqqoqd911V7785S83aH/wwQdzzDHHpLq6ulEKbEy2RwAAAAAAim6Nt0eoqKjI9ttv/5H2bt26pXnz5mtTEwAAAADAJmuNQ9vTTz893/nOd7J48eL6tsWLF+e73/1uTj/99EYpDgAAAABgU7Nae9oefvjhDb7+4x//mG222SY9evRIkkycODFLlizJgQce2HgVAgAAAABsQlYrtK2qqmrw9RFHHNHg665du659RQAAAAAAm7A1vhHZhsiNyAAAAACAolutlbYr8vbbb2fKlClJkp133jkdOnRY66IAAAAAADZVa3wjsgULFuTf/u3f0rlz5/Tt2zd9+/ZNly5dMnz48CxcuLAxawQAAAAA2GSscWh71llnZdy4cfnNb36TefPmZd68ebn//vszbty4nH322Y1ZIwAAAADAJmON97Rt37597rnnnvTv379B+6OPPpqjjjoqb7/9dmPU16jsaQsAAAAAFN0ar7RduHBhOnbs+JH2rbfe2vYIAAAAAABraI1D2z59+uSSSy7J+++/X9+2aNGiXHbZZenTp0+jFAcAAAAAsKlptqYH/vd//3cGDhyYbbbZJj169EiSTJw4MS1atMgf/vCHRisQAAAAAGBTssZ72iZ1WyTccccdmTx5cpJk1113zdChQ9OyZctGK7Ax2dMWAAAAACi6tQptV8VXvvKV/PSnP03nzp3X5cusEqEtAAAAAFB0a7yn7ap67LHHsmjRonX9MgAAAAAAG4V1HtoCAAAAALDqhLYAAAAAAAUitAUAAAAAKBChLQAAAABAgTRr6gIAKLDa2mT2xGTh3KRVu6RTj6Tcv/cBAADAutTooW1tbW0efPDBHHLIIUmSCy+8MG3btm3slwFgXZs2LnliVPLOa0nt0qR886T9TskXzky692vq6gAAAGCjVVYqlUqNcaLXX389N998c2699da8/fbbWbp0aWOctlHV1NSkqqoq1dXVqaysbOpyAIpr2rjktyOSxfOTllslzSqSZYuTRf9IKlonh1wruAUAAIB1ZK0+47po0aLcfvvt6du3b3beeec89dRTufjii/Pmm282Vn0ArG+1tXUrbBfPT9p0TjZvmZSV1z236VzX/sSounEAAABAo1uj7RGef/75/PSnP81dd92VHXbYIUOHDs1TTz2V//3f/81uu+3W2DUCsD7Nnli3JULLrZKysoZ9ZWV17e+8Vjeuy15NUyMAAABsxFZ7pe2ee+6ZI488Mu3atctTTz2VF198MWeffXbKPvyLPQAbpoVz6/awbVax4v5mFXX9C+eu37oAAABgE7Haoe2UKVPSt2/fHHDAAVbVAmyMWrWru+nYssUr7l+2uK6/Vbv1WxcAAABsIlY7tJ02bVp23nnnnHLKKdlmm21yzjnn5E9/+pOVtgAbi049kvY71d107MP3qiyV6trb71Q3DgAAAGh0qx3afupTn8p//Md/5PXXX8/PfvazzJ49O5///OezbNmy3HrrrfnLX/6yLuoEYH0pL0++cGZS0Tp5b1aydFFSqq17fm9WUtGmrr98re5lCQAAAHyMslLpw8uoVl91dXXuuOOO3HzzzXnxxRfTvXv3vP76641RX6OqqalJVVVVqqurU1lZ2dTlABTbtHHJE6PqbjpWu7RuS4T2O9UFtt37NXV1AAAAsNFqlND2A++//35+9KMf5cILL8zixR+zF2ITEtoCrKba2mT2xLqbjrVqV7clghW2AAAAsE6t9m/eixcvzsiRI9O7d+/st99+GT16dJLklltuyQ477JD//u//zn/+5382dp0ANIXy8qTLXsmOA+qeBbYAAACwzq32Stvzzz8/N9xwQwYMGJCnnnoqb7/9dk444YQ888wzufDCC3PkkUdms802W1f1rhUrbQEAAACAomu2ugf86le/yu23355DDz00L7/8cvbcc88sW7YsEydOTFlZ2bqoEQAAAABgk7HaK22bN2+eN954I5/61KeSJC1btsxzzz2XPfbYY50U2JistAUAAAAAim61Nydcvnx5mjdvXv91s2bN0rp160YtCgAAAABgU7Xa2yOUSqUMGzYsFRUVSZL3338/J598crbYYosG4+69997GqRAAAAAAYBOy2qHt8ccf3+DrY489ttGKAQAAAADY1K32nrYbMnvaAgAAAABFt9p72gIAAAAAsO4IbQEAAAAACkRoCwAAAABQIEJbAAAAAIACEdoCAAAAABSI0BYAAAAAoECEtgAAAAAABSK0BQAAAAAoEKEtAAAAAECBCG0BAAAAAApEaAsAAAAAUCBCWwAAAACAAhHaAgAAAAAUiNAWAAAAAKBAhLYAAAAAAAUitAUAAAAAKBChLQAAAABAgQhtAQAAAAAKRGgLAAAAAFAgQlsAAAAAgAIR2gIAAAAAFIjQFgAAAACgQIS2AAAAAAAFIrQFAAAAACgQoS0AAAAAQIEIbQEAAAAACkRoCwAAAABQIEJbAAAAAIACEdoCAAAAABSI0BYAAAAAoECEtgAAAAAABSK0BQAAAAAokA0utF28eHF69uyZsrKyTJgwoanLAQAAAABoVBtcaHveeeelS5cuTV0GAAAAAMA6sUGFtr/73e/y0EMP5eqrr27qUgAAAAAA1olmTV3AqpozZ05OOumkjB49Oq1atVqlYxYvXpzFixfXf11TU7OuygMAAAAAaBQbxErbUqmUYcOG5eSTT07v3r1X+bgrrrgiVVVV9Y+uXbuuwyoBAAAAANZek4a2F1xwQcrKylb6mDx5cq677rq89957GTly5Gqdf+TIkamurq5/zJw5cx29EwAAAACAxlFWKpVKTfXib7/9dubOnbvSMd27d89RRx2V3/zmNykrK6tvX758eTbbbLMMHTo0t9122yq9Xk1NTaqqqlJdXZ3Kysq1qh0AAAAAYF1o0tB2Vc2YMaPBfrR/+9vfMnDgwNxzzz3Zd999s80226zSeYS2AAAAAEDRbRA3Itt2220bfN26deskyQ477LDKgS0AAAAAwIZgg7gRGQAAAADApmKDWGn7Ydtvv302gF0dAAAAAABWm5W2AAAAAAAFIrQFAAAAACgQoS0AAAAAQIEIbQEAAAAACkRoCwAAAABQIEJbAAAAAIACEdoCAAAAABSI0BYAAAAAoECEtgAAAAAABSK0BQAAAAAoEKEtAAAAAECBCG0BAAAAAApEaAsAAAAAUCBCWwAAAACAAhHaAgAAAAAUiNAWAAAAAKBAhLYAAAAAAAUitAUAAAAAKBChLQAAAABAgQhtAQAAAAAKRGgLAAAAAFAgQlsAAAAAgAIR2gIAAAAAFIjQFgAAAACgQIS2AAAAAAAFIrQFAAAAACgQoS0AAAAAQIEIbQEAAAAACkRoCwAAAABQIEJbAAAAAIACEdoCAAAAABSI0BYAAAAAoECEtgAAAAAABSK0BQAAAAAoEKEtAAAAAECBCG0BAAAAAApEaAsAAAAAUCBCWwAAAACAAhHaAgAAAAAUiNAWAAAAAKBAhLYAAAAAAAUitAUAAAAAKBChLQAAAABAgQhtAQAAAAAKRGgLAAAAAFAgQlsAAAAAgAIR2gIAAAAAFIjQFgAAAACgQIS2AAAAAAAFIrQFAAAAACgQoS0AAAAAQIEIbQEAAAAACkRoCwAAAABQIEJbAAAAAIACEdoCAAAAABSI0BYAAAAAoECEtgAAAAAABSK0BQAAAAAoEKEtAAAAAECBCG0BAAAAAApEaAsAAAAAUCBCWwAAAACAAhHaAgAAAAAUiNAWAAAAAKBAhLYAAAAAAAUitAUAAAAAKBChLQAAAABAgQhtAQAAAAAKRGgLAAAAAFAgQlsAAAAAgAIR2gIAAAAAFIjQFgAAAACgQIS2AAAAAAAFIrQFAAAAACgQoS0AAAAAQIEIbQEAAAAACkRoCwAAAABQIBtUaPvAAw9k3333TcuWLbPVVltlyJAhTV0SAAAAAECjatbUBayq//f//l9OOumkfO9738sXv/jFLFu2LC+//HJTlwUAAAAA0KjKSqVSqamL+CTLli3L9ttvn8suuyzDhw9f4/PU1NSkqqoq1dXVqaysbMQKAQAAAAAaxwaxPcKLL76Yt956K+Xl5dlrr73SuXPnfPnLX/7ElbaLFy9OTU1NgwcAAAAAQJFtEKHttGnTkiSXXnppvv3tb+e3v/1tttpqq/Tv3z/vvvvuxx53xRVXpKqqqv7RtWvX9VUyAAAAAMAaadLQ9oILLkhZWdlKH5MnT05tbW2S5D/+4z9yxBFHpFevXrnllltSVlaWX/3qVx97/pEjR6a6urr+MXPmzPX11gAAAAAA1kiT3ojs7LPPzrBhw1Y6pnv37pk1a1aSZLfddqtvr6ioSPfu3TNjxoyPPbaioiIVFRWNUisAAAAAwPrQpKFthw4d0qFDh08c16tXr1RUVGTKlCn5whe+kCRZunRppk+fnu22225dlwkAAAAAsN40aWi7qiorK3PyySfnkksuSdeuXbPddtvlBz/4QZLkyCOPbOLqAAAAAAAazwYR2ibJD37wgzRr1ixf//rXs2jRouy777555JFHstVWWzV1aQAAAAAAjaasVCqVmrqI9aWmpiZVVVWprq5OZWVlU5cDAAAAAPAR5U1dAAAAAAAA/0doCwAAAABQIEJbAAAAAIACEdoCAAAAABSI0BYAAAAAoECEtgAAAAAABSK0BQAAAAAoEKEtAAAAAECBCG0BAAAAAApEaAsAAAAAUCBCWwAAAACAAhHaAgAAAAAUiNAWAAAAAKBAhLYAAAAAAAUitAUAAAAAKBChLQAAAABAgQhtAQAAAAAKRGgLAAAAAFAgQlsAAAAAgAIR2gIAAAAAFIjQFgAAAACgQIS2AAAAAAAFIrQFAAAAACgQoS0AAAAAQIEIbQEAAAAACkRoCwAAAABQIEJbAAAAAIACEdoCAAAAABSI0BYAAAAAoECEtgAAAAAABSK0BQAAAAAoEKEtAAAAAECBCG0BAAAAAApEaAsAAAAAUCBCWwAAAACAAhHaAgAAAAAUiNAWAAAAAKBAhLYAAAAAAAUitAUAAAAAKBChLQAAAABAgQhtAQAAAAAKRGgLAAAAAFAgQlsAAAAAgAIR2gIAAAAAFIjQFgAAAACgQIS2AAAAAAAFIrQFAAAAACgQoS0AAAAAQIEIbQEAAAAACkRoCwAAAABQIEJbAAAAAIACEdoCAAAAABSI0BYAAAAAoECEtgAAAAAABSK0BQAAAAAoEKEtAAAAAECBCG0BAAAAAApEaAsAAAAAUCBCWwAAAACAAhHaAgAAAAAUiNAWAAAAAKBAhLYAAAAAAAUitAUAAAAAKBChLQAAAABAgQhtAQAAAAAKRGgLAAAAAFAgQlsAAAAAgAIR2gIAAAAAFIjQFgAAAACgQIS2AAAAAAAFIrQFAAAAACgQoS0AAAAAQIEIbQEAAAAACkRoCwAAAABQIEJbAAAAAIACEdoCAAAAABSI0BYAAAAAoECEtgAAAAAABbLBhLZ/+ctfMnjw4LRv3z6VlZX5whe+kEcffbSpywIAAAAAaFQbTGh7yCGHZNmyZXnkkUcyfvz49OjRI4ccckhmz57d1KUBAAAAADSaslKpVGrqIj7JO++8kw4dOuSxxx7L/vvvnyR57733UllZmYcffjgDBgxYpfPU1NSkqqoq1dXVqaysXJclAwAAAACskQ1ipW27du2y88475/bbb8+CBQuybNmy3HDDDdl6663Tq1evjz1u8eLFqampafAAAAAAACiyZk1dwKooKyvLH//4xwwZMiRt2rRJeXl5tt566/z+97/PVltt9bHHXXHFFbnsssvWY6UAAAAAAGunSVfaXnDBBSkrK1vpY/LkySmVSjnttNOy9dZb5/HHH89zzz2XIUOG5F/+5V8ya9asjz3/yJEjU11dXf+YOXPmenx3AAAAAACrr0n3tH377bczd+7clY7p3r17Hn/88Rx00EH5xz/+0WAv2p122inDhw/PBRdcsEqvZ09bAAAAAKDomnR7hA4dOqRDhw6fOG7hwoVJkvLyhguDy8vLU1tbu05qAwAAAABoChvEjcj69OmTrbbaKscff3wmTpyYv/zlLzn33HPzxhtv5Ctf+UpTlwcAAAAA0Gg2iNC2ffv2+f3vf5/58+fni1/8Ynr37p0nnngi999/f3r06NHU5QEAAAAANJom3dN2fbOnLQAAAABQdBvESlsAAAAAgE2F0BYAAAAAoECEtgAAAAAABSK0BQAAAAAoEKEtAAAAAECBCG0BAAAAAApEaAsAAAAAUCBCWwAAAACAAhHaAgAAAAAUiNAWAAAAAKBAhLYAAAAAAAUitAUAAAAAKBChLQAAAABAgQhtAQAAAAAKRGgLAAAAAFAgQlsAAAAAgAIR2gIAAAAAFIjQFgAAAACgQIS2AAAAAAAFIrQFAAAAACgQoS0AAAAAQIEIbQEAAAAACkRoCwAAAABQIEJbAAAAAIACEdoCAAAAABSI0BYAAAAAoECEtgAAAAAABSK0BQAAAAAoEKEtAAAAAECBCG0BAAAAAApEaAsAAAAAUCBCWwAAAACAAhHaAgAAAAAUiNAWAAAAAKBAmjV1AetTqVRKktTU1DRxJQAANKU2bdqkrKysqcsAAIAV2qRC27lz5yZJunbt2sSVAADQlKqrq1NZWdnUZQAAwAptUqFt27ZtkyQzZsxIVVVVE1ezcaipqUnXrl0zc+ZMv/g0EnPauMxn4zOnjc+cNi7z2fg2xjlt06ZNU5cAAAAfa5MKbcvL67bwraqq2mh+4SiKyspKc9rIzGnjMp+Nz5w2PnPauMxn4zOnAACwfrgRGQAAAABAgQhtAQAAAAAKZJMKbSsqKnLJJZekoqKiqUvZaJjTxmdOG5f5bHzmtPGZ08ZlPhufOQUAgPWrrFQqlZq6CAAAAAAA6mxSK20BAAAAAIpOaAsAAAAAUCBCWwAAAACAAhHaAgAAAAAUyEYd2k6fPj3Dhw9Pt27d0rJly+ywww655JJLsmTJkpUe9/777+e0005Lu3bt0rp16xxxxBGZM2fOeqq6+L773e9mv/32S6tWrbLllluu0jHDhg1LWVlZg8egQYPWbaEbiDWZz1KplIsvvjidO3dOy5YtM2DAgLz22mvrttANyLvvvpuhQ4emsrIyW265ZYYPH5758+ev9Jj+/ft/5Bo9+eST11PFxfOjH/0o22+/fVq0aJF99903zz333ErH/+pXv8ouu+ySFi1aZI899siDDz64nirdcKzOnN56660fuR5btGixHqsttsceeyz/8i//ki5duqSsrCyjR4/+xGPGjh2bvffeOxUVFdlxxx1z6623rvM6NySrO6djx479yDVaVlaW2bNnr5+CAQBgI7dRh7aTJ09ObW1tbrjhhkyaNCmjRo3K9ddfnwsvvHClx5155pn5zW9+k1/96lcZN25c/va3v+Xwww9fT1UX35IlS3LkkUfmlFNOWa3jBg0alFmzZtU/fvGLX6yjCjcsazKfV111Vf7nf/4n119/fZ599tlsscUWGThwYN5///11WOmGY+jQoZk0aVIefvjh/Pa3v81jjz2Wb3zjG5943EknndTgGr3qqqvWQ7XF88tf/jJnnXVWLrnkkrz44ovp0aNHBg4cmL///e8rHP/UU0/lmGOOyfDhw/OnP/0pQ4YMyZAhQ/Lyyy+v58qLa3XnNEkqKysbXI9//etf12PFxbZgwYL06NEjP/rRj1Zp/BtvvJGvfOUrOeCAAzJhwoSMGDEiJ554Yv7whz+s40o3HKs7px+YMmVKg+t06623XkcVAgDAJqa0ibnqqqtK3bp1+9j+efPmlTbffPPSr371q/q2V199tZSk9PTTT6+PEjcYt9xyS6mqqmqVxh5//PGlwYMHr9N6NnSrOp+1tbWlTp06lX7wgx/Ut82bN69UUVFR+sUvfrEOK9wwvPLKK6Ukpeeff76+7Xe/+12prKys9NZbb33scf369SudccYZ66HC4ttnn31Kp512Wv3Xy5cvL3Xp0qV0xRVXrHD8UUcdVfrKV77SoG3fffctffOb31yndW5IVndOV+f766YuSem+++5b6Zjzzjuv9JnPfKZB29FHH10aOHDgOqxsw7Uqc/roo4+WkpT+8Y9/rJeaAABgU7NRr7Rdkerq6rRt2/Zj+8ePH5+lS5dmwIAB9W277LJLtt122zz99NPro8SN1tixY7P11ltn5513zimnnJK5c+c2dUkbpDfeeCOzZ89ucI1WVVVl3333dY0mefrpp7Plllumd+/e9W0DBgxIeXl5nn322ZUee8cdd6R9+/bZfffdM3LkyCxcuHBdl1s4S5Ysyfjx4xtcX+Xl5RkwYMDHXl9PP/10g/FJMnDgQNfj/29N5jRJ5s+fn+222y5du3bN4MGDM2nSpPVR7kbJNbru9OzZM507d86XvvSlPPnkk01dDgAAbDSaNXUB69Prr7+e6667LldfffXHjpk9e3aaN2/+kb1FO3bsaJ+2tTBo0KAcfvjh6datW6ZOnZoLL7wwX/7yl/P0009ns802a+ryNigfXIcdO3Zs0O4arTN79uyPfDy3WbNmadu27Urn52tf+1q22267dOnSJS+99FLOP//8TJkyJffee++6LrlQ3nnnnSxfvnyF19fkyZNXeMzs2bNdjyuxJnO688475+abb86ee+6Z6urqXH311dlvv/0yadKkbLPNNuuj7I3Kx12jNTU1WbRoUVq2bNlElW24OnfunOuvvz69e/fO4sWL89Of/jT9+/fPs88+m7333rupywMAgA3eBrnS9oILLljhzS/++fHhX4TfeuutDBo0KEceeWROOumkJqq8uNZkTlfHV7/61Rx66KHZY489MmTIkPz2t7/N888/n7FjxzbemyiQdT2fm6J1Paff+MY3MnDgwOyxxx4ZOnRobr/99tx3332ZOnVqI74LWDV9+vTJcccdl549e6Zfv365995706FDh9xwww1NXRokqfuHhW9+85vp1atX9ttvv9x8883Zb7/9MmrUqKYuDQAANgob5Erbs88+O8OGDVvpmO7du9f/+W9/+1sOOOCA7LfffvnJT36y0uM6deqUJUuWZN68eQ1W286ZMyedOnVam7ILbXXndG1179497du3z+uvv54DDzyw0c5bFOtyPj+4DufMmZPOnTvXt8+ZMyc9e/Zco3NuCFZ1Tjt16vSRmzstW7Ys77777mr9Hd53332T1K3Q32GHHVa73g1V+/bts9lmm2XOnDkN2lf2PbBTp06rNX5TsyZz+mGbb7559tprr7z++uvrosSN3sddo5WVlVbZNqJ99tknTzzxRFOXAQAAG4UNMrTt0KFDOnTosEpj33rrrRxwwAHp1atXbrnllpSXr3xxca9evbL55ptnzJgxOeKII5LU3Rl5xowZ6dOnz1rXXlSrM6eN4c0338zcuXMbhI4bk3U5n926dUunTp0yZsyY+pC2pqYmzz77bE455ZR18ppFsKpz2qdPn8ybNy/jx49Pr169kiSPPPJIamtr64PYVTFhwoQk2Wiv0Y/TvHnz9OrVK2PGjMmQIUOSJLW1tRkzZkxOP/30FR7Tp0+fjBkzJiNGjKhve/jhhzfq75mrY03m9MOWL1+eP//5zzn44IPXYaUbrz59+uTBBx9s0OYabXwTJkzY5L5nAgDAurJBbo+wqt566630798/2267ba6++uq8/fbbmT17doN9Ft96663ssssuee6555LU3dBp+PDhOeuss/Loo49m/PjxOeGEE9KnT5987nOfa6q3UigzZszIhAkTMmPGjCxfvjwTJkzIhAkTMn/+/Poxu+yyS+67774kdTfTOffcc/PMM89k+vTpGTNmTAYPHpwdd9wxAwcObKq3URirO59lZWUZMWJELr/88vz617/On//85xx33HHp0qVLfSC0Kdt1110zaNCgnHTSSXnuuefy5JNP5vTTT89Xv/rVdOnSJclH/95PnTo13/nOdzJ+/PhMnz49v/71r3Pcccelb9++2XPPPZvy7TSJs846KzfeeGNuu+22vPrqqznllFOyYMGCnHDCCUmS4447LiNHjqwff8YZZ+T3v/99rrnmmkyePDmXXnppXnjhhVUOJDcFqzun//mf/5mHHnoo06ZNy4svvphjjz02f/3rX3PiiSc21VsolPnz59d/r0zqbtD4wffRJBk5cmSOO+64+vEnn3xypk2blvPOOy+TJ0/O//7v/+buu+/OmWee2RTlF9Lqzum1116b+++/P6+//npefvnljBgxIo888khOO+20pigfAAA2PqWN2C233FJKssLHB954441SktKjjz5a37Zo0aLSqaeeWtpqq61KrVq1Kh122GGlWbNmNcE7KKbjjz9+hXP6z3OYpHTLLbeUSqVSaeHChaWDDjqo1KFDh9Lmm29e2m677UonnXRSafbs2U3zBgpmdeezVCqVamtrSxdddFGpY8eOpYqKitKBBx5YmjJlyvovvqDmzp1bOuaYY0qtW7cuVVZWlk444YTSe++9V9//4b/3M2bMKPXt27fUtm3bUkVFRWnHHXcsnXvuuaXq6uomegdN77rrrittu+22pebNm5f22Wef0jPPPFPf169fv9Lxxx/fYPzdd99d+vSnP11q3rx56TOf+UzpgQceWM8VF9/qzOmIESPqx3bs2LF08MEHl1588cUmqLqYHn300RV+3/xgDo8//vhSv379PnJMz549S82bNy917969wfdUVn9Ov//975d22GGHUosWLUpt27Yt9e/fv/TII480TfEAALARKiuVSqX1EQ4DAAAAAPDJNurtEQAAAAAANjRCWwAAAACAAhHaAgAAAAAUiNAWAAAAAKBAhLYAAAAAAAUitAUAAAAAKBChLQAAAABAgQhtAQAAAAAKRGgLwDo3bNiwDBkyZK3PM3369JSVlWXChAlrfS4AAAAoKqEtwIcMGzYsZWVlKSsry+abb55u3brlvPPOy/vvv99g3JtvvpnmzZtn9913b6JK163GCloBAACA1SO0BViBQYMGZdasWZk2bVpGjRqVG264IZdcckmDMbfeemuOOuqo1NTU5Nlnn22iSvlnpVIpy5Yta+oyAAAAYK0IbQFWoKKiIp06dUrXrl0zZMiQDBgwIA8//HB9f6lUyi233JKvf/3r+drXvpabbrpptc4/c+bMHHXUUdlyyy3Ttm3bDB48ONOnT0+STJ48Oa1atcqdd95ZP/7uu+9Oy5Yt88orryT5v1Wwl112WTp06JDKysqcfPLJWbJkSf0xtbW1ueKKK9KtW7e0bNkyPXr0yD333NOgjkmTJuWQQw5JZWVl2rRpk/333z9Tp07NpZdemttuuy33339//arjsWPHfmLtSbJ8+fKcddZZ2XLLLdOuXbucd955KZVKqzw3tbW1ueqqq7LjjjumoqIi2267bb773e+ucOzYsWNTVlaW3/3ud+nVq1cqKiryxBNPrPJrAQAAQBEJbQE+wcsvv5ynnnoqzZs3r2979NFHs3DhwgwYMCDHHnts7rrrrixYsGCVzrd06dIMHDgwbdq0yeOPP54nn3wyrVu3zqBBg7JkyZLssssuufrqq3PqqadmxowZefPNN3PyySfn+9//fnbbbbf684wZMyavvvpqxo4dm1/84he59957c9lll9X3X3HFFbn99ttz/fXXZ9KkSTnzzDNz7LHHZty4cUmSt956K3379k1FRUUeeeSRjB8/Pv/2b/+WZcuW5ZxzzslRRx1Vv+J41qxZ2W+//T6x9iS55pprcuutt+bmm2/OE088kXfffTf33XffKs/3yJEjc+WVV+aiiy7KK6+8kjvvvDMdO3Zc6TEXXHBBrrzyyrz66qvZc889V/m1AAAAoIjKSquz/AlgEzBs2LD8/Oc/T4sWLbJs2bIsXrw45eXlufvuu3PEEUckSYYOHZqtt946o0aNSpL07NkzI0aMyLBhwz7x/D//+c9z+eWX59VXX01ZWVmSZMmSJdlyyy0zevToHHTQQUmSQw45JDU1NWnevHk222yz/P73v68fP2zYsPzmN7/JzJkz06pVqyTJ9ddfn3PPPTfV1dVZunRp2rZtmz/+8Y/p06dP/WufeOKJWbhwYe68885ceOGFueuuuzJlypRsvvnmK5yHefPmZfTo0atVe5cuXXLmmWfm3HPPTZIsW7Ys3bp1S69evRqca0Xee++9dOjQIT/84Q9z4oknfqR/+vTp6datW/70pz+lZ8+eGTt2bA444ICMHj06gwcP/sS5BwAAgA1Bs6YuAKCIDjjggPz4xz/OggULMmrUqDRr1qw+sJ03b17uvffeBh/DP/bYY3PTTTetUmg7ceLEvP7662nTpk2D9vfffz9Tp06t//rmm2/Opz/96ZSXl2fSpEn1IekHevToUR/YJkmfPn0yf/78zJw5M/Pnz8/ChQvzpS99qcExS5YsyV577ZUkmTBhQvbff/8VBrZrWnt1dXVmzZqVfffdt76vWbNm6d279yptkfDqq69m8eLFOfDAA1e5piTp3bv3ao0HAACAIhPaAqzAFltskR133DFJXXjao0eP3HTTTRk+fHjuvPPOvP/++w2CyVKplNra2vzlL3/Jpz/96ZWee/78+enVq1fuuOOOj/R16NCh/s8TJ07MggULUl5enlmzZqVz586rXP/8+fOTJA888EA+9alPNeirqKhIkrRs2XKVz7e6ta+pNakpqfvvBQAAABsLe9oCfILy8vJceOGF+fa3v51Fixblpptuytlnn50JEybUPyZOnJj9998/N9988yeeb++9985rr72WrbfeOjvuuGODR1VVVZLk3XffzbBhw/If//EfGTZsWIYOHZpFixY1OM/EiRMbtD3zzDNp3bp1unbtmt122y0VFRWZMWPGR16ja9euSZI999wzjz/+eJYuXbrCOps3b57ly5evVu1VVVXp3Llznn322fpjli1blvHjx6/SXO+0005p2bJlxowZs0rjAQAAYGMktAVYBUceeWQ222yz/OhHP8qLL76YE088MbvvvnuDxzHHHJPbbrsty5YtW+m5hg4dmvbt22fw4MF5/PHH88Ybb2Ts2LH593//97z55ptJkpNPPjldu3bNt7/97fzXf/1Xli9fnnPOOafBeZYsWZLhw4fnlVdeyYMPPphLLrkkp59+esrLy9OmTZucc845OfPMM3Pbbbdl6tSpefHFF3PdddfltttuS5KcfvrpqampyVe/+tW88MILee211/Kzn/0sU6ZMSZJsv/32eemllzJlypS88847Wbp06SrVfsYZZ+TKK6/M6NGjM3ny5Jx66qmZN2/eKs1zixYtcv755+e8887L7bffnqlTp+aZZ57JTTfdtDr/uQAAAGCDJrQFWAXNmjXL6aefnpEjR2b77bfPLrvs8pExhx12WP7+97/nwQcfXOm5WrVqlcceeyzbbrttDj/88Oy6664ZPnx43n///VRWVub222/Pgw8+mJ/97Gdp1qxZtthii/z85z/PjTfemN/97nf15znwwAOz0047pW/fvjn66KNz6KGH5tJLL63v/853vpOLLrooV1xxRXbdddcMGjQoDzzwQLp165YkadeuXR555JHMnz8//fr1S69evXLjjTfW73F70kknZeedd07v3r3ToUOHPPnkk59Ye5KcffbZ+frXv57jjz8+ffr0SZs2bXLYYYet8lxfdNFFOfvss3PxxRdn1113zdFHH52///3vq3w8AAAAbOjKSqtyZxgACmXYsGGZN29eRo8e3dSlAAAAAI3MSlsAAAAAgAIR2gI0su9973tp3br1Ch9f/vKXm7q8JjVjxoyPnZvWrVtnxowZTV0iAAAANDnbIwA0snfffTfvvvvuCvtatmyZT33qU+u5ouJYtmxZpk+f/rH922+/fZo1a7b+CgIAAIACEtoCAAAAABSI7REAAAAAAApEaAsAAAAAUCBCWwAAAACAAhHaAgAAAAAUiNAWAAAAAKBAhLYAAAAAAAUitAUAAAAAKBChLY3iJz/5Sbp27Zry8vJce+21jXru7bff/hPPWVZWltGjR6/yOf8/9u47Korr7QP4d1nYpS5NEBDEgiA2VFQEYosoKFExtmDvwWDvLbZEYzTGkogFFWLDEiUmdkSxEOxgA1FRYkMxKgo22vP+4bvzY9hlWbBhfD7n7DnszJ2ZO7Pz3Ll793Jv3759ERAQ8Eb5Sk1NhUQiQUJCwhvth7HCOJ5YWRETEwOJRIKMjIx3uo8ZM2agbt26pT4G+3BiY2NRu3Zt6OnpvXE5UJg2ZUvz5s0xcuRIrfcZHh4OMzOzN8oXoF1Zyti7NGPGDJQvX77Ez2xtFLfP0jyzSxqr6ryNZxJjjDH2MeFG2/+3YsUKtGrVCu7u7vD19cWjR4/e2bEePXqEHj16QKFQwMzMDAMGDEBWVpbGbVauXInmzZtDoVAUW1l59eoV6tatq7Eyde3aNZiYmKh8cdm+fTsaNGgAMzMzGBkZoW7duli3bp3GvD19+hRDhw7FhAkTcOfOHQwePFhj+nchLS0Nbdq0ee/H/VC+/vprVK1aFQYGBrCyskKHDh1w+fJlrbfv27cvJBIJgoKCVNYFBwdDIpGgb9++Kuvi4uIglUrh7++vsk5ZgVf3On78eInOryTat2+PihUrQl9fH7a2tujVqxfu3r2r1bZEhDZt2mj8cvLw4UPY29urjbuYmBjUr18fcrkcTk5OCA8PF63PzMzEyJEj4ejoCAMDA3h5eeHUqVMa88Tx9P69aTx97DTFtZeXF9LS0mBqagrg7TV4FTZ27FhER0e/9f2+T9u3b0fr1q1haWmp9vn76NEjDBs2DC4uLjAwMEDFihUxfPhwPHnyRON+iQjTpk2Dra0tDAwM4OPjg6tXr6qk27VrFzw8PGBgYABzc3NRY+e5c+cQGBgIBwcHGBgYwNXVFYsXLxZtn5aWhu7du8PZ2Rk6OjpaN66MHj0adevWxY0bN1TKwPdh+/bt+O677977cT+UZcuWoU6dOlAoFFAoFPD09MSePXtKvb8jR46gXbt2sLOz07rxLzw8XPSMNzY2hru7O7Zv366S9tChQ2jbti0sLS1haGiIGjVqYMyYMbhz506p81wapal7KxVVV9AmroDi6woFzZ07FxKJpNj4S0pKwsyZM7FixYoP8sx2cHBAWloaatWq9V6P+yG9SX2TMcYYKy1utAWQnZ2Nfv36ISoqCmfOnEFeXh5OnDjxzo7Xo0cPXLp0CVFRUdi5cyeOHDlSbMPM8+fP4efnh8mTJxe7//Hjx8POzq7I9Tk5OQgMDESTJk1U1llYWGDKlCmIi4vD+fPn0a9fP/Tr1w/79u0rcn83b95ETk4O/P39YWtrC0NDw2LzWFS+SsvGxgZyubzU25cV2l4Dd3d3hIWFISkpCfv27QMRoXXr1sjLy9P6WA4ODti0aRNevHghLHv58iU2btyIihUrqt1m9erVGDZsGI4cOVJkRfXAgQNIS0sTvdzd3bXOV0m1aNECW7ZsQXJyMrZt24aUlBR07txZq20XLVoEiUSiMc2AAQNQp04dleU3btyAv78/WrRogYSEBIwcORIDBw4UxcrAgQMRFRWFdevW4cKFC2jdujV8fHw0flnleHp73mc8fcw0xbVMJoONjU2xcfKmjI2NYWlp+U6P8a49e/YMn332GX788Ue16+/evYu7d+/ip59+wsWLFxEeHo69e/diwIABGvc7b948LFmyBMuXL8eJEydgZGQEX19fvHz5Ukizbds29OrVC/369cO5c+cQGxuL7t27C+vPnDkDa2trrF+/HpcuXcKUKVMwadIk/Prrr0KaV69ewcrKClOnToWbm5vW552SkoLPP/8c9vb2pW7Qz87OLtV2wOt6i4mJSam3Lyu0vQb29vaYO3cuzpw5g9OnT+Pzzz9Hhw4dcOnSpVId99mzZ3Bzc8PSpUtLtJ1CoRCe8fHx8fD19UXXrl2RnJwspFmxYgV8fHxgY2ODbdu2ITExEcuXL8eTJ0+wYMGCUuW3tEpT91Yqqq6gTVxpU1dQOnXqFFasWKG2zlFYSkoKAKBDhw5v9MwubV1BKpXCxsYGurq6pdq+LNH2GrxJfZMxxhgrNfoENWvWjIKDg2nEiBFkaWlJzZs3F9aFhoZSYGAg5efnv5NjJyYmEgA6deqUsGzPnj0kkUjozp07xW5/6NAhAkCPHz9Wu3737t1UvXp1unTpEgGg+Ph4lTTjx4+nnj17UlhYGJmamhZ7zHr16tHUqVPVrgsLCyMAoteNGzeIiCgkJISqVKlCenp65OzsTGvXrhVtC4BCQkKoXbt2ZGhoSNOnT1d7DEdHR5o1axZ99dVXZGhoSHZ2dvTrr7+q7CsyMlJ4f/78eWrRogXp6+uThYUFDRo0iDIzM4X1ffr0oQ4dOtCMGTOoXLlyZGJiQl9//TW9evVKSLNnzx7y9vYmU1NTsrCwIH9/f7p27Zqw/saNG6JrnJubS/369SMXFxf6559/iIjojz/+oHr16pFcLqfKlSvTjBkzKCcnp8hrMG3aNKpatSrNnz9fdH7x8fEEgK5evar2Gp07d44AiPKnifL8a9WqRevXrxeWb9iwgerUqUMdOnSgPn36iLbJzMwkY2Njunz5MnXr1o1mz54tWl/4enwoO3bsIIlEQtnZ2RrTxcfHU4UKFSgtLU3l/lEKCQmhZs2aUXR0tErcjR8/nmrWrClK361bN/L19SUioufPn5NUKqWdO3eK0tSvX5+mTJmiNk8cTx9nPH3Miovrgs8c5d8FX8r77OXLlzR+/Hiyt7cnmUxGVatWpVWrVon2ceDAAXJ3dycDAwPy9PSky5cvC8eZPn06ubm5iY7bsGFDMjQ0JFNTU/Ly8qLU1FRhvTbxEBoaSgEBAWRgYEBOTk60Y8eOt3z11CtJWbhlyxaSyWSi+7ig/Px8srGxEd3DGRkZJJfLKSIigoiIcnJyqEKFCsL11tY333xDLVq0ULuuWbNmNGLECI3bK8+z4CssLIyIiGJiYqhhw4Ykk8nIxsaGJkyYIDpHTfWwgrQpWwrn9dGjR9SrVy8yMzMjAwMD8vPzoytXrgjrlXWfyMhIcnJyIrlcTq1bt6abN28Kaa5du0bt27cna2trMjIyogYNGlBUVJQob46OjrRw4ULhfWhoKJmamtKBAweIiOjChQvk5+dHRkZGZG1tTT179qQHDx5ovAb9+vUjf39/0XGys7PJyspK4+drbm5e4s9fnaKehYWpqz/m5eWRnp4ebdmyhYiIbt26RTKZjEaOHKl2H0XVY9+FN6l7a1NXKKhwXBVXV1DKzMykatWqUVRUVLHxN336dJXYI3r9GcycOZMqVKhAMpmM3NzcaM+ePcJ2ypjdtGkTNW3alORyuRCzhSmfp35+fqSvr0+VK1emrVu3quyrYDmnbdwHBweTQqEgS0tLmjp1qug719q1a8nd3Z2MjY2pfPnyFBgYSPfv3xfWF/4e9OzZM/Lz8yMvLy9hWWhoKFWvXp3kcjm5uLjQ0qVLNV6DX3/9lUxMTETnR0QUGRlJhoaG9PTpU7XXSNv6JmOMMfYmPtlGW2NjYxo3bhxdvnyZLl++TK9evaJhw4bRpEmTKC8vT+P2NWrUICMjoyJffn5+RW67evVqMjMzEy3LyckhqVRK27dvLzbvmhpt7927RxUqVKBTp04V+aUxOjqaKleuTE+ePCm20TY/P58OHDhAhoaGtH//frVpnj9/TgcOHCAAdPLkSUpLS6Pc3Fzavn076enp0dKlSyk5OZkWLFhAUqmUDh48KGwLgKytrWnNmjWUkpIiNMwU5ujoSCYmJvTDDz9QcnIyLVmyhKRSqShPBSvSWVlZZGtrS19++SVduHBBOOeCjZB9+vQhY2Nj6tatG128eJF27txJVlZWNHnyZCHN77//Ttu2baOrV69SfHw8tWvXjmrXri3cHwWv8cuXL6ljx45Ur149Sk9PJyKiI0eOkEKhoPDwcEpJSaH9+/dTpUqVaMaMGRqvwezZs6lGjRqiazB8+HBq2rSp2uuTlZVFI0eOpMqVK4u+yGqi/CL8888/U8uWLYXlLVu2pIULF6pttF29ejU1aNCAiIj++usvqlq1qqiiXdpG2zeJp8IePnxIXbt2JW9vb43pnj17Rq6urvTHH38QkfovqpcuXSIbGxv6559/1MZdkyZNVL5UrVmzhhQKBRERPX36VGioKsjb25uaNWumNl8cTx9nPH3Miovrgvf+q1evaNGiRaRQKCgtLY3S0tKExvuuXbuSg4MDbd++nVJSUujAgQO0adMm0T48PDwoJiaGLl26RE2aNCEvLy/hOAUbbXNycsjU1JTGjh1L165do8TERAoPDxfuaW3jwd7enjZu3EhXr16l4cOHk7GxMT18+LDIa/H1119rLIuMjIy0uqYlKQtDQ0OpXLlyRa5PSUlRu6+mTZvS8OHDiYjoxIkTBIDWrFlDdevWJRsbG/Lz86MLFy5oPHaPHj2oU6dOatdp02ibm5tLaWlppFAoaNGiRZSWlkbPnz+n27dvk6GhIX3zzTeUlJREkZGRVK5cOdEPSerqYepoU7YUzmv79u3J1dWVjhw5QgkJCeTr60tOTk5Cw0pYWBjp6elRgwYN6O+//6bTp09To0aNRPdjQkICLV++nC5cuEBXrlyhqVOnkr6+vqhcLdho++OPP5KlpSWdOHGCiF43SFpZWdGkSZMoKSmJzp49S61atRI15qm7BrGxsSSVSunu3btCuu3bt5ORkZHoh7KCn0FERATJZDK6dOmSxs9LG6VttM3NzaU1a9aQnp6e8GPXzz//TABE56ItZWN3Ua/CZXpxSlv31qauUFjhuCqurqDUu3dvoYG7uPjLzMwUfuRVlsVEr6+5QqGgiIgIunz5Mo0fP5709PSEHy2UZVOlSpVo27ZtdP369SI/HwBkaWlJoaGhlJycTFOnTiWpVEqJiYmifSnLppLE/YgRI+jy5cu0fv16MjQ0pJUrVwppVq9eTbt376aUlBSKi4sjT09PatOmjbC+4DPp8ePH5OXlRa1bt6Znz54REdH69evJ1tZWOL9t27aRhYUFhYeHa7wGgwYNorZt24quQfv27al3795qr4+29U3GGGPsTX2yjbb16tUTLRs+fDiZmpqSh4cHeXh4qPzaWlBqaipdvXq1yNft27eL3Hb27Nnk7OysstzKyopCQkKKzXtRjbb5+fnk5+dH3333HRGp/9L477//koODAx0+fJiI1PeUIHrdi8fIyIh0dXVJLpfT6tWrNeZJ2WtN2SOQiMjLy4sGDRokStelSxdRhQhAkT0wCnJ0dFRpuOvWrZuoElewIr1y5UoyNzenrKwsYf2uXbtIR0eH7t27R0SvvwhaWFgIlTwiomXLlpGxsXGRjfYPHjwgAMIXYeU1Pnr0KLVs2ZI+++wzysjIENK3bNmS5syZI9rHunXryNbWVuM1uHPnDkmlUuHLX3Z2NpUrV06ocCotXbqUjIyMCAC5uLiUqFegstE2PT2d5HI5paamUmpqKunr69ODBw/UNtp6eXnRokWLiOj1l51y5crRoUOHhPXK62FgYFCiho43iSel8ePHk6GhIQGgxo0b07///qsx/eDBg2nAgAHC+8JfxF6+fEl16tShdevWEZH6uKtWrZrK57tr1y4CQM+fPyciIk9PT2rWrBnduXOHcnNzad26daSjo6O2DFDiePr44uljVlxcF7731T03kpOTCYBKT8TC+yj4A4YyVl68eEFE4kbbhw8fEgCKiYkpMs/axEPB/xDJysoiAKJeZ4Xdv39fY1lUVM/swrRttH3w4AFVrFhR1ABZWGxsrNqGry5dulDXrl2JiCgiIoIAUMWKFen333+n06dPU2BgIFlaWhbZSB0bG0u6urq0b98+teu1abRVMjU1FfXWmzx5Mrm4uIga/5cuXSoqD9TVw9TRpmwpmNcrV64QAIqNjRXS//vvv2RgYCD0AFU2dh0/flxIk5SURACEckKdmjVr0i+//CK8Vzbajh8/nmxtbenixYvCuu+++45at24t2v7WrVsEgJKTkzVegxo1atCPP/4ovG/Xrh317dtXlOb8+fNkZGREUqmUTE1NadeuXUXmuyRK0mgLQHjG6+joqPTaHDJkiErDpLZu376tMQ4L9rrXRmnr3sXVFQpTF1fa1BUiIiKoVq1aQnmoTfxFRkYKPWyV7OzsVP5bomHDhvTNN98Q0f/KJmWZrwkACgoKEi3z8PCgIUOGiPalLOe0jXtXV1dRmgkTJpCrq2uR+Th16hQBEH60UD5PkpKSqE6dOtSpUyfRD6xVq1aljRs3ivbx3Xffkaenp8ZrcOLECdEPJvfv3yddXV2V51BJ65uMMcbYm/pkx7QtPMbm4sWLkZGRgePHj+P48eMaxyhydHSEk5NTka8KFSq86+yr+OWXX5CZmYlJkyYVmWbQoEHo3r07mjZtqnFfJiYmSEhIwKlTpzB79myMHj0aMTExJcpPUlISvL29Rcu8vb2RlJQkWtagQQOt9ufp6anyvvC+Ch7bzc0NRkZGomPn5+eLxlpzc3MTjRfq6emJrKws3Lp1CwBw9epVBAYGokqVKlAoFKhUqRKA12OOFhQYGIhnz55h//79wmQ9wOsJKmbNmgVjY2PhNWjQIKSlpeH58+dFXgM7Ozv4+/tjzZo1AIC//voLr169QpcuXUTpevTogfj4eBw+fBjOzs7o2rWraIxDbVhZWcHf3x/h4eEICwuDv78/ypUrp5IuOTkZJ0+eRGBgIABAV1cX3bp1w+rVq1XSbt68GQkJCaKXJm8jnsaNG4f4+Hjs378fUqkUvXv3BhGpTfvnn3/i4MGDGmf9njRpElxdXdGzZ89ij63JunXrQESoUKEC5HI5lixZgsDAQOjolKzo5Xj6OOLpY1OSuNYkISEBUqkUzZo105iu4DiNtra2AID09HSVdBYWFujbty98fX3Rrl07LF68GGlpacJ6beOh4PGMjIygUCjUHk/J2tpaY1nk5OSk8fxK4unTp/D390eNGjUwY8aMN9pXfn4+AGDKlCno1KmTMEazRCLB1q1bVdJfvHgRHTp0wPTp09G6des3OrY6SUlJ8PT0FI0B6u3tjaysLNy+fVtYpu1Y58WVLYWPraurCw8PD2GZpaUlXFxcRPeHrq4uGjZsKLyvXr06zMzMhDRZWVkYO3YsXF1dYWZmBmNjYyQlJamUVwsWLEBoaCiOHTuGmjVrCsvPnTuHQ4cOicqr6tWrA/jfWKRFXYOBAwciLCwMAHD//n3s2bMH/fv3F6VxcXFBQkICTpw4gSFDhqBPnz5ITEzUcBVLb86cOaLzUF4DZV0xISEB8fHxmDNnDoKCgvDXX38BAIio1GNhV6hQQWMcOjo6FrltUFCQKL+lpU1doaDSxtWtW7cwYsQIbNiwAfr6+qXM7esy5e7dux+0rqBN3Ddu3FiUxtPTE1evXhXGkD9z5gzatWuHihUrwsTERHiuFI69Vq1awcnJCZs3b4ZMJgPwenzmlJQUDBgwQHQPfP/996K4U3cNGjVqhJo1a+K3334DAKxfvx6Ojo4q35lKUt9kjDHG3oZPttG2YANESdWsWVNUGSj80jSDq42NjcqXxtzcXDx69Ag2NjalztPBgwcRFxcHuVwOXV1d4ctlgwYN0KdPHyHNTz/9BF1dXejq6mLAgAF48uQJdHV1hQYNANDR0YGTkxPq1q2LMWPGoHPnzvjhhx9KnTdN3uRzeNfatWuHR48eITQ0FCdOnBAmpys8WUjbtm1x/vx5xMXFiZZnZWVh5syZosbLCxcu4OrVq6KKubprMHDgQGGSsLCwMHTr1k1lQipTU1NUq1YNTZs2xe+//47Lly8jMjKyxOfZv39/hIeH47ffflP5Yqi0evVq5Obmws7OTrh/li1bhm3btqnMfO7g4FCiho43iSelcuXKwdnZGa1atcKmTZuwe/duHD9+XG3agwcPIiUlBWZmZsK5AECnTp3QvHlzIc3WrVuF9S1bthSOM336dACvY/n+/fuifd+/fx8KhQIGBgYAgKpVq+Lw4cNCA8PJkyeRk5ODKlWqFHtOpcHx9OHj6WNSkrjWRHm/F0dPT0/4W/mlXdngWFhYWBji4uLg5eWFzZs3w9nZuciY1uZ4ymMWdTxAtbFH3ettyMzMhJ+fH0xMTBAZGamSz4KU9QJ1ZY1ynbIBvEaNGsJ6uVyOKlWqqDR0JCYmomXLlhg8eDCmTp36Vs6ntMpyeTV27FhERkZizpw5OHr0KBISElC7dm2V8qpJkybIy8vDli1bRMuzsrLQrl07lR8wr169KmoEUncNevfujevXryMuLg7r169H5cqVVSaOlclkcHJygru7O3744Qe4ublh8eLFb/EK/E9QUJDoHJQT3Srrik5OTqhTpw5Gjx6N5s2bCxPxOTs748mTJ6IfXLTVpk0bjXFYsIG8sFmzZqn8aFyaurc2dQUlTXFVXF3hzJkzSE9PR/369YXjHD58GEuWLIGuru47mRCzrMbes2fP4OvrC4VCgQ0bNuDUqVPCc7hw7Pn7++PIkSOiHyuysrIAAKGhoaJ74OLFiyrPj6LqCuHh4QBeP4P69eun8sNDSeqbjDHG2Nvw8U/5+QHs3r1b40yjmr7Aenp6IiMjA2fOnBF6WBw8eBD5+fminiEltWTJEnz//ffC+7t378LX1xebN28W9hsXFyeq/O3YsQM//vgj/v77b429GfPz8/Hq1asS5cfV1RWxsbFCgzEAxMbGir5UlkThCtHx48fh6upa5LHDw8Px7NkzoVIWGxsLHR0duLi4COnOnTuHFy9eCJ/X8ePHYWxsDAcHBzx8+BDJyckIDQ0VviwdO3ZM7fGGDBmCWrVqoX379ti1a5fQK6B+/fpITk4uVe+stm3bwsjICMuWLcPevXtx5MgRjenp9VAnJf6cAMDPzw/Z2dmQSCTw9fVVWZ+bm4u1a9diwYIFKr1HAgICEBERgaCgoBIfV+lN4kkdZaNMUddi4sSJGDhwoGhZ7dq1sXDhQrRr1w7A65nYX7x4Iaw/deoU+vfvj6NHj6Jq1aoAXsfy7t27RfuJiopS6ZkCvP5yYGRkhMePH2Pfvn2YN29eic6J4+njiaePRWnjWiaTqTQi1K5dG/n5+Th8+DB8fHzeWh7r1auHevXqYdKkSfD09MTGjRvRuHHjtx4PSrNmzcLYsWPfNNsaPX36FL6+vpDL5fjzzz+L7VlXuXJl2NjYIDo6GnXr1hX2oexhCbzurSmXy5GcnIzPPvsMwOvZ0FNTU0U9Ei9duoTPP/8cffr0wezZs9/NCeJ1mbFt2zZRT8vY2FiYmJjA3t6+xPvTVLaoO3Zubi5OnDgBLy8vABDKn4L3R25uLk6fPo1GjRoBeN3rPCMjQygHY2Nj0bdvX3Ts2BHA68ag1NRUleM1atQIQ4cOhZ+fH3R1dYX7p379+ti2bRsqVaokNPZpy9LSEgEBAcIPF/369St2m9LU07RlYWEBCwsLrdJKpVLh2dm5c2dMnDgR8+bNw8KFC1XSZmRkwMzMTO1+Vq1aJXoGF6bphw5ra2tYW1uLlpWm7q1NXQEoPq6Kqyu0bNkSFy5cEK3v168fqlevjgkTJkAqlRZ5rgUpFArY2dkhNjZW9F8PsbGxwn1eUsePH0fv3r1F7+vVq6c2rbZxr/zBtuA+q1WrBqlUisuXL+Phw4eYO3euEN+nT59We7y5c+fC2NgYLVu2RExMDGrUqIHy5cvDzs4O169fR48ePUp8vj179sT48eOxZMkSJCYmip4x6hRX32SMMcbeig81LsOHVJKx2t4FPz8/qlevHp04cYKOHTtG1apVo8DAQGH97du3ycXFRTS2WlpaGsXHx1NoaCgBoCNHjlB8fHyR49VpM6aeurEJ58yZQ/v376eUlBRKTEykn376iXR1dSk0NLTI/agbgzMyMpL09PQoJCSErly5IkwUU3CsRGg5dpqjoyMpFAr68ccfKTk5mX799VeSSqW0d+9etft69uwZ2draUqdOnejChQt08OBBqlKlitqJkwIDA+nSpUu0a9cuKl++PE2cOJGIXs/Aa2lpST179qSrV69SdHQ0NWzYUHScwtd44cKFZGxsTEePHiUior1795Kuri7NmDGDLl68SImJiRQREUFTpkzR6hpMnjyZZDKZylhfKSkpNGfOHDp9+jT9888/FBsbS+3atSMLCwvRDLuaKMe0VXry5Ak9efJEeF9wTNvIyEiSyWSi8UWVxo8fL0xipLweBw4cECbGUL6U47S9bcePH6dffvmF4uPjKTU1laKjo8nLy4uqVq1KL1++JCL18VRYcfeiujFtr1+/ToaGhjRu3DhKSkqipUuXqtyXe/fupT179tD169dp//795ObmRh4eHhpnGuZ4iieijyuePkbaxnXhe185xuqBAwfowYMHwlijffv2JQcHB4qMjKTr16/ToUOHaPPmzWr3QaR6nxcc0/b69es0ceJE+vvvvyk1NZX27dtHlpaWwtiTpY2HwmOvvm0PHz6k+Ph4YbzKTZs2UXx8vDBJ0JMnT8jDw4Nq165N165dE5WRubm5wn5cXFxEkyPNnTuXzMzMaMeOHXT+/Hnq0KEDVa5cWVSujhgxgipUqED79u2jy5cv04ABA8ja2poePXpEREQXLlwgKysr6tmzp+i4yon+lOLj4yk+Pp7c3d2pe/fuFB8fX+wEV4Wvq3JCouDgYEpKSqI//vhD7YRE2tTDiitb1O2rQ4cOVKNGDTp69CglJCSQn5+f2onIGjVqRMePH6fTp09T48aNqXHjxsI+OnbsSHXr1qX4+HhKSEigdu3akYmJieg4BSciO3r0KBkbGwvv79y5Q1ZWVtS5c2c6efIkXbt2jfbu3Ut9+/YVPmtN12D//v0kk8lIKpXSnTt3ROsmTpxIhw8fphs3btD58+dp4sSJJJFIipwwtjiZmZnC5w6Afv75Z4qPjy9yMkui19ew4ISE169fpxUrVpBUKqWZM2cK6ZYuXUoSiYT69+9PMTExlJqaSseOHaPBgwfT6NGjS5Xf0ipN3buwwuWKNnGlTV2hsNKOabtw4UJSKBS0adMmunz5Mk2YMEHtRGTaTJIIgMqVK0erV6+m5ORkmjZtGuno6AjlQVETkRUX98bGxjRq1Ci6fPkybdy4kYyMjGj58uVERJSenk4ymYzGjRtHKSkptGPHDnJ2dhYdp/DzZOTIkVS+fHlKSkoioteTOxoYGNDixYspOTmZzp8/T2vWrKEFCxZodQ26d+9OMplMZex/beqbjDHG2LvAjbYfwMOHDykwMJCMjY1JoVBQv379RLMCKysUBb+ATp8+nQCovIr6AlraRtspU6aQk5MT6evrk7m5OXl6egozgBdFXSMTEVFISAhVqVKF9PT0yNnZmdauXStaX5JGppkzZ1KXLl3I0NCQbGxsaPHixRr3df78eWrRogXp6+uThYUFDRo0SHSNlY2W06ZNI0tLSzI2NqZBgwaJKl5RUVHk6upKcrmc6tSpQzExMRobmYiIFixYQCYmJsIkKHv37iUvLy8yMDAghUJBjRo1Es2Sq+kaKGcNnzdvnmj5nTt3qE2bNmRtbU16enpkb29P3bt3L3L2bXUKN9oWVrDR9osvvlCZUVdJOWv5uXPnhOuh7hUREaF13kpC+TlbWFiQXC6nSpUqUVBQkGjyMnXxVFhpGm2Vy+vWrUsymYyqVKmiEo+bN2+mKlWqkEwmIxsbGwoODlbbSFYQx1O8sM3HEk8fI23jWt29HxQURJaWlgRA+EL+4sULGjVqFNna2pJMJiMnJydas2YNEZW80fbevXsUEBAg7MvR0ZGmTZsmmtSuNPHwrhttlZMzFX4pr5HyOqh7FYz3ws/2/Px8+vbbb6l8+fIkl8upZcuWwmRWStnZ2TRmzBiytrYmExMT8vHxEU2MVVQdwtHRUbQfbdIUpu66xsTEUMOGDYWyb8KECZSTkyOsL0mjbXFlS+F9PXr0iHr16kWmpqZkYGBAvr6+QqMV0f/qPtu2baMqVaqQXC4nHx8fUSPljRs3qEWLFmRgYEAODg7066+/qhynYKMtEdHhw4fJyMiIlixZQkSvJ0Xr2LEjmZmZkYGBAVWvXp1GjhwpTMKk6Rrk5+eTo6Oj2hjt378/OTo6kkwmIysrK2rZsmWpG2yJir4vC09GWlDhe10ul5OzszPNnj1b9AME0euy39fXl8zNzUlfX5+qV69OY8eOVZlc710rTd27sMLlirZxVVxdobDSNtrm5eXRjBkzqEKFCqSnp0dubm6iyRdL2mi7dOlSatWqlVC/Uv4QV9S+tIn7b775hoKCgkihUJC5uTlNnjxZNDHZxo0bqVKlSiSXy8nT05P+/PNPjY22RETDhg0jW1tboVzcsGGDcL3Nzc2padOmwg9hxV2D6OhoAiBMXKikTX2TMcYYexckRDx6OmNl0dGjR9GyZUvcunUL5cuX/9DZYeyjxvHEGPtYZGVloUKFCggLC8OXX375obPD2Cdj3bp1GDVqFO7evStMcMYYY4x9SDymLWNlzKtXr/DgwQPMmDEDXbp04QYmxt4AxxNj7GORn5+Pf//9FwsWLICZmRnat2//obPE2Cfh+fPnSEtLw9y5c/H1119zgy1jjLEyQ+dDZ4AxJhYREQFHR0dkZGSUeMIqxpgYxxNj7GNx8+ZNlC9fHhs3bsSaNWtKPIkZY6x05s2bh+rVq8PGxgaTJk360NlhjDHGBDw8AmOMMcYYY4wxxhhjjJUh3NOWMcYYY4wxxhhjjDHGyhButGWMMcYYY4wxxhhjjLEyhBttGWOMMcYYY4wxxhhjrAzhRlvGGGOMMcYYY4wxxhgrQ7jRljHGGGOMMcYYY4wxxsoQbrRljDHGGGOMMcYYY4yxMoQbbRljjDHGGGOMMcYYY6wM4UZbxhhjjDHGGGOMMcYYK0O40ZYxxhhjjDHGGGOMMcbKEG60ZYwxxhhjjDHGGGOMsTKEG20ZY4wxxhhjjDHGGGOsDOFGW8YYY4wxxhhjjDHGGCtDuNGWMcYYY4wxxhhjjDHGyhButGWMMcYYY4wxxhhjjLEyhBttGWOMMcYYY4wxxhhjrAzhRlvGGGOMMcYYY4wxxhgrQ7jRlr0VM2bMQPny5SGRSPDHH3+81X0Xt8/U1FRIJBIkJCRovc/mzZtj5MiRb5SvmJgYSCQSZGRkvNF+GCuM44mVFW/jc9FmHzNmzEDdunVLfQz2bly+fBmNGzeGvr7+W/98tPnM+/bti4CAAK33+bbKkbdRpjH2rnF8MsYYY/993Gj7/1asWIFWrVrB3d0dvr6+ePTo0Ts71qNHj9CjRw8oFAqYmZlhwIAByMrK0rjNy5cvERwcDEtLSxgbG6NTp064f/++2rQPHz6Evb29SsVo+/btaNWqFaysrKBQKODp6Yl9+/aJtp0xYwYkEonoVb16dY15S0pKwsyZM7FixQqkpaWhTZs22l2It8TBwQFpaWmoVavWez1uWfDq1SvUrVu3xI1sffv2hUQiQVBQkMq64OBgSCQS9O3bV2VdXFwcpFIp/P39VdYpG/vUvY4fP16S09JaamoqBgwYgMqVK8PAwABVq1bF9OnTkZ2drXG79xVPALB06VJUqlQJ+vr68PDwwMmTJzXmjePpwyltPH3sNMW1l5cX0tLSYGpqCgAIDw+HmZnZW8/D2LFjER0d/db3+z4VVf7Nnz+/yG1++OEHNGzYECYmJrC2tkZAQACSk5NFabQpr4YPHw53d3fI5fIiG1q2bNmCunXrwtDQEI6OjhrzpTR9+nQYGRkhOTn5g3w+ixcvRnh4+Hs/blmwadMmSCSSEjWKlcaRI0fQrl072NnZaf1DYXh4uOgeNzY2hru7O7Zv366S9tChQ2jbti0sLS1haGiIGjVqYMyYMbhz5847OJuilabuvXLlSjRv3hwKhaLIxsYrV66gQ4cOKFeuHBQKBT777DMcOnRIlCY6OhpeXl4wMTGBjY0NJkyYgNzcXGH9y5cv0bdvX9SuXRu6urpaf+Ycnx/O+4pPxhhjjBttAWRnZ6Nfv36IiorCmTNnkJeXhxMnTryz4/Xo0QOXLl1CVFQUdu7ciSNHjmDw4MEatxk1ahT++usvbN26FYcPH8bdu3fx5Zdfqk07YMAA1KlTR2X5kSNH0KpVK+zevRtnzpxBixYt0K5dO8THx4vS1axZE2lpacLr2LFjGvOWkpICAOjQoQNsbGwgl8s1pi9KTk5OqbaTSqWwsbGBrq5uqbYvS0p6DcaPHw87O7tSHcvBwQGbNm3CixcvhGUvX77Exo0bUbFiRbXbrF69GsOGDcORI0dw9+5dtWkOHDggun/S0tLg7u5eqjwW5/Lly8jPz8eKFStw6dIlLFy4EMuXL8fkyZM1bve+4mnz5s0YPXo0pk+fjrNnz8LNzQ2+vr5IT08vMm8cT2/P+4ynj5mmuJbJZLCxsYFEInmneTA2NoalpeU7Pca7VrjcW7NmDSQSCTp16lTkNocPH0ZwcDCOHz+OqKgo5OTkoHXr1nj27JmQRtvyqn///ujWrZva4+zZswc9evRAUFAQLl68iJCQECxcuBC//vqrxnNKSUnBZ599BkdHx1J/PsX9iKaJqanpO/mR4H0r6TVITU3F2LFj0aRJk3eUo/959uwZ3NzcsHTp0hJtp1AohHs9Pj4evr6+6Nq1q+hHhxUrVsDHxwc2NjbYtm0bEhMTsXz5cjx58gQLFix426eiUWnq3s+fP4efn5/GOsUXX3yB3NxcHDx4EGfOnIGbmxu++OIL3Lt3DwBw7tw5tG3bFn5+foiPj8fmzZvx559/YuLEicI+8vLyYGBggOHDh8PHx0frc+L4fDvKcnwyxhhjoE9Qs2bNKDg4mEaMGEGWlpbUvHlzYV1oaCgFBgZSfn7+Ozl2YmIiAaBTp04Jy/bs2UMSiYTu3LmjdpuMjAzS09OjrVu3CsuSkpIIAMXFxYnShoSEULNmzSg6OpoA0OPHjzXmp0aNGjRz5kzh/fTp08nNzU3r85k+fToBEL2IiPLy8mjmzJlUoUIFkslk5ObmRnv27BG2u3HjBgGgTZs2UdOmTUkul1NYWJjaYwCgkJAQ8vPzI319fapcubLoWij3FR8fLyyLiYmhhg0bkkwmIxsbG5owYQLl5OQI65X3QHBwMCkUCrK0tKSpU6eKPve1a9eSu7s7GRsbU/ny5SkwMJDu378vrD906JDoGj979oz8/PzIy8tLWBYaGkrVq1cnuVxOLi4utHTpUo3X4NdffyUTExPR+RERRUZGkqGhIT19+lRYtnv3bqpevTpdunRJ5fyL06dPH+rQoQPVqlWL1q9fLyzfsGED1alThzp06EB9+vQRbZOZmUnGxsZ0+fJl6tatG82ePVu0Xt3n8CHMmzePKleuXOT69xlPjRo1ouDgYOF9Xl4e2dnZ0Q8//KB2e46njzOePmbFxXXBz0X5d8HX9OnTiYjo5cuXNH78eLK3tyeZTEZVq1alVatWifZx4MABcnd3JwMDA/L09KTLly8Lxyn87Dl06BA1bNiQDA0NydTUlLy8vCg1NVVYHxISQlWqVCE9PT1ydnamtWvXivINgEJDQykgIIAMDAzIycmJduzY8ZavnmYdOnSgzz//vETbpKenEwA6fPgwEZWsvCIq+hkeGBhInTt3Fi1bsmQJ2dvbF1nfKeqzPn/+PLVo0YL09fXJwsKCBg0aRJmZmcJ2yufL999/T7a2tlSpUiW1+1fmdfny5WRvb08GBgbUpUsXysjIUNmX0suXL2nYsGFkZWVFcrmcvL296eTJk8J65b22c+dOql27NsnlcvLw8KALFy4Iaf7991/66quvyM7OjgwMDKhWrVq0ceNGUd6aNWtGI0aMEN7v3LmTFAqF8Ly8efMmdenShUxNTcnc3Jzat29PN27c0HgNZs6cSTVr1lS5Dm5ubjR16lThfW5uLnl5edGqVatUzv9dA0CRkZHFpgsLCyNTU1PRsry8PNLT06MtW7YQEdGtW7dIJpPRyJEj1e6juOfp21SaundBhZ9PSg8ePCAAdOTIEWHZ06dPCQBFRUUREdGkSZOoQYMGou3+/PNP0tfXFz2DlLT9zDk+RwjvP5X4ZIwx9mn6ZBttjY2Nady4cXT58mW6fPkyvXr1ioYNG0aTJk2ivLw8jdvXqFGDjIyMinz5+fkVue3q1avJzMxMtCwnJ4ekUilt375d7TZFNRhVrFiRfv75Z+H9pUuXyMbGhv75558iK5gF5eXlkYODA/3yyy/CsunTp5OhoSHZ2tpS5cqVqXv37vTPP/8UuY/MzEwKCwsjAJSWlkZpaWlERPTzzz+TQqGgiIgIunz5Mo0fP5709PToypUrRPS/BpZKlSrRtm3b6Pr163T37l21xwBAlpaWFBoaSsnJyTR16lSSSqWUmJgo2peykeX27dtkaGhI33zzDSUlJVFkZCSVK1dOqNAS/e8eGDFiBF2+fJnWr19PhoaGtHLlSiHN6tWraffu3ZSSkkJxcXHk6elJbdq0EdYXvMaPHz8mLy8vat26NT179oyIiNavX0+2trbC+W3bto0sLCwoPDxc4zUYNGgQtW3bVnQN2rdvT7179xbe37t3jypUqECnTp0qVWOpsqL5888/U8uWLYXlLVu2pIULF6pttF29erXwxeOvv/6iqlWrir7sl7bR9k3iSZ0pU6aQu7t7kevfVzy9evWKpFKpyhfg3r17U/v27dXug+Pp44ynj1lxcV3wc3n16hUtWrSIFAqFcH8qGwO6du1KDg4OtH37dkpJSaEDBw7Qpk2bRPvw8PCgmJgYunTpEjVp0oS8vLyE4xRsbMzJySFTU1MaO3YsXbt2jRITEyk8PFx4Fm3fvp309PRo6dKllJycTAsWLCCpVEoHDx4U9geA7O3taePGjXT16lUaPnw4GRsb08OHD4u8Fl9//bXGssjIyEjr63rv3j3S1dWlDRs2aL0NEdHVq1cJgNCIoW15pVRUo+2XX35JPXv2FC0LDQ0lAKLGjILS0tKoZs2aNGbMGOGzzsrKIltbW/ryyy/pwoULFB0dTZUrVxY9L/r06UPGxsbUq1cvunjxIl28eFHt/qdPn05GRkb0+eefU3x8PB0+fJicnJyoe/fuon0VbBQZPnw42dnZ0e7du+nSpUvUp08fMjc3Fz5X5b3m6upK+/fvp/Pnz9MXX3xBlSpVouzsbCJ6XabNnz+f4uPjKSUlhZYsWUJSqZROnDghHKdgo9CGDRvIxMSE/vrrLyIiys7OJldXV+rfvz+dP3+eEhMTqXv37uTi4kKvXr0q8hrcunWLdHR0RI1YZ8+eJYlEQikpKcKyadOmUUBAgNrzf9dK22ibm5tLa9asIT09Pbp27RoRvX5uASjyWaSJn5+fxjisUaNGifZXmrp3QUXVAfLz88nFxYUGDhxIWVlZlJOTQ/Pnzydra2t69OgRERGNHj2aPvvsM9F2UVFRBIAOHTqkcixtP3OOzxFE9GnFJ2OMsU/TJ9toW69ePdGy4cOHk6mpKXl4eJCHh4dKz6yCUlNT6erVq0W+bt++XeS2s2fPJmdnZ5XlVlZWFBISonabDRs2kEwmU1nesGFDGj9+PBG9/nW7Tp06tG7dOiIquoJZ0I8//kjm5uai3m67d++mLVu20Llz52jv3r3k6elJFStWVNsbQCkyMlLoEahkZ2en0mOrYcOG9M033xDR/xpYFi1aVOR+lQBQUFCQaJmHhwcNGTJEtC9lI8vkyZPJxcVF1PCwdOlSMjY2FhrkmzVrRq6urqI0EyZMIFdX1yLzcerUKQIgNFIor3FSUhLVqVOHOnXqJFQIiYiqVq2q0jvgu+++I09PT43X4MSJEySVSoUvOvfv3yddXV2KiYkhotdfEvz8/Oi7775Te/7aUFY009PTSS6XU2pqKqWmppK+vj49ePBAbaOtl5eXkNecnBwqV66c6AuHMh8GBgYlauh4k3gq7OrVq6RQKESNhYW9r3i6c+cOAaC///5blG7cuHHUqFGjIvfD8fTxxdPHrLi4Lnzvq+thl5ycLOpZVljBnrZKu3btIgD04sULIhI3Nj58+JAACJ+RujwPGjRItKxLly6ixnkAot5RWVlZBEDUQ72w+/fvayyLrl69WuS2hSnLA+X5aSMvL4/8/f3J29tbWKZNeVVQUY22K1asIENDQzpw4ADl5eVRcnIyVa9eXW0ZVZCbm5voB5qVK1eSubk5ZWVlCct27dpFOjo6dO/ePSJ6/XwpX768KH7VmT59OkmlUlEZv2fPHtLR0RF+sCrYKJKVlUV6enqihvDs7Gyys7OjefPmEdH/7jXlDwZEr+8nAwMD2rx5c5F58ff3pzFjxgjvlY1Cv/76K5mamoruxXXr1qmUia9evSIDAwPat2+fxmvQpk0boawlIho2bJjov72OHj1KFSpUoAcPHqic//tQkkZbAMIzXkdHR+U/PIYMGUIKhaJU+bh9+7bGOCzY614bpal7F6SpDnDr1i1yd3cniURCUqmUbG1t6ezZs8L6ffv2kY6ODm3cuJFyc3Pp9u3b1KRJEwKg8kwjKtlnzvH5acUnY4yxT9PHP2hhKRUeY3Px4sVYvHixVts6Ojq+iyy9kUmTJsHV1RU9e/bUKv3GjRsxc+ZM7NixA9bW1sLygpMe1alTBx4eHnB0dMSWLVswYMAArfb99OlT3L17F97e3qLl3t7eOHfunGhZgwYNtNqnp6enyvuiJgpKSkqCp6enaAxGb29vZGVl4fbt28J4rY0bNxal8fT0xIIFC5CXlwepVIozZ85gxowZOHfuHB4/foz8/HwAwM2bN1GjRg1hu1atWqFRo0bYvHkzpFIpgNdjxKWkpGDAgAEYNGiQkDY3N1eY0Keoa9CoUSPUrFkTv/32GyZOnIj169fD0dERTZs2BQD88ssvyMzMxKRJk7S6dppYWVnB398f4eHhICL4+/ujXLlyKumSk5Nx8uRJREZGAgB0dXXRrVs3rF69Gs2bNxel3bx5M1xdXbXOw9uKpzt37sDPzw9dunQRXfPSeFvx9DZwPH088fSxKUlca5KQkACpVIpmzZppTFdwbGhbW1sAQHp6usoY2hYWFujbty98fX3RqlUr+Pj4oGvXrsI2SUlJKmNRent7qzzDCx7PyMgICoVC43jS1tbWby1+16xZgx49ekBfX1/rbYKDg3Hx4sVix5EvjUGDBiElJQVffPEFcnJyoFAoMGLECMyYMQM6OtpPb5CUlAQ3NzcYGRkJy7y9vZGfn4/k5GSUL18eAFC7dm3IZLJi91exYkVUqFBBeO/p6Snsy8bGRpQ2JSUFOTk5orJQT08PjRo1QlJSkihtwTLOwsICLi4uQpq8vDzMmTMHW7ZswZ07d5CdnY1Xr17B0NBQtI/ff/8d6enpiI2NRcOGDYXl586dw7Vr12BiYiJK//LlS2FM8qKuwaBBg9C/f3/8/PPP0NHRwcaNG7Fw4UIAQGZmJnr16oXQ0FC1z+EPZc6cOZgzZ47wPjExEQBgYmKCs2fPAng99uuBAwcQFBQES0tLtGvXDkRU6rGwC94TJRUUFIT169cL74ubbOxNEBGCg4NhbW2No0ePwsDAAKtWrUK7du1w6tQp2NraonXr1pg/fz6CgoLQq1cvyOVyfPvttzh69GiJYk8bHJ+fXnwyxhj77/tkG20LVmhKqmbNmvjnn3+KXN+kSRPs2bNH7TobGxuVL425ubl49OiRSgWo4DbZ2dnIyMgQDfh///59YZuDBw/iwoUL+P333wG8rkgCQLly5TBlyhTMnDlT2G7Tpk0YOHAgtm7dWuyEB2ZmZnB2dsa1a9c0piutN/kc3qVnz57B19cXvr6+2LBhA6ysrHDz5k34+vqqTFjg7+8vTLBRu3ZtAP/7khAaGgoPDw9RemVDlJK6azBw4EAsXboUEydORFhYGPr16yd8+Tl48CDi4uJUJqhq0KABevTogd9++61E59q/f38MHToUAIqciGT16tXIzc0VTdJERJDL5fj1119FDWcODg5wcnLS+vhvEk9Kd+/eRYsWLeDl5YWVK1dqTPu+4qlcuXKQSqUqs7wXPM7bxvH04ePpY1KSuNbEwMBAq3R6enrC38rrr2y8LywsLAzDhw/H3r17sXnzZkydOhVRUVFo3LixVscqfDzlMYs6HqDa2KOONg1AR48eRXJyMjZv3qxdRgEMHTpUmBzJ3t5eWK5NeaUNiUSCH3/8EXPmzMG9e/dgZWUlzDZfpUoVrfejrbJaFgHA/PnzsXjxYixatAi1a9eGkZERRo4cqVIW1atXD2fPnsWaNWvQoEED4Z7NysqCu7s7NmzYoLJvKysr4W9116Bdu3aQy+WIjIyETCZDTk4OOnfuDOB1o1dqairatWsnpFfer7q6ukhOTkbVqlXf/AKUUFBQELp27Sq8V5YXOjo6omd9nTp1sH//fvz4449o164dnJ2d8eTJE6SlpQk/uGirTZs2OHr0aJHrHR0dcenSJbXrZs2ahbFjx4qWlaburY2DBw9i586dePz4MRQKBQAgJCQEUVFRwg+FADB69GiMGjUKaWlpMDc3R2pqKiZNmvROYk8bHJ//nfhkjDH23/fJNtq+id27d2uclVzTF1hPT09kZGTgzJkzQm/fgwcPIj8/X6UxQsnd3R16enqIjo4WZqFOTk7GzZs3hV+rt23bhhcvXgjbnDp1Cv3798fRo0dFlYiIiAj0798fmzZtgr+/f7HnmpWVhZSUFPTq1avYtEoKhQJ2dnaIjY0V9byKjY1Fo0aNtN5PQcePH0fv3r1F7+vVq6c2raurK7Zt2ybq5REbGwsTExPRl+ETJ06oHKNatWqQSqW4fPkyHj58iLlz58LBwQEAcPr0abXHmzt3LoyNjdGyZUvExMSgRo0aKF++POzs7HD9+nX06NGjxOfbs2dPjB8/HkuWLEFiYiL69OkjrFuyZAm+//574f3du3fh6+uLzZs3F3kPaeLn54fs7GxIJBL4+vqqrM/NzcXatWuxYMECtG7dWrQuICAAERERCAoKKvFxld4knoDXPWxbtGgBd3d3hIWFFdtz5X3Fk0wmg7u7O6KjoxEQEADgdQU/OjpaaCTXBsfTxxVPH4vSxrVMJkNeXp5oWe3atZGfn4/Dhw+XaObz4tSrVw/16tXDpEmT4OnpiY0bN6Jx48ZwdXVFbGys6HOMjY0V9dguDXWNPaWxevVquLu7w83Nrdi0RIRhw4YhMjISMTExqFy5smi9NuVVSUilUqHnXEREBDw9PUUNGcVxdXVFeHg4nj17JjR6xMbGQkdHBy4uLiXOz82bN3H37l2hIfD48eNF7qtq1aqQyWSIjY0V/kMjJycHp06dwsiRI0Vpjx8/LvTgfvz4Ma5cuSL8B0hsbCw6dOgg/CdFfn4+rly5onL/VK1aFQsWLEDz5s0hlUrx66+/AgDq16+PzZs3w9raWmio05auri769OmDsLAwyGQyfPXVV8Izrnr16rhw4YIo/dSpU5GZmYnFixcLZef7ZmFhAQsLC63SSqVS4dnZuXNnTJw4EfPmzRN6KxZU+IeIglatWiV6BhdW+AeZgtT1mC9N3Vsbz58/BwCVeoeOjo7KD0QSiUS4zyMiIuDg4ID69euX+tjqcHx+evHJGGPsE/ChxmX4kArPOvq++fn5Ub169ejEiRN07NgxqlatGgUGBgrrb9++TS4uLqJB94OCgqhixYp08OBBOn36NHl6egpjOaqjbvytDRs2kK6uLi1dulSYRCYtLU00E+yYMWMoJiaGbty4QbGxseTj40PlypWj9PT0Io+lbgzOhQsXkkKhoE2bNtHly5dpwoQJaidO0mbcSABUrlw5Wr16NSUnJ9O0adNIR0eHLl26pHZfyomTgoODKSkpif74448iJ04aNWoUXb58mTZu3EhGRka0fPlyIno9g7dMJqNx48ZRSkoK7dixg5ydnUXHKXyNR44cSeXLl6ekpCQiej3Ji4GBAS1evJiSk5Pp/PnztGbNGlqwYIFW16B79+4kk8mKnYjrTca0VXry5Ak9efJEeF9wTNvIyEiSyWSi+0Rp/PjxwiRGynwcOHBAdH+lpaWVaFzHkrh9+zY5OTlRy5Yt6fbt26JjFkzzoeJp06ZNJJfLKTw8nBITE2nw4MFkZmYmjC2nDsfT62v8McXTx0jbuC78ucTGxgpx/uDBA2GiuL59+5KDgwNFRkbS9evX6dChQ8IYheriJz4+XjQJVsGxWK9fv04TJ06kv//+m1JTU2nfvn1kaWkpjD0ZGRlJenp6FBISQleuXBEmIis4Fi/UjM1pamoqGnPzXXjy5AkZGhrSsmXL1K7//PPPRZN/DhkyRBiTsWA58vz5cyGNNuXV1atXKT4+nr7++mtydnam+Ph4io+PF8ZsfPDgAS1btoySkpIoPj6ehg8fTvr6+qJyUZ3CY2Y+e/aMbG1tqVOnTnThwgU6ePAgValSRWWiI23GeVROdOTj40MJCQl05MgRcnZ2pq+++qrIfY0YMYLs7Oxoz549oomOlJM+Ke+1mjVr0oEDB+jChQvUvn17qlixonAtRo0aRQ4ODhQbG0uJiYk0cOBAUigUouMUrCdevnyZbGxshPfPnj2jatWqUfPmzenIkSPC/T5s2DC6detWsdfgypUrJJVKSSqV0vHjxzVeo/cxZmZmZqZwvwCgn3/+meLj4zVOQhsWFiaakPD69eu0YsUKkkqlNHPmTCHd0qVLSSKRUP/+/SkmJoZSU1Pp2LFjNHjwYBo9evQ7Pa/CSlP3TktLo/j4eGHSviNHjlB8fLwwsdaDBw/I0tKSvvzyS0pISKDk5GQaO3Ys6enpUUJCgrCfefPm0fnz5+nixYs0a9Ys0tPTUymfLl26RPHx8dSuXTtq3ry58JlowvH5349PxhhjjBttP4CHDx9SYGAgGRsbk0KhoH79+gmT8RD9r9Gg4BfQFy9e0DfffEPm5uZkaGhIHTt2FDVMFabuS3KzZs0IgMqrYGWuW7duZGtrSzKZjCpUqEDdunUTZgIuirpGpry8PJoxYwZVqFCB9PT0yM3NTTQBTEkbmZYuXUqtWrUiuVxOlSpVEk1YoG5fMTEx1LBhQ5LJZGRjY0MTJkygnJwc0bX45ptvKCgoiBQKBZmbm9PkyZNFExds3LiRKlWqRHK5nDw9PenPP//U2MhE9HrSAltbW0pOTiai1w17devWJZlMRubm5tS0aVNhpuLiroFy1vAtW7ZovD5vo9G2sIKNtl988YVogp+CTpw4QQDo3LlzQj7UvSIiIrTOW0koJ0NR91L6kPFERPTLL79QxYoVSSaTUaNGjYr9EsDx9FjY5mOJp4+RtnGt7nMJCgoiS0tLAiA0GLx48YJGjRolPD+cnJxozZo1RFTyRtt79+5RQECAsC9HR0eaNm2aMPEdEVFISAhVqVKF9PT0yNnZmdauXSs6hw/VaLtixQoyMDBQ2xhOROTo6ChqZCmq/CqYT23Kq6LKI+X1ffDgATVu3JiMjIzI0NCQWrZsWWxZRKTaKEREdP78eWrRogXp6+uThYUFDRo0SFSHKUmjkJubG4WEhJCdnR3p6+tT586dhQYedft68eIFDRs2jMqVK0dyuZy8vb1Fs70r77W//vqLatasKZS7586dE9I8fPiQOnToQMbGxmRtbU1Tp06l3r17F9koRESUmJhI1tbWQkNjWloa9e7dW8hHlSpVaNCgQcKPn8VdgyZNmlDNmjWLvUbvo1FIec2Ke5YVVPjZK5fLydnZmWbPnk25ubmitFFRUeTr60vm5uakr69P1atXp7FjxwqTQ74vpal7T58+vdj4PHXqFLVu3ZosLCzIxMSEGjduTLt37xYdu0WLFmRqakr6+vrk4eGhsp7oddmgqS6jDsfna//l+GSMMcYkRP8/WCNjrExZt24dRo0ahbt372o1YQRjrGgcT4yxsoCIUK1aNXzzzTcYPXr0h84OY6wAjk/GGGNlDY9py1gZ8/z5c6SlpWHu3Ln4+uuvuYGJsTfA8cQYKysePHiATZs24d69e+jXr9+Hzg5jrACOT8YYY2WR5hl7GGPv3bx581C9enXY2Nhg0qRJHzo7jH3UOJ4YY2WFtbU1Zs2ahZUrV8Lc3PxDZ4cxVgDHJ2OMsbKIh0dgjDHGGGOMMcYYY4yxMoR72jLGGGOMMcYYY4wxxlgZwo22jDHGGGOMMcYYY4wxVoZwoy1jjDHGGGOMMcYYY4yVIdxoyxhjjDHGGGOMMcYYY2UIN9oyxhhjjDHGGGOMMcZYGcKNtowxxhhjjDHGGGOMMVaGcKMtY4wxxhhjjDHGGGOMlSHcaMsYY4wxxhhjjDHGGGNlCDfaMsYYY4wxxhhjjDHGWBnCjbaMMcYYY4wxxhhjjDFWhnCjLWOMMcYYY4wxxhhjjJUh3GjLGGOMMcYYY4wxxhhjZQg32jLGGGOMMcYYY4wxxlgZwo22jDHGGGOMMcYYY4wxVoZwoy1jjDHGGGOMMcYYY4yVIdxoyxhjjDHGGGOMMcYYY2UIN9oyxhhjjDHGGGOMMcZYGcKNtuytuHz5Mho3bgx9fX3UrVv3re47PDwcZmZmb3WfjJVlf/zxB5ycnCCVSjFy5Mi3uu++ffsiICDgre6T/XfFxMRAIpEgIyPjne5jxowZb/3Zwd5cbGwsateuDT09vbdebvBnzpj2uF7AGGOMfZq40fb/rVixAq1atYK7uzt8fX3x6NGjd3asR48eoUePHlAoFDAzM8OAAQOQlZWlcZuUlBR07NgRVlZWUCgU6Nq1K+7fvy9Kc+XKFXTo0AHlypWDQqHAZ599hkOHDonSnDp1Ci1btoSZmRnMzc3h6+uLc+fOidLs27cPjRs3homJCaysrNCpUyekpqZqzN/06dNhZGSE5ORkREdHa38xtNCtWzdcuXLlre7zU9e3b19IJBIEBQWprAsODoZEIkHfvn1V1sXFxUEqlcLf319lXWpqKiQSidrX8ePH38VpAChdPL18+RLBwcGwtLSEsbExOnXqpBJPxcVKUedb+FwzMjIQHBwMW1tbyOVyODs7Y/fu3Rrz9/XXX6Nz5864desWvvvuuxJeEc0WL16M8PDwt7pP9nHTFNdeXl5IS0uDqakpgHf3I9rYsWPf+rPjfSMiTJs2Dba2tjAwMICPjw+uXr2qcZtly5ahTp06UCgUUCgU8PT0xJ49e0RpmjdvrlLOFC67hw8fDnd3d8jl8iIbQs+fP48mTZpAX18fDg4OmDdvXrHnNHr0aNStWxc3btx46+XGf+Ez/y84cuQI2rVrBzs7O0gkEvzxxx/FbhMeHi66H42NjeHu7o7t27erpD106BDatm0LS0tLGBoaokaNGhgzZgzu3LnzDs7mNW2e8YXdv38fffv2hZ2dHQwNDeHn56cSv8XFYuHrUvCVnp4OADh27Bi8vb1haWkJAwMDVK9eHQsXLiz2nLhewBhjjH2auNEWQHZ2Nvr164eoqCicOXMGeXl5OHHixDs7Xo8ePXDp0iVERUVh586dOHLkCAYPHlxk+mfPnqF169aQSCQ4ePAgYmNjkZ2djXbt2iE/P19I98UXXyA3NxcHDx7EmTNn4Obmhi+++AL37t0DAGRlZcHPzw8VK1bEiRMncOzYMZiYmMDX1xc5OTkAgBs3bqBDhw74/PPPkZCQgH379uHff//Fl19+qfGcUlJS8Nlnn8HR0RGWlpalui7Z2dlqlxsYGMDa2rpU+2RFc3BwwKZNm/DixQth2cuXL7Fx40ZUrFhR7TarV6/GsGHDcOTIEdy9e1dtmgMHDiAtLU30cnd3fyfnAJQ8ngBg1KhR+Ouvv7B161YcPnwYd+/eFd3j2sSKUuHzLXiu2dnZaNWqFVJTU/H7778jOTkZoaGhqFChQpF5y8rKQnp6Onx9fWFnZwcTE5NSXZei4snU1JR7rjMRTXEtk8lgY2MDiUTyTvNgbGxc6mdHWTFv3jwsWbIEy5cvx4kTJ2BkZARfX1+8fPmyyG3s7e0xd+5cnDlzBqdPn8bnn3+ODh064NKlS6J0gwYNEpUz6hpc+/fvj27duqk9ztOnT9G6dWs4OjrizJkzmD9/PmbMmIGVK1dqPKeUlBR8/vnnsLe3L3W5UVRZ9F/4zP8Lnj17Bjc3NyxdurRE2ykUCuF+jI+Ph6+vL7p27Yrk5GQhzYoVK+Dj4wMbGxts27YNiYmJWL58OZ48eYIFCxa87VMRFPeML4yIEBAQgOvXr2PHjh2Ij4+Ho6MjfHx88OzZM1FaTbHYrVs3lfqPr68vmjVrJtRjjYyMMHToUBw5cgRJSUmYOnUqpk6dqjEWuV7AGGOMfcLoE9SsWTMKDg6mESNGkKWlJTVv3lxYFxoaSoGBgZSfn/9Ojp2YmEgA6NSpU8KyPXv2kEQioTt37qjdZt++faSjo0NPnjwRlmVkZJBEIqGoqCgiInrw4AEBoCNHjghpnj59SgCENKdOnSIAdPPmTSHN+fPnCQBdvXqViIi2bt1Kurq6lJeXJ6T5888/SSKRUHZ2ttr8ARC9pk+fLuy7RYsWpK+vTxYWFjRo0CDKzMwUtuvTpw916NCBvv/+e7K1taVKlSqp3X9YWBiZmpoK769du0bt27cna2trMjIyogYNGgjnqOTo6Ejfffcd9erVi4yMjKhixYq0Y8cOSk9Pp/bt25ORkRHVrl1b9DmkpqbSF198QWZmZmRoaEg1atSgXbt2qc3Tx0557WvVqkXr168Xlm/YsIHq1KlDHTp0oD59+oi2yczMJGNjY7p8+TJ169aNZs+eLVp/48YNAkDx8fHv4QxeK008ZWRkkJ6eHm3dulVYlpSURAAoLi6OiLSLFW3Od9myZVSlSpUiY6ewQ4cOqcTToUOHiIjo999/pxo1apBMJiNHR0f66aefRNs6OjrSrFmzqFevXmRiYqLy+SkpP3ulPXv2kLe3N5mampKFhQX5+/vTtWvXhPXK89y8eTN99tlnpK+vTw0aNKDk5GQ6efIkubu7k5GREfn5+VF6erroXBo2bEiGhoZkampKXl5elJqaqtV1YO9PcXGtvCcfP36s9v5UlvcvX76k8ePHk729PclkMqpatSqtWrVKtI8DBw6Qu7s7GRgYkKenJ12+fFk4zvTp08nNzU10XE33T0hICFWpUoX09PTI2dmZ1q5dK8o3AAoNDaWAgAAyMDAgJycn2rFjx1u+ev+Tn59PNjY2NH/+fGFZRkYGyeVyioiIKNG+zM3NhWtH9LrOMmLECK22LXwdlUJCQsjc3JxevXolLJswYQK5uLio3Y8y7gu+wsLCiIgoJiaGGjZsSDKZjGxsbGjChAmUk5Mjym9RdSxNeT158iT5+PiQpaUlKRQKatq0KZ05c0a0DQBavnw5+fv7k4GBAVWvXp3+/vtvunr1KjVr1owMDQ3J09NTVIYlJCRQ8+bNydjYmExMTKh+/fqiZwb7HwAUGRlZbLrC9TIiory8PNLT06MtW7YQEdGtW7dIJpPRyJEj1e7j8ePHb5hb9bR5xheWnJxMAOjixYvCsry8PLKysqLQ0FBhWUlikYgoPT2d9PT0VMqnwjp27Eg9e/ZUu47rBYwxxtin7ZPtafvbb79BJpMhNjYWy5cvR3Z2NoYPH47r169j/fr1GnsV1axZE8bGxkW+2rRpU+S2cXFxMDMzQ4MGDYRlPj4+0NHRKbJ376tXryCRSCCXy4Vl+vr60NHRwbFjxwAAlpaWcHFxwdq1a/Hs2TPk5uZixYoVsLa2Fnr+ubi4wNLSEqtXr0Z2djZevHiB1atXw9XVFZUqVQIAuLu7Q0dHB2FhYcjLy8OTJ0+wbt06+Pj4QE9PT23+0tLSULNmTYwZMwZpaWkYO3Ysnj17Bl9fX5ibm+PUqVPYunUrDhw4gKFDh4q2jY6ORnJystBLUhtZWVlo27YtoqOjER8fDz8/P7Rr1w43b94UpVu4cCG8vb0RHx8Pf39/9OrVC71790bPnj1x9uxZVK1aFb179wYRAXg9LMCrV69w5MgRXLhwAT/++COMjY21ytPHqn///ggLCxPer1mzBv369VObdsuWLahevTpcXFzQs2dPrFmzRrh2b+J9x9OZM2eQk5MDHx8fYVn16tVRsWJFxMXFAdAuVpTat28Pa2trfPbZZ/jzzz9F6/788094enoiODgY5cuXR61atTBnzhzk5eWpzZuXl5fQS2nbtm1IS0uDl5cXzpw5g65du+Krr77ChQsXMGPGDHz77bcq/874008/wc3NDfHx8fj222+LvG4FPXv2DKNHj8bp06cRHR0NHR0ddOzYUdSLH3g9BMrUqVNx9uxZ6Orqonv37hg/fjwWL16Mo0eP4tq1a5g2bRoAIDc3FwEBAWjWrBnOnz+PuLg4DB48+J331mQlV5K49vLywqJFi0Q97MaOHQsA6N27NyIiIrBkyRIkJSVhxYoVKuXnlClTsGDBApw+fRq6urro37+/2uMUd/9ERkZixIgRGDNmDC5evIivv/4a/fr1UxkOaObMmejatSvOnz+Ptm3bokePHhqHPgoKCtJYFml6Hty4cQP37t0TlSumpqbw8PAQypXi5OXlYdOmTXj27Bk8PT1F6zZs2IBy5cqhVq1amDRpEp4/f67VPpXi4uLQtGlTyGQyYZmvry+Sk5Px+PFjlfQODg5IS0uDQqHAokWLkJaWhm7duuHOnTto27YtGjZsiHPnzmHZsmVYvXo1vv/+e9H2hetY2sjMzESfPn1w7NgxHD9+HNWqVUPbtm2RmZkpSvfdd9+hd+/eSEhIQPXq1dG9e3d8/fXXmDRpEk6fPg0iEtU1evToAXt7e5w6dQpnzpzBxIkTi6zPsNLJy8vDb7/9BgCoX78+AGDr1q3Izs7G+PHj1W6jqWdnmzZtNMZhzZo1i9xWm2d8Ya9evQLwum6tpKOjA7lcLtSzlUoSi2vXroWhoSE6d+5cZJr4+Hj8/fffaNasmdr1XC9gjDHGPnEfts34w2jWrBnVq1dPtGz48OFkampKHh4e5OHhIfqFvrDU1FS6evVqka/bt28Xue3s2bPJ2dlZZbmVlRWFhISo3SY9PZ0UCgWNGDGCnj17RllZWTR06FACQIMHDxbS3bp1i9zd3UkikZBUKiVbW1s6e/asaF8XLlygqlWrko6ODuno6JCLi4vKr9wxMTFkbW1NUqmUAJCnp2exPSLc3NyEHldERCtXriRzc3PKysoSlu3atYt0dHTo3r17RPT6l/3y5cuLev6oo65HR2E1a9akX375RXjv6Ogo6rWQlpZGAOjbb78VlsXFxREASktLIyKi2rVr04wZMzQe579C2asiPT2d5HI5paamUmpqKunr69ODBw/U9rT18vKiRYsWERFRTk4OlStXTujtQfS/nhcGBgZkZGQkemnyvuNpw4YNJJPJVJY3bNiQxo8fL7wvLlYePHhACxYsoOPHj9PJkydpwoQJJJFIRL35XFxcSC6XU//+/en06dO0adMmsrCw0HifPX78WNSThoioe/fu1KpVK1G6cePGUY0aNYT3jo6OFBAQUOR+lQr3qClM2Wv/woULRPS/z7Vgz7+IiAgCQNHR0cKyH374Qei19/DhQwJAMTExxeaHfVjFxXXBnrZE6stjZS+1wv/xUHgfBw4cEJbt2rWLANCLFy+ISNzrsrj7x8vLiwYNGiRa1qVLF2rbtq3wHgBNnTpVeJ+VlUUAaM+ePUVei/v372ssi5S97NWJjY0lAHT37l2VfHXt2rXI7Yhe9+I3MjIiqVRKpqamKv/hsWLFCtq7dy+dP3+e1q9fTxUqVKCOHTuq3VdRPW1btWolqi8QEV26dIkAUGJiYpF5MzU1FXrYEhFNnjyZXFxcRP+NtHTpUjI2Nhb+Q0ddHaskeVXKy8sjExMT+uuvv4RlhT9X5XN89erVwrKIiAjS19cX3puYmFB4eHix+WEl62kLQHjG6+jokFwuF90rQ4YMIYVCUap83L59W2Mcauqdqe0zvqDs7GyqWLEidenShR49ekSvXr2iuXPnEgBq3bq1kK4ksUhE5OrqSkOGDFG7rkKFCiSTyUhHR4dmzZpV5D6IuF7AGGOMfcp030vLcBlUeIzNxYsXY/HixVpt6+jo+C6yVCQrKyts3boVQ4YMwZIlS6Cjo4PAwEDUr18fOjqvO0sTEYKDg2FtbY2jR4/CwMAAq1atQrt27XDq1CnY2trixYsXGDBgALy9vREREYG8vDz89NNP8Pf3x6lTp2BgYIB79+5h0KBB6NOnDwIDA5GZmYlp06ahc+fOiIqK0voX8aSkJLi5ucHIyEhY5u3tjfz8fCQnJ6N8+fIAgNq1a4t6/mgjKysLM2bMwK5du5CWlobc3Fy8ePFCpadtnTp1hL8LHq/wsvT0dNjY2GD48OEYMmQI9u/fDx8fH3Tq1Em0j/8iKysr+Pv7Izw8HEQEf39/lCtXTiVdcnIyTp48icjISACArq4uunXrhtWrV6N58+aitJs3b4arq6vWeXjf8aQNbWKlXLlyGD16tLBNw4YNcffuXcyfPx/t27cHAOTn58Pa2horV66EVCqFu7s77ty5g/nz52P69Ola5ycpKQkdOnQQLfP29saiRYuQl5cHqVQKAKIex9q6evUqpk2bhhMnTuDff/8VetLcvHkTtWrVEtJpE0/KiVYsLCzQt29f+Pr6olWrVvDx8UHXrl1ha2tb4vyxd6ckca1JQkICpFJpkT3FlAreQ8p7IT09XWUM7eLun6SkJJVxq729vVWe4QWPZ2RkBIVCIdyj6lhbW3+Q8dNdXFyQkJCAJ0+e4Pfff0efPn1w+PBh1KhRAwBE51q7dm3Y2tqiZcuWSElJQdWqVd9rXpOSkuDp6SmqC3h7eyMrKwu3b98WPsvSjGN+//59TJ06FTExMUhPT0deXh6eP39eqmf7y5cv8fTpUygUCowePRoDBw4U/muoS5cu7/26fczmzJmDOXPmCO8TExMBACYmJjh79iwA4Pnz5zhw4ACCgoJgaWmJdu3agYhK3YtS07jv74Kenh62b9+OAQMGwMLCAlKpFD4+PmjTpo3oPw9KEotxcXFISkrCunXr1B7z6NGjyMrKwvHjxzFx4kQ4OTkhMDBQ6zxzvYAxxhj7NHyywyMUbEwsqTf5d24bGxuVL425ubl49OgRbGxsityudevWSElJQXp6Ov7991+sW7cOd+7cQZUqVQAABw8exM6dO7Fp0yZ4e3ujfv36CAkJgYGBgfAvaxs3bkRqairCwsLQsGFDNG7cGBs3bsSNGzewY8cOAMDSpUthamqKefPmoV69emjatCnWr1+P6OjodzI5W2k+h7FjxyIyMhJz5szB0aNHkZCQgNq1a6tMsFDw3x+VXxzULVNWRgcOHIjr16+jV69euHDhAho0aIBffvmlxPn72PTv3x/h4eH47bffivx35dWrVyM3Nxd2dnbQ1dWFrq4uli1bhm3btuHJkyeitA4ODnBychK9NHnf8WRjY4Ps7GxkZGSIlt+/f1/YRptYUcfDwwPXrl0T3tva2sLZ2Vn48gQArq6uuHfvXpETgryJ0sRTu3bt8OjRI4SGhuLEiRNCnJcmngr+62RYWBji4uLg5eWFzZs3w9nZGcePHy9x/ti7U5K41sTAwECrdJrK38Lexv1T+F/gC9+jhb3J8AjKsqPwDPUFy5WiyGQyODk5wd3dHT/88APc3Nw0/ojs4eEBAKKypjg2NjZq81Yw729TacqiPn36ICEhAYsXL8bff/+NhIQEWFpavvGzfcaMGbh06RL8/f1x8OBB1KhRQ/ihghUvKCgICQkJwsvOzg7A6+EDlM/4OnXqYPTo0WjevDl+/PFHAICzszOePHmCtLS0Eh/zTYZH0OYZr467uzsSEhKQkZGBtLQ07N27Fw8fPhTq2epoisVVq1ahbt26Rf6AUblyZdSuXRuDBg3CqFGjMGPGjCKP8ya4XsAYY4x93D7ZnrZvYvfu3SozyBek6Qusp6cnMjIycObMGaEid/DgQeTn5wuVP02UvSAPHjyI9PR0oUefckwtZc9bJR0dHaHC9Pz5c+jo6Ih6PijfF05TkLLBSdOX3cJcXV0RHh6OZ8+eCRXG2NhY6OjowMXFRev9qBMbG4u+ffuiY8eOAF73vE1NTX2jfSo5ODggKCgIQUFBmDRpEkJDQzFs2LC3su+yys/PD9nZ2ZBIJPD19VVZn5ubi7Vr12LBggVo3bq1aF1AQAAiIiIQFBRU6uO/73hyd3eHnp4eoqOj0alTJwCvexzevHlTGEdSm1hRJyEhQdRrxNvbGxs3bkR+fr4QV1euXIGtrW2Jepi7uroiNjZWtCw2NlalQbikHj58iOTkZISGhqJJkyYAoDJ+35uoV68e6tWrh0mTJsHT0xMbN25E48aN39r+WemVNq5lMpnKmMy1a9dGfn4+Dh8+LBpH8k0Vdf8o46FPnz5C2tjYWKFnamnNmjVLGKO3pCpXrgwbGxtER0ejbt26AICnT5/ixIkTGDJkSIn2lZ+fL4yxqU5CQgIAlKiHmqenJ6ZMmYKcnByhUSUqKgouLi4wNzfXej+urq7Ytm2bqBdlbGwsTExMYG9vr/V+1ImNjUVISAjatm0LALh16xb+/fffN9qnkrOzM5ydnTFq1CgEBgYiLCxMqEMwzSwsLGBhYaFVWqlUihcvXgAAOnfujIkTJ2LevHlYuHChStqMjIwix7VdtWqVsB91NI1JrM0zXhNTU1MAr3ubnj59Gt99912RaYuKxaysLGzZsgU//PBDsccDio95dbhewBhjjH0auNG2FN7k37ldXV3h5+eHQYMGYfny5cjJycHQoUPx1VdfCb0X7ty5g5YtW2Lt2rVo1KgRgNe/Tru6usLKygpxcXEYMWIERo0aJTSAenp6wtzcHH369MG0adNgYGCA0NBQ3LhxA/7+/gCAVq1aYdy4cQgODsawYcOQn5+PuXPnQldXFy1atAAA+Pv7Y+HChZg1a5YwPMLkyZPh6OiIevXqaX2ePXr0wPTp09GnTx/MmDEDDx48wLBhw9CrVy/hX6hKq1q1ati+fTvatWsHiUSCb7/9tkQNykUZOXIk2rRpA2dnZzx+/BiHDh0q0b/5f6ykUimSkpKEvwvbuXMnHj9+jAEDBghfZpQ6deqE1atXixp3Hj58iHv37onSmZmZiSb4KOh9x5OpqSkGDBiA0aNHw8LCAgqFAsOGDYOnp6fwxUGbWFFOtKOMi+3bt2PNmjVYtWqVkL8hQ4bg119/xYgRIzBs2DBcvXoVc+bMwfDhw0t0nmPGjEHDhg3x3XffoVu3boiLi8Ovv/6KkJCQUl87ADA3N4elpSVWrlwJW1tb3Lx5ExMnTnyjfQKvJ2VauXIl2rdvDzs7OyQnJ+Pq1avo3bv3G++bvR0ljWulSpUqISsrC9HR0XBzc4OhoSEqVaqEPn36oH///liyZAnc3Nzwzz//ID09HV27di1x3oq7f8aNG4euXbuiXr168PHxwV9//YXt27fjwIEDpbsY/+9NhkeQSCQYOXIkvv/+e1SrVg2VK1fGt99+Czs7OwQEBAjpWrZsiY4dOwoTZU2aNAlt2rRBxYoVkZmZiY0bNyImJgb79u0DAKSkpGDjxo1o27YtLC0tcf78eYwaNQpNmzYV/WvytWvXkJWVhXv37uHFixdCY1KNGjUgk8nQvXt3zJw5EwMGDMCECRNw8eJFLF68WG1jmibffPMNFi1ahGHDhmHo0KFITk7G9OnTMXr0aJUffEuqWrVqWLduHRo0aICnT59i3LhxWvfiLsqLFy8wbtw4dO7cGZUrV8bt27dx6tQpoTGPvW5gLNhT9MaNG0hISICFhYXK0CUFEZHwrH/x4gWioqKwb98+YeIpBwcHLFy4EEOHDsXTp0/Ru3dvVKpUCbdv38batWthbGyMBQsWqN33mwyPoM0zHng9OdkPP/wgNN5v3boVVlZWqFixIi5cuIARI0YgICBA+FFL21gEXg8TlZubi549e6rkb+nSpahYsSKqV68OADhy5Ah++uknrhcwxhhjTL0POaDuh9KsWTMaMWLEBzv+w4cPKTAwkIyNjUmhUFC/fv0oMzNTWK8c4L/ghAMTJkyg8uXLk56eHlWrVo0WLFggmgiEiOjUqVPUunVrsrCwIBMTE2rcuDHt3r1blGb//v3k7e1NpqamZG5uTp9//jnFxcWJ0kRERFC9evXIyMiIrKysqH379pSUlKTxnApPREb0enKVFi1akL6+PllYWNCgQYNE51ncxAdKhSe+uXHjBrVo0YIMDAzIwcGBfv31V5XP1NHRkRYuXCjaDwpNsKG8zvHx8URENHToUKpatSrJ5XKysrKiXr160b///lts/j5GxV37ghORffHFF6IJfgo6ceIEAaBz584J11PdKyIi4h2cxWuliacXL17QN998Q+bm5mRoaEgdO3YUJqRTKi5WwsPDydXVlQwNDUmhUFCjRo3UTmD4999/k4eHB8nlcqpSpQrNnj2bcnNzizwfdROOEBH9/vvvVKNGDdLT06OKFSvS/PnzRevV3fPqFP7so6KiyNXVleRyOdWpU4diYmJEsVI4TohUJ6ciEsfpvXv3KCAggGxtbUkmk5GjoyNNmzZNmKiIfXjaxrW6zzooKIgsLS0JgFDuv3jxgkaNGiV85k5OTrRmzRoiUn+/xMfHEwC6ceMGEYknpdLm/gkJCaEqVaqQnp4eOTs709q1a0XnULi8J1KdVOtty8/Pp2+//ZbKly9PcrmcWrZsScnJyaI0jo6Oomdl//79ydHRkWQyGVlZWVHLli1p//79wvqbN29S06ZNycLCguRyOTk5OdG4cePoyZMnov02a9ZMbdmrvL5EROfOnaPPPvuM5HI5VahQgebOnVvsOam7ZjExMdSwYUOSyWRkY2NDEyZMoJycHFFetKljFZ6I7OzZs9SgQQPS19enatWq0datW1XKteKe40Ti++3Vq1f01VdfkYODA8lkMrKzs6OhQ4cKE+Cx/12vwq/Ck5EWpJyITPmSy+Xk7Oys9vkWFRVFvr6+ZG5uTvr6+lS9enUaO3asyqR9b5M2z3gAont78eLFZG9vLzxjp06dKpooV9tYJCLy9PSk7t27q83bkiVLqGbNmkLdoV69ehQSEqLx+cj1AsYYY+zTJSEqMMI+Y2XQihUr8N133+H27dsfOiuMffQCAwMhlUqxfv36D50VxtgnbNKkSTh69Ohb/ddrxljJcb2AMcYYK7s+2YnI2Mfh1q1b2L17t8ZJJxhjxcvNzUViYiLi4uI4nhhjHwwRISUlBdHR0VwWMfYBcb2AMcYYK/u40ZaVafXr18c///wjzEbMGCudixcvokGDBqhZs+YbTRzHGGNv4smTJ8JYu5MnT/7Q2WHsk8X1AsYYY6zs4+ERGGOMMcYYY4wxxhhjrAzhnraMMcYYY4wxxhhjjDFWhnCjLWOMMcYYY4wxxhhjjJUh3GjLGGOMMcYYY4wxxhhjZQg32jLGGGOMMcYYY4wxxlgZwo22jDHGGGOMMcYYY4wxVoZwoy1jjDHGGGOMMcYYY4yVIdxoyxhjjDHGGGOMMcYYY2UIN9oyxhhjjDHGGGOMMcZYGcKNtowxxhhjjDHGGGOMMVaGcKMtY4wxxhhjjDHGGGOMlSHcaMsYY4wxxhhjjDHGGGNlCDfaMsYYY4wxxhhjjDHGWBnCjbaMMcYYY4wxxhhjjDFWhnCjLWOMMcYYY4wxxhhjjJUh3GjLGGOMMcYYY4wxxhhjZQg32jLGGGOMMcYYY4wxxlgZwo227K34448/4OTkBKlUipEjR37o7DD2UYuNjUXt2rWhp6eHgICAD50d9gmLiYmBRCJBRkbGO93HjBkzULdu3VIfg70bXBYxVjZwPZsxxhj7NHGj7f9bsWIFWrVqBXd3d/j6+uLRo0fv7FiPHj1Cjx49oFAoYGZmhgEDBiArK6vY7eLi4vD555/DyMgICoUCTZs2xYsXL4T1lSpVgkQiEb3mzp0r2sf58+fRpEkT6Ovrw8HBAfPmzVM5TkZGBoKDg2Frawu5XA5nZ2fs3r1bY96+/vprdO7cGbdu3cJ3332n5ZX4OP3www9o2LAhTExMYG1tjYCAACQnJ3/obJVI3759IZFIEBQUpLIuODgYEokEffv2VVkXFxcHqVQKf39/lXWpqakq95/ydfz48XdxGgCA2bNnw8vLC4aGhjAzMys2fU5ODiZMmIDatWvDyMgIdnZ26N27N+7evStKd/bsWbRq1QpmZmawtLTE4MGDVeL05s2b8Pf3h6GhIaytrTFu3Djk5uaK0rx69QpTpkyBo6Mj5HI5KlWqhDVr1mjM4+jRo1G3bl3cuHED4eHhWl2Hj1VoaCiaNGkCc3NzmJubw8fHBydPnvzQ2fqkaIprLy8vpKWlwdTUFAAQHh6uVZyV1NixYxEdHf3W9/s+KcvVgi8/Pz+N28yYMUNlm+rVq4vSrFy5Es2bN4dCoVDb+K1sFFf3OnXqVJHHkUgkMDIy0pg/Lov++2XRkSNH0K5dO9jZ2UEikeCPP/4odpvw8HDRfWRsbAx3d3ds375dJe2hQ4fQtm1bWFpawtDQEDVq1MCYMWNw586dd3A2r718+RLBwcGwtLSEsbExOnXqhPv372vcRpv4bd++PSpWrAh9fX3Y2tqiV69eKnWHffv2oXHjxjAxMYGVlRU6deqE1NRUtceMjY2Frq6uVj9YcT3746pnM8YYY28LN9oCyM7ORr9+/RAVFYUzZ84gLy8PJ06ceGfH69GjBy5duoSoqCjs3LkTR44cweDBgzVuExcXBz8/P7Ru3RonT57EqVOnMHToUOjoiD/CWbNmIS0tTXgNGzZMWPf06VO0bt0ajo6OOHPmDObPn48ZM2Zg5cqVQprs7Gy0atUKqamp+P3335GcnIzQ0FBUqFChyLxlZWUhPT0dvr6+sLOzg4mJSamuS3Z2dqm2e98OHz6M4OBgHD9+HFFRUcjJyUHr1q3x7NmzD521EnFwcMCmTZtEDf8vX77Exo0bUbFiRbXbrF69GsOGDcORI0dUvqgoHThwQHQPpqWlwd3d/Z2cA/D6vunSpQuGDBmiVfrnz5/j7Nmz+Pbbb3H27Fls374dycnJaN++vZDm7t278PHxgZOTE06cOIG9e/fi0qVLoobsvLw8+Pv7Izs7G3///Td+++03hIeHY9q0aaLjde3aFdHR0Vi9ejWSk5MREREBFxcXjXlMSUnB559/Dnt7+1I3kH0s8RQTE4PAwEAcOnQIcXFxcHBwQOvWrd/pF3ompimuZTIZbGxsIJFI3mkejI2NYWlp+U6P8T74+fmJyr6IiIhit6lZs6Zom2PHjonWP3/+HH5+fpg8ebLa7ZUN6wVfAwcOROXKldGgQQMArxvFC6epUaMGunTpojFvXBb998uiZ8+ewc3NDUuXLi3RdgqFQriX4uPj4evri65du4oa11asWAEfHx/Y2Nhg27ZtSExMxPLly/HkyRMsWLDgbZ+KYNSoUfjrr7+wdetWHD58GHfv3sWXX35Z7HbFxW+LFi2wZcsWJCcnY9u2bUhJSUHnzp2F9Tdu3ECHDh3w+eefIyEhAfv27cO///6r9tgZGRno3bs3WrZsWWy+uJ79cdazGWOMsbeCPkHNmjWj4OBgGjFiBFlaWlLz5s2FdaGhoRQYGEj5+fnv5NiJiYkEgE6dOiUs27NnD0kkErpz506R23l4eNDUqVM17tvR0ZEWLlxY5PqQkBAyNzenV69eCcsmTJhALi4uwvtly5ZRlSpVKDs7W4uzITp06BABEL0OHTpERES///471ahRg2QyGTk6OtJPP/2kkt9Zs2ZRr169yMTEhPr06aOy/7/++otMTU0pNzeXiIji4+MJAE2YMEFIM2DAAOrRo4fwfuXKlWRvb08GBgYUEBBACxYsIFNTU2F9QkICNW/enIyNjcnExITq168vfB7//vsvffXVV2RnZ0cGBgZUq1Yt2rhxo8ZrkJ6eTgDo8OHDWl2zsqBPnz7UoUMHqlWrFq1fv15YvmHDBqpTpw516NBB5fPIzMwkY2Njunz5MnXr1o1mz54tWn/jxg0CQPHx8e/hDFSFhYWJPueSOHnyJAGgf/75h4iIVqxYQdbW1pSXlyekOX/+PAGgq1evEhHR7t27SUdHh+7duyekWbZsGSkUCiHG9uzZQ6ampvTw4UOt8qG8hgVfYWFhREQUExNDDRs2JJlMRjY2NjRhwgTKyckRttVUrilduHCBJBIJpaenExHRw4cPSSKRULdu3YQ03333HXl7ewvvd+zYQU5OTiSXy6l58+YUHh5OAOjx48dERJSamkpffPEFmZmZkaGhIdWoUYN27dpFRES5ubnUv39/qlSpEunr65OzszMtWrRI4zXIzc0lExMT+u2337S6ZuzNFBfXyjL+8ePHasv76dOnExHRy5cvafz48WRvb08ymYyqVq1Kq1atEu3jwIED5O7uTgYGBuTp6UmXL18WjjN9+nRyc3MTHbdhw4ZkaGhIpqam5OXlRampqcL6kJAQqlKlCunp6ZGzszOtXbtWlG8AFBoaSgEBAWRgYEBOTk60Y8eOt3z1xJTlakkUPm9NCn4WmmRnZ5OVlRXNmjWryDQJCQkEgI4cOaJ2PZdFn2ZZBIAiIyOLTafueZuXl0d6enq0ZcsWIiK6desWyWQyGjlypNp9FHcfl1ZGRgbp6enR1q1bhWVJSUkEgOLi4orcrjTxu2PHDpJIJEKdeevWraSrqyuqO/z555+iNErdunWjqVOnFlsGcD3746xnM8YYY2/LJ9vT9rfffoNMJkNsbCyWL1+O7OxsDB8+HNevX8f69es19iqqWbMmjI2Ni3y1adOmyG3j4uJgZmYm9H4BAB8fH+jo6BTZuzc9PR0nTpyAtbU1vLy8UL58eTRr1kylNw4AzJ07F5aWlqhXrx7mz58v+lftuLg4NG3aFDKZTFjm6+uL5ORkPH78GADw559/wtPTE8HBwShfvjxq1aqFOXPmIC8vT23evLy8hF4V27ZtQ1paGry8vHDmzBl07doVX331FS5cuIAZM2bg22+/Vfn3yp9++glubm6Ij4/Ht99+q7L/Jk2aIDMzE/Hx8QBe//perlw5xMTECGkOHz6M5s2bA3j9r2ZBQUEYMWIEEhIS0KpVK8yePVu0zx49esDe3h6nTp3CmTNnMHHiROjp6QF43dPU3d0du3btwsWLFzF48GD06tVL479IPnnyBABgYWFRZJqyqn///ggLCxPer1mzBv369VObdsuWLahevTpcXFzQs2dPrFmzBkT0xnl4k3h6W548eQKJRCL0JHv16hVkMpmoJ7uBgQEACHEXFxeH2rVro3z58kIaX19fPH36FJcuXQLwOp4aNGiAefPmoUKFCnB2dsbYsWNFvZsLcnBwQFpaGhQKBRYtWoS0tDR069YNd+7cQdu2bdGwYUOcO3cOy5Ytw+rVq/H999+Lti9crhVWs2ZNWFpa4vDhwwCAo0ePit4D4ni6ceMGOnfujICAAJw7dw5ff/01pkyZItpncHAwXr16hSNHjuDChQv48ccfYWxsDADIz8+Hvb09tm7disTEREybNg2TJ0/Gli1bivwsnj9/jpycnI8ynj5GJYlrLy8vLFq0SNTDbuzYsQCA3r17IyIiAkuWLEFSUhJWrFgh3AdKU6ZMwYIFC3D69Gno6uqif//+ao+Tm5uLgIAANGvWDOfPn0dcXBwGDx4sPJcjIyMxYsQIjBkzBhcvXsTXX3+Nfv364dChQ6L9zJw5E127dsX58+fRtm1b9OjRQ+PQR0FBQRrLosLno05MTAysra3h4uKCIUOG4OHDh8Vuc/XqVdjZ2aFKlSro0aMHbt68Wew2mvz55594+PBhkWU5AKxatQrOzs5o0qSJ2vVcFnFZVBJ5eXn47bffAAD169cHAGzduhXZ2dkYP3682m009dxu06aNxjisWbNmkdueOXMGOTk58PHxEZZVr14dFStWRFxcnMbzKEn8Pnr0CBs2bICXl5dQh3R3d4eOjg7CwsKQl5eHJ0+eYN26dfDx8RHSAEBYWBiuX7+O6dOna8wPwPVs4OOuZzPGGGNv7EO3Gn8IzZo1o3r16omWDR8+nExNTcnDw4M8PDxEv9AXlpqaSlevXi3ydfv27SK3nT17Njk7O6sst7KyopCQELXbxMXFEQCysLCgNWvW0NmzZ2nkyJEkk8noypUrQroFCxbQoUOH6Ny5c7Rs2TIyMzOjUaNGCetbtWpFgwcPFu370qVLBIASExOJiMjFxYXkcjn179+fTp8+TZs2bSILCwuaMWNGkef0+PFj0S//RETdu3enVq1aidKNGzeOatSoIbx3dHSkgICAIverVL9+fZo/fz4REQUEBNDs2bNJJpNRZmYm3b59mwAI16Fbt27k7+8v2r5Hjx6iHgAmJiYUHh5e7HGV/P39acyYMWrX5eXlkb+/v6g30MdA2aMkPT2d5HI5paamUmpqKunr69ODBw/U9rT18vISeibl5ORQuXLlRJ+5smeWgYEBGRkZiV6avEk8FVTanrYvXryg+vXrU/fu3YVlFy9eJF1dXZo3bx69evWKHj16RJ06dSIANGfOHCIiGjRoELVu3Vq0r2fPnhEA2r17NxER+fr6klwuJ39/fzpx4gTt2rWLHB0dqW/fvhrzZGpqKvRqIyKaPHkyubi4iP4DYOnSpWRsbCz06FFXrqnz5ZdfUnBwMBERjRw5ksaNG0fm5uaUlJRE2dnZZGhoSPv37yei1z3xa9WqJdp+ypQpot5ttWvX1lg+FBYcHEydOnUqcv2QIUOoSpUq9OLFC633yUqvuLgu3LtTXZwlJycTAIqKilJ7jII9bZV27dpFAITPuWBvs4cPHxIAiomJKTLPgwYNEi3r0qULtW3bVngPQPTfKVlZWQSA9uzZU+S1uH//vsaySNnLvigRERG0Y8cOOn/+PEVGRpKrqys1bNhQ6MGmzu7du2nLli107tw52rt3L3l6elLFihXp6dOnKmm17Wnbpk0batOmTZHrX7x4Qebm5vTjjz9q3A8Rl0WfWlmEEvS0BSA843V0dEgul4vulSFDhpBCoShVPm7fvq0xDgv2ui9sw4YNJJPJVJY3bNiQxo8fX+R22sbv+PHjydDQkABQ48aN6d9//xWtj4mJIWtra5JKpQSAPD09RTF75coVsra2puTkZCLSrrc917M/vno2Y4wx9rbovsf24TKl8BibixcvxuLFi7Xa1tHR8V1kqUj5+fkAIPQmAoB69eohOjoaa9aswQ8//ADg9YQhSnXq1IFMJsPXX3+NH374AXK5XOtjWVtbY+XKlZBKpXB3d8edO3cwf/58rXoEKCUlJaFDhw6iZd7e3li0aBHy8vIglUoBQNTjuCjNmjVDTEwMxowZg6NHj+KHH37Ali1bcOzYMTx69Ah2dnaoVq0aACA5ORkdO3YUbd+oUSPs3LlTeD969GgMHDhQ6P3QpUsXVK1aFcDr3iJz5szBli1bcOfOHWRnZ+PVq1cwNDRUm7fg4GBcvHhRba/nj4GVlRX8/f0RHh4OIoK/vz/KlSunki45ORknT55EZGQkAEBXVxfdunXD6tWrhd4XSps3b4arq6vWeXjf8VRQTk4OunbtCiLCsmXLhOU1a9bEb7/9htGjR2PSpEmQSqUYPnw4ypcvrzKOtCb5+fmQSCTYsGGDMJHTzz//jM6dOyMkJETovVucpKQkeHp6iv4DwNvbG1lZWbh9+7YwBrE2Ywc3a9ZMGMf68OHDmDNnDq5cuYKYmBg8evQIOTk58Pb2BvD6c2/YsKFo+0aNGoneDx8+HEOGDMH+/fvh4+ODTp06oU6dOsL6pUuXYs2aNbh58yZevHiB7OzsIiddmTt3LjZt2oSYmBjo6+sXf2HYGylJXGuSkJAAqVSKZs2aaUxX8L6wtbUF8Po/SQqPoW1hYYG+ffvC19cXrVq1go+PD7p27Spsk5SUpDIOvLe3t8ozvODxlBN4pqenF5k/a2trWFtbazwHTb766ivh79q1a6NOnTqoWrUqYmJiihy3suB/EtSpUwceHh5wdHTEli1bMGDAgBLn4fbt29i3b5/GHqSRkZHIzMxEnz59Srx/Los+PXPmzMGcOXOE94mJiQAAExMTnD17FsDrXskHDhxAUFAQLC0t0a5dOxBRqcfC1jSPwruibfyOGzcOAwYMwD///IOZM2eid+/e2LlzJyQSCe7du4dBgwahT58+CAwMRGZmJqZNm4bOnTsjKioK+fn56N69O2bOnAlnZ+c3yi/XsxljjLFPwyc7PEJxMyZr8ib/zm1jY6PypTE3NxePHj2CjY2N2m2UX1Rr1KghWu7q6qrx3yg9PDyQm5srzFprY2OjMnuu8r3y2La2tnB2dhYqe8rj3Lt3751MYKDN59C8eXMcO3YM586dg56eHqpXr47mzZsjJiYGhw8fLrahoLAZM2bg0qVL8Pf3x8GDB1GjRg2h0WL+/PlYvHgxJkyYgEOHDiEhIQG+vr5qz33o0KHYuXMnDh06BHt7+xLloSzp378/wsPD8dtvvxX578qrV69Gbm4u7OzsoKurC11dXSxbtgzbtm0T/m1NycHBAU5OTqKXJh9qeARlg+0///yDqKgoKBQK0fru3bvj3r17uHPnDh4+fIgZM2bgwYMHqFKlCgDt46lChQpCgy3wOp6ICLdv337r56RtPCUmJuLq1atITEzEZ599JoqnBg0aFPnlSZ2BAwfi+vXr6NWrFy5cuIAGDRrgl19+AQBs2rQJY8eOxYABA7B//34kJCSgX79+auPpp59+wty5c7F//35RQwt7d0oS15po++NDwX8PVjbmKH+ULCwsLAxxcXHw8vLC5s2b4ezsjOPHj2udp8LHUx6zqOMBb2d4hIKqVKmCcuXK4dq1a1pvY2ZmBmdn5xJtU1BYWBgsLS1FEysWtmrVKnzxxReioV3eNi6L/juCgoKQkJAgvOzs7AAAOjo6wjO+Tp06GD16NJo3b44ff/wRAODs7IwnT54gLS2txMd8k+ERbGxskJ2djYyMDNHy+/fvF1nPVqeo+C1XrhycnZ3RqlUrbNq0Cbt37xbKpqVLl8LU1BTz5s1DvXr10LRpU6xfvx7R0dE4ceIEMjMzcfr0aQwdOlQoc2fNmoVz585BV1cXBw8e1P4iaYnr2YwxxtjH7ZPtafsmdu/ejZycnCLXa/oC6+npiYyMDJw5c0boiXLw4EHk5+fDw8ND7TaVKlWCnZ2daEZeALhy5YrGBq2EhATo6OgIPYc8PT0xZcoU5OTkCF9mo6Ki4OLiAnNzcwCvf6XfuHEj8vPzhR6FV65cga2trWgs3OK4uroiNjZWtCw2NlalQVgbyvG2Fi5cKFQcmzdvjrlz5+Lx48cYM2aMkNbFxQWnTp0SbV/4PfD6y4SzszNGjRqFwMBAhIWFoWPHjoiNjUWHDh3Qs2dPAK8bFK5cuSJqMCciDBs2DJGRkYiJiUHlypVLdD5ljZ+fH7KzsyGRSODr66uyPjc3F2vXrsWCBQvQunVr0bqAgABEREQgKCio1Md/k3gqLWWD7dWrV3Ho0CGNs9YrGzbWrFkDfX19tGrVCsDreJo9ezbS09OFGFM2/irvF29vb2zduhVZWVlCg8+VK1ego6NToi8grq6u2LZtm6jnUmxsLExMTEr8RaZ27dowNzfH999/j7p168LY2Fj4ov348WNRD0sXFxfs3r1btL26eHJwcEBQUBCCgoIwadIkhIaGYtiwYYiNjYWXlxe++eYbIW1KSorK9vPmzcPs2bOxb98+rXoFsTdX2riWyWQqY5zXrl0b+fn5OHz4sGgcyTdVr1491KtXD5MmTYKnpyc2btyIxo0bC8+Xgj1FY2NjVX7YLKlZs2YJY/S+Dbdv38bDhw+FH161kZWVhZSUFPTq1avExyMihIWFoXfv3ioN1ko3btzAoUOH8Oeff5Z4/wCXRZ8iCwsLrccSlUqlwpjtnTt3xsSJEzFv3jwsXLhQJW1GRkaR49quWrWqyLHfAdUfZApyd3eHnp4eoqOj0alTJwCve4fevHkTnp6eWp0HoF38Kn8EevXqFYDXPY4L/zeOss6bn58PhUKBCxcuiNaHhITg4MGD+P3330tUn+R6NmOMMfaJ+GADM3xAzZo1oxEjRnyw4/v5+VG9evXoxIkTdOzYMapWrRoFBgYK62/fvk0uLi504sQJYdnChQtJoVDQ1q1b6erVqzR16lTS19ena9euERHR33//TQsXLqSEhARKSUmh9evXk5WVFfXu3VvYR0ZGBpUvX5569epFFy9epE2bNpGhoSGtWLFCSHPz5k0yMTGhoUOHUnJyMu3cuZOsra3p+++/L/J81I21debMGdLR0aFZs2ZRcnIyhYeHk4GBgWi8M0dHR1q4cKFW16xu3boklUpp2bJlRPR6zEM9PT0CIJqB/NixY6Sjo0MLFiygK1eu0PLly8nS0pLMzMyIiOj58+cUHBxMhw4dotTUVDp27BhVrVpVGOds1KhR5ODgQLGxsZSYmEgDBw4khUIhmlF4yJAhZGpqSjExMZSWlia8nj9/rtW5lAWFZ0l+8uQJPXnyRHhfcEzbyMhIkslklJGRobKf8ePHU4MGDYjof2PaHjhwQHRd0tLS3umYgP/88w/Fx8fTzJkzydjYmOLj4yk+Pp4yMzOFNC4uLrR9+3Yiej2zevv27cne3p4SEhJE+Xz16pWwzS+//EJnzpyh5ORk+vXXX8nAwIAWL14srM/NzaVatWpR69atKSEhgfbu3UtWVlY0adIkIU1mZibZ29tT586d6dKlS3T48GGqVq0aDRw4UOM5FR5H8vbt22RoaEjBwcGUlJREf/zxB5UrV46mT58upClJuRYQEEBSqVSYHTovL4/Mzc1JKpXS3r17hXTXr18nPT09Gj9+PCUnJ9PmzZvJ3t6eAAj3w4gRI2jv3r10/fp1OnPmDHl4eFDXrl2JiGjx4sWkUCho7969lJycTFOnTiWFQiEav2/u3Lkkk8no999/F30WBT8/9vZpG9eFx1GNjY0V4vzBgwf07NkzIiLq27cvOTg4UGRkJF2/fp0OHTpEmzdvVrsPov/NUH7jxg0iEo/reP36dZo4cSL9/ffflJqaSvv27SNLS0th3PfIyEjS09OjkJAQunLlCi1YsICkUqnoGQQ1Y3MWjqu3KTMzk8aOHUtxcXF048YNOnDgANWvX5+qVatGL1++FNJ9/vnn9Msvvwjvx4wZQzExMXTjxg2KjY0lHx8fKleuHKWnpwtp0tLSKD4+nkJDQwkAHTlyhOLj4+nhw4eiPBw4cIAAUFJSUpH5nDp1KtnZ2WkcZ7cgLov++2VRZmam8NwEQD///DPFx8fTP//8U+Q2YWFhpFAohGt0/fp1WrFiBUmlUpo5c6aQbunSpSSRSKh///4UExMj1LsGDx5Mo0ePfmfnFBQURBUrVqSDBw/S6dOnydPTkzw9PUVpCtYLtInf48eP0y+//ELx8fGUmppK0dHR5OXlRVWrVhXSREdHk0QioZkzZ9KVK1fozJkz5OvrS46OjkXWEUs7pi3XsxljjLFPAzfafgAPHz6kwMBAMjY2JoVCQf369RN9KVA2fhWsnBER/fDDD2Rvb0+Ghobk6elJR48eFdYpv6CYmpqSvr4+ubq60pw5c0RfFomIzp07R5999hnJ5XKqUKECzZ07VyV/f//9N3l4eJBcLqcqVarQ7NmzNX7BU1eZJCL6/fffqUaNGqSnp0cVK1YUJjlQKkllcsSIESpfRt3c3MjGxkYl7cqVK6lChQpkYGBAAQEB9P333wvpXr16RV999RU5ODiQTCYjOzs7Gjp0qNCo+PDhQ+rQoQMZGxuTtbU1TZ06lXr37i2qTAJQ+3pXjQHvQuFG28IKNtp+8cUXogl+Cjpx4gQBoHPnzgn3rbpXRETEOziL1/r06aP2mIUbcJSfj6Z8FtymV69eZGFhQTKZjOrUqUNr165VOXZqaiq1adOGDAwMqFy5cjRmzBjKyckRpUlKSiIfHx8yMDAge3t7Gj16dLFfPNQ1LsXExFDDhg1JJpORjY0NTZgwQXSskpRrCxcuVJmUqUOHDqSrq6vSQLFjxw5ycnIiuVxOzZs3p2XLlokmkBo6dChVrVqV5HI5WVlZUa9evYSJWV6+fEl9+/YlU1NTMjMzoyFDhtDEiRNFX1AdHR3VfhYFG4HY26dtXKtrcA0KCiJLS0vR5/TixQsaNWoU2drakkwmIycnJ1qzZg0RlbzR9t69exQQECDsy9HRkaZNmyZMdEVEFBISQlWqVCE9PT1ydnZWic/33Wj7/Plzat26NVlZWZGenh45OjrSoEGD6N69e6J0jo6Oonu7W7duwnlWqFCBunXrJvwYqzR9+nStnjmBgYHk5eVVZB7z8vLI3t6eJk+erPV5cVn03y+LlPFZ+FV4MtKClBORKV9yuZycnZ3V1hejoqLI19eXzM3NSV9fn6pXr05jx46lu3fvvrNzevHiBX3zzTdkbm5OhoaG1LFjR0pLSxOlKRhD2sTv+fPnqUWLFmRhYUFyuZwqVapEQUFBKpOlRkREUL169cjIyIisrKyoffv2Gn9IKW2jLRHXsxljjLFPgYSIqERdcxn7yAwaNAiXL1/G0aNHP3RWGPvozZ49G8uXL8etW7c+dFYYY58wLosYKxu4ns0YY4y9OzymLfvP+emnn9CqVSsYGRlhz549+O233xASEvKhs8XYRykkJAQNGzaEpaUlYmNjMX/+fAwdOvRDZ4sx9onhsoixsoHr2Ywxxtj7w4227D/n5MmTmDdvHjIzM1GlShUsWbIEAwcO/NDZYuyjdPXqVXz//fd49OgRKlasiDFjxmDSpEkfOluMsU8Ml0WMlQ1cz2aMMcbeHx4egTHGGGOMMcYYY4wxxsoQnQ+dAcYYY4wxxhhjjDHGGGP/w422jDHGGGOMMcYYY4wxVoZwoy1jjDHGGGOMMcYYY4yVIdxoyxhjjDHGGGOMMcYYY2UIN9oyxhhjjDHGGGOMMcZYGcKNtowxxhhjjDHGGGOMMVaGcKMtY4wxxhhjjDHGGGOMlSHcaMsYY4wxxhhjjDHGGGNlCDfaMsYYY4wxxhhjjDHGWBnCjbaMMcYYY4wxxhhjjDFWhnCjLWOMMcYYY4wxxhhjjJUh3GjLGGOMMcYYY4wxxhhjZQg32jLGGGOMMcYYY4wxxlgZwo22jDHGGGOMMcYYY4wxVoZwoy1jjDHGGGOMMcYYY4yVIdxoyxhjjDHGGGOMMcYYY2UIN9oyxhhjjDHGGGOMMcZYGcKNtuytWLlyJRwcHKCjo4NFixZ96OxoJJFI8Mcff2hM07dvXwQEBLyX/DBW2B9//AEnJydIpVKMHPl/7d17XBVl/gfwz4FzuImggCSYoCDgFUESAgtwhTCIVbtgaYpgKoYb5TW3i0KhabrkmqiRQhaCeGFV1raVmwoCBoJYXDQVCcRLIIZX5Jzv7w9/Z5bhHI4HzHLX7/v1mteLmXmeeWbmzPeZOc95eObtP3p3NBowYMB9Y3758uVwcXH5XfaH/bZyc3MhkUjQ3Nz8ULfB18ijiesixh4NHIuMMcbY44kbbf/f5s2b4e/vDzc3NwQEBKCpqemhldXU1ISpU6fCxMQEvXr1wsyZM3H9+nWNeebMmQN7e3sYGhqiT58+mDBhAqqqqtSmbWxsxJNPPqnyJXnPnj3w9/dHnz59YGJiAk9PT3z33XeivHK5HB988AEGDhwIQ0ND2Nvb46OPPgIRdbpvv/76K+bNm4clS5agvr4es2fP1v5k/MFqamogkUhQVlb2R+/K72rGjBmQSCSIiIhQWRcZGQmJRIIZM2aorCsoKICuri6CgoJU1inPpbqpsLDwYRwGACA2NhZeXl4wMjJCr169upw/IiICEolE5QvGn//8Z9jY2MDAwABWVlaYNm0aLly4IKzPzc3FhAkTYGVlhR49esDFxQXJyckq229ubkZkZCSsrKygr68PR0dHHDhwQOM+zZkzBy+//DJ+/vlnfPTRR10+pj+SNj+KsEeLprj28vJCQ0MDTE1NAQBJSUndirP7WbhwIbKysn7z7f6elPVq+2n8+PH3zbdhwwYMGDAABgYG8PDwwLFjx0TrfX19Vbbbse5WV++mpqaqLS8/Px9SqVSrBhOui/73HT58GMHBwbC2ttb6nCUlJYmuNWNjY7i5uWHPnj0qaXNychAYGAhzc3MYGRlh6NChWLBgAerr6x/C0dxz+/ZtREZGwtzcHMbGxnjppZdw6dIlrfOrey6oqanBzJkzRc/Hy5YtQ2trqygvEWHNmjVwdHSEvr4++vXrh9jYWGG98kesjtPFixc17hPHImOMMfZ44kZbAK2trQgLC8PBgwdRUlICuVyOoqKih1be1KlT8eOPP+LgwYPIyMjA4cOH79vQ6ebmhsTERFRWVuK7774DEeG5556DXC5XSTtz5kw4OzurLD98+DD8/f1x4MABlJSUYOzYsQgODkZpaamQZtWqVdi4cSM+//xzVFZWYtWqVVi9ejXWr1/f6b7V1tbi7t27CAoKgpWVFYyMjLpwNv7j7t273crHuqd///5ITU3FrVu3hGW3b9/G9u3bYWNjozbPli1b8Je//AWHDx8WNWC2l5mZiYaGBtHk5ub2UI4BuBe/r7zyCubOndvlvOnp6SgsLIS1tbXKurFjxyItLQ3V1dXYvXs3zpw5g5dffllYf/ToUTg7O2P37t0oLy9HWFgYpk+fjoyMDNG++fv7o6amBrt27UJ1dTUSEhLQr1+/Tvfp+vXruHz5MgICAmBtbY2ePXt2+biUZTOmDU1xraenh759+0IikTzUfTA2Noa5uflDLeP3MH78eFHdl5KSojH9jh07MH/+fCxbtgzHjx/HyJEjERAQgMuXL4vSzZo1S7Td1atXq2wrMTFRlEbdf4s0Nzdj+vTpGDdu3H2Pheuix8ONGzcwcuRIbNiwoUv5TExMhGuttLQUAQEBCAkJQXV1tZBm8+bN8PPzQ9++fbF7925UVFRg06ZNuHbtGtauXftbH4rgnXfewf79+7Fz504cOnQIFy5cwIsvvqhV3s6eC6qqqqBQKLB582b8+OOPiIuLw6ZNm/DXv/5VlC4qKgpffvkl1qxZg6qqKuzbtw/u7u4q5VRXV4vi1dLSstN94lhkjDHGHmP0GPLx8aHIyEiKiooic3Nz8vX1FdYlJCTQa6+9RgqF4qGUXVFRQQDo+++/F5Z9++23JJFIqL6+XuvtnDhxggDQTz/9JFoeHx9PPj4+lJWVRQDo6tWrGrczdOhQio6OFuaDgoIoPDxclObFF1+kqVOnqs2fmJhIAETTuXPnhH2xs7MjmUxGjo6OtG3bNlFeABQfH0/BwcFkZGREy5YtU9n++vXradiwYcJ8eno6AaCNGzcKy8aNG0fvvfee6Bzcr9z09HTh7/aTj48PERGFhobShAkThDzHjh0jCwsL+uSTT4jo3mc2ZswYMjU1JTMzMwoKClL5LB5lyuMbPnw4ffPNN8Ly5ORkcnZ2pgkTJlBoaKgoT0tLCxkbG1NVVRVNnjyZYmNjRevPnTtHAKi0tPR3OAJViYmJZGpqqnX6uro66tevH/3www9ka2tLcXFxGtPv3buXJBIJtba2dpomMDCQwsLChPmNGzeSnZ2dxjzt5eTkqFyTOTk5RES0a9cuGjp0KOnp6ZGtrS2tWbNGlNfW1pZiYmJo2rRp1LNnT5XPj4ho//79ZGpqSm1tbUREVFpaSgBoyZIlQpqZM2eK4l2bcpXnztbWVrTvtra2RES0bNkyGjlypJDnp59+ooEDB1JkZCQpFAo6duwY+fn5kbm5OZmYmJC3tzeVlJRodc7Yg7lfXCuvyatXr6q9PpX19u3bt2nx4sX05JNPkp6eHtnb29OXX34p2kZmZia5ubmRoaEheXp6UlVVlVBOx2skJyeHRo8eTUZGRmRqakpeXl5UU1MjrNemnk9ISKCJEyeSoaEhDRo0iPbu3fsbnz2xjvcNbbi7u1NkZKQwL5fLydramlauXCks8/HxoaioKI3baX9f02Ty5Mn0/vvvq5zvjrguejzrIm2vI3X3W7lcTjKZjNLS0oiI6OeffyY9PT16++231W7jfs+n3dXc3EwymYx27twpLKusrCQAVFBQoDFvV58LVq9eTQMHDhTmKyoqSCqViuq2jtrXqdrgWHw8Y5ExxhhTemx72n711VfQ09NDfn4+Nm3ahNbWVrz11ls4e/YsvvnmG429ioYNGwZjY+NOp+eff77TvAUFBejVqxeeeuopYZmfnx90dHS07t1748YNJCYmYuDAgejfv7+wvKKiAjExMdi2bRt0dO7/0SoUCrS0tMDMzExY5uXlhaysLJw6dQoAcOLECeTl5XV6TJMnT0ZmZiYA4NixY2hoaED//v2Rnp6OqKgoLFiwAD/88APmzJmDsLAw5OTkiPIvX74ckyZNwsmTJxEeHq6yfR8fH1RUVODKlSsAgEOHDsHCwgK5ubkA7vXOLSgogK+vLwBoXa6S8t9Qlb1D1f1rX3Z2Nvz9/REbG4slS5YAuPcZzJ8/H8XFxcjKyoKOjg4mTZoEhUKhtpxHVXh4OBITE4X5rVu3IiwsTG3atLQ0DB48GE5OTnj99dexdetWjcNmaOtB4qm7FAoFpk2bhkWLFmHYsGH3Td/U1ITk5GR4eXlBJpN1mu7atWuieNq3bx88PT0RGRmJJ554AsOHD8eKFSvU9pAH7sWfspfS7t270dDQAC8vL5SUlCAkJASvvvoqTp48ieXLl+ODDz5AUlKSKP+aNWswcuRIlJaW4oMPPlDZ/rPPPouWlhahd33HeFIuU8aTtuUqff/99wD+0+NPOd9eeXk5nnnmGUyZMgWff/45JBIJWlpaEBoairy8PBQWFsLBwQGBgYFoaWlRWw777XQlrr28vPDZZ5+JetgtXLgQADB9+nSkpKTg73//OyorK7F582YYGxuL8r/33ntYu3YtiouLIZVK1db5ANDW1oaJEyfCx8cH5eXlKCgowOzZs4X7srb1fHR0NEJCQlBeXo7AwEBMnTpV49BHERERGuuijsejTm5uLiwtLeHk5IS5c+eisbGx07Stra0oKSmBn5+fsExHRwd+fn4oKCgQpU1OToaFhQWGDx+OpUuX4ubNmyrbi4yMhIWFBdzd3dV+jomJiTh79iyWLVt23+Pguojroq6Qy+X46quvAACjRo0CAOzcuROtra1YvHix2jyahll5/vnnNcahpvt2SUkJ7t69K4qrwYMHw8bGRiWu2uvqcwGges/fv38/7OzskJGRgYEDB2LAgAF444031NY7Li4usLKygr+/P/Lz8zstg2ORY5Exxthj7g9uNP5D+Pj4kKurq2jZW2+9RaampuTh4UEeHh6iX+g7qqmpodOnT3c61dXVdZo3NjaWHB0dVZb36dOH4uPjNe73hg0bqEePHgSAnJycRD07b9++Tc7OzvT1118TkXa/5K9atYp69+5Nly5dEpbJ5XJasmQJSSQSkkqlJJFIaMWKFRr3S/mrvLKHLRGRl5cXzZo1S5TulVdeocDAQGEeQKc9MJQUCgWZm5sLn4eLiwutXLmS+vbtS0REeXl5JJPJ6MaNG10qV9mTpLPeocoeU3v27CFjY2NKTU3VuJ9XrlwhAHTy5EmN6R4VyuO7fPky6evrU01NDdXU1JCBgQFduXJFbU9bLy8v+uyzz4iI6O7du2RhYSH09iD6z7k0NDSkHj16iCZNHiSe2utKT9sVK1aQv7+/0KO+sx41ixcvJiMjIwJATz/9NP3yyy+dbnPHjh2kp6dHP/zwg7DMycmJ9PX1KTw8nIqLiyk1NZXMzMxo+fLlnW7n6tWrop40RERTpkwhf39/UbpFixbR0KFDhXlbW1uaOHHi/Q6dRo0aRZ9++ikREU2cOJFiY2NJT0+PWlpaqK6ujgDQqVOnulRu+3MHNT21lD1q8vPzqXfv3iq9cjqSy+XUs2dP2r9//32Phz2Y+8V1x3uJujirrq4mAHTw4EG1ZbTvaav0z3/+kwDQrVu3iEjc66qxsZEAUG5ubqf7rE09//777wvz169fJwD07bffdnouLl26pLEuOn36dKd5iYhSUlJo7969VF5eTunp6TRkyBAaPXq00IOto/r6egJAR48eFS1ftGgRubu7C/ObN2+mf/3rX1ReXk7ffPMN9evXjyZNmiTKExMTQ3l5eXT8+HH65JNPSF9fn9atWyesP3XqFFlaWlJ1dTURqfZyU4frosevLlJ3ztRR/peV8h6vo6ND+vr6lJiYKKSZO3cumZiYdGs/6urqNMZh+173HSUnJ5Oenp7K8tGjR9PixYs7zaftc4HS6dOnycTEhL744gth2Zw5c0hfX588PDzo8OHDlJOTQy4uLjR27FghTVVVFW3atImKi4spPz+fwsLCSCqVauxFyrH4+MUiY4wxpiT9fZqGHz0dx9hct24d1q1bp1VeW1vbh7FL9zV16lT4+/ujoaEBa9asQUhICPLz82FgYIClS5diyJAheP3117Xa1vbt2xEdHY29e/eKxtFKS0tDcnIytm/fjmHDhqGsrAxvv/02rK2tERoaqvW+VlZWqozTO2bMGJVz3L7HsToSiQTe3t7Izc2Fn58fKioq8Oabb2L16tWoqqrCoUOHMHr0aGEcXW3L1UZRUREyMjKwa9culbEBT58+jQ8//BBFRUX45ZdfhB62tbW1GD58eJfL+qP06dMHQUFBSEpKAhEhKCgIFhYWKumqq6tx7NgxpKenAwCkUikmT56MLVu2CL0vlHbs2IEhQ4ZovQ+/dzyVlJRg3bp1OH78+H3H6Vy0aBFmzpyJ8+fPIzo6WhiztmO+nJwchIWFISEhQdRDR6FQwNLSEl988QV0dXXh5uaG+vp6fPrpp1r1dlOqrKzEhAkTRMvGjBmDzz77DHK5HLq6ugDuH0/Avd7rubm5WLBgAY4cOYKVK1ciLS0NeXl5aGpqgrW1NRwcHLpUrjZqa2uFHusd33x96dIlvP/++8jNzcXly5chl8tx8+ZN1NbWar191nVdiWtNysrKoKurCx8fH43p2o+1bmVlBQC4fPmyyhjaZmZmmDFjBgICAuDv7w8/Pz+EhIQIebSt59uX16NHD5iYmKiMFduepaWlxnEl7+fVV18V/h4xYgScnZ1hb2+P3NxcrcaQ7Uz7Yx0xYgSsrKwwbtw4nDlzBvb29gAg6kHn6uqKGzdu4NNPP8Vbb70FuVyOKVOmIDo6Go6Ojt3eD4DrosfRihUrsGLFCmG+oqICANCzZ08cP34cAHDz5k1kZmYiIiIC5ubmCA4OBhF1eyxsTeO+PwxdeS4AgPr6eowfPx6vvPIKZs2aJSxXKBS4c+cOtm3bJsTali1b4Obmhurqajg5OQmTkpeXF86cOYO4uDh8/fXXWu8zxyJjjDH2eHhsh0fo0aNHt/M+yL9z9+3bV+VLY1tbG5qamtC3b1+N5ZqamsLBwQHe3t7YtWsXqqqqhC/b2dnZ2LlzJ6RSKaRSqfAF0cLCQqVxKDU1FW+88QbS0tJE/z4G3Gukevfdd/Hqq69ixIgRmDZtGt555x2sXLlS6/PTFdp8Dr6+vsjNzcWRI0fg6uoKExMToSH30KFD920o6C57e3sMHjwYW7duVXlJWnBwMJqampCQkICioiJhaIv/xpc8hIeHIykpCV999VWn/668ZcsWtLW1wdraWrjGNm7ciN27d+PatWuitP3798egQYNEkya/9/AIR44cERqKlMdy/vx5LFiwAAMGDBCltbCwgKOjI/z9/ZGamooDBw6gsLBQlObQoUMIDg5GXFwcpk+fLlpnZWUFR0dH0ZeYIUOG4OLFiw/lWtE2nvLy8nDixAnIZDIMHjxYiLGHGU99+vSBu7s7UlJS8Ouvv4rWhYaGoqysDOvWrcPRo0dRVlYGc3Pz/8p4+m/SlbjWxNDQUKt07YcWUTaMdDakTGJiIgoKCuDl5YUdO3bA0dFRJfa6Up6yTE1D2PwWwyO0Z2dnBwsLC/z0009q11tYWEBXV1flrfaXLl3S+Dzg4eEBAJ1uV5mmrq4Od+7cQUtLC4qLizFv3jzhc46JicGJEycglUqRnZ3dpePSBtdF/zsiIiJQVlYmTMoXdOno6Aj3eGdnZ8yfPx++vr5YtWoVAMDR0RHXrl1DQ0NDl8t8kOER+vbti9bWVjQ3N4uWa4qrrjwXXLhwAWPHjoWXlxe++OIL0TorKytIpVLRjyPKH7E1NTa6u7trjOcHwbHIGGOM/Xd7bHvaPogDBw6oNOK1p+kLrKenJ5qbm1FSUiL09s3OzoZCoRC+iGmDiEBEuHPnDoB741zdunVLWP/9998jPDwcR44cEXriAEBKSgrCw8ORmpqKoKAgle3evHlTZTxcXV3dLo/VOmTIEOTn54t65+bn52Po0KFd2g5wrwfA22+/jZ07dwq9v3x9fZGZmYn8/HwsWLCg2+Xq6ekBgNoxRi0sLLBnzx74+voiJCQEaWlpkMlkaGxsRHV1NRISEvDss88CAPLy8rp8XI+K8ePHo7W1FRKJBAEBASrr29rasG3bNqxduxbPPfecaN3EiRORkpKCiIiIbpf/IPHUHdOmTVP5sSIgIADTpk3rdDxf4D+NS8qYA+6NX/nCCy9g1apVKj3/gHu9T7Zv3w6FQiHE1alTp2BlZSVce9pQXtft5efnqzQIa0M5fl1cXJzwRczX1xeffPIJrl69qjaeulKuTCZTG0+GhobIyMhAYGAgAgIC8O9//1t4A3Z+fj7i4+MRGBgIAPj555/xyy+/dOm4WNd0N6719PRUPt8RI0ZAoVDg0KFDKrH1IFxdXeHq6oqlS5fC09MT27dvx9NPP/2b3l/ai4mJEcbo/S3U1dWhsbFR6CHckZ6eHtzc3JCVlSX8N4dCoUBWVhbmzZvX6XbLysoAoNPtKtP07t0b+vr6kMlkOHnypGh9fHw8srOzsWvXLgwcOFDrY+K66PFjZmYmGrdVE11dXeFZ9OWXX8a7776L1atXIy4uTiVtc3Nzp+Pafvnll6Jn2o40jS3v5uYGmUyGrKwsvPTSSwDu/VdBbW0tPD091ebR9rmgvr4eY8eOhZubGxITE1Wel8eMGYO2tjZRL3jlOyI0/VdRWVmZxnhWh2ORMcYYe0z8saMz/DG0eRPzwzR+/HhydXWloqIiysvLIwcHB3rttdeE9XV1deTk5ERFRUVERHTmzBlasWIFFRcX0/nz5yk/P5+Cg4PJzMxMNB5te+rGtE1OTiapVEobNmyghoYGYWpubhbShIaGUr9+/SgjI4POnTtHe/bsIQsLC43jgKkb0zY9PZ1kMhnFx8fTqVOnaO3ataSrqysajwtajp2mUCjIzMyMdHV1hfEIS0tLSVdXl6RSKV2/fr3b5d69e5cMDQ3p448/posXLwrnov1bwBsaGmjw4MH00ksv0d27d0kul5O5uTm9/vrrdPr0acrKyqLRo0drfTyPgo5vOb927Rpdu3ZNmG8/pm16ejrp6emJrhOlxYsX01NPPUVE/xnTNjMzU3R9NTQ0CONWPgznz5+n0tJSio6OJmNjYyotLaXS0lJqaWkR0jg5OdGePXs63UbH8dcKCwtp/fr1VFpaSjU1NZSVlUVeXl5kb29Pt2/fJiKi7OxsMjIyoqVLl4qOtbGxUdhObW0t9ezZk+bNm0fV1dWUkZFBlpaW9PHHH3e6L+rGrispKSEdHR2KiYmh6upqSkpKIkNDQ9H4gdq86VrJxcWFdHV1aePGjUR0bwxRmUxGAERvve5OuQ4ODjR37lxqaGigpqYmIhKPn9nS0kLPPPMMjRkzRviMXF1dyd/fnyoqKqiwsJCeffZZMjQ01Pp4WNdpG9cd7yX5+flCnF+5ckUYT3zGjBnUv39/Sk9Pp7Nnz1JOTg7t2LFD7TaIVO8b7a+Rs2fP0rvvvktHjx6lmpoa+u6778jc3FwY97279xdTU1PRtftbamlpoYULF1JBQQGdO3eOMjMzadSoUeTg4CDUGUREf/rTn2j9+vXCfGpqKunr61NSUhJVVFTQ7NmzqVevXnTx4kUiuvdG9ZiYGCouLqZz587R3r17yc7Ojry9vYVt7Nu3jxISEujkyZN0+vRpio+PJyMjI/rwww873d/ujmnLddH/npaWFuG+CYD+9re/UWlpKZ0/f77TPImJiWRiYiLc986ePUubN28mXV1dio6OFtJt2LCBJBIJhYeHU25uLtXU1FBeXh7Nnj2b5s+f/9COKSIigmxsbCg7O5uKi4vJ09OTPD09RWm6+lxQV1dHgwYNonHjxlFdXZ3ovq8kl8tp1KhR5O3tTcePH6fi4mLy8PAQjQEbFxdH//jHP+j06dN08uRJioqKIh0dHdGY3x1xLD4escgYY4ypw422f4DGxkZ67bXXyNjYmExMTCgsLEzUwKRs/FI+nNXX19Pzzz9PlpaWJJPJ6Mknn6QpU6aIHqI6Uvcl2cfHhwCoTO1fOPXrr79SVFQU2djYkIGBAdnZ2dF7771Hd+7c6bQsdY22RETx8fFkZ2dHMpmMHB0dadu2baL1XWnknDBhAkmlUuE8yeVy6t27Nz399NMqabtabkJCAvXv3590dHTIx8eHiFQbNS9cuECOjo4UEhJCbW1tdPDgQRoyZAjp6+uTs7Mz5ebm/lc32nbUvtH2hRdeEL3gp72ioiICQCdOnBCuW3VTSkrKQziKe0JDQ9WW2bEBR1NjTccvGOXl5TR27FgyMzMjfX19GjBgAEVERIheitZZucprSOno0aPk4eFB+vr6ZGdnR7GxsZ2+mIhI/ZczIqJdu3bR0KFDSSaTkY2NjfDSkM6OQZOoqCgCQJWVlcKykSNHCi/4e5By9+3bR4MGDSKpVEq2trZEpNpA1NLSQl5eXuTt7U3Xr1+n48eP01NPPUUGBgbk4OBAO3fu7NLxsK7TNq7V3UsiIiLI3NycANCyZcuIiOjWrVv0zjvvkJWVFenp6dGgQYNo69atRNT1RtuLFy/SxIkThW3Z2trShx9+SHK5XMjfnfvLw2y0vXnzJj333HPUp08fkslkZGtrS7NmzRIaX5VsbW2Fc6a0fv16srGxIT09PXJ3d6fCwkJhXW1tLXl7ewt10aBBg2jRokWiH9m+/fZbcnFxIWNjY+rRoweNHDmSNm3aJDpfHXW30ZaI66L/Ncr41PRs2JHyRWTKSV9fnxwdHdXe3w4ePEgBAQHUu3dvMjAwoMGDB9PChQvpwoULD+2Ybt26RW+++Sb17t2bjIyMaNKkSaLGVaKuPxd0POb2U3v19fX04osvkrGxMT3xxBM0Y8YM0Y+5q1atInt7ezIwMCAzMzPy9fWl7OxsjcfDsfh4xCJjjDGmjoSIqLu9dBljjDHGGGOMMcYYY4z9th7bF5ExxhhjjDHGGGOMMcbYo4gbbRljjDHGGGOMMcYYY+wRwo22jDHGGGOMMcYYY4wx9gjhRlvGGGOMMcYYY4wxxhh7hHCjLWOMMcYYY4wxxhhjjD1CuNGWMcYYY4wxxhhjjDHGHiHcaMsYY4wxxhhjjDHGGGOPEG60ZYwxxhhjjDHGGGOMsUcIN9oyxhhjjDHGGGOMMcbYI4QbbRljjDHGGGOMMcYYY+wRwo22jDHGGGOMMcYYY4wx9gj5P22yZeOsDbIQAAAAAElFTkSuQmCC",
      "text/plain": [
       "<Figure size 1400x2100 with 5 Axes>"
      ]
     },
     "metadata": {},
     "output_type": "display_data"
    }
   ],
>>>>>>> 6871c6480b244137eab1de6828ced59b2e39e92b
   "source": [
    "def main():\n",
    "    # This is the minimum RA abundance.\n",
    "    filtering_threshold = 0.001\n",
    "\n",
    "    def one_to_one():\n",
    "        for exp in root_dirs_one_to_one:\n",
    "            print(\"Experiment: \", exp.root)\n",
    "            plot_by_sample(root=exp.root, output_dir=exp.root, hue_category=\"Source\", taxonomic_rank=\"Genus\", threshold=filtering_threshold)\n",
    "            plot_by_sample(root=exp.root, output_dir=exp.root, hue_category=\"Source\", taxonomic_rank=\"Species\", threshold=filtering_threshold)\n",
    "            final_stats = convert_to_bivariate(exp.root, save_path=exp.root, inset=exp.inset, rank=\"Genus\", threshold=filtering_threshold)\n",
    "            final_stats = convert_to_bivariate(exp.root, save_path=exp.root, inset=exp.inset, rank=\"Species\", threshold=filtering_threshold)\n",
    "            final_stats.to_csv(os.path.join(exp.root, \"all_stats_replicates.csv\"), index_label=\"SampleID\")\n",
    "\n",
    "    def many_to_one():\n",
    "        for exp in root_dirs_one_to_many:\n",
    "            print(\"Experiment: \", exp.root)\n",
    "            plot_many_versus_expected(exp.root, exp.root, fully_combined(exp.root, rank=\"genus\"), \"genus\", filtering_threshold)\n",
    "            plot_many_versus_expected(exp.root, exp.root, fully_combined(exp.root, rank=\"species\"), \"species\", filtering_threshold)\n",
    "            final_stats = plot_many_versus_expected_bivariate(exp.root, fully_combined(exp.root, rank=\"genus\"), get_all_expected(exp.root, \"genus\"), \"genus\", inset=exp.inset, threshold=filtering_threshold)\n",
    "            final_stats = plot_many_versus_expected_bivariate(exp.root, fully_combined(exp.root, rank=\"species\"), get_all_expected(exp.root, \"species\"), \"species\", inset=exp.inset, threshold=filtering_threshold)\n",
    "            final_stats.to_csv(os.path.join(exp.root, \"all_stats_replicates.csv\"), index_label=\"SampleID\")\n",
    "\n",
    "    one_to_one()\n",
    "    # many_to_one()\n",
    "    pdf_output.close()\n",
    "    \n",
    "main()\n",
    "\n",
    "# fc = fully_combined(\"pipelines/bmock12/\")\n"
   ]
  }
 ],
 "metadata": {
  "kernelspec": {
   "display_name": "Python 3.10.6 ('.pipeline_venv': venv)",
   "language": "python",
   "name": "python3"
  },
  "language_info": {
   "codemirror_mode": {
    "name": "ipython",
    "version": 3
   },
   "file_extension": ".py",
   "mimetype": "text/x-python",
   "name": "python",
   "nbconvert_exporter": "python",
   "pygments_lexer": "ipython3",
   "version": "3.10.6"
  },
  "orig_nbformat": 4,
  "vscode": {
   "interpreter": {
    "hash": "3ac10c2973d938bf4f101ae2299756abbb7e00dac649f0769819439ff384650d"
   }
  }
 },
 "nbformat": 4,
 "nbformat_minor": 2
}
