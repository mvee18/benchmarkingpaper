{
 "cells": [
  {
   "cell_type": "code",
   "execution_count": null,
   "metadata": {},
   "outputs": [],
   "source": [
    "import numpy as np\n",
    "from biom.table import Table\n",
    "from biom import load_table\n",
    "import pandas as pd"
   ]
  },
  {
   "cell_type": "code",
   "execution_count": null,
   "metadata": {},
   "outputs": [],
   "source": [
    "# t = load_table(\"/Volumes/TBHD/Valencia/Microbiome_Analysis/Nephele_cloud_play_project/outputs/for_analyze_with_microbiomedb.biom\")\n",
    "# t = load_table(\"/Volumes/TBHD_share/valencia/3sample/no_merge_trim+trim_output/for_analyze_with_microbiomedb.biom\")\n",
    "# t = load_table(\"/Volumes/TBHD_share/valencia/3sample/batch2/wgsa2/outputs/for_analyze_with_microbiomedb.biom\")\n",
    "# t = load_table(\"/Volumes/TBHD_share/valencia/3sample/batch2/wgsa2/outputs/TAXprofiles/MAGs_TAX/MAG-based_Counts+TAX.biom\")\n",
    "# t = load_table(\"/Volumes/TBHD_share/walitt_sample/3sample/outputs/for_analyze_with_microbiomedb.biom\")\n",
    "t = load_table(\"/Volumes/TBHD_share/valencia/bmock12/NEPHELE/wgsa2/subset_bmock12/outputs/for_analyze_with_microbiomedb.biom\")\n",
    "print(t)\n",
    "t.ids(axis='observation')"
   ]
  },
  {
   "cell_type": "code",
   "execution_count": null,
   "metadata": {},
   "outputs": [],
   "source": [
    "# Use 6 for species, 5 for genus.\n",
    "\n",
    "phylum_idx = 5\n",
    "# Somtimes taxonomy is capitalized, sometimes not.\n",
    "collapse_f = lambda id_, md: '; '.join(md['Taxonomy'][phylum_idx:phylum_idx + 1])\n",
    "collapsed = t.collapse(collapse_f, axis='observation')\n",
    "\n",
    "df = collapsed.to_dataframe()\n",
    "display(df)\n",
    "\n",
    "col1 = pd.DataFrame(df.iloc[:, :])\n",
    "display(col1)\n",
    "\n",
    "col1 = col1.sparse.to_dense()\n",
    "col1.rename(index={'':'Unclassified'},inplace=True)\n",
    "\n",
    "print(col1.sum(axis=0))\n",
    "# col1.to_csv('test.csv')\n",
    "# col1.drop('Unclassified_sp', inplace=True)"
   ]
  },
  {
   "cell_type": "code",
   "execution_count": null,
   "metadata": {},
   "outputs": [],
   "source": [
    "# Percent abundance operation.\n",
    "pct = col1.apply(lambda x: x / x.sum(), axis=0)\n",
    "display(pct)\n",
    "\n",
    "# Drop features with less than x percent abundance.\n",
    "pct = pct.where(pct >= 0.001).dropna()\n",
    "# pct.to_csv(\"pipelines/bmock12/wgsa2/fullpct.csv\")\n",
    "\n",
    "# Add other category to account for dropped samples.\n",
    "pct.loc['Rare Taxa']= 1.0 - pct.sum(numeric_only=True, axis=0)\n",
    "display(pct)\n",
    "# pct.to_csv(\"pipelines/bmock12/wgsa2/0-001pct.csv\")\n",
    "\n",
    "# import matplotlib\n",
    "# matplotlib.style.use('ggplot') \n",
    "pct.T.plot.bar(stacked=True, figsize=(10, 10), ylabel=\"Fraction\", xlabel=\"Sample\", title=\"Alignment Genus\").legend(loc='center left', bbox_to_anchor=(1.0, 0.5), title=\"Genus\")"
   ]
  },
  {
   "cell_type": "code",
   "execution_count": null,
   "metadata": {},
   "outputs": [],
   "source": [
    "# Sort the values by the first sample in ascending order.\n",
    "pct.T\n",
    "pct.sort_values(axis=0, ascending=False, by=pct.columns[0], inplace=True)"
   ]
  },
  {
   "cell_type": "code",
   "execution_count": null,
   "metadata": {},
   "outputs": [],
   "source": [
    "# Plot with seaborn.\n",
    "import plotly.express as px\n",
    "fig = px.bar(pct.T, x=pct.index, y=pct.columns, title=\"Alignment Species\", labels={'index': 'Sample', 'value': 'Fraction', \"variable\": \"Species\"})\n",
    "fig.show()"
   ]
  },
  {
   "cell_type": "code",
   "execution_count": null,
   "metadata": {},
   "outputs": [],
   "source": [
    "# Sanity check to make sure my operations are correct.\n",
    "\n",
    "test_df = pd.DataFrame([[1, 2, 3], [4, 5, 6], [7, 8, 9]], columns=['a', 'b', 'c'])\n",
    "\n",
    "pct_test = test_df.apply(lambda x: x / x.sum(), axis=0)\n",
    "display(pct_test)\n",
    "\n",
    "pct_test = pct_test.where(pct_test >= 0.50).dropna()\n",
    "display(pct_test)\n",
    "\n",
    "pct_test.loc['Column_Total']= 1.0 - pct_test.sum(numeric_only=True, axis=0)\n",
    "display(pct_test)"
   ]
  }
 ],
 "metadata": {
  "kernelspec": {
   "display_name": "Python 3.10.6 ('.venv': venv)",
   "language": "python",
   "name": "python3"
  },
  "language_info": {
   "codemirror_mode": {
    "name": "ipython",
    "version": 3
   },
   "file_extension": ".py",
   "mimetype": "text/x-python",
   "name": "python",
   "nbconvert_exporter": "python",
   "pygments_lexer": "ipython3",
   "version": "3.10.6"
  },
  "orig_nbformat": 4,
  "vscode": {
   "interpreter": {
    "hash": "5b78d8e30eff7e75b6bc70e8c22c7a6b4b6a777fd03a823af9abb9572f1abe1d"
   }
  }
 },
 "nbformat": 4,
 "nbformat_minor": 2
}
