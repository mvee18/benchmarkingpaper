{
 "cells": [
  {
   "cell_type": "markdown",
   "metadata": {},
   "source": [
    "# Manuscript Utils\n",
    "This notebook contains useful functions for generating figures in the paper."
   ]
  },
  {
   "cell_type": "code",
   "execution_count": null,
   "metadata": {},
   "outputs": [],
   "source": [
    "import pandas as pd\n",
    "import seaborn as sns\n",
    "import matplotlib.pyplot as plt\n",
    "import os"
   ]
  },
  {
   "cell_type": "markdown",
   "metadata": {},
   "source": [
    "## Expected Plotting\n",
    "Stacked bar plots with tabulated relative abundances."
   ]
  },
  {
   "cell_type": "code",
   "execution_count": null,
   "metadata": {},
   "outputs": [],
   "source": [
    "def get_all_expected(root_dir: str, rank=\"Genus\") -> pd.DataFrame:\n",
    "    combined_expected = pd.DataFrame()\n",
    "    for root, dirs, files in os.walk(root_dir):\n",
    "        for f in files:\n",
    "            # print(\"files: \", files)\n",
    "            if f\"expected_{rank.lower()}_annotated\" in f and f.endswith(\".csv\"):\n",
    "                # print(f)\n",
    "                df = pd.read_csv(os.path.join(root, f), index_col=0, names=[rank, 'RA', \"TAX_ID\"], header=0)\n",
    "                df[\"Source\"] = root.split(\"/\")[-1]\n",
    "\n",
    "                # Files are of s#_expected.csv, so we can split on the underscore and take the first part.\n",
    "                df[\"SampleID\"] = f.split(\"_\")[0]\n",
    "                combined_expected = pd.concat([combined_expected, df], axis=0)\n",
    "\n",
    "    return combined_expected\n",
    "\n",
    "expected = get_all_expected(\"../../pipelines/\", rank=\"Genus\")\n",
    "display(expected.head())\n",
    "# Print the number of occurences in Source\n",
    "expected[\"Source\"].value_counts()"
   ]
  },
  {
   "cell_type": "code",
   "execution_count": null,
   "metadata": {},
   "outputs": [],
   "source": [
    "for source, source_df in expected.groupby(\"Source\"):\n",
    "    for sample, sample_df in source_df.groupby(\"SampleID\"):\n",
    "        plot_df = sample_df.loc[sample_df[\"RA\"] > 0]\n",
    "\n",
    "        plot_df[[\"RA\"]].T.plot(kind=\"barh\", stacked=True, figsize=(20, 10))\n",
    "        plt.show()\n",
    "\n",
    "        plt.pie(plot_df[\"RA\"], labels=plot_df.index, autopct='%1.1f%%')\n",
    "        plt.show()\n",
    "\n",
    "        # sns.barplot(x='SampleID', y='RA', hue=\"Genus\", data=plot_df)\n",
    "        # plt.show()"
   ]
  },
  {
   "cell_type": "code",
   "execution_count": null,
   "metadata": {},
   "outputs": [],
   "source": []
  },
  {
   "cell_type": "code",
   "execution_count": null,
   "metadata": {},
   "outputs": [],
   "source": []
  }
 ],
 "metadata": {
  "kernelspec": {
   "display_name": "Python 3.10.6 ('.pipeline_venv': venv)",
   "language": "python",
   "name": "python3"
  },
  "language_info": {
   "codemirror_mode": {
    "name": "ipython",
    "version": 3
   },
   "file_extension": ".py",
   "mimetype": "text/x-python",
   "name": "python",
   "nbconvert_exporter": "python",
   "pygments_lexer": "ipython3",
   "version": "3.10.6"
  },
  "orig_nbformat": 4,
  "vscode": {
   "interpreter": {
    "hash": "3ac10c2973d938bf4f101ae2299756abbb7e00dac649f0769819439ff384650d"
   }
  }
 },
 "nbformat": 4,
 "nbformat_minor": 2
}
