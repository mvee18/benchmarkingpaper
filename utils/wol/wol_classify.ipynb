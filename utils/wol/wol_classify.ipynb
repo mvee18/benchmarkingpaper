{
 "cells": [
  {
   "cell_type": "code",
   "execution_count": null,
   "metadata": {},
   "outputs": [],
   "source": [
    "import os\n",
    "import argparse"
   ]
  },
  {
   "cell_type": "code",
   "execution_count": null,
   "metadata": {},
   "outputs": [],
   "source": [
    "data_dir = \"/Volumes/TBHD_share/valencia/pipelines/microbio_spectrum/woltka/align\"\n",
    "\n",
    "sam_files = []\n",
    "for file in os.listdir(data_dir):\n",
    "    if file.endswith(\".sam.gz\"):\n",
    "        sam_files.append(os.path.join(data_dir, file))\n",
    "\n",
    "sam_files"
   ]
  },
  {
   "cell_type": "code",
   "execution_count": null,
   "metadata": {},
   "outputs": [],
   "source": [
    "line = \"\"\"woltka classify -i {} --to-tsv -o {}_classify -r genus,species --map /gpfs/gsfs12/users/TBHD_share/valencia/pipelines/woltka/db/taxonomy/taxid.map --nodes /gpfs/gsfs12/users/TBHD_share/valencia/pipelines/woltka/db/taxonomy/nodes.dmp --names /gpfs/gsfs12/users/TBHD_share/valencia/pipelines/woltka/db/taxonomy/names.dmp\"\"\"\n",
    "\n",
    "with open(\"submit_classify.sh\", \"w\") as f:\n",
    "    f.write(\"#!/bin/bash\\n\\n\")\n",
    "    f.write(\"# SBATCH --mem=64gb\\n\")\n",
    "    f.write(\"# SBATCH --cpus-per-task=16\\n\\n\")\n",
    "\n",
    "    for file in sam_files:\n",
    "        id = file.split(\"/\")[-1].split(\".\")[0]\n",
    "        line = line.format(file, id)\n",
    "        f.write(line + \"\\n\")"
   ]
  }
 ],
 "metadata": {
  "kernelspec": {
   "display_name": "Python 3.10.6 ('.venv': venv)",
   "language": "python",
   "name": "python3"
  },
  "language_info": {
   "codemirror_mode": {
    "name": "ipython",
    "version": 3
   },
   "file_extension": ".py",
   "mimetype": "text/x-python",
   "name": "python",
   "nbconvert_exporter": "python",
   "pygments_lexer": "ipython3",
   "version": "3.10.6"
  },
  "orig_nbformat": 4,
  "vscode": {
   "interpreter": {
    "hash": "ccb8790ce05d03335183e4531caa33d67ddc8515af0e7751497f278f4c676c90"
   }
  }
 },
 "nbformat": 4,
 "nbformat_minor": 2
}
