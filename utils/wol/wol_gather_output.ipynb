{
 "cells": [
  {
   "cell_type": "code",
   "execution_count": 2,
   "metadata": {},
   "outputs": [],
   "source": [
    "import os\n",
    "import pandas as pd"
   ]
  },
  {
   "cell_type": "code",
   "execution_count": 12,
   "metadata": {},
   "outputs": [],
   "source": [
    "data_dir = \"/Volumes/TBHD_share/valencia/pipelines/microbio_spectrum/woltka\"\n",
    "\n",
    "def find_output_files(rank, data_dir):\n",
    "    \"\"\"Find output files from Woltka classify.\n",
    "    \n",
    "    Parameters\n",
    "    ----------\n",
    "    rank : str\n",
    "        Taxonomic rank.\n",
    "    data_dir : str\n",
    "        Path to directory containing output files.\n",
    "    \n",
    "    Returns\n",
    "    -------\n",
    "    list\n",
    "        List of paths to output files.\n",
    "    \"\"\"\n",
    "    output_files = []\n",
    "    for root, dirs, files in os.walk(data_dir):\n",
    "        for file in files:\n",
    "            if f\"{rank}.tsv\" == file:\n",
    "                output_files.append(os.path.join(root, file))\n",
    "    return output_files"
   ]
  },
  {
   "cell_type": "code",
   "execution_count": 28,
   "metadata": {},
   "outputs": [],
   "source": [
    "def rel_abundance(df, output, rank, plot=False):\n",
    "    df.drop(\"FeatureID\", axis=1, inplace=True)\n",
    "    # pct = df[[\"Count\"]].apply(lambda x: x / x.sum(), axis=0)\n",
    "    df[\"RA\"] = df[\"Count\"] / df[\"Count\"].sum()\n",
    "    df.drop(\"Count\", axis=1, inplace=True)\n",
    "    df = df.sort_values(by=\"RA\", ascending=False)\n",
    "\n",
    "    # Remove any [ and ] from the index.\n",
    "    df.index = df.index.str.replace(\"[\", \"\", regex=False)\n",
    "    df.index = df.index.str.replace(\"]\", \"\", regex=False)\n",
    "    # display(df.head())\n",
    "\n",
    "    df.to_csv(output, sep=\",\")\n",
    "    df = df.where(df > 0.001).dropna()\n",
    "\n",
    "    if plot:\n",
    "        df.T.plot.bar(figsize=(10,10), xlabel=\"{rank} Name\", ylabel=\"Fraction\", title=f\"{rank} Relative Abundance above 0.1%\").legend(loc='center left', bbox_to_anchor=(1.0, 0.5), title=f\"{rank}\")\n",
    "        plt.savefig(output + \".png\", bbox_inches='tight')"
   ]
  },
  {
   "cell_type": "code",
   "execution_count": 31,
   "metadata": {},
   "outputs": [
    {
     "name": "stdout",
     "output_type": "stream",
     "text": [
      "/Volumes/TBHD_share/valencia/pipelines/microbio_spectrum/woltka/SRR17380242_classify/genus.tsv\n",
      "/Volumes/TBHD_share/valencia/pipelines/microbio_spectrum/woltka/SRR17380241_classify/genus.tsv\n",
      "/Volumes/TBHD_share/valencia/pipelines/microbio_spectrum/woltka/SRR17380246_classify/genus.tsv\n",
      "/Volumes/TBHD_share/valencia/pipelines/microbio_spectrum/woltka/SRR17380244_classify/genus.tsv\n",
      "/Volumes/TBHD_share/valencia/pipelines/microbio_spectrum/woltka/SRR17380243_classify/genus.tsv\n",
      "/Volumes/TBHD_share/valencia/pipelines/microbio_spectrum/woltka/SRR17380245_classify/genus.tsv\n"
     ]
    }
   ],
   "source": [
    "# Find output files.\n",
    "def find_and_save(input_data: str, rank: str, output_dir: str):\n",
    "    \"\"\"Find and save output files from Woltka classify.\n",
    "    \n",
    "    Parameters\n",
    "    ----------\n",
    "    input_data : str\n",
    "        Path to directory containing output files.\n",
    "    rank : str\n",
    "        Taxonomic rank.\n",
    "    output_dir : str\n",
    "        Path to directory to save output files.\n",
    "    \"\"\"\n",
    "    output_files = find_output_files(rank, input_data)\n",
    "    for file in output_files:\n",
    "        print(file)\n",
    "        df = pd.read_csv(file, sep=\"\\t\", names=[\"FeatureID\", \"Count\", \"Species\"], header=0, index_col=2)\n",
    "\n",
    "        sampleID = (os.path.dirname(file).split(\"/\")[-1]).split(\"_\")[0]\n",
    "        output_path = os.path.join(output_dir, f\"{sampleID}_{rank}_relabund.csv\")\n",
    "        rel_abundance(df, output_path, rank)\n",
    "    \n",
    "find_and_save(data_dir, \"genus\", \"../../pipelines/toulousse/woltka/\")"
   ]
  }
 ],
 "metadata": {
  "kernelspec": {
   "display_name": "Python 3.10.6 ('.pipeline_venv': venv)",
   "language": "python",
   "name": "python3"
  },
  "language_info": {
   "name": "python",
   "version": "3.10.6"
  },
  "orig_nbformat": 4,
  "vscode": {
   "interpreter": {
    "hash": "3ac10c2973d938bf4f101ae2299756abbb7e00dac649f0769819439ff384650d"
   }
  }
 },
 "nbformat": 4,
 "nbformat_minor": 2
}
