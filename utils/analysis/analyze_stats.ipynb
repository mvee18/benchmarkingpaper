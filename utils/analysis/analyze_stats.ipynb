{
 "cells": [
  {
   "cell_type": "code",
   "execution_count": null,
   "metadata": {},
   "outputs": [],
   "source": [
    "import pandas as pd\n",
    "import numpy as np\n",
    "import seaborn as sns\n",
    "import matplotlib.pyplot as plt\n",
    "import os"
   ]
  },
  {
   "cell_type": "code",
   "execution_count": null,
   "metadata": {},
   "outputs": [],
   "source": [
    "project_root = os.path.abspath(\"../../pipelines/\")\n",
    "threshold = 0.00005\n",
    "\n",
    "# First, we load the data from the CSV file.\n",
    "def find_stats_files():\n",
    "    for root, dirs, files in os.walk(project_root):\n",
    "        for file in files:\n",
    "            # print(file)\n",
    "            if \"stats\" in file and file.endswith('.csv'):\n",
    "                stats_path = os.path.join(root, file)\n",
    "                df = pd.read_csv(stats_path)\n",
    "                yield stats_path, df\n",
    "\n",
    "combined_df = pd.DataFrame()\n",
    "\n",
    "for path, df in find_stats_files():\n",
    "        df[\"Source\"] = path.split(\"/\")[-2]\n",
    "        combined_df = pd.concat([combined_df, df])\n",
    "\n",
    "\n",
    "for src, df in combined_df.groupby(\"Source\"):\n",
    "    plots = [\"R^2\", \"MAE\", \"Aitchison\"]\n",
    "    for p in plots:\n",
    "        ax = sns.stripplot(data=df, x=\"Pipeline\", y=p)\n",
    "        ax.set_title(\"Stripplot of {} for {}\".format(p, src))\n",
    "        plt.show()\n",
    "\n",
    "\n",
    "combined_df.to_csv(f\"all_stats_{str(threshold)}.csv\", index=False)\n",
    "display(combined_df.head())"
   ]
  }
 ],
 "metadata": {
  "kernelspec": {
   "display_name": "Python 3.10.6 ('.pipeline_venv': venv)",
   "language": "python",
   "name": "python3"
  },
  "language_info": {
   "codemirror_mode": {
    "name": "ipython",
    "version": 3
   },
   "file_extension": ".py",
   "mimetype": "text/x-python",
   "name": "python",
   "nbconvert_exporter": "python",
   "pygments_lexer": "ipython3",
   "version": "3.10.6"
  },
  "orig_nbformat": 4,
  "vscode": {
   "interpreter": {
    "hash": "3ac10c2973d938bf4f101ae2299756abbb7e00dac649f0769819439ff384650d"
   }
  }
 },
 "nbformat": 4,
 "nbformat_minor": 2
}
