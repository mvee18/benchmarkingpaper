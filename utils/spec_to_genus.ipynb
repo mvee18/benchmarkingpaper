{
 "cells": [
  {
   "cell_type": "code",
   "execution_count": 1,
   "metadata": {},
   "outputs": [],
   "source": [
    "import pandas as pd\n",
    "import os"
   ]
  },
  {
   "cell_type": "code",
   "execution_count": 5,
   "metadata": {},
   "outputs": [
    {
     "name": "stdout",
     "output_type": "stream",
     "text": [
      "1.0001000000000002\n"
     ]
    },
    {
     "name": "stderr",
     "output_type": "stream",
     "text": [
      "/var/folders/22/_2115q192kx7c1z764lwhkth898844/T/ipykernel_16322/1392658995.py:4: FutureWarning: In a future version of pandas all arguments of StringMethods.split except for the argument 'pat' will be keyword-only.\n",
      "  df = df.groupby(df.index.str.split(\" \", 1).str[0]).sum()\n"
     ]
    }
   ],
   "source": [
    "# Convert dataframe of Species, RA to dataframe of Genus, RA.\n",
    "def convert_species_to_genus(df):\n",
    "    df = df.set_index(\"Species\")\n",
    "    df = df.groupby(df.index.str.split(\" \", 1).str[0]).sum()\n",
    "    df = df.reset_index()\n",
    "    df = df.rename(columns={\"Species\": \"Genus\"})\n",
    "    df.set_index(\"Genus\", inplace=True)\n",
    "\n",
    "    # Ensure that the RA adds up to 100%.\n",
    "    ra_sum = df[\"RA\"].sum()\n",
    "    print(ra_sum)\n",
    "\n",
    "    return df\n",
    "\n",
    "input_path = \"../pipelines/amos/mixed/expected_species.csv\"\n",
    "output_path = os.path.join(os.path.dirname(input_path), \"expected_genus.csv\")\n",
    "\n",
    "df = pd.read_csv(input_path)\n",
    "results = convert_species_to_genus(df)\n",
    "results.to_csv(output_path, index_label=\"Genus\")"
   ]
  }
 ],
 "metadata": {
  "kernelspec": {
   "display_name": "Python 3.10.6 ('.pipeline_venv': venv)",
   "language": "python",
   "name": "python3"
  },
  "language_info": {
   "codemirror_mode": {
    "name": "ipython",
    "version": 3
   },
   "file_extension": ".py",
   "mimetype": "text/x-python",
   "name": "python",
   "nbconvert_exporter": "python",
   "pygments_lexer": "ipython3",
   "version": "3.10.6"
  },
  "orig_nbformat": 4,
  "vscode": {
   "interpreter": {
    "hash": "3ac10c2973d938bf4f101ae2299756abbb7e00dac649f0769819439ff384650d"
   }
  }
 },
 "nbformat": 4,
 "nbformat_minor": 2
}
