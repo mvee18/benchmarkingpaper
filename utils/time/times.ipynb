{
 "cells": [
  {
   "cell_type": "code",
   "execution_count": null,
   "metadata": {},
   "outputs": [],
   "source": [
    "import os\n",
    "import pandas as pd\n",
    "import seaborn as sns\n",
    "\n",
    "import sys # noqa\n",
    "sys.path.append('../..') # noqa\n",
    "\n",
    "from utils.data_paths import make_data_list \n",
    "from dataclasses import dataclass, field\n",
    "from datetime import datetime"
   ]
  },
  {
   "cell_type": "code",
   "execution_count": null,
   "metadata": {},
   "outputs": [],
   "source": [
    "@dataclass\n",
    "class OutputLogs:\n",
    "    \"\"\" Holds the paths to the output logs for each pipeline. \"\"\"\n",
    "    bio3: str = \"\"\n",
    "    bio4: str = \"\"\n",
    "    jams: list[str] = field(default_factory=list)\n",
    "    wgsa2: str = \"\"\n",
    "    woltka: list[str] = field(default_factory=list)"
   ]
  },
  {
   "cell_type": "code",
   "execution_count": null,
   "metadata": {},
   "outputs": [],
   "source": [
    "paths_dict = {\n",
    "    \"nist\": \"/Volumes/TBHD_share/valencia/pipelines/NIST/\"\n",
    "}\n",
    "\n",
    "def search_for_files(path: str):\n",
    "    \"\"\" Look for anadama.log, JAMS logs, WGSA logs, and Wolka logs.\"\"\"\n",
    "    data_obj = OutputLogs()\n",
    "\n",
    "    for root, dirs, files in os.walk(path):\n",
    "        # print(files)\n",
    "        for f in files:\n",
    "            if f == \"anadama.log\":\n",
    "                if \"bio4\" in root:\n",
    "                    data_obj.bio4 = os.path.join(root, f)\n",
    "                elif \"bio3\" in root:\n",
    "                    data_obj.bio3 = os.path.join(root, f)\n",
    "            elif f.endswith(\"JAMS.log\"):\n",
    "                # Don't add the beta log or the negative control log.\n",
    "                if \"beta\" in root or \"Neg\" in f:\n",
    "                    continue\n",
    "                else:\n",
    "                    data_obj.jams.append(os.path.join(root, f))\n",
    "            elif f == \"logfile.txt\":\n",
    "                data_obj.wgsa2 = os.path.join(root, f)\n",
    "            \n",
    "            elif f == \"classify_time.log\" or f == \"bowtie_time.log\":\n",
    "                data_obj.woltka.append(os.path.join(root, f))\n",
    "\n",
    "    return data_obj\n",
    "\n",
    "for p in data_paths:\n",
    "    if 'nist' in p.path:\n",
    "        log_paths = search_for_files(paths_dict['nist'])\n",
    "        print(log_paths)"
   ]
  },
  {
   "cell_type": "code",
   "execution_count": null,
   "metadata": {},
   "outputs": [],
   "source": [
    "anadama_format = \"%Y-%m-%d %H:%M:%S,%f\"\n",
    "wanted_time_fmt = \"%H:%M:%S\"\n",
    "\n",
    "def parse_bio_time(log_path: str):\n",
    "    \"\"\"Parse the anadama.log file to get the start and end times.\"\"\"\n",
    "    # First line is the start time, last line is the end time.\n",
    "    with open(log_path, 'r') as f:\n",
    "        lines = f.readlines()\n",
    "        start = datetime.strptime(lines[0].strip().split('\\t')[0], anadama_format)\n",
    "        end = datetime.strptime(lines[-1].strip().split('\\t')[0], anadama_format)\n",
    "\n",
    "        # Find the line that has \"threads\" in it.\n",
    "        for line in lines:\n",
    "            if \"threads\" in line:\n",
    "                # Get the number of threads used.\n",
    "                threads = int(line.split(' ')[-1])\n",
    "                break\n",
    "\n",
    "        elapsed = end - start\n",
    "\n",
    "        return str(elapsed), threads\n",
    "\n",
    "print(parse_bio_time(log_paths.bio3))\n",
    "print(parse_bio_time(log_paths.bio4))"
   ]
  }
 ],
 "metadata": {
  "kernelspec": {
   "display_name": "Python 3.10.6 ('.pipeline_venv': venv)",
   "language": "python",
   "name": "python3"
  },
  "language_info": {
   "codemirror_mode": {
    "name": "ipython",
    "version": 3
   },
   "file_extension": ".py",
   "mimetype": "text/x-python",
   "name": "python",
   "nbconvert_exporter": "python",
   "pygments_lexer": "ipython3",
   "version": "3.10.6"
  },
  "orig_nbformat": 4,
  "vscode": {
   "interpreter": {
    "hash": "3ac10c2973d938bf4f101ae2299756abbb7e00dac649f0769819439ff384650d"
   }
  }
 },
 "nbformat": 4,
 "nbformat_minor": 2
}
