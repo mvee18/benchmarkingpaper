{
 "cells": [
  {
   "cell_type": "markdown",
   "metadata": {},
   "source": [
    "# Make New Expected from Old Expected\n",
    "This notebook was used to rerun the expected taxonomy when the NCBI taxonomy database was updated. "
   ]
  },
  {
   "cell_type": "code",
   "execution_count": null,
   "metadata": {},
   "outputs": [],
   "source": [
    "import os\n",
    "from ncbi.names import convert_expected, generate_names_df\n",
    "import pandas as pd\n",
    "from typing import List\n",
    "import re"
   ]
  },
  {
   "cell_type": "code",
   "execution_count": null,
   "metadata": {},
   "outputs": [],
   "source": [
    "def underscore_split(exp_df: pd.DataFrame) -> List[List[str]]:\n",
    "    exp_names = exp_df.index.tolist()\n",
    "\n",
    "    # print(exp_names)\n",
    "    # Replace any instance of sp with sp.\n",
    "    exp_names = [re.sub(\"_sp_\", \"_sp._\", x) for x in exp_names]\n",
    "\n",
    "    # There is also a case where sp is at the end, so replace that too.\n",
    "    exp_names = [re.sub(\"_sp$\", \"_sp.\", x) for x in exp_names]\n",
    "\n",
    "    # print(exp_names)\n",
    "\n",
    "    exp_split_names = [x.split(\"_\") for x in exp_names]\n",
    "\n",
    "    return exp_split_names\n",
    "\n",
    "def whitespace_split(exp_df: pd.DataFrame) -> List[List[str]]:\n",
    "    exp_names = exp_df.index.tolist()\n",
    "    exp_split_names = [x.split() for x in exp_names]\n",
    "\n",
    "    return exp_split_names\n",
    "\n",
    "split_dict = {\n",
    "    \"hilo\": underscore_split,\n",
    "    \"mixed\": underscore_split,\n",
    "    \"bmock12\": whitespace_split,\n",
    "    \"camisimGI\": whitespace_split,\n",
    "    \"nist\": underscore_split,\n",
    "    \"tourlousse\": underscore_split\n",
    "}\n",
    "\n",
    "# replacement_dict = {\n",
    "#     \"Treponema caldarium\": \"Gracilinema caldarium\",\n",
    "#     \"Pseudomonas stutzeri\": \"Stutzerimonas stutzeri\",\n",
    "# }"
   ]
  },
  {
   "cell_type": "code",
   "execution_count": null,
   "metadata": {},
   "outputs": [],
   "source": [
    "# Find everything in target directory with \"expected_species_annotated\" in the name.\n",
    "target_dir = \"../pipelines_old\"\n",
    "def find_expected(dir: str):\n",
    "    for root, dirs, files in os.walk(dir):\n",
    "        for file in files:\n",
    "            if file.endswith(\"expected_species_annotated.csv\"):\n",
    "                yield os.path.join(root, file)\n",
    "\n",
    "def drop_id_and_reannotate(f):\n",
    "    new_path = f.replace(\"pipelines_old\", \"expected_pipelines\")\n",
    "    new_path = new_path.replace(\"expected_species_annotated\", \"expected_species\")\n",
    "\n",
    "    print(new_path)\n",
    "\n",
    "    new_df = pd.read_csv(f, sep=\",\", index_col=0)\n",
    "\n",
    "    # Drop tax_id column.\n",
    "    new_df.drop(new_df.columns[1], axis=1, inplace=True)\n",
    "\n",
    "    # Save to new path.\n",
    "    # new_df.to_csv(new_path, index_label=\"Species\")\n",
    "\n",
    "    source = new_path.split(\"/\")[-2]\n",
    "    print(source)\n",
    "\n",
    "    convert_expected(new_path, split_func=split_dict[source])\n",
    "\n",
    "def copy_to_expected_dir(f: str):\n",
    "    new_path = f.replace(\"pipelines_old\", \"expected_pipelines\")\n",
    "\n",
    "    new_df = pd.read_csv(f, sep=\",\", index_col=0)\n",
    "\n",
    "    # Save to new path.\n",
    "    new_df.to_csv(new_path, index_label=\"Species\")\n",
    "\n",
    "for f in find_expected(target_dir):\n",
    "    # Now, we are going to reannotate the files.\n",
    "    drop_id_and_reannotate(f)"
   ]
  }
 ],
 "metadata": {
  "kernelspec": {
   "display_name": "Python 3.10.6 ('.pipeline_venv': venv)",
   "language": "python",
   "name": "python3"
  },
  "language_info": {
   "codemirror_mode": {
    "name": "ipython",
    "version": 3
   },
   "file_extension": ".py",
   "mimetype": "text/x-python",
   "name": "python",
   "nbconvert_exporter": "python",
   "pygments_lexer": "ipython3",
   "version": "3.10.6"
  },
  "orig_nbformat": 4,
  "vscode": {
   "interpreter": {
    "hash": "3ac10c2973d938bf4f101ae2299756abbb7e00dac649f0769819439ff384650d"
   }
  }
 },
 "nbformat": 4,
 "nbformat_minor": 2
}
