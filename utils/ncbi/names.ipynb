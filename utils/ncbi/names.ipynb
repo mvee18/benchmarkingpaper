{
 "cells": [
  {
   "cell_type": "code",
   "execution_count": null,
   "metadata": {},
   "outputs": [],
   "source": [
    "import os\n",
    "import pandas as pd\n",
    "from names import generate_names_df, find_tax_id, find_names_from_tax_ids, map_and_add_tax_ids, names_db_path\n",
    "from typing import List, Tuple\n",
    "from Levenshtein import distance\n",
    "import re"
   ]
  },
  {
   "cell_type": "code",
   "execution_count": null,
   "metadata": {},
   "outputs": [],
   "source": [
    "names_df = generate_names_df(names_db_path, pickle=True)\n",
    "display(names_df.head())"
   ]
  },
  {
   "cell_type": "code",
   "execution_count": null,
   "metadata": {},
   "outputs": [],
   "source": [
    "# Everything after the second space should be joined together with -.\n",
    "def fix_name(name: str) -> str:\n",
    "    splitted = name.split(\" \")\n",
    "\n",
    "    # In indices greater than or equal to 2, replace any special characters with a -.\n",
    "    for i in range(len(splitted)):\n",
    "        if i >= 2:\n",
    "            splitted[i] = re.sub(r\"[^a-zA-Z0-9]\", \"-\", splitted[i])\n",
    "    \n",
    "    # Join indices 2 and greater with a -.\n",
    "    if len(splitted) > 2:\n",
    "        splitted[2:] = [\"-\".join(splitted[2:])]\n",
    "\n",
    "    # Join the list of lists back into a list of strings with \"_\".\n",
    "    splitted = \"_\".join(splitted)\n",
    "\n",
    "    # Make all the strings uppercase.\n",
    "    splitted = splitted.upper()\n",
    "\n",
    "    # Remove any trailing tabs or spaces.\n",
    "    splitted = splitted.strip()\n",
    "\n",
    "    return splitted"
   ]
  },
  {
   "cell_type": "code",
   "execution_count": null,
   "metadata": {},
   "outputs": [],
   "source": [
    "# The species abundance tables have already been generated. We just need to fix the names and add the tax_ids.\n",
    "def convert_jams_to_taxid(path: str, names_df: pd.DataFrame) -> Tuple[pd.DataFrame, pd.DataFrame]:\n",
    "    df = pd.read_csv(path, sep=\",\", index_col=0)\n",
    "    display(df.head())\n",
    "\n",
    "    # Get index as list.\n",
    "    index_list = df.index.tolist()\n",
    "\n",
    "    # Remove all underscores and replace with spaces.\n",
    "    index_list = [x.replace(\"_\", \" \") for x in index_list]\n",
    "\n",
    "    # Replace \"Unclassified\" with \"sp.\" if it is not the only name.\n",
    "    index_list = [x.replace(\"Unclassified\", \"sp.\") if x != \"Unclassified\" else x for x in index_list]\n",
    "\n",
    "    # Fix names by joning the names after the second space with a -.\n",
    "    index_list = [fix_name(x) for x in index_list]\n",
    "\n",
    "    df.index = index_list\n",
    "\n",
    "    # Now we can add the tax_ids.\n",
    "    df = map_and_add_tax_ids(df, names_df)\n",
    "\n",
    "    # Split the dataframe into two dataframes, those with tax_ids and those without.\n",
    "    df_with_tax_id = df[df[\"tax_id\"].notna()]\n",
    "    df_without_tax_id = df[df[\"tax_id\"].isna()]\n",
    "\n",
    "    return df_with_tax_id, df_without_tax_id"
   ]
  },
  {
   "cell_type": "code",
   "execution_count": null,
   "metadata": {},
   "outputs": [],
   "source": [
    "annotated, unknown = convert_jams_to_taxid(\"../../pipelines/bmock12/jams/s1_species_relabund.csv\", names_df)\n",
    "display(annotated.head())\n",
    "display(unknown.head())"
   ]
  }
 ],
 "metadata": {
  "kernelspec": {
   "display_name": "Python 3.10.6 ('.pipeline_venv': venv)",
   "language": "python",
   "name": "python3"
  },
  "language_info": {
   "codemirror_mode": {
    "name": "ipython",
    "version": 3
   },
   "file_extension": ".py",
   "mimetype": "text/x-python",
   "name": "python",
   "nbconvert_exporter": "python",
   "pygments_lexer": "ipython3",
   "version": "3.10.6"
  },
  "orig_nbformat": 4,
  "vscode": {
   "interpreter": {
    "hash": "3ac10c2973d938bf4f101ae2299756abbb7e00dac649f0769819439ff384650d"
   }
  }
 },
 "nbformat": 4,
 "nbformat_minor": 2
}
