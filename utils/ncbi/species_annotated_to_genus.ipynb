{
 "cells": [
  {
   "cell_type": "markdown",
   "metadata": {},
   "source": [
    "# Annotated Species Data to Annotated Genus Data\n",
    "\n",
    "This notebook annotates the genus-level relative abundance files from the species-level data in the \"../../expected_pipelines\" folder by finding the lineage for each species, determining if there is a genus in the lineage, then returning the TAXID if it exists. If there is no genus-level parent, it uses the direct parent of the speices."
   ]
  },
  {
   "cell_type": "code",
   "execution_count": 19,
   "metadata": {},
   "outputs": [],
   "source": [
    "import pandas as pd\n",
    "import os\n",
    "from os.path import basename, dirname\n",
    "from lineage import make_annotated_lineage, make_annotation_dataframes, cleanup_lineage"
   ]
  },
  {
   "cell_type": "code",
   "execution_count": 20,
   "metadata": {},
   "outputs": [],
   "source": [
    "test_file = \"../../pipelines/bmock12/S1_expected_species_annotated.csv\"\n",
    "def species_to_genus_annotated(fp: str, lineage_df: pd.DataFrame, nodes_dict: dict, delim: str = \"_\"):\n",
    "    df = pd.read_csv(fp, index_col=0, skiprows=1, header=None, names=[\"species\", \"RA\", \"tax_id\"])\n",
    "\n",
    "    # Convert to int, then to string.\n",
    "    df[\"tax_id\"] = df[\"tax_id\"].astype(int).astype(str)\n",
    "    # display(df)\n",
    "    # print(df.dtypes)\n",
    "\n",
    "    # On the tax_id column, apply the make_annotated_lineage function, then cleanup the lineage.\n",
    "    df[\"genus_lineage\"] = df[\"tax_id\"].apply(lambda x: cleanup_lineage(make_annotated_lineage(str(x), lineage_df, nodes_dict), \"genus\"))\n",
    "\n",
    "    # Now, we will split the index column on \"_\" and take the first element.\n",
    "    index = df.index.tolist()\n",
    "    index = [i.split(delim)[0] for i in index]\n",
    "    df.index = index\n",
    "\n",
    "    # Select only the columns we need.\n",
    "    genus_df = df[[\"RA\", \"genus_lineage\"]].copy()\n",
    "\n",
    "    genus_df.index.name = \"genus\"\n",
    "    genus_df.reset_index(inplace=True)\n",
    "\n",
    "    # Group by genus and sum the RA column just in case there multiple species in the same genus.\n",
    "    genus_df = genus_df.groupby(\"genus_lineage\", as_index=False).agg({\"genus\": \"first\", \"RA\": \"sum\", \"genus_lineage\": \"first\"})\n",
    "\n",
    "    genus_df.sort_values(by=\"RA\", ascending=False, inplace=True)\n",
    "\n",
    "    genus_df.rename(columns={\"genus_lineage\": \"tax_id\"}, inplace=True)\n",
    "\n",
    "    return genus_df\n",
    "\n",
    "# genus_df = species_to_genus_annotated(test_file, \" \", lineage_df, nodes_dict)"
   ]
  },
  {
   "cell_type": "code",
   "execution_count": 21,
   "metadata": {},
   "outputs": [
    {
     "name": "stdout",
     "output_type": "stream",
     "text": [
      "mixed amos \n",
      "/Users/valenciaem/coding/pipelines/expected_pipelines/amos/mixed/expected_species_annotated.csv\n",
      "hilo amos \n",
      "/Users/valenciaem/coding/pipelines/expected_pipelines/amos/hilo/expected_species_annotated.csv\n",
      "bmock12 expected_pipelines S1_\n",
      "/Users/valenciaem/coding/pipelines/expected_pipelines/bmock12/S1_expected_species_annotated.csv\n",
      "Desired rank not found in lineage, using last value instead.. {'131567': 'no rank', '2': 'superkingdom', '1783272': 'clade', '201174': 'phylum', '1760': 'class', '85009': 'order', '31957': 'family', '185283': 'no rank'}\n",
      "tourlousse expected_pipelines \n",
      "/Users/valenciaem/coding/pipelines/expected_pipelines/tourlousse/expected_species_annotated.csv\n",
      "nist expected_pipelines EG_\n",
      "/Users/valenciaem/coding/pipelines/expected_pipelines/nist/EG_expected_species_annotated.csv\n",
      "nist expected_pipelines MIX-A_\n",
      "/Users/valenciaem/coding/pipelines/expected_pipelines/nist/MIX-A_expected_species_annotated.csv\n",
      "nist expected_pipelines MIX-B_\n",
      "/Users/valenciaem/coding/pipelines/expected_pipelines/nist/MIX-B_expected_species_annotated.csv\n",
      "nist expected_pipelines MIX-D_\n",
      "/Users/valenciaem/coding/pipelines/expected_pipelines/nist/MIX-D_expected_species_annotated.csv\n",
      "nist expected_pipelines MIX-C_\n",
      "/Users/valenciaem/coding/pipelines/expected_pipelines/nist/MIX-C_expected_species_annotated.csv\n",
      "camisimGI expected_pipelines S1_\n",
      "/Users/valenciaem/coding/pipelines/expected_pipelines/camisimGI/S1_expected_species_annotated.csv\n",
      "camisimGI expected_pipelines S2_\n",
      "/Users/valenciaem/coding/pipelines/expected_pipelines/camisimGI/S2_expected_species_annotated.csv\n"
     ]
    }
   ],
   "source": [
    "# We need to start at the annotated species level and work our way up to the genus level.\n",
    "# To do this, we will use the new lineage file to get the parent tax_ids of each tax_id.\n",
    "# Then, we will search for the rank of interest in the nodes file.\n",
    "\n",
    "# First, go into the expected_pipelines directory and search for files with \"species_relabund_annotated\" in the name.\n",
    "wanted_pipelines = [\"biobakery4\", \"bio4\", \"bio3\", \"biobakery3\", \"jams\"]\n",
    "\n",
    "def get_annotated_species_files(expected: bool, root_dir: str) -> pd.DataFrame:\n",
    "    root_dir = os.path.abspath(root_dir)\n",
    "    for root, dirs, files in os.walk(root_dir):\n",
    "        for file in files:\n",
    "            if expected:\n",
    "                if \"expected_species_annotated\" in file:\n",
    "                    yield os.path.join(root, file)\n",
    "            else:\n",
    "                if \"species_relabund_annotated\" in file:\n",
    "                    yield os.path.join(root, file)\n",
    "\n",
    "def annotate_species_files(expected: bool, root_dir: str):\n",
    "    lineage_df, nodes_dict = make_annotation_dataframes()\n",
    "    for file in get_annotated_species_files(expected=expected, root_dir=root_dir):\n",
    "        src_name = dirname(dirname(file)).split(\"/\")[-1]\n",
    "        pipeline_name = dirname(file).split(\"/\")[-1]\n",
    "        # src_name = \"nist\"\n",
    "        # pipeline_name = \"jams\"\n",
    "        sample_name = basename(file).split(\"_\")[0] + \"_\"\n",
    "        # print(sample_name)\n",
    "        if sample_name == \"expected_\":\n",
    "            sample_name = \"\"\n",
    "\n",
    "        if src_name == \"gut\" or src_name == \"tongue\":\n",
    "            continue\n",
    "            \n",
    "        # if pipeline_name in wanted_pipelines:\n",
    "        print(pipeline_name, src_name, sample_name)\n",
    "        print(file)\n",
    "        if expected:\n",
    "            output_file = os.path.join(dirname(file), f\"{sample_name}expected_genus_annotated.csv\")\n",
    "        else:\n",
    "            output_file = os.path.join(dirname(file), f\"{sample_name}genus_relabund_annotated.csv\")\n",
    "\n",
    "        output = species_to_genus_annotated(file, lineage_df, nodes_dict, \"_\")\n",
    "        # display(output.head())\n",
    "        output.to_csv(output_file, index=False)\n",
    "   \n",
    "annotate_species_files(expected=True, root_dir=\"../../expected_pipelines\")"
   ]
  }
 ],
 "metadata": {
  "kernelspec": {
   "display_name": "Python 3.10.6 ('.pipeline_venv': venv)",
   "language": "python",
   "name": "python3"
  },
  "language_info": {
   "codemirror_mode": {
    "name": "ipython",
    "version": 3
   },
   "file_extension": ".py",
   "mimetype": "text/x-python",
   "name": "python",
   "nbconvert_exporter": "python",
   "pygments_lexer": "ipython3",
   "version": "3.10.6"
  },
  "orig_nbformat": 4,
  "vscode": {
   "interpreter": {
    "hash": "3ac10c2973d938bf4f101ae2299756abbb7e00dac649f0769819439ff384650d"
   }
  }
 },
 "nbformat": 4,
 "nbformat_minor": 2
}
