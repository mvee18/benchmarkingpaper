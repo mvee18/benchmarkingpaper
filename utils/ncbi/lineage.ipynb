{
 "cells": [
  {
   "cell_type": "code",
   "execution_count": 23,
   "metadata": {},
   "outputs": [],
   "source": [
    "import pandas as pd\n",
    "import os\n",
    "from typing import List\n",
    "import pickle"
   ]
  },
  {
   "cell_type": "code",
   "execution_count": 24,
   "metadata": {},
   "outputs": [],
   "source": [
    "def get_lineage_df(path: str, save: bool = False, load_pickle: bool = True) -> pd.DataFrame:\n",
    "    if load_pickle:\n",
    "        try:\n",
    "            return pd.read_pickle(\"lineage.pkl\")\n",
    "        except FileNotFoundError:\n",
    "            print(\"Pickle not found. Generating new one.\")\n",
    "\n",
    "    if not os.path.exists(path):\n",
    "        raise FileNotFoundError(\"Lineage file does not exist.\")\n",
    "\n",
    "    df = pd.read_csv(path, sep=\"|\", header=None, names=[\n",
    "                     \"tax_id\", \"parent_tax_id\"], dtype=str)\n",
    "    \n",
    "    df.drop(\"parent_tax_id\", axis=1, inplace=True)\n",
    "    \n",
    "    df.reset_index(inplace=True)\n",
    "\n",
    "    # Remove the \\t character from all columns.\n",
    "    df = df.apply(lambda x: x.str.strip())\n",
    "\n",
    "    df[\"tax_id\"] = df[\"tax_id\"].str.split(\" \")\n",
    "\n",
    "    rename = {\"tax_id\": \"lineage\", \"index\": \"tax_id\"}\n",
    "\n",
    "    df.rename(columns=rename, inplace=True)\n",
    "    df.set_index(\"tax_id\", inplace=True)\n",
    "\n",
    "    if save:\n",
    "        df.to_pickle(\"lineage.pkl\")\n",
    "\n",
    "    return df"
   ]
  },
  {
   "cell_type": "code",
   "execution_count": 25,
   "metadata": {},
   "outputs": [],
   "source": [
    "def get_parent_ids(tax_id: str, df: pd.DataFrame) -> List[str]:\n",
    "    \"\"\"\n",
    "    Returns a list of tax_ids that are the parents of the given tax_id from the lineage dataframe.\n",
    "    Parameters:\n",
    "        tax_id (str): The tax_id to find the parents of.\n",
    "        df (pd.DataFrame): The lineage dataframe.\n",
    "    Returns:\n",
    "        List[str]: A list of tax_ids that are the parents of the given tax_id.\n",
    "    \"\"\"\n",
    "\n",
    "    return df.loc[df.index == tax_id][\"lineage\"].values[0]"
   ]
  },
  {
   "cell_type": "code",
   "execution_count": 26,
   "metadata": {},
   "outputs": [],
   "source": [
    "# Now, we need to use the nodes file to determine the rank of each tax_id.\n",
    "\n",
    "def make_nodes_dict(path: str, save: bool = False, load_pickle: bool = True) -> dict:\n",
    "    \"\"\"\n",
    "    Creates a dictionary of tax_ids and their corresponding rank.\n",
    "    Parameters:\n",
    "        path (str): The path to the nodes.dmp file.\n",
    "    Returns:\n",
    "        dict: A dictionary of tax_ids and their corresponding rank.\n",
    "    \"\"\"\n",
    "    if load_pickle:\n",
    "        try:\n",
    "            return pickle.load(open(\"nodes.pkl\", \"rb\"))\n",
    "        except FileNotFoundError:\n",
    "            print(\"Pickle not found. Generating new one.\")\n",
    "\n",
    "    nodes_dict = {}\n",
    "\n",
    "    with open(path, \"r\") as f:\n",
    "        for line in f:\n",
    "            line = line.strip().split(\"|\")\n",
    "            nodes_dict[line[0].strip()] = line[2].strip()\n",
    "\n",
    "    if save:\n",
    "        with open(\"nodes.pkl\", \"wb\") as f:\n",
    "            pickle.dump(nodes_dict, f)\n",
    "\n",
    "    return nodes_dict\n"
   ]
  },
  {
   "cell_type": "code",
   "execution_count": 27,
   "metadata": {},
   "outputs": [],
   "source": [
    "# Now, what we want to do is take the list of tax_ids and find the rank of each one.\n",
    "def annotate_taxids(taxids: List[str], nodes_dict: dict) -> dict:\n",
    "    \"\"\"\n",
    "    Annotates the tax_ids with their corresponding rank.\n",
    "    Parameters:\n",
    "        taxids (List[str]): A list of tax_ids.\n",
    "        nodes_dict (dict): A dictionary of tax_ids and their corresponding rank.\n",
    "    Returns:\n",
    "        dict: A dictionary of tax_ids and their corresponding rank.\n",
    "    \"\"\"\n",
    "\n",
    "    taxids_dict = {}\n",
    "\n",
    "    for taxid in taxids:\n",
    "        # print(taxid, nodes_dict[taxid])\n",
    "        taxids_dict[taxid] = nodes_dict[taxid]\n",
    "\n",
    "    return taxids_dict\n"
   ]
  },
  {
   "cell_type": "code",
   "execution_count": 29,
   "metadata": {},
   "outputs": [
    {
     "name": "stdout",
     "output_type": "stream",
     "text": [
      "131567 no rank\n",
      "2 superkingdom\n",
      "1224 phylum\n",
      "1236 class\n",
      "2887326 order\n",
      "468 family\n",
      "497 genus\n",
      "196806 no rank\n"
     ]
    },
    {
     "data": {
      "text/plain": [
       "{'131567': 'no rank',\n",
       " '2': 'superkingdom',\n",
       " '1224': 'phylum',\n",
       " '1236': 'class',\n",
       " '2887326': 'order',\n",
       " '468': 'family',\n",
       " '497': 'genus',\n",
       " '196806': 'no rank'}"
      ]
     },
     "execution_count": 29,
     "metadata": {},
     "output_type": "execute_result"
    }
   ],
   "source": [
    "def make_annotated_lineage(taxid: str) -> dict:\n",
    "    lineage_df = get_lineage_df(\"/Volumes/TBHD_share/DATABASES/NCBI202302/taxidlineage.dmp\", save=True, load_pickle=True)\n",
    "    nodes_dict = make_nodes_dict(\"/Volumes/TBHD_share/DATABASES/NCBI202302/nodes.dmp\", save=True, load_pickle=True)\n",
    "\n",
    "    return annotate_taxids(get_parent_ids(taxid, lineage_df), nodes_dict)\n",
    "\n",
    "make_annotated_lineage(\"1415574\")"
   ]
  },
  {
   "cell_type": "code",
   "execution_count": null,
   "metadata": {},
   "outputs": [],
   "source": [
    "def cleanup_lineage(lineage: dict, desired_rank: str) -> float:\n",
    "    \"\"\"\n",
    "    Cleans up the lineage dictionary by removing the ranks that are not needed.\n",
    "    Parameters:\n",
    "        lineage (dict): A dictionary of tax_ids and their corresponding rank.\n",
    "    Returns:\n",
    "        dict: A dictionary of tax_ids and their corresponding rank.\n",
    "    \"\"\"\n",
    "    if desired_rank not in lineage.values():\n",
    "        return None\n",
    "    else:\n",
    "        for key, value in lineage.items():\n",
    "            if value == desired_rank:\n",
    "                return float(key)"
   ]
  }
 ],
 "metadata": {
  "kernelspec": {
   "display_name": "Python 3.10.6 ('.pipeline_venv': venv)",
   "language": "python",
   "name": "python3"
  },
  "language_info": {
   "codemirror_mode": {
    "name": "ipython",
    "version": 3
   },
   "file_extension": ".py",
   "mimetype": "text/x-python",
   "name": "python",
   "nbconvert_exporter": "python",
   "pygments_lexer": "ipython3",
   "version": "3.10.6"
  },
  "orig_nbformat": 4,
  "vscode": {
   "interpreter": {
    "hash": "3ac10c2973d938bf4f101ae2299756abbb7e00dac649f0769819439ff384650d"
   }
  }
 },
 "nbformat": 4,
 "nbformat_minor": 2
}
