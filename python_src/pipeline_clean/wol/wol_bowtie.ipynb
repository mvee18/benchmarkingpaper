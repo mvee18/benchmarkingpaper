{
 "cells": [
  {
   "cell_type": "code",
   "execution_count": null,
   "metadata": {},
   "outputs": [],
   "source": [
    "import os\n",
    "\n",
    "# Parse the command line arguments\n",
    "import argparse\n",
    "# We need one for input and one for output.\n",
    "parser = argparse.ArgumentParser()\n",
    "parser.add_argument('--input', type=str, required=True)\n",
    "parser.add_argument('--output', type=str, required=True)\n",
    "args = parser.parse_args()"
   ]
  },
  {
   "cell_type": "code",
   "execution_count": null,
   "metadata": {},
   "outputs": [],
   "source": [
    "files = []\n",
    "for file in os.listdir(args.input):\n",
    "    if file.endswith(\".fastq\"):\n",
    "        files.append(os.path.join(args.input, file))\n",
    "\n",
    "files.sort()\n",
    "\n",
    "# Make a list of tuples of the paired files.\n",
    "paired_files = []\n",
    "for i in range(0, len(files), 2):\n",
    "    paired_files.append((files[i], files[i+1]))"
   ]
  },
  {
   "cell_type": "code",
   "execution_count": null,
   "metadata": {},
   "outputs": [],
   "source": [
    "# We need to make a bash script to run bowtie2 on all the files.\n",
    "with open(os.path.join(args.output, \"submit.sh\"), \"w\") as f:\n",
    "    f.write(\"#!/bin/bash\\n\\n\")\n",
    "    f.write(\"module load bowtie\\n\\n\")\n",
    "\n",
    "    for pair in paired_files:\n",
    "        prefix = pair[0].split(\"/\")[-1].split(\"_\")[0]\n",
    "        line = \"\"\"bowtie2 -p 16 -x /data/TBHD_share/valencia/pipelines/woltka/db/databases/bowtie2/WoLr1 -1 {} -2 {} --very-sensitive --no-head --no-unal -k 16 --np 1 --mp \"1,1\" --rdg \"0,1\" --rfg \"0,1\" --score-min \"L,0,-0.05\" | cut -f1-9 | sed 's/$/\\\\t*\\\\t*/' | gzip > {}.sam.gz\"\"\".format(pair[0], pair[1], prefix)\n",
    "        f.write(line + \"\\n\")"
   ]
  }
 ],
 "metadata": {
  "kernelspec": {
   "display_name": "Python 3.10.6 ('.pipeline_venv': venv)",
   "language": "python",
   "name": "python3"
  },
  "language_info": {
   "codemirror_mode": {
    "name": "ipython",
    "version": 3
   },
   "file_extension": ".py",
   "mimetype": "text/x-python",
   "name": "python",
   "nbconvert_exporter": "python",
   "pygments_lexer": "ipython3",
   "version": "3.10.6"
  },
  "orig_nbformat": 4,
  "vscode": {
   "interpreter": {
    "hash": "3ac10c2973d938bf4f101ae2299756abbb7e00dac649f0769819439ff384650d"
   }
  }
 },
 "nbformat": 4,
 "nbformat_minor": 2
}
