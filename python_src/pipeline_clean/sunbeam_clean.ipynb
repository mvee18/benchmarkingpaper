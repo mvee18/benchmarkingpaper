{
 "cells": [
  {
   "cell_type": "markdown",
   "metadata": {},
   "source": [
    "# Sunbeam Clean\n",
    "This notebook will clean the output of the sunbeam metagenomics pipeline into the standardized relative abundance tables.\n",
    "\n",
    "| Species | RA | TAX_ID |\n",
    "|---------|----|--------|\n",
    "\n",
    "Sunbeam was chosen since it is an assembly-based DNA-to-DNA pipeline."
   ]
  },
  {
   "cell_type": "code",
   "execution_count": 1,
   "metadata": {},
   "outputs": [],
   "source": [
    "import os\n",
    "import sys  # noqa\n",
    "sys.path.append(\"../../\")  # noqa\n",
    "from utils.data_paths import make_data_list, MockCommData\n",
    "\n",
    "import pandas as pd\n",
    "import seaborn as sns\n",
    "from typing import List\n",
    "\n",
    "# Import the data paths from the utils module\n",
    "paths = make_data_list()\n"
   ]
  },
  {
   "cell_type": "code",
   "execution_count": 2,
   "metadata": {},
   "outputs": [],
   "source": [
    "tax_dict = {\"Genus\": \"G\", \"Species\": \"S\", \"Family\": \"F\",\n",
    "            \"Order\": \"O\", \"Class\": \"C\", \"Phylum\": \"P\", \"Kingdom\": \"K\"}\n",
    "\n",
    "\n",
    "def clean_sunbeam(paths: List[MockCommData], rank: str):\n",
    "    \"\"\" Cleans the sunbeam output files and saves them to the sunbeam directory. \n",
    "\n",
    "    Parameters:\n",
    "        paths: list[MockCommData]\n",
    "            A list of MockCommData objects. Typically from the utils module.\n",
    "        rank: str\n",
    "            The taxonomic rank to clean the data to. Typically: Genus, Species. See tax_dict for more options.\n",
    "    \"\"\"\n",
    "    for p in paths:\n",
    "        sunbeam_path = p.sunbeam\n",
    "        if sunbeam_path == \"\" or \"MBARC\" not in sunbeam_path:\n",
    "            continue\n",
    "\n",
    "        files = os.listdir(sunbeam_path)\n",
    "        files = [os.path.join(sunbeam_path, f)\n",
    "                 for f in files if f.endswith(\"taxa.tsv\")]\n",
    "\n",
    "        output_dir = os.path.join(p.path, \"sunbeam\")\n",
    "        os.makedirs(output_dir, exist_ok=True)\n",
    "\n",
    "        for f in files:\n",
    "            print(f)\n",
    "            print(p.path)\n",
    "            clean_kraken(os.path.join(sunbeam_path, f),\n",
    "                         rank.capitalize(), output_dir)\n",
    "\n",
    "\n",
    "def clean_kraken(file: str, rank: str, output_dir: str):\n",
    "    \"\"\" Cleans the kraken outputs files from sunbeam. \n",
    "\n",
    "    Follows the same steps as WGSA2. Note that the total RA is not 100% because\n",
    "    assigned higher taxonomic ranks are not included in the total.\n",
    "\n",
    "    \"\"\"\n",
    "    df = pd.read_csv(file, sep=\"\\t\", header=None, usecols=[1, 3, 4, 5])\n",
    "\n",
    "    # Split off the first two rows. The sum of the unclassified and root counts is the total.\n",
    "    total_counts = df.iloc[:2, 0].sum()\n",
    "\n",
    "    # We need an OR statement to get the unclassified.\n",
    "    df = df.loc[(df[3] == tax_dict[rank]) | (df[3] == \"U\")]\n",
    "    # df = df.where(df[3] == tax_dict[rank]).dropna()\n",
    "\n",
    "    df.sort_values(by=1, ascending=False, inplace=True)\n",
    "\n",
    "    clean_genus = df[[5, 1, 4]].copy(deep=True)\n",
    "    clean_genus.columns = [rank, \"RA\", \"TAX_ID\"]\n",
    "\n",
    "    # Convert the RA column from counts to RA.\n",
    "    clean_genus[\"RA\"] = clean_genus[\"RA\"].apply(lambda x: x / total_counts)\n",
    "\n",
    "    clean_genus.set_index(rank, inplace=True)\n",
    "\n",
    "    # The unclassified tax_id is actually 12908, not 0.\n",
    "    clean_genus.loc[\"unclassified\", \"TAX_ID\"] = 12908\n",
    "\n",
    "    indices = clean_genus.index\n",
    "\n",
    "    indices = [i.lstrip() for i in indices]\n",
    "\n",
    "    # Remove any [ and ] characters from the indices.\n",
    "    indices = [i.replace(\"[\", \"\") for i in indices]\n",
    "    indices = [i.replace(\"]\", \"\") for i in indices]\n",
    "\n",
    "    clean_genus.index = indices\n",
    "\n",
    "    # Since the WGSA data already contains the TAXID, it is much faster than this function.\n",
    "    # ann, uann = standardize_wgsa(clean_genus)\n",
    "\n",
    "    clean_genus = clean_genus.astype({\"TAX_ID\": int})\n",
    "    # display(clean_genus)\n",
    "\n",
    "    prefix = os.path.basename(file).split(\"-\")[0]\n",
    "    left_prefix = \"\"\n",
    "    output_file_name = f\"{left_prefix}{prefix.upper()}_{rank.lower()}_relabund_annotated.csv\"\n",
    "    output_file_path = os.path.join(output_dir, output_file_name)\n",
    "    print(\"Saved to: \", output_file_path)\n",
    "\n",
    "    clean_genus.to_csv(output_file_path, sep=\",\",\n",
    "                       header=True, index_label=rank)\n"
   ]
  },
  {
   "cell_type": "markdown",
   "metadata": {},
   "source": [
    "# Main\n",
    "Run the code below."
   ]
  },
  {
   "cell_type": "code",
   "execution_count": 3,
   "metadata": {},
   "outputs": [
    {
     "name": "stdout",
     "output_type": "stream",
     "text": [
      "/Volumes/TBHD_share/valencia/pipelines/MBARC/pipelines/sunbeam/sunbeam_output/classify/kraken/MBARC-taxa.tsv\n",
      "/Users/valenciaem/coding/pipelines/pipelines/mbarc\n",
      "Saved to:  /Users/valenciaem/coding/pipelines/pipelines/mbarc/sunbeam/MBARC_genus_relabund_annotated.csv\n",
      "/Volumes/TBHD_share/valencia/pipelines/MBARC/pipelines/sunbeam/sunbeam_output/classify/kraken/MBARC-taxa.tsv\n",
      "/Users/valenciaem/coding/pipelines/pipelines/mbarc\n",
      "Saved to:  /Users/valenciaem/coding/pipelines/pipelines/mbarc/sunbeam/MBARC_species_relabund_annotated.csv\n"
     ]
    }
   ],
   "source": [
    "clean_sunbeam(paths, \"Genus\")\n",
    "clean_sunbeam(paths, \"Species\")\n"
   ]
  }
 ],
 "metadata": {
  "kernelspec": {
   "display_name": "Python 3.10.6 ('.pipeline_venv': venv)",
   "language": "python",
   "name": "python3"
  },
  "language_info": {
   "codemirror_mode": {
    "name": "ipython",
    "version": 3
   },
   "file_extension": ".py",
   "mimetype": "text/x-python",
   "name": "python",
   "nbconvert_exporter": "python",
   "pygments_lexer": "ipython3",
   "version": "3.10.6"
  },
  "orig_nbformat": 4,
  "vscode": {
   "interpreter": {
    "hash": "3ac10c2973d938bf4f101ae2299756abbb7e00dac649f0769819439ff384650d"
   }
  }
 },
 "nbformat": 4,
 "nbformat_minor": 2
}
