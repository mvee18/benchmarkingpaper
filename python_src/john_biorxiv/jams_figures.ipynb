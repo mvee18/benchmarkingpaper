{
 "cells": [
  {
   "cell_type": "code",
   "execution_count": null,
   "metadata": {},
   "outputs": [],
   "source": [
    "import sys\n",
    "sys.path.append('../../')\n",
    "\n",
    "import pandas as pd\n",
    "from python_src.figures_utils import get_all_expected, generate_experimental_df, get_relabund_files, fully_combined, generate_cb\n",
    "from dataclasses import dataclass\n",
    "import seaborn as sns\n",
    "import matplotlib.pyplot as plt"
   ]
  },
  {
   "cell_type": "code",
   "execution_count": null,
   "metadata": {},
   "outputs": [],
   "source": [
    "@dataclass\n",
    "class Pipeline:\n",
    "    \"\"\"\n",
    "    This class will hold the parameters for each pipeline.\n",
    "    Variables:\n",
    "        root: str\n",
    "            The root directory of the pipeline.\n",
    "        inset: bool\n",
    "            Whether or not to include an inset plot.\n",
    "    \"\"\"\n",
    "    root: str\n",
    "    inset: bool\n",
    "\n",
    "    def __init__(self, root: str, inset: bool):\n",
    "        self.root = root\n",
    "        self.inset = inset\n",
    "\n",
    "tourlousse = Pipeline(\"../../pipelines/tourlousse\", False)\n",
    "amos_hilo = Pipeline(\"../../pipelines/amos/hilo\", False)\n",
    "amos_mixed = Pipeline(\"../../pipelines/amos/mixed\", False)\n",
    "\n",
    "experiments = [tourlousse, amos_hilo, amos_mixed]"
   ]
  },
  {
   "cell_type": "code",
   "execution_count": null,
   "metadata": {},
   "outputs": [],
   "source": [
    "def fix_x_labels(ax, df, rank):\n",
    "    xticks = ax.get_xticklabels()\n",
    "    # print(xticks)\n",
    "    new_labels = []\n",
    "    for x in xticks:\n",
    "        # res = df.loc[int(x.get_text()), rank]\n",
    "        res = df.loc[df[\"TAX_ID\"] == int(x.get_text()), rank]\n",
    "        # Get only the first row from the series.\n",
    "        # This is necessary because if it is unique, it will return a string, but if it is not unique, it will return a series.\n",
    "        if isinstance(res, pd.Series):\n",
    "            res = res.iloc[0]\n",
    "        new_labels.append(res)\n",
    "\n",
    "    return new_labels"
   ]
  },
  {
   "cell_type": "code",
   "execution_count": null,
   "metadata": {},
   "outputs": [],
   "source": [
    "cb_palette = generate_cb()\n",
    "\n",
    "def make_title(rank: str, exp_name: str, thresh: float):\n",
    "    return f\"Average Relative Abundance of {rank.capitalize()} in Experiement {exp_name.capitalize()} at Threshold {thresh}\"\n",
    "\n",
    "def plot_bars(thresh: float, rank: str = \"genus\"):\n",
    "    for e in experiments:\n",
    "        # Initialize the dataframe to hold the data.\n",
    "        plt_df = pd.DataFrame()\n",
    "        # Make the bigger figure.\n",
    "        fig = plt.figure(figsize=(15, 12))\n",
    "\n",
    "        exp_name = e.root.split(\"/\")[-1]\n",
    "\n",
    "        # Get the data for the experiment.\n",
    "        fc = fully_combined(e.root, rank)\n",
    "        fc.to_csv(f\"{rank}_{exp_name}_fc.csv\", index=True)\n",
    "        for pl, pl_df in fc.groupby(\"Source\"):\n",
    "            # Average the abundances on the same index values. This keeps the names of the taxa.\n",
    "            averaged_df = pl_df.groupby([\"TAX_ID\", rank, \"Source\"]).mean(numeric_only=True)\n",
    "\n",
    "            # Filter out the values that are below the threshold.\n",
    "            averaged_df = averaged_df.loc[averaged_df[\"RA\"] > thresh]\n",
    "\n",
    "            # Add the data to the plot dataframe.\n",
    "            plt_df = pd.concat([plt_df, averaged_df], axis=0)\n",
    "\n",
    "            # pl_df.to_csv(f\"genus_{pl}.csv\", index=True)\n",
    "\n",
    "        plt_df.reset_index(inplace=True)        \n",
    "\n",
    "        # We want only bio4 and jams.\n",
    "        plt_df = plt_df.loc[plt_df[\"Source\"].isin([\"Expected\", \"bio4\", \"jams\"])]\n",
    "\n",
    "        # Plot the data.\n",
    "        ax = sns.barplot(x=\"TAX_ID\", y='RA', hue=\"Source\", data=plt_df, errorbar=None, log=True, palette=cb_palette)\n",
    "        ax.set_xticklabels(fix_x_labels(ax=ax, df=plt_df, rank=rank), rotation=45, horizontalalignment='right')\n",
    "\n",
    "        # Make the title and add the axes labels.\n",
    "        ax.set_title(make_title(rank, exp_name, thresh))\n",
    "        ax.set_xlabel(rank.capitalize())\n",
    "        ax.set_ylabel('Average Relative Abundance')\n",
    "\n",
    "        # Save the plt_df.\n",
    "        # plt_df.to_csv(f\"{rank}_{exp_name}_{thresh}.csv\", index=False)\n",
    "\n",
    "plot_bars(0.001, \"species\")"
   ]
  }
 ],
 "metadata": {
  "kernelspec": {
   "display_name": "Python 3.10.6 ('.pipeline_venv': venv)",
   "language": "python",
   "name": "python3"
  },
  "language_info": {
   "codemirror_mode": {
    "name": "ipython",
    "version": 3
   },
   "file_extension": ".py",
   "mimetype": "text/x-python",
   "name": "python",
   "nbconvert_exporter": "python",
   "pygments_lexer": "ipython3",
   "version": "3.10.6"
  },
  "orig_nbformat": 4,
  "vscode": {
   "interpreter": {
    "hash": "3ac10c2973d938bf4f101ae2299756abbb7e00dac649f0769819439ff384650d"
   }
  }
 },
 "nbformat": 4,
 "nbformat_minor": 2
}
