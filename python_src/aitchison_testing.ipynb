{
 "cells": [
  {
   "cell_type": "code",
   "execution_count": null,
   "metadata": {},
   "outputs": [],
   "source": [
    "import pandas as pd\n",
    "import numpy as np\n",
    "from compositions import clr, multiplicative_aitchison, aitchison\n",
    "from skbio.stats.composition import multiplicative_replacement\n",
    "from scipy.spatial.distance import euclidean, braycurtis\n",
    "import sys\n",
    "import matplotlib.pyplot as plt\n",
    "import seaborn as sns"
   ]
  },
  {
   "cell_type": "code",
   "execution_count": null,
   "metadata": {},
   "outputs": [],
   "source": [
    "cb_palette = sns.color_palette(as_cmap=True)\n",
    "color_palette = {\n",
    "    \"Expected\": cb_palette[0], \n",
    "    \"expected\": cb_palette[0], \n",
    "    \"woltka\": cb_palette[1], \n",
    "    \"wol\": cb_palette[1], \n",
    "    \"jams\": cb_palette[2], \n",
    "    \"wgsa\": cb_palette[3], \n",
    "    \"wgsa2\": cb_palette[3], \n",
    "    \"biobakery3\": cb_palette[4], \n",
    "    \"bio3\": cb_palette[4], \n",
    "    \"biobakery4\": cb_palette[5], \n",
    "    \"bio4\": cb_palette[5]\n",
    "}"
   ]
  },
  {
   "cell_type": "code",
   "execution_count": null,
   "metadata": {},
   "outputs": [],
   "source": [
    "df = pd.read_csv('woltka_debug.csv', index_col=0, usecols=[0,1,2])\n",
    "\n",
    "# Minimum value NONZERO value in x.\n",
    "minimum = df['x'].values\n",
    "minimum = minimum[minimum > 0]\n",
    "minimum = minimum.min() / 100\n",
    "# print(minimum)\n",
    "\n",
    "x, y = multiplicative_replacement(df['x'].values, delta=minimum), multiplicative_replacement(df['y'].values, delta=minimum)\n",
    "new_df = pd.DataFrame({'x': x, 'y': y})\n",
    "new_df['x_clr'] = clr(x)\n",
    "new_df['y_clr'] = clr(y)\n",
    "new_df['(o-e)^2'] = (new_df['x_clr'] - new_df['y_clr'])**2\n",
    "clr_value = np.sqrt(new_df['(o-e)^2'].sum())\n",
    "# print(clr_value)\n",
    "# print(multiplicative_aitchison(x, y))\n",
    "# # display(df)\n",
    "# display(new_df)\n",
    "\n",
    "# new_df.to_csv(\"replaced.csv\")"
   ]
  },
  {
   "cell_type": "code",
   "execution_count": null,
   "metadata": {},
   "outputs": [],
   "source": [
    "def clr_df(df: pd.DataFrame):\n",
    "    \"\"\"Centered log ratio transform\"\"\"\n",
    "    df['RA_exp_adj'] = clr(df['RA_exp_adj'].values)\n",
    "    df['RA_obs_adj'] = clr(df['RA_obs_adj'].values)\n",
    "    return df"
   ]
  },
  {
   "cell_type": "code",
   "execution_count": null,
   "metadata": {},
   "outputs": [],
   "source": [
    "data = pd.read_csv('test_data/bivariate.csv', index_col=0)\n",
    "\n",
    "def calc_minimum(df, col):\n",
    "    minimum = df[col].values\n",
    "    minimum = minimum[minimum > 0]\n",
    "    minimum = minimum.min() / 10\n",
    "    return minimum\n",
    "\n",
    "def replace_df_values(df, minimum):\n",
    "    df[\"RA_exp_adj\"] = multiplicative_replacement(df['RA_expected'].values, delta=minimum)\n",
    "    df[\"RA_obs_adj\"] = multiplicative_replacement(df['RA_observed'].values, delta=minimum)\n",
    "\n",
    "    return df\n",
    "\n",
    "def simulate_left_join(df: pd.DataFrame):\n",
    "    # Drop any rows that have a 0 in the expected column.\n",
    "    df = df[df['RA_expected'] > 0]\n",
    "    return df \n",
    "\n",
    "def linear_plot(input_df: pd.DataFrame, hue_category: str = 'Source_observed', colors: dict = color_palette):    \n",
    "    fig = plt.figure(figsize=(10, 10))\n",
    "\n",
    "    # Set to log log scale\n",
    "    # ax.set(xscale=\"log\", yscale=\"log\")\n",
    "\n",
    "    pipeline_offset = -0.1\n",
    "    for heading, dataframe in input_df.groupby(hue_category):\n",
    "        input_df = replace_df_values(dataframe, calc_minimum(dataframe, 'RA_expected'))\n",
    "        display(input_df)\n",
    "\n",
    "        max_x = input_df['RA_exp_adj'].max()\n",
    "        max_y = input_df['RA_obs_adj'].max()\n",
    "        max_val = max(max_x, max_y)\n",
    "\n",
    "        ax = sns.lmplot(x=\"RA_exp_adj\", y=\"RA_obs_adj\", hue=hue_category, col=hue_category, col_wrap=2, data=input_df, fit_reg=False, height=7, aspect=1, ci=None, palette=colors)\n",
    "\n",
    "        # Make ax a log scale.\n",
    "        ax.set(xscale=\"log\", yscale=\"log\")\n",
    "\n",
    "        for a in plt.gcf().axes:\n",
    "            a.plot([0, max_val + 0.01], [0, max_val + 0.01], ls=\"--\", c=\".3\")\n",
    "\n",
    "        a_d = euclidean(dataframe['RA_exp_adj'], dataframe['RA_obs_adj'])\n",
    "        # a_d = aitchison(dataframe['RA_exp_adj'], dataframe['RA_obs_adj'])\n",
    "        plt.text(0.7, pipeline_offset, f'Aitchison = {a_d:.4f} for {heading}', transform=plt.gca().transAxes)\n",
    "        try: \n",
    "            a_d = braycurtis(dataframe['RA_exp_adj'].values, dataframe['RA_obs_adj'].values)\n",
    "            plt.text(0.3, pipeline_offset, f'1-BC = {a_d:.4f} for {heading}', transform=plt.gca().transAxes)\n",
    "        except ValueError:\n",
    "            plt.text(0.3, pipeline_offset, f'1-BC = N/A for {heading}', transform=plt.gca().transAxes)\n",
    "\n",
    "        pipeline_offset -= 0.05\n",
    "\n",
    "replace_df = data.copy()\n",
    "# replace_df_values(replace_df, calc_minimum(data, 'RA_expected'))\n",
    "# display(replace_df)\n",
    "\n",
    "linear_plot(replace_df, hue_category='Source_observed', colors=color_palette)"
   ]
  },
  {
   "cell_type": "code",
   "execution_count": null,
   "metadata": {},
   "outputs": [],
   "source": [
    "left_df = data.copy()\n",
    "left_df = simulate_left_join(left_df)\n",
    "left_df = replace_df_values(left_df, calc_minimum(left_df, 'RA_expected'))\n",
    "# display(left_df)\n",
    "# left_df = clr_df(left_df)\n",
    "# display(left_df)\n",
    "linear_plot(left_df, hue_category='Source_observed', colors=color_palette)"
   ]
  }
 ],
 "metadata": {
  "kernelspec": {
   "display_name": "Python 3.10.6 ('.pipeline_venv': venv)",
   "language": "python",
   "name": "python3"
  },
  "language_info": {
   "codemirror_mode": {
    "name": "ipython",
    "version": 3
   },
   "file_extension": ".py",
   "mimetype": "text/x-python",
   "name": "python",
   "nbconvert_exporter": "python",
   "pygments_lexer": "ipython3",
   "version": "3.10.6"
  },
  "orig_nbformat": 4,
  "vscode": {
   "interpreter": {
    "hash": "3ac10c2973d938bf4f101ae2299756abbb7e00dac649f0769819439ff384650d"
   }
  }
 },
 "nbformat": 4,
 "nbformat_minor": 2
}
