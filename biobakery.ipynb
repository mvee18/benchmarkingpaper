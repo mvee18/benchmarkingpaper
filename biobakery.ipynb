{
 "cells": [
  {
   "cell_type": "code",
   "execution_count": null,
   "metadata": {},
   "outputs": [],
   "source": [
    "import numpy as np\n",
    "import pandas as pd\n",
    "import os\n",
    "import matplotlib.pyplot as plt\n",
    "\n",
    "taxonomy_dict = {\"s\": \"species\", \"g\": \"genus\", \"f\": \"family\", \"o\": \"order\", \"c\": \"class\", \"p\": \"phylum\", \"k\": \"kingdom\"}"
   ]
  },
  {
   "cell_type": "code",
   "execution_count": null,
   "metadata": {},
   "outputs": [],
   "source": [
    "data_path = \"/Volumes/TBHD_share/valencia/bmock12/NEPHELE/bio/outputs/metaphlan/merged/species_abundance.txt\"\n",
    "# data_path = \"pipelines/bmock12/biobakery4/species_relab.txt\"\n",
    "data = pd.read_csv(data_path, sep=\"\\t\", index_col=0, header=0, names=[\"taxonomy\", \"relative_abundance\"])\n",
    "display(data.head())"
   ]
  },
  {
   "cell_type": "code",
   "execution_count": null,
   "metadata": {},
   "outputs": [],
   "source": [
    "# User can specify the taxonomic level to plot.\n",
    "taxonomy_level = \"s\"\n",
    "split_pattern = f\"|{taxonomy_level}__\"\n",
    "\n",
    "# Split taxonomy string into list of taxonomy levels.\n",
    "index = data.index.to_list()\n",
    "index = [i.split(split_pattern)[-1] for i in index]\n",
    "\n",
    "# Create new dataframe with taxonomy level as index.\n",
    "data.index = index\n",
    "data"
   ]
  },
  {
   "cell_type": "code",
   "execution_count": null,
   "metadata": {},
   "outputs": [],
   "source": [
    "# data.T.plot.bar(stacked=True, figsize=(10, 10), ylabel=\"Fraction\", xlabel=\"Sample\", title=f\"Alignment {taxonomy_dict[taxonomy_level]}\").legend(loc='center left', bbox_to_anchor=(1.0, 0.5), title=f\"{taxonomy_dict[taxonomy_level]}\")\n",
    "\n",
    "# Save figure.\n",
    "output_path = os.path.join(\"pipelines/bmock12/biobakery3/\", f\"alignment_{taxonomy_dict[taxonomy_level]}\")\n",
    "plt.savefig(output_path + \".png\", bbox_inches='tight')\n",
    "\n",
    "data.to_csv(output_path + \".csv\", index_label=f\"{taxonomy_dict[taxonomy_level]}\")"
   ]
  },
  {
   "cell_type": "code",
   "execution_count": null,
   "metadata": {},
   "outputs": [],
   "source": [
    "# We want a csv file with genus, relative abundance.\n",
    "def clean_biobakery(df, rank=\"g\"):\n",
    "    indices = df.index.to_list()\n",
    "    splitted = [i.split(\"|\") for i in indices]\n",
    "    # print(splitted)\n",
    "\n",
    "    new_index = []\n",
    "    for c, i in enumerate(splitted):\n",
    "        for c2, j in enumerate(i):\n",
    "            if j.startswith(f\"{rank}__\"):\n",
    "                new_index.append(j.replace(f\"{rank}__\", \"\"))\n",
    "\n",
    "    # df.index = new_index\n",
    "    grouped = df.groupby(df.index).sum()\n",
    "\n",
    "    # Divide the relative abundace by 100 to get a fraction.\n",
    "    grouped[\"relative_abundance\"] = grouped[\"relative_abundance\"] / 100\n",
    "\n",
    "    return grouped\n",
    "\n",
    "clean_biobakery(data).to_csv(\"pipelines/bmock12/biobakery4/genus_relabund.csv\", index_label=\"Genus\")"
   ]
  }
 ],
 "metadata": {
  "kernelspec": {
   "display_name": "Python 3.10.6 ('.venv': venv)",
   "language": "python",
   "name": "python3"
  },
  "language_info": {
   "codemirror_mode": {
    "name": "ipython",
    "version": 3
   },
   "file_extension": ".py",
   "mimetype": "text/x-python",
   "name": "python",
   "nbconvert_exporter": "python",
   "pygments_lexer": "ipython3",
   "version": "3.10.6"
  },
  "orig_nbformat": 4,
  "vscode": {
   "interpreter": {
    "hash": "ccb8790ce05d03335183e4531caa33d67ddc8515af0e7751497f278f4c676c90"
   }
  }
 },
 "nbformat": 4,
 "nbformat_minor": 2
}
