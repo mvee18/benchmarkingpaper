{
 "cells": [
  {
   "cell_type": "code",
   "execution_count": 2,
   "metadata": {},
   "outputs": [],
   "source": [
    "import numpy as np\n",
    "import pandas as pd\n",
    "import os\n",
    "import matplotlib.pyplot as plt\n",
    "\n",
    "taxonomy_dict = {\"s\": \"species\", \"g\": \"genus\", \"f\": \"family\", \"o\": \"order\", \"c\": \"class\", \"p\": \"phylum\", \"k\": \"kingdom\"}"
   ]
  },
  {
   "cell_type": "code",
   "execution_count": 10,
   "metadata": {},
   "outputs": [
    {
     "data": {
      "text/html": [
       "<div>\n",
       "<style scoped>\n",
       "    .dataframe tbody tr th:only-of-type {\n",
       "        vertical-align: middle;\n",
       "    }\n",
       "\n",
       "    .dataframe tbody tr th {\n",
       "        vertical-align: top;\n",
       "    }\n",
       "\n",
       "    .dataframe thead th {\n",
       "        text-align: right;\n",
       "    }\n",
       "</style>\n",
       "<table border=\"1\" class=\"dataframe\">\n",
       "  <thead>\n",
       "    <tr style=\"text-align: right;\">\n",
       "      <th></th>\n",
       "      <th>s1</th>\n",
       "    </tr>\n",
       "    <tr>\n",
       "      <th>taxonomy</th>\n",
       "      <th></th>\n",
       "    </tr>\n",
       "  </thead>\n",
       "  <tbody>\n",
       "    <tr>\n",
       "      <th>k__Bacteria|p__Bacteroidetes|c__Flavobacteriia|o__Flavobacteriales|f__Flavobacteriaceae|g__Muricauda|s__Muricauda_sp_ES_050</th>\n",
       "      <td>74.33332</td>\n",
       "    </tr>\n",
       "    <tr>\n",
       "      <th>k__Bacteria|p__Proteobacteria|c__Alphaproteobacteria|o__Rhizobiales|f__Cohaesibacteraceae|g__Cohaesibacter|s__Cohaesibacter_sp_ES_047</th>\n",
       "      <td>19.36211</td>\n",
       "    </tr>\n",
       "    <tr>\n",
       "      <th>k__Bacteria|p__Proteobacteria|c__Alphaproteobacteria|o__Rhodobacterales|f__Rhodobacteraceae|g__Thioclava|s__Thioclava_sediminum</th>\n",
       "      <td>2.05531</td>\n",
       "    </tr>\n",
       "    <tr>\n",
       "      <th>k__Bacteria|p__Actinobacteria|c__Actinobacteria|o__Micromonosporales|f__Micromonosporaceae|g__Micromonospora|s__Micromonospora_echinofusca</th>\n",
       "      <td>2.01187</td>\n",
       "    </tr>\n",
       "    <tr>\n",
       "      <th>k__Bacteria|p__Actinobacteria|c__Actinobacteria|o__Micromonosporales|f__Micromonosporaceae|g__Micromonospora|s__Micromonospora_echinaurantiaca</th>\n",
       "      <td>1.66240</td>\n",
       "    </tr>\n",
       "  </tbody>\n",
       "</table>\n",
       "</div>"
      ],
      "text/plain": [
       "                                                          s1\n",
       "taxonomy                                                    \n",
       "k__Bacteria|p__Bacteroidetes|c__Flavobacteriia|...  74.33332\n",
       "k__Bacteria|p__Proteobacteria|c__Alphaproteobac...  19.36211\n",
       "k__Bacteria|p__Proteobacteria|c__Alphaproteobac...   2.05531\n",
       "k__Bacteria|p__Actinobacteria|c__Actinobacteria...   2.01187\n",
       "k__Bacteria|p__Actinobacteria|c__Actinobacteria...   1.66240"
      ]
     },
     "metadata": {},
     "output_type": "display_data"
    }
   ],
   "source": [
    "data_path = \"/Volumes/TBHD_share/valencia/pipelines/bmock12/biobakery4/metaphlan/main/species_relab.txt\"\n",
    "if not os.path.exists(data_path):\n",
    "    raise Exception(\"Data file does not exist!\")\n",
    "# data_path = \"pipelines/bmock12/biobakery4/species_relab.txt\"\n",
    "data = pd.read_csv(data_path, sep=\"\\t\", index_col=0)\n",
    "display(data.head())"
   ]
  },
  {
   "cell_type": "code",
   "execution_count": 11,
   "metadata": {},
   "outputs": [],
   "source": [
    "# We want a csv file with genus, relative abundance.\n",
    "def clean_biobakery(df, rank=\"g\"):\n",
    "    data = df.copy()\n",
    "\n",
    "    # Get the indices so we can split then. They are of the form ex: ...|g__Bacteroides|s__Bacteroides_vulgatus\n",
    "    indices = data.index.to_list()\n",
    "\n",
    "    # This makes a list of lists, where each sublist is the taxonomy split by the rank.\n",
    "    splitted = [i.split(\"|\") for i in indices]\n",
    "\n",
    "    new_index = []\n",
    "    # Traverse all of the rows.\n",
    "    for c, i in enumerate(splitted):\n",
    "        # Traverse the sublists.\n",
    "        for c2, j in enumerate(i):\n",
    "            # If it matches the rank we want, then append it to the new index.\n",
    "            if j.startswith(f\"{rank}__\"):\n",
    "                new_index.append(j.replace(f\"{rank}__\", \"\"))\n",
    "\n",
    "    # Set the new index.\n",
    "    data.index = new_index\n",
    "\n",
    "    # Sum the rows where the genus/species is the same.\n",
    "    grouped = data.groupby(data.index).sum()\n",
    "\n",
    "    # Now, we want to rename the columns to be the sample names.\n",
    "    columns = grouped.columns.to_list()\n",
    "    new_cols = [i.split(\"_\")[0] for i in columns]\n",
    "    grouped.columns = new_cols\n",
    "\n",
    "    # Divide all the values by 100.\n",
    "    grouped = grouped / 100\n",
    "\n",
    "    return grouped\n",
    "\n",
    "# We want to save to csv, but we want a csv for each column.\n",
    "def save_to_csv(df, output_path, rank=\"g\"):\n",
    "    # Get the columns.\n",
    "    columns = df.columns.to_list()\n",
    "\n",
    "    # Iterate over the columns.\n",
    "    for c, i in enumerate(columns):\n",
    "        # Get the column.\n",
    "        col = df[i]\n",
    "\n",
    "        # Save to csv.\n",
    "        col.to_csv(output_path + f\"{i.lower()}_{taxonomy_dict[rank]}_relabund.csv\", index_label=\"genus\")"
   ]
  },
  {
   "cell_type": "code",
   "execution_count": 12,
   "metadata": {},
   "outputs": [],
   "source": [
    "output = clean_biobakery(data)\n",
    "save_to_csv(output, \"pipelines/bmock12/biobakery4/\")"
   ]
  }
 ],
 "metadata": {
  "kernelspec": {
   "display_name": "Python 3.10.6 ('.venv': venv)",
   "language": "python",
   "name": "python3"
  },
  "language_info": {
   "codemirror_mode": {
    "name": "ipython",
    "version": 3
   },
   "file_extension": ".py",
   "mimetype": "text/x-python",
   "name": "python",
   "nbconvert_exporter": "python",
   "pygments_lexer": "ipython3",
   "version": "3.10.6"
  },
  "orig_nbformat": 4,
  "vscode": {
   "interpreter": {
    "hash": "ccb8790ce05d03335183e4531caa33d67ddc8515af0e7751497f278f4c676c90"
   }
  }
 },
 "nbformat": 4,
 "nbformat_minor": 2
}
