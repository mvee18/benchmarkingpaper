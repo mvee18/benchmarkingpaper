{
 "cells": [
  {
   "cell_type": "code",
   "execution_count": 1,
   "metadata": {},
   "outputs": [],
   "source": [
    "import pandas as pd\n",
    "import numpy as np\n",
    "import os"
   ]
  },
  {
   "cell_type": "code",
   "execution_count": 9,
   "metadata": {},
   "outputs": [],
   "source": [
    "def clean_jams(input_file: str, rank: str = \"Genus\"):\n",
    "    df = pd.read_csv(input_file, usecols=[rank, \"Species\", \"NumBases\"])\n",
    "    df[\"Count\"] = df[\"NumBases\"] / df[\"NumBases\"].sum()\n",
    "    # display(df.head())\n",
    "    genus_df = df[[rank, \"Count\"]].groupby(rank).sum()\n",
    "    genus_df.sort_values(\"Count\", ascending=False, inplace=True)\n",
    "\n",
    "    # We need to remove g__ and s__ from the index names\n",
    "    genus_df.index = genus_df.index.str.replace(\"g__\", \"\")\n",
    "    genus_df.index = genus_df.index.str.replace(\"s__\", \"\")\n",
    "\n",
    "    output_dir = os.path.dirname(input_file)\n",
    "    file_name = os.path.basename(input_file).split(\".\")[0]\n",
    "\n",
    "    genus_df.to_csv(os.path.join(output_dir, f\"{file_name}_{rank}_relabund.csv\"))\n",
    "\n",
    "clean_jams(\"pipelines/camisimGI/jams/s2.csv\", \"Genus\")"
   ]
  },
  {
   "cell_type": "code",
   "execution_count": 5,
   "metadata": {},
   "outputs": [
    {
     "data": {
      "text/plain": [
       "'s1'"
      ]
     },
     "execution_count": 5,
     "metadata": {},
     "output_type": "execute_result"
    }
   ],
   "source": []
  },
  {
   "cell_type": "code",
   "execution_count": null,
   "metadata": {},
   "outputs": [],
   "source": []
  }
 ],
 "metadata": {
  "kernelspec": {
   "display_name": "Python 3.10.6 ('.venv': venv)",
   "language": "python",
   "name": "python3"
  },
  "language_info": {
   "codemirror_mode": {
    "name": "ipython",
    "version": 3
   },
   "file_extension": ".py",
   "mimetype": "text/x-python",
   "name": "python",
   "nbconvert_exporter": "python",
   "pygments_lexer": "ipython3",
   "version": "3.10.6"
  },
  "orig_nbformat": 4,
  "vscode": {
   "interpreter": {
    "hash": "ccb8790ce05d03335183e4531caa33d67ddc8515af0e7751497f278f4c676c90"
   }
  }
 },
 "nbformat": 4,
 "nbformat_minor": 2
}
