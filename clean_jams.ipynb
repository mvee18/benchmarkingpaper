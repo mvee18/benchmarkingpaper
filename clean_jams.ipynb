{
 "cells": [
  {
   "cell_type": "code",
   "execution_count": 6,
   "metadata": {},
   "outputs": [],
   "source": [
    "import pandas as pd\n",
    "import numpy as np\n",
    "import os\n",
    "import openpyxl"
   ]
  },
  {
   "cell_type": "code",
   "execution_count": 15,
   "metadata": {},
   "outputs": [],
   "source": [
    "def clean_jams(input_file: str, rank: str = \"Genus\", input_type=\"csv\"):\n",
    "    df = pd.DataFrame()\n",
    "    if input_type == \"csv\":\n",
    "        df = pd.read_csv(input_file, index_col=0)\n",
    "    elif input_type == \"excel\":\n",
    "        df = pd.read_excel(input_file, index_col=0)\n",
    "    else:\n",
    "        raise Exception(\"Input type not recognized.\")\n",
    "    \n",
    "    df[\"Count\"] = df[\"NumBases\"] / df[\"NumBases\"].sum()\n",
    "    # display(df.head())\n",
    "    genus_df = df[[rank, \"Count\"]].groupby(rank).sum()\n",
    "    genus_df.sort_values(\"Count\", ascending=False, inplace=True)\n",
    "\n",
    "    # We need to remove g__ and s__ from the index names\n",
    "    genus_df.index = genus_df.index.str.replace(\"g__\", \"\")\n",
    "    genus_df.index = genus_df.index.str.replace(\"s__\", \"\")\n",
    "\n",
    "    output_dir = os.path.dirname(input_file)\n",
    "    file_name = os.path.basename(input_file).split(\".\")[0]\n",
    "\n",
    "    genus_df.to_csv(os.path.join(output_dir, f\"{file_name}_{rank.lower()}_relabund.csv\"))\n",
    "\n",
    "# clean_jams(\"pipelines/camisimGI/jams/s1.csv\", \"Genus\")"
   ]
  },
  {
   "cell_type": "code",
   "execution_count": 46,
   "metadata": {},
   "outputs": [],
   "source": [
    "def clean_jams_beta(input_file: str, rank=\"genus\", output_dir=\"\"):\n",
    "    \"\"\"Clean JAMS output excel file and save them in the preferred format.\n",
    "    \n",
    "    Parameters\n",
    "    ----------\n",
    "    input_dir : str\n",
    "        Path to directory containing JAMS output files.\n",
    "    rank : str\n",
    "        Taxonomic rank.\n",
    "    \"\"\"\n",
    "\n",
    "    df = pd.read_excel(input_file, index_col=0, sheet_name=1)\n",
    "    # Make everything into relative abundances\n",
    "    df = df / df.sum(axis=0)\n",
    "\n",
    "    # We need to find anything with s__ or g__ in the row.names.\n",
    "    df.reset_index(inplace=True)\n",
    "\n",
    "    # If s__ is in the name, we need to get the genus name.\n",
    "    index_names = []\n",
    "    if rank == \"genus\":\n",
    "        df = df.where(df[\"row.names\"].str.contains(\"g__|s__\")).dropna()\n",
    "        lkt = df[\"row.names\"].to_list()\n",
    "        for i in lkt:\n",
    "            if \"s__\" in i:\n",
    "                index_names.append(i.split(\"s__\")[1].split(\"_\")[0])\n",
    "            else:\n",
    "                index_names.append(i.split(\"g__\")[1].split(\"_\")[0])\n",
    "\n",
    "    elif rank == \"species\":\n",
    "        df = df.where(df[\"row.names\"].str.contains(\"s__\")).dropna()\n",
    "        lkt = df[\"row.names\"].to_list()\n",
    "        for i in lkt:\n",
    "            index_names.append(i.split(\"s__\")[1])\n",
    "            \n",
    "        index_names = [i.replace(\"_\", \" \") for i in index_names]\n",
    "\n",
    "\n",
    "    df.index = index_names\n",
    "    df.drop(columns=[\"row.names\"], inplace=True)\n",
    "\n",
    "    # Sum all of the rows with the same index name.\n",
    "    df = df.groupby(df.index).sum()\n",
    "\n",
    "    # Save each column as a separate file.\n",
    "    for col in df.columns:\n",
    "        df[col].to_csv(os.path.join(output_dir, f\"{col}_{rank}_relabund.csv\"), index_label=f\"{rank}\")\n",
    "\n",
    "clean_jams_beta(\"/Volumes/TBHD_share/valencia/pipelines/microbio_spectrum/nextseq/jamsbeta/toulousse_Relabund_PPM.xlsx\", rank=\"genus\", output_dir=\"pipelines/toulousse/jams\")\n"
   ]
  },
  {
   "cell_type": "code",
   "execution_count": null,
   "metadata": {},
   "outputs": [],
   "source": []
  }
 ],
 "metadata": {
  "kernelspec": {
   "display_name": "Python 3.10.6 64-bit",
   "language": "python",
   "name": "python3"
  },
  "language_info": {
   "codemirror_mode": {
    "name": "ipython",
    "version": 3
   },
   "file_extension": ".py",
   "mimetype": "text/x-python",
   "name": "python",
   "nbconvert_exporter": "python",
   "pygments_lexer": "ipython3",
   "version": "3.10.6"
  },
  "orig_nbformat": 4,
  "vscode": {
   "interpreter": {
    "hash": "aee8b7b246df8f9039afb4144a1f6fd8d2ca17a180786b69acc140d282b71a49"
   }
  }
 },
 "nbformat": 4,
 "nbformat_minor": 2
}
