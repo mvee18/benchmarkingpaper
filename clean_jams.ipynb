{
 "cells": [
  {
   "cell_type": "code",
   "execution_count": 2,
   "metadata": {},
   "outputs": [],
   "source": [
    "import pandas as pd\n",
    "import numpy as np\n",
    "import os\n",
    "import openpyxl"
   ]
  },
  {
   "cell_type": "code",
   "execution_count": 15,
   "metadata": {},
   "outputs": [],
   "source": [
    "replacement_dict = {\"LKT__s__Anaerobutyricum_hallii\": \"LKT__s__Eubacterium_hallii\"}"
   ]
  },
  {
   "cell_type": "code",
   "execution_count": 17,
   "metadata": {},
   "outputs": [
    {
     "ename": "ValueError",
     "evalue": "No axis named Clostridium_thermocellum for object type DataFrame",
     "output_type": "error",
     "traceback": [
      "\u001b[0;31m---------------------------------------------------------------------------\u001b[0m",
      "\u001b[0;31mKeyError\u001b[0m                                  Traceback (most recent call last)",
      "File \u001b[0;32m~/Library/Python/3.10/lib/python/site-packages/pandas/core/generic.py:555\u001b[0m, in \u001b[0;36mNDFrame._get_axis_number\u001b[0;34m(cls, axis)\u001b[0m\n\u001b[1;32m    554\u001b[0m \u001b[39mtry\u001b[39;00m:\n\u001b[0;32m--> 555\u001b[0m     \u001b[39mreturn\u001b[39;00m \u001b[39mcls\u001b[39;49m\u001b[39m.\u001b[39;49m_AXIS_TO_AXIS_NUMBER[axis]\n\u001b[1;32m    556\u001b[0m \u001b[39mexcept\u001b[39;00m \u001b[39mKeyError\u001b[39;00m:\n",
      "\u001b[0;31mKeyError\u001b[0m: 'Clostridium_thermocellum'",
      "\nDuring handling of the above exception, another exception occurred:\n",
      "\u001b[0;31mValueError\u001b[0m                                Traceback (most recent call last)",
      "Cell \u001b[0;32mIn [17], line 46\u001b[0m\n\u001b[1;32m     42\u001b[0m     display(species_df\u001b[38;5;241m.\u001b[39mloc(\u001b[38;5;124m\"\u001b[39m\u001b[38;5;124mClostridium_thermocellum\u001b[39m\u001b[38;5;124m\"\u001b[39m))\n\u001b[1;32m     44\u001b[0m     \u001b[38;5;66;03m# genus_df.to_csv(os.path.join(output_dir, f\"{file_name}_{rank.lower()}_relabund.csv\"))\u001b[39;00m\n\u001b[0;32m---> 46\u001b[0m clean_jams(\u001b[38;5;124m\"\u001b[39m\u001b[38;5;124mpipelines/camisimGI/jams/s2.csv\u001b[39m\u001b[38;5;124m\"\u001b[39m, \u001b[38;5;124m\"\u001b[39m\u001b[38;5;124mGenus\u001b[39m\u001b[38;5;124m\"\u001b[39m)\n",
      "Cell \u001b[0;32mIn [17], line 42\u001b[0m, in \u001b[0;36mclean_jams\u001b[0;34m(input_file, rank, input_type)\u001b[0m\n\u001b[1;32m     39\u001b[0m output_dir \u001b[38;5;241m=\u001b[39m os\u001b[38;5;241m.\u001b[39mpath\u001b[38;5;241m.\u001b[39mdirname(input_file)\n\u001b[1;32m     40\u001b[0m file_name \u001b[38;5;241m=\u001b[39m os\u001b[38;5;241m.\u001b[39mpath\u001b[38;5;241m.\u001b[39mbasename(input_file)\u001b[38;5;241m.\u001b[39msplit(\u001b[38;5;124m\"\u001b[39m\u001b[38;5;124m.\u001b[39m\u001b[38;5;124m\"\u001b[39m)[\u001b[38;5;241m0\u001b[39m]\n\u001b[0;32m---> 42\u001b[0m display(\u001b[43mspecies_df\u001b[49m\u001b[38;5;241;43m.\u001b[39;49m\u001b[43mloc\u001b[49m\u001b[43m(\u001b[49m\u001b[38;5;124;43m\"\u001b[39;49m\u001b[38;5;124;43mClostridium_thermocellum\u001b[39;49m\u001b[38;5;124;43m\"\u001b[39;49m\u001b[43m)\u001b[49m)\n",
      "File \u001b[0;32m~/Library/Python/3.10/lib/python/site-packages/pandas/core/indexing.py:669\u001b[0m, in \u001b[0;36m_LocationIndexer.__call__\u001b[0;34m(self, axis)\u001b[0m\n\u001b[1;32m    666\u001b[0m new_self \u001b[39m=\u001b[39m \u001b[39mtype\u001b[39m(\u001b[39mself\u001b[39m)(\u001b[39mself\u001b[39m\u001b[39m.\u001b[39mname, \u001b[39mself\u001b[39m\u001b[39m.\u001b[39mobj)\n\u001b[1;32m    668\u001b[0m \u001b[39mif\u001b[39;00m axis \u001b[39mis\u001b[39;00m \u001b[39mnot\u001b[39;00m \u001b[39mNone\u001b[39;00m:\n\u001b[0;32m--> 669\u001b[0m     axis \u001b[39m=\u001b[39m \u001b[39mself\u001b[39;49m\u001b[39m.\u001b[39;49mobj\u001b[39m.\u001b[39;49m_get_axis_number(axis)\n\u001b[1;32m    670\u001b[0m new_self\u001b[39m.\u001b[39maxis \u001b[39m=\u001b[39m axis\n\u001b[1;32m    671\u001b[0m \u001b[39mreturn\u001b[39;00m new_self\n",
      "File \u001b[0;32m~/Library/Python/3.10/lib/python/site-packages/pandas/core/generic.py:557\u001b[0m, in \u001b[0;36mNDFrame._get_axis_number\u001b[0;34m(cls, axis)\u001b[0m\n\u001b[1;32m    555\u001b[0m     \u001b[39mreturn\u001b[39;00m \u001b[39mcls\u001b[39m\u001b[39m.\u001b[39m_AXIS_TO_AXIS_NUMBER[axis]\n\u001b[1;32m    556\u001b[0m \u001b[39mexcept\u001b[39;00m \u001b[39mKeyError\u001b[39;00m:\n\u001b[0;32m--> 557\u001b[0m     \u001b[39mraise\u001b[39;00m \u001b[39mValueError\u001b[39;00m(\u001b[39mf\u001b[39m\u001b[39m\"\u001b[39m\u001b[39mNo axis named \u001b[39m\u001b[39m{\u001b[39;00maxis\u001b[39m}\u001b[39;00m\u001b[39m for object type \u001b[39m\u001b[39m{\u001b[39;00m\u001b[39mcls\u001b[39m\u001b[39m.\u001b[39m\u001b[39m__name__\u001b[39m\u001b[39m}\u001b[39;00m\u001b[39m\"\u001b[39m)\n",
      "\u001b[0;31mValueError\u001b[0m: No axis named Clostridium_thermocellum for object type DataFrame"
     ]
    }
   ],
   "source": [
    "# TODO: Update replacement dict for JAMS.\n",
    "\n",
    "tourlousse_replacement_dict = {\"Acetivibrio_thermocellus\": \"Clostridium_thermocellum\"}\n",
    "\n",
    "def clean_jams(input_file: str, rank: str = \"Genus\", input_type=\"csv\"):\n",
    "    \"\"\"\n",
    "    This function cleans the output from JAMSalpha in the tourlousse dataset. From now on, use the JAMSbeta function.\n",
    "    \"\"\"\n",
    "    df = pd.DataFrame()\n",
    "    if input_type == \"csv\":\n",
    "        df = pd.read_csv(input_file, index_col=0)\n",
    "    elif input_type == \"excel\":\n",
    "        df = pd.read_excel(input_file, index_col=0)\n",
    "    else:\n",
    "        raise Exception(\"Input type not recognized.\")\n",
    "    \n",
    "    df[\"RA\"] = df[\"NumBases\"] / df[\"NumBases\"].sum()\n",
    "    # display(df.head())\n",
    "    species_df = df[[\"Species\", \"RA\"]].groupby(\"Species\").sum()\n",
    "    species_df.sort_values(\"RA\", ascending=False, inplace=True)\n",
    "\n",
    "    # We need to remove g__ and s__ from the index names\n",
    "    # genus_df.index = genus_df.index.str.replace(\"g__\", \"\")\n",
    "    species_df.index = species_df.index.str.replace(\"s__\", \"\")\n",
    "\n",
    "    # We need to replace the names of the species that have changed to the old ones.\n",
    "    species_names = species_df.index.tolist()\n",
    "    for i, name in enumerate(species_names):\n",
    "        if name in tourlousse_replacement_dict:\n",
    "            species_names[i] = tourlousse_replacement_dict[name]\n",
    "    \n",
    "    species_df.index = species_names\n",
    "\n",
    "    if rank == \"Genus\":\n",
    "        # We need to split the species names into genus and species on the _ character.\n",
    "        species_names = species_df.index.to_list()\n",
    "        genus_names = [x.split(\"_\")[0] for x in species_names]\n",
    "\n",
    "        species_df[\"Genus\"] = genus_names\n",
    "\n",
    "    output_dir = os.path.dirname(input_file)\n",
    "    file_name = os.path.basename(input_file).split(\".\")[0]\n",
    "\n",
    "    display(species_df.loc(\"Clostridium_thermocellum\"))\n",
    "\n",
    "    # genus_df.to_csv(os.path.join(output_dir, f\"{file_name}_{rank.lower()}_relabund.csv\"))\n",
    "\n",
    "clean_jams(\"pipelines/camisimGI/jams/s2.csv\", \"Genus\")"
   ]
  },
  {
   "cell_type": "code",
   "execution_count": 23,
   "metadata": {},
   "outputs": [],
   "source": [
    "def clean_jams_beta(input_file: str, rank=\"genus\", output_dir=\"\"):\n",
    "    \"\"\"Clean JAMS output excel file and save them in the preferred format. \n",
    "    It will generate a separate file for each sample.\n",
    "    \n",
    "    Parameters\n",
    "    ----------\n",
    "    input_dir : str\n",
    "        Path to directory containing JAMS output files.\n",
    "    rank : str\n",
    "        Taxonomic rank.\n",
    "    output_dir : str\n",
    "        Path to directory where output files will be saved.\n",
    "    \"\"\"\n",
    "\n",
    "    df = pd.read_excel(input_file, index_col=0, sheet_name=1)\n",
    "    # Make everything into relative abundances\n",
    "    df = df / df.sum(axis=0)\n",
    "    # Convert PPM to percentage.\n",
    "    # df = df / 10000\n",
    "\n",
    "\n",
    "    # We need to find anything with s__ or g__ in the row.names.\n",
    "    df.reset_index(inplace=True)\n",
    "\n",
    "    # Replace from the replacement dictionary.\n",
    "    df[\"row.names\"] = df[\"row.names\"].replace(replacement_dict)\n",
    "    df.to_csv(\"test.csv\")\n",
    "\n",
    "    # If s__ is in the name, we need to get the genus name.\n",
    "    index_names = []\n",
    "    if rank == \"genus\":\n",
    "        df = df.where(df[\"row.names\"].str.contains(\"g__|s__\")).dropna()\n",
    "        lkt = df[\"row.names\"].to_list()\n",
    "        for i in lkt:\n",
    "            if \"s__\" in i:\n",
    "                index_names.append(i.split(\"s__\")[1].split(\"_\")[0])\n",
    "            else:\n",
    "                index_names.append(i.split(\"g__\")[1].split(\"_\")[0])\n",
    "\n",
    "    elif rank == \"species\":\n",
    "        df = df.where(df[\"row.names\"].str.contains(\"s__\")).dropna()\n",
    "        lkt = df[\"row.names\"].to_list()\n",
    "        for i in lkt:\n",
    "            index_names.append(i.split(\"s__\")[1])\n",
    "            \n",
    "        index_names = [i.replace(\"_\", \" \") for i in index_names]\n",
    "\n",
    "\n",
    "    df.index = index_names\n",
    "    df.drop(columns=[\"row.names\"], inplace=True)\n",
    "\n",
    "    # Sum all of the rows with the same index name.\n",
    "    df = df.groupby(df.index).sum()\n",
    "\n",
    "    # Save each column as a separate file.\n",
    "    if output_dir is not None:\n",
    "        for col in df.columns:\n",
    "            df[col].to_csv(os.path.join(output_dir, f\"{col}_{rank}_relabund.csv\"), index_label=f\"{rank}\")\n",
    "\n",
    "amos_path = \"/Volumes/TBHD_share/valencia/pipelines/amos/nibsc/hilo/jams/beta_output/hilo_Relabund_PPM.xlsx\"\n",
    "\n",
    "clean_jams_beta(amos_path, rank=\"genus\", output_dir=\"pipelines/amos/hilo/jams\")\n"
   ]
  }
 ],
 "metadata": {
  "kernelspec": {
   "display_name": "Python 3.10.6 64-bit",
   "language": "python",
   "name": "python3"
  },
  "language_info": {
   "codemirror_mode": {
    "name": "ipython",
    "version": 3
   },
   "file_extension": ".py",
   "mimetype": "text/x-python",
   "name": "python",
   "nbconvert_exporter": "python",
   "pygments_lexer": "ipython3",
   "version": "3.10.6"
  },
  "orig_nbformat": 4,
  "vscode": {
   "interpreter": {
    "hash": "aee8b7b246df8f9039afb4144a1f6fd8d2ca17a180786b69acc140d282b71a49"
   }
  }
 },
 "nbformat": 4,
 "nbformat_minor": 2
}
